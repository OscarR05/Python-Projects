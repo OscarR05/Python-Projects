{
 "cells": [
  {
   "cell_type": "markdown",
   "metadata": {},
   "source": [
    "# User Firmware Version Count"
   ]
  },
  {
   "cell_type": "code",
   "execution_count": null,
   "metadata": {},
   "outputs": [],
   "source": [
    "import pandas as pd\n",
    "import matplotlib.pyplot as plt\n",
    "import numpy as np\n",
    "from datetime import datetime\n",
    "import seaborn as sns\n",
    "import calendar\n",
    "import os\n",
    "import pprint\n",
    "from elasticsearch import Elasticsearch\n",
    "\n",
    "import dtale\n",
    "%matplotlib inline\n",
    "pd.set_option('display.max_columns', None)"
   ]
  },
  {
   "cell_type": "code",
   "execution_count": null,
   "metadata": {},
   "outputs": [],
   "source": [
    "#fw_count['upgrade_day'] = fw_count['upgrade_state_updated_at'].dt.day\n",
    "#fw_count['upgrade_month'] = fw_count['upgrade_state_updated_at'].dt.month.fillna(0.0).astype(int)\n",
    "#fw_count['upgrade_month'] = fw_count['upgrade_month'].apply(lambda x: calendar.month_abbr[x])\n",
    "#fw_count['upgrade_date'] = fw_count['upgrade_month'].map(str) + \"-\" + fw_count['upgrade_day'].map(str)\n",
    "#fw_count['upgrade_date'] = fw_count['upgrade_date'].str.slice(start=0, stop=6)\n",
    "#fw_count['upgrade_date'] = fw_count['upgrade_date'].str.replace(\".\",\"\")"
   ]
  },
  {
   "cell_type": "code",
   "execution_count": null,
   "metadata": {},
   "outputs": [],
   "source": [
    "path = 'C:\\\\Users\\\\bokhy\\\\Desktop\\\\ATG'\n",
    "fw_count_y = pd.read_csv(os.path.join(path, 'V.csv'), engine='python')\n",
    "fw_count_n = pd.read_csv(os.path.join(path, 'V1.csv'), engine='python')"
   ]
  },
  {
   "cell_type": "code",
   "execution_count": null,
   "metadata": {},
   "outputs": [],
   "source": [
    "fw_count_n_notnull = fw_count_n[fw_count_n['display_version_number'].notnull()]\n",
    "fw_count_n_null = fw_count_n[fw_count_n['display_version_number'].isnull()]\n",
    "fw_count_n_null['display_version_number'] = fw_count_n_null['version_number']\n",
    "\n",
    "fw_count_n = fw_count_n_notnull.append(fw_count_n_null)\n",
    "fw_count = fw_count_y.append(fw_count_n)\n",
    "fw_count = fw_count.sort_values(\"display_version_number\", ascending=False).reset_index()"
   ]
  },
  {
   "cell_type": "code",
   "execution_count": null,
   "metadata": {},
   "outputs": [],
   "source": [
    "TIMEZONE = 'utc'\n",
    "fw_count['upgrade_state_updated_at'] = pd.to_datetime(fw_count['upgrade_state_updated_at'],format=\"%Y-%m-%d %H:%M:%S\",errors='coerce')"
   ]
  },
  {
   "cell_type": "code",
   "execution_count": null,
   "metadata": {},
   "outputs": [],
   "source": [
    "fw_count['upgrade_date']  = fw_count['upgrade_state_updated_at'].dt.date\n",
    "fw_count['upgrade_date']  = pd.to_datetime(fw_count['upgrade_date'])\n",
    "fw_count = fw_count.drop(['current_version','upgrade_state_updated_at','version_id'], axis=1)"
   ]
  },
  {
   "cell_type": "code",
   "execution_count": null,
   "metadata": {},
   "outputs": [],
   "source": [
    "def fw_release(row):\n",
    "    if row[\"display_version_number\"] == \"4.1.0\":\n",
    "        return \"2020-Jan-15\"    \n",
    "    elif row['display_version_number'] == \"4.2.0\":\n",
    "        return '2020-Jan-22'\n",
    "    elif row['display_version_number'] == \"4.3.0\":\n",
    "        return '2020-Jan-29'\n",
    "    elif row['display_version_number'] == \"4.4.0\":\n",
    "        return '2020-Feb-5'\n",
    "    elif row['display_version_number'] == \"4.5.0\":\n",
    "        return '2020-Feb-12'\n",
    "    elif row['display_version_number'] == \"4.6.0\":\n",
    "        return '2020-Feb-14'\n",
    "    elif row['display_version_number'] == \"4.7.0\":\n",
    "        return '2020-Feb-19'\n",
    "    elif row['display_version_number'] == \"4.8.0\":\n",
    "        return '2020-Feb-26'\n",
    "    elif row['display_version_number'] == \"4.9.0\":\n",
    "        return '2020-Mar-4'\n",
    "    elif row['display_version_number'] == \"4.10.0\":\n",
    "        return '2020-Mar-11'\n",
    "    elif row['display_version_number'] == \"4.11.0\":\n",
    "        return '2020-Mar-18'\n",
    "    elif row['display_version_number'] == \"4.11.1\":\n",
    "        return '2020-Mar-20'\n",
    "    elif row['display_version_number'] == \"4.12.0\":\n",
    "        return '2020-Mar-25'\n",
    "    elif row['display_version_number'] == \"4.13.0\":\n",
    "        return '2020-Apr-1'\n",
    "    elif row['display_version_number'] == \"4.14.0\":\n",
    "        return '2020-Apr-8'\n",
    "    elif row['display_version_number'] == \"4.14.1\":\n",
    "        return '2020-Apr-10' \n",
    "    elif row['display_version_number'] == \"4.15.0\":\n",
    "        return '2020-Apr-15'\n",
    "    elif row['display_version_number'] == \"4.16.0\":\n",
    "        return '2020-Apr-22'    \n",
    "    elif row['display_version_number'] == \"4.17.0\":\n",
    "        return '2020-Apr-29'\n",
    "    elif row['display_version_number'] == \"4.18.0\":\n",
    "        return '2020-May-6'    \n",
    "    \n",
    "    \n",
    "    else:\n",
    "        return 'N/A'"
   ]
  },
  {
   "cell_type": "code",
   "execution_count": null,
   "metadata": {},
   "outputs": [],
   "source": [
    "fw_count = fw_count.assign(fw_release = fw_count.apply(fw_release, axis=1))\n",
    "fw_count['fw_release'] = pd.to_datetime(fw_count['fw_release'], format='%Y-%b-%d',errors='coerce')"
   ]
  },
  {
   "cell_type": "code",
   "execution_count": null,
   "metadata": {},
   "outputs": [],
   "source": [
    "fw_count['date_taken'] = fw_count['upgrade_date'] - fw_count['fw_release']"
   ]
  },
  {
   "cell_type": "code",
   "execution_count": null,
   "metadata": {},
   "outputs": [],
   "source": [
    "fw_count.head()"
   ]
  },
  {
   "cell_type": "code",
   "execution_count": null,
   "metadata": {},
   "outputs": [],
   "source": [
    "fw_count['State'].value_counts()"
   ]
  },
  {
   "cell_type": "code",
   "execution_count": null,
   "metadata": {},
   "outputs": [],
   "source": [
    "fw_count.to_csv(\"fw_count.csv\", index=False)"
   ]
  }
 ],
 "metadata": {
  "kernelspec": {
   "display_name": "Python 3",
   "language": "python",
   "name": "python3"
  },
  "language_info": {
   "codemirror_mode": {
    "name": "ipython",
    "version": 3
   },
   "file_extension": ".py",
   "mimetype": "text/x-python",
   "name": "python",
   "nbconvert_exporter": "python",
   "pygments_lexer": "ipython3",
   "version": "3.7.6"
  }
 },
 "nbformat": 4,
 "nbformat_minor": 4
}
