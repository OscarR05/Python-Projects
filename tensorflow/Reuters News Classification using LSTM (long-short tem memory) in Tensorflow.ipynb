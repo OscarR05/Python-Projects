{
 "cells": [
  {
   "cell_type": "markdown",
   "metadata": {},
   "source": [
    "# Reuters News Classification"
   ]
  },
  {
   "cell_type": "markdown",
   "metadata": {},
   "source": [
    "We are going to implement text classifcation on Reuters News (available through sklearn) based on LSTM method "
   ]
  },
  {
   "cell_type": "code",
   "execution_count": 1,
   "metadata": {},
   "outputs": [],
   "source": [
    "from tensorflow.keras.datasets import reuters\n",
    "from tensorflow.keras.models import Sequential\n",
    "from tensorflow.keras.layers import Dense, LSTM, Embedding\n",
    "from tensorflow.keras.preprocessing.sequence import pad_sequences\n",
    "from tensorflow.keras.utils import to_categorical\n",
    "from tensorflow.keras.callbacks import EarlyStopping, ModelCheckpoint\n",
    "from tensorflow.keras.models import load_model\n",
    "\n",
    "%matplotlib inline\n",
    "import matplotlib.pyplot as plt\n",
    "import numpy as np\n",
    "import seaborn as sns"
   ]
  },
  {
   "cell_type": "markdown",
   "metadata": {},
   "source": [
    "# 1. Load Data"
   ]
  },
  {
   "cell_type": "code",
   "execution_count": 2,
   "metadata": {},
   "outputs": [
    {
     "name": "stdout",
     "output_type": "stream",
     "text": [
      "Downloading data from https://storage.googleapis.com/tensorflow/tf-keras-datasets/reuters.npz\n",
      "2113536/2110848 [==============================] - 0s 0us/step\n"
     ]
    }
   ],
   "source": [
    "# num_words: 1000 to use the words up to 1000th frequently appearing. Put 0 to use all words\n",
    "(X_train, y_train), (X_test, y_test) = reuters.load_data(num_words=1000, test_split=0.2)"
   ]
  },
  {
   "cell_type": "code",
   "execution_count": 3,
   "metadata": {},
   "outputs": [
    {
     "name": "stdout",
     "output_type": "stream",
     "text": [
      "Number of Training News : 8982\n",
      "Number of Test News : 2246\n",
      "Number of Predictor Classes : 46\n"
     ]
    }
   ],
   "source": [
    "print('Number of Training News : {}'.format(len(X_train)))\n",
    "print('Number of Test News : {}'.format(len(X_test)))\n",
    "\n",
    "num_classes = max(y_train) + 1\n",
    "print('Number of Predictor Classes : {}'.format(num_classes))"
   ]
  },
  {
   "cell_type": "code",
   "execution_count": 4,
   "metadata": {},
   "outputs": [
    {
     "name": "stdout",
     "output_type": "stream",
     "text": [
      "[1, 2, 2, 8, 43, 10, 447, 5, 25, 207, 270, 5, 2, 111, 16, 369, 186, 90, 67, 7, 89, 5, 19, 102, 6, 19, 124, 15, 90, 67, 84, 22, 482, 26, 7, 48, 4, 49, 8, 864, 39, 209, 154, 6, 151, 6, 83, 11, 15, 22, 155, 11, 15, 7, 48, 9, 2, 2, 504, 6, 258, 6, 272, 11, 15, 22, 134, 44, 11, 15, 16, 8, 197, 2, 90, 67, 52, 29, 209, 30, 32, 132, 6, 109, 15, 17, 12]\n"
     ]
    }
   ],
   "source": [
    "# Examine the very first news (Already converted in integers)\n",
    "print(X_train[0])"
   ]
  },
  {
   "cell_type": "markdown",
   "metadata": {},
   "source": [
    "# 2. EDA"
   ]
  },
  {
   "cell_type": "code",
   "execution_count": 5,
   "metadata": {},
   "outputs": [
    {
     "name": "stdout",
     "output_type": "stream",
     "text": [
      "Max length of news :2376\n",
      "Avg length of news :145.5398574927633\n"
     ]
    },
    {
     "data": {
      "image/png": "[encoded data removed]",
      "text/plain": [
       "<Figure size 432x288 with 1 Axes>"
      ]
     },
     "metadata": {
      "needs_background": "light"
     },
     "output_type": "display_data"
    }
   ],
   "source": [
    "# We also want to check the maximum and average length of news\n",
    "print('Max length of news :{}'.format(max(len(a) for a in X_train)))\n",
    "print('Avg length of news :{}'.format(sum(map(len, X_train))/len(X_train)))\n",
    "\n",
    "plt.hist([len(l) for l in X_train], bins=50)\n",
    "plt.xlabel('length of samples')\n",
    "plt.ylabel('number of samples')\n",
    "plt.show()"
   ]
  },
  {
   "cell_type": "code",
   "execution_count": 6,
   "metadata": {},
   "outputs": [
    {
     "data": {
      "text/plain": [
       "<matplotlib.axes._subplots.AxesSubplot at 0x22ed29dbb88>"
      ]
     },
     "execution_count": 6,
     "metadata": {},
     "output_type": "execute_result"
    },
    {
     "data": {
      "image/png": "[encoded data removed]",
      "text/plain": [
       "<Figure size 864x360 with 1 Axes>"
      ]
     },
     "metadata": {
      "needs_background": "light"
     },
     "output_type": "display_data"
    }
   ],
   "source": [
    "# Check how many each classes have\n",
    "fig, axe = plt.subplots(ncols=1)\n",
    "fig.set_size_inches(12,5)\n",
    "sns.countplot(y_train)"
   ]
  },
  {
   "cell_type": "markdown",
   "metadata": {},
   "source": [
    "We can see the class 3 and 4 has the most number of news"
   ]
  },
  {
   "cell_type": "markdown",
   "metadata": {},
   "source": [
    "# 3. PreProcessing"
   ]
  },
  {
   "cell_type": "markdown",
   "metadata": {},
   "source": [
    "The length of the news are all different. We want to make the length equal for all news. \n",
    "we gave 100 to max_len in pad_sequences(), which means that we want to make the length of all articles to 100 "
   ]
  },
  {
   "cell_type": "code",
   "execution_count": 8,
   "metadata": {},
   "outputs": [],
   "source": [
    "max_len = 100\n",
    "X_train = pad_sequences(X_train, maxlen=max_len) # Training set padding\n",
    "X_test = pad_sequences(X_test, maxlen=max_len) # Test set padding"
   ]
  },
  {
   "cell_type": "code",
   "execution_count": 9,
   "metadata": {},
   "outputs": [],
   "source": [
    "y_train = to_categorical(y_train) # Lables in Training set One-hot encoding\n",
    "y_test = to_categorical(y_test) # Lables in Testing set One-hot encoding"
   ]
  },
  {
   "cell_type": "markdown",
   "metadata": {},
   "source": [
    "# 4. Modeling"
   ]
  },
  {
   "cell_type": "markdown",
   "metadata": {},
   "source": [
    "We first create 'Embedding()' layer which receives 2 inputs: first the size of the word-cluster, and second the dimension of vector. So, below codes generated 1,000 vector that has 120 dimension. LSTM layer gets the hidden layer's size \n",
    "\n",
    "The last output layers has to get the num_classes of predictor. "
   ]
  },
  {
   "cell_type": "code",
   "execution_count": 10,
   "metadata": {},
   "outputs": [],
   "source": [
    "model = Sequential()\n",
    "model.add(Embedding(1000, 120))\n",
    "model.add(LSTM(120))\n",
    "model.add(Dense(num_classes, activation='softmax'))"
   ]
  },
  {
   "cell_type": "code",
   "execution_count": 11,
   "metadata": {},
   "outputs": [],
   "source": [
    "# Create earlystopping and checkpoint on saving best model (only when val_acc improves)\n",
    "es = EarlyStopping(monitor='val_loss', mode='min', verbose=1, patience=4) \n",
    "mc = ModelCheckpoint('best_model.h5', monitor='val_acc', mode='max', verbose=1, save_best_only=True)"
   ]
  },
  {
   "cell_type": "code",
   "execution_count": 12,
   "metadata": {},
   "outputs": [],
   "source": [
    "# Use 'categorical_crossentropy' on multiclass classification problem\n",
    "model.compile(loss='categorical_crossentropy', optimizer='adam', metrics=['acc'])"
   ]
  },
  {
   "cell_type": "code",
   "execution_count": 13,
   "metadata": {},
   "outputs": [
    {
     "name": "stdout",
     "output_type": "stream",
     "text": [
      "Epoch 1/30\n",
      "71/71 [==============================] - ETA: 0s - loss: 2.6242 - acc: 0.3377\n",
      "Epoch 00001: val_acc improved from -inf to 0.36198, saving model to best_model.h5\n",
      "71/71 [==============================] - 10s 136ms/step - loss: 2.6242 - acc: 0.3377 - val_loss: 2.3547 - val_acc: 0.3620\n",
      "Epoch 2/30\n",
      "71/71 [==============================] - ETA: 0s - loss: 2.1471 - acc: 0.4565\n",
      "Epoch 00002: val_acc improved from 0.36198 to 0.50490, saving model to best_model.h5\n",
      "71/71 [==============================] - 11s 160ms/step - loss: 2.1471 - acc: 0.4565 - val_loss: 2.0005 - val_acc: 0.5049\n",
      "Epoch 3/30\n",
      "71/71 [==============================] - ETA: 0s - loss: 1.8976 - acc: 0.5106- ETA: 3s - loss: 1.9025 \n",
      "Epoch 00003: val_acc improved from 0.50490 to 0.51959, saving model to best_model.h5\n",
      "71/71 [==============================] - 18s 256ms/step - loss: 1.8976 - acc: 0.5106 - val_loss: 1.8414 - val_acc: 0.5196\n",
      "Epoch 4/30\n",
      "71/71 [==============================] - ETA: 0s - loss: 1.7766 - acc: 0.5340\n",
      "Epoch 00004: val_acc improved from 0.51959 to 0.54853, saving model to best_model.h5\n",
      "71/71 [==============================] - 13s 180ms/step - loss: 1.7766 - acc: 0.5340 - val_loss: 1.7564 - val_acc: 0.5485\n",
      "Epoch 5/30\n",
      "71/71 [==============================] - ETA: 0s - loss: 1.6879 - acc: 0.5650\n",
      "Epoch 00005: val_acc improved from 0.54853 to 0.56411, saving model to best_model.h5\n",
      "71/71 [==============================] - 12s 162ms/step - loss: 1.6879 - acc: 0.5650 - val_loss: 1.6917 - val_acc: 0.5641\n",
      "Epoch 6/30\n",
      "71/71 [==============================] - ETA: 0s - loss: 1.5844 - acc: 0.5986\n",
      "Epoch 00006: val_acc improved from 0.56411 to 0.59439, saving model to best_model.h5\n",
      "71/71 [==============================] - 11s 153ms/step - loss: 1.5844 - acc: 0.5986 - val_loss: 1.6126 - val_acc: 0.5944\n",
      "Epoch 7/30\n",
      "71/71 [==============================] - ETA: 0s - loss: 1.4732 - acc: 0.6284\n",
      "Epoch 00007: val_acc improved from 0.59439 to 0.63713, saving model to best_model.h5\n",
      "71/71 [==============================] - 18s 247ms/step - loss: 1.4732 - acc: 0.6284 - val_loss: 1.5107 - val_acc: 0.6371\n",
      "Epoch 8/30\n",
      "71/71 [==============================] - ETA: 0s - loss: 1.3861 - acc: 0.6523\n",
      "Epoch 00008: val_acc did not improve from 0.63713\n",
      "71/71 [==============================] - 14s 193ms/step - loss: 1.3861 - acc: 0.6523 - val_loss: 1.4858 - val_acc: 0.6220\n",
      "Epoch 9/30\n",
      "71/71 [==============================] - ETA: 0s - loss: 1.3003 - acc: 0.6749\n",
      "Epoch 00009: val_acc improved from 0.63713 to 0.65583, saving model to best_model.h5\n",
      "71/71 [==============================] - 15s 205ms/step - loss: 1.3003 - acc: 0.6749 - val_loss: 1.3819 - val_acc: 0.6558\n",
      "Epoch 10/30\n",
      "71/71 [==============================] - ETA: 0s - loss: 1.2200 - acc: 0.6921- ETA: 5\n",
      "Epoch 00010: val_acc improved from 0.65583 to 0.65806, saving model to best_model.h5\n",
      "71/71 [==============================] - 14s 199ms/step - loss: 1.2200 - acc: 0.6921 - val_loss: 1.3777 - val_acc: 0.6581\n",
      "Epoch 11/30\n",
      "71/71 [==============================] - ETA: 0s - loss: 1.1707 - acc: 0.7031\n",
      "Epoch 00011: val_acc improved from 0.65806 to 0.66162, saving model to best_model.h5\n",
      "71/71 [==============================] - 12s 173ms/step - loss: 1.1707 - acc: 0.7031 - val_loss: 1.3295 - val_acc: 0.6616\n",
      "Epoch 12/30\n",
      "71/71 [==============================] - ETA: 0s - loss: 1.1188 - acc: 0.7141\n",
      "Epoch 00012: val_acc improved from 0.66162 to 0.67097, saving model to best_model.h5\n",
      "71/71 [==============================] - 19s 268ms/step - loss: 1.1188 - acc: 0.7141 - val_loss: 1.2802 - val_acc: 0.6710\n",
      "Epoch 13/30\n",
      "71/71 [==============================] - ETA: 0s - loss: 1.0826 - acc: 0.7227\n",
      "Epoch 00013: val_acc improved from 0.67097 to 0.68388, saving model to best_model.h5\n",
      "71/71 [==============================] - 18s 249ms/step - loss: 1.0826 - acc: 0.7227 - val_loss: 1.2551 - val_acc: 0.6839\n",
      "Epoch 14/30\n",
      "71/71 [==============================] - ETA: 0s - loss: 1.0180 - acc: 0.7413\n",
      "Epoch 00014: val_acc improved from 0.68388 to 0.69457, saving model to best_model.h5\n",
      "71/71 [==============================] - 17s 236ms/step - loss: 1.0180 - acc: 0.7413 - val_loss: 1.2380 - val_acc: 0.6946\n",
      "Epoch 15/30\n",
      "71/71 [==============================] - ETA: 0s - loss: 0.9920 - acc: 0.7470\n",
      "Epoch 00015: val_acc improved from 0.69457 to 0.70303, saving model to best_model.h5\n",
      "71/71 [==============================] - 15s 218ms/step - loss: 0.9920 - acc: 0.7470 - val_loss: 1.2167 - val_acc: 0.7030\n",
      "Epoch 16/30\n",
      "71/71 [==============================] - ETA: 0s - loss: 0.9418 - acc: 0.7614\n",
      "Epoch 00016: val_acc did not improve from 0.70303\n",
      "71/71 [==============================] - 16s 231ms/step - loss: 0.9418 - acc: 0.7614 - val_loss: 1.2207 - val_acc: 0.6950\n",
      "Epoch 17/30\n",
      "71/71 [==============================] - ETA: 0s - loss: 0.8886 - acc: 0.7720\n",
      "Epoch 00017: val_acc did not improve from 0.70303\n",
      "71/71 [==============================] - 16s 222ms/step - loss: 0.8886 - acc: 0.7720 - val_loss: 1.1922 - val_acc: 0.7008\n",
      "Epoch 18/30\n",
      "71/71 [==============================] - ETA: 0s - loss: 0.8490 - acc: 0.7819\n",
      "Epoch 00018: val_acc improved from 0.70303 to 0.70793, saving model to best_model.h5\n",
      "71/71 [==============================] - 16s 226ms/step - loss: 0.8490 - acc: 0.7819 - val_loss: 1.1966 - val_acc: 0.7079\n",
      "Epoch 19/30\n",
      "71/71 [==============================] - ETA: 0s - loss: 0.8103 - acc: 0.7934\n",
      "Epoch 00019: val_acc improved from 0.70793 to 0.71327, saving model to best_model.h5\n",
      "71/71 [==============================] - 16s 226ms/step - loss: 0.8103 - acc: 0.7934 - val_loss: 1.2016 - val_acc: 0.7133\n",
      "Epoch 20/30\n",
      "71/71 [==============================] - ETA: 0s - loss: 0.7702 - acc: 0.8055\n",
      "Epoch 00020: val_acc did not improve from 0.71327\n",
      "71/71 [==============================] - 16s 229ms/step - loss: 0.7702 - acc: 0.8055 - val_loss: 1.2377 - val_acc: 0.7075\n",
      "Epoch 21/30\n",
      "71/71 [==============================] - ETA: 0s - loss: 0.7525 - acc: 0.8073\n",
      "Epoch 00021: val_acc improved from 0.71327 to 0.71460, saving model to best_model.h5\n",
      "71/71 [==============================] - 17s 238ms/step - loss: 0.7525 - acc: 0.8073 - val_loss: 1.1885 - val_acc: 0.7146\n",
      "Epoch 22/30\n",
      "71/71 [==============================] - ETA: 0s - loss: 0.7122 - acc: 0.8223\n",
      "Epoch 00022: val_acc improved from 0.71460 to 0.72885, saving model to best_model.h5\n",
      "71/71 [==============================] - 18s 252ms/step - loss: 0.7122 - acc: 0.8223 - val_loss: 1.2124 - val_acc: 0.7289\n",
      "Epoch 23/30\n",
      "71/71 [==============================] - ETA: 0s - loss: 0.6706 - acc: 0.8310\n",
      "Epoch 00023: val_acc improved from 0.72885 to 0.72974, saving model to best_model.h5\n",
      "71/71 [==============================] - 20s 278ms/step - loss: 0.6706 - acc: 0.8310 - val_loss: 1.1866 - val_acc: 0.7297\n",
      "Epoch 24/30\n",
      "71/71 [==============================] - ETA: 0s - loss: 0.6435 - acc: 0.8376\n",
      "Epoch 00024: val_acc improved from 0.72974 to 0.73108, saving model to best_model.h5\n",
      "71/71 [==============================] - 17s 246ms/step - loss: 0.6435 - acc: 0.8376 - val_loss: 1.2118 - val_acc: 0.7311\n",
      "Epoch 25/30\n",
      "71/71 [==============================] - ETA: 0s - loss: 0.6256 - acc: 0.8424- ETA: 2s - loss: 0.6237 - a\n",
      "Epoch 00025: val_acc did not improve from 0.73108\n",
      "71/71 [==============================] - 16s 221ms/step - loss: 0.6256 - acc: 0.8424 - val_loss: 1.2430 - val_acc: 0.7195\n",
      "Epoch 26/30\n",
      "71/71 [==============================] - ETA: 0s - loss: 0.6025 - acc: 0.8514\n",
      "Epoch 00026: val_acc did not improve from 0.73108\n",
      "71/71 [==============================] - 15s 218ms/step - loss: 0.6025 - acc: 0.8514 - val_loss: 1.2196 - val_acc: 0.7231\n",
      "Epoch 27/30\n",
      "71/71 [==============================] - ETA: 0s - loss: 0.5636 - acc: 0.8582\n",
      "Epoch 00027: val_acc did not improve from 0.73108\n",
      "71/71 [==============================] - 17s 237ms/step - loss: 0.5636 - acc: 0.8582 - val_loss: 1.2589 - val_acc: 0.7204\n",
      "Epoch 00027: early stopping\n"
     ]
    }
   ],
   "source": [
    "history = model.fit(X_train, y_train, batch_size=128, epochs=30, callbacks=[es, mc], validation_data=(X_test, y_test))"
   ]
  },
  {
   "cell_type": "code",
   "execution_count": 14,
   "metadata": {},
   "outputs": [
    {
     "name": "stdout",
     "output_type": "stream",
     "text": [
      "71/71 [==============================] - 1s 16ms/step - loss: 1.2118 - acc: 0.7311\n",
      "\n",
      " Test Accuracy: 0.7311\n"
     ]
    }
   ],
   "source": [
    "loaded_model = load_model('best_model.h5')\n",
    "\n",
    "# Check the Testset Accuracy\n",
    "print(\"\\n Test Accuracy: %.4f\" % (loaded_model.evaluate(X_test, y_test)[1]))"
   ]
  },
  {
   "cell_type": "markdown",
   "metadata": {},
   "source": [
    "We get the 73% accuracy on test set with the very basic model that has one Embedding and one LSTM layer"
   ]
  },
  {
   "cell_type": "code",
   "execution_count": 15,
   "metadata": {},
   "outputs": [
    {
     "data": {
      "text/plain": [
       "<matplotlib.legend.Legend at 0x22ed0ef1d48>"
      ]
     },
     "execution_count": 15,
     "metadata": {},
     "output_type": "execute_result"
    },
    {
     "data": {
      "image/png": "[encoded data removed]",
      "text/plain": [
       "<Figure size 432x288 with 1 Axes>"
      ]
     },
     "metadata": {
      "needs_background": "light"
     },
     "output_type": "display_data"
    }
   ],
   "source": [
    "# Check the loss graph\n",
    "epochs = range(1, len(history.history['acc']) + 1)\n",
    "plt.plot(epochs, history.history['loss'])\n",
    "plt.plot(epochs, history.history['val_loss'])\n",
    "plt.title('model loss')\n",
    "plt.ylabel('loss')\n",
    "plt.xlabel('epoch')\n",
    "plt.legend(['train', 'test'], loc='upper left')"
   ]
  },
  {
   "cell_type": "markdown",
   "metadata": {},
   "source": [
    "Overfitting seems to begin at aronud 5th epoch, which we can improve by adding normalization layers and revising hyperparameters"
   ]
  }
 ],
 "metadata": {
  "kernelspec": {
   "display_name": "Python 3",
   "language": "python",
   "name": "python3"
  },
  "language_info": {
   "codemirror_mode": {
    "name": "ipython",
    "version": 3
   },
   "file_extension": ".py",
   "mimetype": "text/x-python",
   "name": "python",
   "nbconvert_exporter": "python",
   "pygments_lexer": "ipython3",
   "version": "3.7.6"
  }
 },
 "nbformat": 4,
 "nbformat_minor": 4
}
