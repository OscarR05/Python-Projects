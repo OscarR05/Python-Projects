{
 "cells": [
  {
   "cell_type": "markdown",
   "metadata": {},
   "source": [
    "# Text Classification with MLP (MultiLayer Perceptron) in Tensorflow Keras"
   ]
  },
  {
   "cell_type": "markdown",
   "metadata": {},
   "source": [
    "MLP is defined as a Neural Network with at least one dense layer added in between. MLP is the most basic concept in Feed Forward Neural Network. Feed Forward Neural Network is simply the network where the direction of layer is one-way from input to output layers. "
   ]
  },
  {
   "cell_type": "markdown",
   "metadata": {},
   "source": [
    "MLP is useful in calssiciation model, but not so much in NLP model, as the length of the input is fixed (cannot be changed)"
   ]
  },
  {
   "cell_type": "markdown",
   "metadata": {},
   "source": [
    "Here, we will use the texts_to_matrx() function in Keras to perform text-classification.  texts_to_matrx() function has 4 different modes: 'binary', 'count', 'freq', 'tfidf'."
   ]
  },
  {
   "cell_type": "markdown",
   "metadata": {},
   "source": [
    "## Classification of twenty e-mail newsgroup using Keras Text_to_matrix function "
   ]
  },
  {
   "cell_type": "markdown",
   "metadata": {},
   "source": [
    "# 1. Load Data"
   ]
  },
  {
   "cell_type": "code",
   "execution_count": 1,
   "metadata": {},
   "outputs": [],
   "source": [
    "import pandas as pd\n",
    "from sklearn.datasets import fetch_20newsgroups\n",
    "%matplotlib inline\n",
    "import matplotlib.pyplot as plt\n",
    "from tensorflow.keras.preprocessing.text import Tokenizer\n",
    "from tensorflow.keras.utils import to_categorical\n",
    "from tensorflow.keras.models import Sequential\n",
    "from tensorflow.keras.layers import Dense, Dropout"
   ]
  },
  {
   "cell_type": "markdown",
   "metadata": {},
   "source": [
    "sklearn offers 18,846 e-mails about 20 different news group. So we are going to use that for a learning."
   ]
  },
  {
   "cell_type": "code",
   "execution_count": 2,
   "metadata": {},
   "outputs": [],
   "source": [
    "newsdata = fetch_20newsgroups(subset = 'train') # 'subset = train' returns only train dataset"
   ]
  },
  {
   "cell_type": "code",
   "execution_count": 3,
   "metadata": {},
   "outputs": [
    {
     "name": "stdout",
     "output_type": "stream",
     "text": [
      "dict_keys(['data', 'filenames', 'target_names', 'target', 'DESCR'])\n"
     ]
    }
   ],
   "source": [
    "print(newsdata.keys())"
   ]
  },
  {
   "cell_type": "code",
   "execution_count": 4,
   "metadata": {},
   "outputs": [
    {
     "name": "stdout",
     "output_type": "stream",
     "text": [
      "Number of e-mails in training set : 11314\n"
     ]
    }
   ],
   "source": [
    "print('Number of e-mails in training set : {}'.format(len(newsdata.data)))"
   ]
  },
  {
   "cell_type": "code",
   "execution_count": 5,
   "metadata": {},
   "outputs": [
    {
     "name": "stdout",
     "output_type": "stream",
     "text": [
      "Number of target classes : 20\n",
      "['alt.atheism', 'comp.graphics', 'comp.os.ms-windows.misc', 'comp.sys.ibm.pc.hardware', 'comp.sys.mac.hardware', 'comp.windows.x', 'misc.forsale', 'rec.autos', 'rec.motorcycles', 'rec.sport.baseball', 'rec.sport.hockey', 'sci.crypt', 'sci.electronics', 'sci.med', 'sci.space', 'soc.religion.christian', 'talk.politics.guns', 'talk.politics.mideast', 'talk.politics.misc', 'talk.religion.misc']\n"
     ]
    }
   ],
   "source": [
    "print('Number of target classes : {}'.format(len(newsdata.target_names)))\n",
    "print(newsdata.target_names)"
   ]
  },
  {
   "cell_type": "markdown",
   "metadata": {},
   "source": [
    "We have 20 different classes in this classification task"
   ]
  },
  {
   "cell_type": "code",
   "execution_count": 6,
   "metadata": {},
   "outputs": [
    {
     "data": {
      "text/html": [
       "<div>\n",
       "<style scoped>\n",
       "    .dataframe tbody tr th:only-of-type {\n",
       "        vertical-align: middle;\n",
       "    }\n",
       "\n",
       "    .dataframe tbody tr th {\n",
       "        vertical-align: top;\n",
       "    }\n",
       "\n",
       "    .dataframe thead th {\n",
       "        text-align: right;\n",
       "    }\n",
       "</style>\n",
       "<table border=\"1\" class=\"dataframe\">\n",
       "  <thead>\n",
       "    <tr style=\"text-align: right;\">\n",
       "      <th></th>\n",
       "      <th>email</th>\n",
       "      <th>target</th>\n",
       "    </tr>\n",
       "  </thead>\n",
       "  <tbody>\n",
       "    <tr>\n",
       "      <th>0</th>\n",
       "      <td>From: lerxst@wam.umd.edu (where's my thing)\\nS...</td>\n",
       "      <td>7</td>\n",
       "    </tr>\n",
       "    <tr>\n",
       "      <th>1</th>\n",
       "      <td>From: guykuo@carson.u.washington.edu (Guy Kuo)...</td>\n",
       "      <td>4</td>\n",
       "    </tr>\n",
       "    <tr>\n",
       "      <th>2</th>\n",
       "      <td>From: twillis@ec.ecn.purdue.edu (Thomas E Will...</td>\n",
       "      <td>4</td>\n",
       "    </tr>\n",
       "    <tr>\n",
       "      <th>3</th>\n",
       "      <td>From: jgreen@amber (Joe Green)\\nSubject: Re: W...</td>\n",
       "      <td>1</td>\n",
       "    </tr>\n",
       "    <tr>\n",
       "      <th>4</th>\n",
       "      <td>From: jcm@head-cfa.harvard.edu (Jonathan McDow...</td>\n",
       "      <td>14</td>\n",
       "    </tr>\n",
       "  </tbody>\n",
       "</table>\n",
       "</div>"
      ],
      "text/plain": [
       "                                               email  target\n",
       "0  From: lerxst@wam.umd.edu (where's my thing)\\nS...       7\n",
       "1  From: guykuo@carson.u.washington.edu (Guy Kuo)...       4\n",
       "2  From: twillis@ec.ecn.purdue.edu (Thomas E Will...       4\n",
       "3  From: jgreen@amber (Joe Green)\\nSubject: Re: W...       1\n",
       "4  From: jcm@head-cfa.harvard.edu (Jonathan McDow...      14"
      ]
     },
     "execution_count": 6,
     "metadata": {},
     "output_type": "execute_result"
    }
   ],
   "source": [
    "# Convert data into Pandas Dataframe for easy handling\n",
    "data = pd.DataFrame(newsdata.data, columns = ['email']) \n",
    "data['target'] = pd.Series(newsdata.target) # add target column\n",
    "data.head()"
   ]
  },
  {
   "cell_type": "code",
   "execution_count": 7,
   "metadata": {},
   "outputs": [
    {
     "data": {
      "image/png": "[encoded data removed]",
      "text/plain": [
       "<Figure size 432x288 with 1 Axes>"
      ]
     },
     "metadata": {
      "needs_background": "light"
     },
     "output_type": "display_data"
    }
   ],
   "source": [
    "# Simple visualization on target classes\n",
    "data['target'].value_counts().plot(kind='bar');"
   ]
  },
  {
   "cell_type": "markdown",
   "metadata": {},
   "source": [
    "# 2. Splitting data into predictor/response for slotting into model, and also calling testset as well"
   ]
  },
  {
   "cell_type": "code",
   "execution_count": 8,
   "metadata": {},
   "outputs": [],
   "source": [
    "train_email = data['email'] # predictor in training set\n",
    "train_label = data['target'] # response in training set\n",
    "\n",
    "newsdata_test = fetch_20newsgroups(subset='test', shuffle=True) \n",
    "test_email = newsdata_test.data # predictor in test set\n",
    "test_label = newsdata_test.target # response in training set"
   ]
  },
  {
   "cell_type": "markdown",
   "metadata": {},
   "source": [
    "Set neccesary varialbes \n",
    "> max_words: number of maximum words that the models gonna get feed\n",
    "> num_classes: number of labels"
   ]
  },
  {
   "cell_type": "code",
   "execution_count": 9,
   "metadata": {},
   "outputs": [],
   "source": [
    "max_words = 10000 # Max number of word that we will input in training\n",
    "num_classes = 20 "
   ]
  },
  {
   "cell_type": "code",
   "execution_count": 10,
   "metadata": {},
   "outputs": [],
   "source": [
    "# Data preprocessing function\n",
    "def prepare_data(train_data, test_data, mode):\n",
    "    t = Tokenizer(num_words = max_words) # Use the number of words in 'max_words' \n",
    "    t.fit_on_texts(train_data)\n",
    "    X_train = t.texts_to_matrix(train_data, mode=mode) # matrix that has the size of \"number of samples × max_words\"\n",
    "    X_test = t.texts_to_matrix(test_data, mode=mode) # matrix that has the size of \"number of samples × max_words\"\n",
    "    return X_train, X_test, t.index_word"
   ]
  },
  {
   "cell_type": "code",
   "execution_count": 11,
   "metadata": {},
   "outputs": [],
   "source": [
    "X_train, X_test, index_to_word = prepare_data(train_email, test_email, 'binary') # For now, let's use binary mode\n",
    "y_train = to_categorical(train_label, num_classes) # One-hot encoding\n",
    "y_test = to_categorical(test_label, num_classes) # One-hot encoding"
   ]
  },
  {
   "cell_type": "code",
   "execution_count": 16,
   "metadata": {},
   "outputs": [
    {
     "name": "stdout",
     "output_type": "stream",
     "text": [
      "(11314, 10000)\n",
      "(7532, 10000)\n",
      "(11314, 20)\n",
      "(7532, 20)\n"
     ]
    }
   ],
   "source": [
    "print(X_train.shape)\n",
    "print(X_test.shape)\n",
    "\n",
    "print(y_train.shape)\n",
    "print(y_test.shape)"
   ]
  },
  {
   "cell_type": "code",
   "execution_count": 17,
   "metadata": {},
   "outputs": [
    {
     "name": "stdout",
     "output_type": "stream",
     "text": [
      "The 1st Frequent word : the\n",
      "9999th Frequent word : mic\n"
     ]
    }
   ],
   "source": [
    "print('The 1st Frequent word : {}'.format(index_to_word[1]))\n",
    "print('9999th Frequent word : {}'.format(index_to_word[9999]))"
   ]
  },
  {
   "cell_type": "markdown",
   "metadata": {},
   "source": [
    "# 3. Use Multilayer Perceptron "
   ]
  },
  {
   "cell_type": "markdown",
   "metadata": {},
   "source": [
    "![imge]('./img/multilayerperceptron.png')"
   ]
  },
  {
   "cell_type": "markdown",
   "metadata": {},
   "source": [
    "The image above shows the structure of the code below. There are 4 layers in total: Input layer that has the size of the max_words, first hidden layer with 256 neurons, second hidden layer with 128 neurons, and the output layer with the number of classes we want to predict. This network is called Deep Neural Networ (DNN) as it has more than one hidden layer "
   ]
  },
  {
   "cell_type": "code",
   "execution_count": 18,
   "metadata": {},
   "outputs": [],
   "source": [
    "def fit_and_evaluate(X_train, y_train, X_test, y_test):\n",
    "    model = Sequential()\n",
    "    model.add(Dense(256, input_shape=(max_words,), activation='relu'))\n",
    "    model.add(Dropout(0.5)) # To prevent overfitting\n",
    "    model.add(Dense(128, activation='relu'))\n",
    "    model.add(Dropout(0.5)) # To prevent overfitting\n",
    "    model.add(Dense(num_classes, activation='softmax'))\n",
    "\n",
    "    model.compile(loss='categorical_crossentropy', optimizer='adam', metrics=['accuracy'])\n",
    "    model.fit(X_train, y_train, batch_size=128, epochs=5, verbose=1, validation_split=0.1)\n",
    "    score = model.evaluate(X_test, y_test, batch_size=128, verbose=0)\n",
    "    return score[1]"
   ]
  },
  {
   "cell_type": "markdown",
   "metadata": {},
   "source": [
    "# 4. Train the Model."
   ]
  },
  {
   "cell_type": "markdown",
   "metadata": {},
   "source": [
    "Let's get the result for all 4 available mode for text_to_matrix() "
   ]
  },
  {
   "cell_type": "code",
   "execution_count": 19,
   "metadata": {},
   "outputs": [
    {
     "name": "stdout",
     "output_type": "stream",
     "text": [
      "Epoch 1/5\n",
      "80/80 [==============================] - 2s 21ms/step - loss: 2.2875 - accuracy: 0.3400 - val_loss: 0.9542 - val_accuracy: 0.8357\n",
      "Epoch 2/5\n",
      "80/80 [==============================] - 1s 18ms/step - loss: 0.8686 - accuracy: 0.7608 - val_loss: 0.4607 - val_accuracy: 0.8869\n",
      "Epoch 3/5\n",
      "80/80 [==============================] - 1s 18ms/step - loss: 0.4236 - accuracy: 0.8885 - val_loss: 0.3578 - val_accuracy: 0.9055\n",
      "Epoch 4/5\n",
      "80/80 [==============================] - 1s 18ms/step - loss: 0.2577 - accuracy: 0.9352 - val_loss: 0.3181 - val_accuracy: 0.9117\n",
      "Epoch 5/5\n",
      "80/80 [==============================] - 2s 21ms/step - loss: 0.1665 - accuracy: 0.9608 - val_loss: 0.2896 - val_accuracy: 0.9178\n",
      "binary Test Accuacy: 0.8284652233123779\n",
      "Epoch 1/5\n",
      "80/80 [==============================] - 3s 43ms/step - loss: 2.7406 - accuracy: 0.2414 - val_loss: 1.5910 - val_accuracy: 0.7509\n",
      "Epoch 2/5\n",
      "80/80 [==============================] - 3s 34ms/step - loss: 1.4450 - accuracy: 0.6223 - val_loss: 0.7450 - val_accuracy: 0.8436\n",
      "Epoch 3/5\n",
      "80/80 [==============================] - 2s 31ms/step - loss: 0.7898 - accuracy: 0.8008 - val_loss: 0.4838 - val_accuracy: 0.8816\n",
      "Epoch 4/5\n",
      "80/80 [==============================] - 3s 32ms/step - loss: 0.5293 - accuracy: 0.8676 - val_loss: 0.4325 - val_accuracy: 0.8887\n",
      "Epoch 5/5\n",
      "80/80 [==============================] - 2s 28ms/step - loss: 0.4255 - accuracy: 0.9055 - val_loss: 0.4135 - val_accuracy: 0.8896\n",
      "count Test Accuacy: 0.8130642771720886\n",
      "Epoch 1/5\n",
      "80/80 [==============================] - 4s 51ms/step - loss: 2.2337 - accuracy: 0.3604 - val_loss: 0.7676 - val_accuracy: 0.8489\n",
      "Epoch 2/5\n",
      "80/80 [==============================] - 4s 44ms/step - loss: 0.7850 - accuracy: 0.7812 - val_loss: 0.4647 - val_accuracy: 0.8896\n",
      "Epoch 3/5\n",
      "80/80 [==============================] - 3s 37ms/step - loss: 0.4448 - accuracy: 0.8814 - val_loss: 0.3527 - val_accuracy: 0.9072\n",
      "Epoch 4/5\n",
      "80/80 [==============================] - 3s 33ms/step - loss: 0.2847 - accuracy: 0.9290 - val_loss: 0.3338 - val_accuracy: 0.9143\n",
      "Epoch 5/5\n",
      "80/80 [==============================] - 3s 31ms/step - loss: 0.2074 - accuracy: 0.9490 - val_loss: 0.3268 - val_accuracy: 0.9143\n",
      "tfidf Test Accuacy: 0.8278014063835144\n",
      "Epoch 1/5\n",
      "80/80 [==============================] - 2s 31ms/step - loss: 2.9781 - accuracy: 0.0935 - val_loss: 2.9267 - val_accuracy: 0.2120\n",
      "Epoch 2/5\n",
      "80/80 [==============================] - 2s 27ms/step - loss: 2.7249 - accuracy: 0.2078 - val_loss: 2.4103 - val_accuracy: 0.4435\n",
      "Epoch 3/5\n",
      "80/80 [==============================] - 2s 24ms/step - loss: 2.2209 - accuracy: 0.3172 - val_loss: 1.9297 - val_accuracy: 0.5433\n",
      "Epoch 4/5\n",
      "80/80 [==============================] - 2s 25ms/step - loss: 1.7842 - accuracy: 0.4483 - val_loss: 1.5156 - val_accuracy: 0.6343\n",
      "Epoch 5/5\n",
      "80/80 [==============================] - 2s 23ms/step - loss: 1.4179 - accuracy: 0.5653 - val_loss: 1.2084 - val_accuracy: 0.7253\n",
      "freq Test Accuacy: 0.674986720085144\n"
     ]
    }
   ],
   "source": [
    "modes = ['binary', 'count', 'tfidf', 'freq']\n",
    "\n",
    "for mode in modes: \n",
    "    X_train, X_test, _ = prepare_data(train_email, test_email, mode) # PreProcess data per each modes\n",
    "    score = fit_and_evaluate(X_train, y_train, X_test, y_test) \n",
    "    print(mode+' Test Accuacy:', score)"
   ]
  },
  {
   "cell_type": "markdown",
   "metadata": {},
   "source": [
    "Around 81~82% of accuracy accorss all modes, except 67% at 'freq' mode, which tells it's not a good algorithm to solve this problem"
   ]
  },
  {
   "cell_type": "code",
   "execution_count": null,
   "metadata": {},
   "outputs": [],
   "source": []
  }
 ],
 "metadata": {
  "kernelspec": {
   "display_name": "Python 3",
   "language": "python",
   "name": "python3"
  },
  "language_info": {
   "codemirror_mode": {
    "name": "ipython",
    "version": 3
   },
   "file_extension": ".py",
   "mimetype": "text/x-python",
   "name": "python",
   "nbconvert_exporter": "python",
   "pygments_lexer": "ipython3",
   "version": "3.7.6"
  }
 },
 "nbformat": 4,
 "nbformat_minor": 4
}
