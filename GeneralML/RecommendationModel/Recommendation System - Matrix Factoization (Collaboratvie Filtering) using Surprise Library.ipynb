{
 "cells": [
  {
   "cell_type": "markdown",
   "metadata": {},
   "source": [
    "# Recommendation System - Matrix Factoization (Collaboratvie Filtering) using Surprise Library"
   ]
  },
  {
   "cell_type": "markdown",
   "metadata": {},
   "source": [
    "##### Data is [MovieLens](https://grouplens.org/datasets/movielens/) data"
   ]
  },
  {
   "cell_type": "code",
   "execution_count": 1,
   "metadata": {},
   "outputs": [],
   "source": [
    "from sklearn.decomposition import TruncatedSVD\n",
    "from scipy.sparse.linalg import svds\n",
    "\n",
    "import matplotlib.pyplot as plt\n",
    "import seaborn as sns\n",
    "import pandas as pd\n",
    "import numpy as np\n",
    "import warnings\n",
    "import os\n",
    "\n",
    "from fastai import *\n",
    "from fastai.collab import *\n",
    "from fastai.tabular import *\n",
    "warnings.filterwarnings(\"ignore\")\n",
    "\n",
    "import matplotlib.pyplot as plt\n",
    "import seaborn as sns\n",
    "\n",
    "from collections import defaultdict #data colector\n",
    "\n",
    "#Surprise: https://surprise.readthedocs.io/en/stable/\n",
    "import surprise\n",
    "\n",
    "from surprise.reader import Reader\n",
    "from surprise import Dataset\n",
    "from surprise.model_selection import GridSearchCV\n",
    "from surprise import NormalPredictor\n",
    "from surprise import accuracy\n",
    "from surprise import KNNBasic\n",
    "\n",
    "  ##CrossValidation\n",
    "from surprise.model_selection import cross_validate\n",
    "\n",
    "##Matrix Factorization Algorithms\n",
    "from surprise import SVD\n",
    "from surprise import NMF\n",
    "\n",
    "np.random.seed(623) # replicating results"
   ]
  },
  {
   "cell_type": "markdown",
   "metadata": {},
   "source": [
    "# 1. Load Data"
   ]
  },
  {
   "cell_type": "code",
   "execution_count": 2,
   "metadata": {},
   "outputs": [],
   "source": [
    "# Opening ZIP file  \n",
    "# from io import BytesIO\n",
    "# from zipfile import ZipFile\n",
    "# from urllib.request import urlopen\n",
    "\n",
    "# r = urlopen(\"http://files.grouplens.org/datasets/movielens/ml-latest-small.zip\")\n",
    "# zipfile = ZipFile(BytesIO(r.read()))\n",
    "\n",
    "# rating_data = pd.read_csv(zipfile.open('ml-latest-small/ratings.csv'))\n",
    "# movie_data = pd.read_csv(zipfile.open('ml-latest-small/movies.csv'))"
   ]
  },
  {
   "cell_type": "code",
   "execution_count": 3,
   "metadata": {},
   "outputs": [],
   "source": [
    "pth = os.getcwd()"
   ]
  },
  {
   "cell_type": "code",
   "execution_count": 4,
   "metadata": {},
   "outputs": [],
   "source": [
    "rating_data  = pd.read_csv(os.path.join(pth,'ratings.csv'))\n",
    "movie_data  = pd.read_csv(os.path.join(pth,'movies.csv'))"
   ]
  },
  {
   "cell_type": "code",
   "execution_count": 5,
   "metadata": {},
   "outputs": [
    {
     "data": {
      "text/html": [
       "<div>\n",
       "<style scoped>\n",
       "    .dataframe tbody tr th:only-of-type {\n",
       "        vertical-align: middle;\n",
       "    }\n",
       "\n",
       "    .dataframe tbody tr th {\n",
       "        vertical-align: top;\n",
       "    }\n",
       "\n",
       "    .dataframe thead th {\n",
       "        text-align: right;\n",
       "    }\n",
       "</style>\n",
       "<table border=\"1\" class=\"dataframe\">\n",
       "  <thead>\n",
       "    <tr style=\"text-align: right;\">\n",
       "      <th></th>\n",
       "      <th>userId</th>\n",
       "      <th>movieId</th>\n",
       "      <th>rating</th>\n",
       "      <th>timestamp</th>\n",
       "    </tr>\n",
       "  </thead>\n",
       "  <tbody>\n",
       "    <tr>\n",
       "      <th>0</th>\n",
       "      <td>1</td>\n",
       "      <td>1</td>\n",
       "      <td>4.0</td>\n",
       "      <td>964982703</td>\n",
       "    </tr>\n",
       "    <tr>\n",
       "      <th>1</th>\n",
       "      <td>1</td>\n",
       "      <td>3</td>\n",
       "      <td>4.0</td>\n",
       "      <td>964981247</td>\n",
       "    </tr>\n",
       "    <tr>\n",
       "      <th>2</th>\n",
       "      <td>1</td>\n",
       "      <td>6</td>\n",
       "      <td>4.0</td>\n",
       "      <td>964982224</td>\n",
       "    </tr>\n",
       "    <tr>\n",
       "      <th>3</th>\n",
       "      <td>1</td>\n",
       "      <td>47</td>\n",
       "      <td>5.0</td>\n",
       "      <td>964983815</td>\n",
       "    </tr>\n",
       "    <tr>\n",
       "      <th>4</th>\n",
       "      <td>1</td>\n",
       "      <td>50</td>\n",
       "      <td>5.0</td>\n",
       "      <td>964982931</td>\n",
       "    </tr>\n",
       "  </tbody>\n",
       "</table>\n",
       "</div>"
      ],
      "text/plain": [
       "   userId  movieId  rating  timestamp\n",
       "0       1        1     4.0  964982703\n",
       "1       1        3     4.0  964981247\n",
       "2       1        6     4.0  964982224\n",
       "3       1       47     5.0  964983815\n",
       "4       1       50     5.0  964982931"
      ]
     },
     "execution_count": 5,
     "metadata": {},
     "output_type": "execute_result"
    }
   ],
   "source": [
    "rating_data.head()"
   ]
  },
  {
   "cell_type": "code",
   "execution_count": 6,
   "metadata": {},
   "outputs": [
    {
     "data": {
      "text/html": [
       "<div>\n",
       "<style scoped>\n",
       "    .dataframe tbody tr th:only-of-type {\n",
       "        vertical-align: middle;\n",
       "    }\n",
       "\n",
       "    .dataframe tbody tr th {\n",
       "        vertical-align: top;\n",
       "    }\n",
       "\n",
       "    .dataframe thead th {\n",
       "        text-align: right;\n",
       "    }\n",
       "</style>\n",
       "<table border=\"1\" class=\"dataframe\">\n",
       "  <thead>\n",
       "    <tr style=\"text-align: right;\">\n",
       "      <th></th>\n",
       "      <th>movieId</th>\n",
       "      <th>title</th>\n",
       "      <th>genres</th>\n",
       "    </tr>\n",
       "  </thead>\n",
       "  <tbody>\n",
       "    <tr>\n",
       "      <th>0</th>\n",
       "      <td>1</td>\n",
       "      <td>Toy Story (1995)</td>\n",
       "      <td>Adventure|Animation|Children|Comedy|Fantasy</td>\n",
       "    </tr>\n",
       "    <tr>\n",
       "      <th>1</th>\n",
       "      <td>2</td>\n",
       "      <td>Jumanji (1995)</td>\n",
       "      <td>Adventure|Children|Fantasy</td>\n",
       "    </tr>\n",
       "    <tr>\n",
       "      <th>2</th>\n",
       "      <td>3</td>\n",
       "      <td>Grumpier Old Men (1995)</td>\n",
       "      <td>Comedy|Romance</td>\n",
       "    </tr>\n",
       "    <tr>\n",
       "      <th>3</th>\n",
       "      <td>4</td>\n",
       "      <td>Waiting to Exhale (1995)</td>\n",
       "      <td>Comedy|Drama|Romance</td>\n",
       "    </tr>\n",
       "    <tr>\n",
       "      <th>4</th>\n",
       "      <td>5</td>\n",
       "      <td>Father of the Bride Part II (1995)</td>\n",
       "      <td>Comedy</td>\n",
       "    </tr>\n",
       "  </tbody>\n",
       "</table>\n",
       "</div>"
      ],
      "text/plain": [
       "   movieId                               title  \\\n",
       "0        1                    Toy Story (1995)   \n",
       "1        2                      Jumanji (1995)   \n",
       "2        3             Grumpier Old Men (1995)   \n",
       "3        4            Waiting to Exhale (1995)   \n",
       "4        5  Father of the Bride Part II (1995)   \n",
       "\n",
       "                                        genres  \n",
       "0  Adventure|Animation|Children|Comedy|Fantasy  \n",
       "1                   Adventure|Children|Fantasy  \n",
       "2                               Comedy|Romance  \n",
       "3                         Comedy|Drama|Romance  \n",
       "4                                       Comedy  "
      ]
     },
     "execution_count": 6,
     "metadata": {},
     "output_type": "execute_result"
    }
   ],
   "source": [
    "movie_data.head()"
   ]
  },
  {
   "cell_type": "markdown",
   "metadata": {},
   "source": [
    "# 2. PreProcessing"
   ]
  },
  {
   "cell_type": "code",
   "execution_count": 7,
   "metadata": {},
   "outputs": [],
   "source": [
    "min_ratings = 2 \n",
    "min_ratings_count =  5 \n",
    "# Delete movie rated under 2 \n",
    "# Delete movie rated less than 5 times\n",
    "ratings_flrd_df = rating_data.groupby(\"movieId\").filter(lambda x: x['movieId'].count() >= min_ratings)\n",
    "ratings_flrd_df = ratings_flrd_df.groupby(\"userId\").filter(lambda x: x['userId'].count() >= min_ratings_count)"
   ]
  },
  {
   "cell_type": "code",
   "execution_count": 9,
   "metadata": {},
   "outputs": [
    {
     "data": {
      "text/plain": [
       "(97390, 4)"
      ]
     },
     "execution_count": 9,
     "metadata": {},
     "output_type": "execute_result"
    }
   ],
   "source": [
    "ratings_flrd_df.shape"
   ]
  },
  {
   "cell_type": "markdown",
   "metadata": {},
   "source": [
    "When upload your own rating dataset either from a file (e.g. csv), a seprate reader should be defined\n",
    "Reference is [here](https://surprise.readthedocs.io/en/stable/getting_started.html#use-a-custom-dataset)"
   ]
  },
  {
   "cell_type": "code",
   "execution_count": 11,
   "metadata": {},
   "outputs": [],
   "source": [
    "reader = Reader(rating_scale=(0.5, 5)) #line_format by default order of the fields\n",
    "\n",
    "# Surprise Dataset Load method\n",
    "data = Dataset.load_from_df(ratings_flrd_df[[\"userId\",\"movieId\",\"rating\"]], reader=reader)\n",
    "\n",
    "trainset = data.build_full_trainset()\n",
    "\n",
    "testset = trainset.build_anti_testset()"
   ]
  },
  {
   "cell_type": "code",
   "execution_count": 14,
   "metadata": {},
   "outputs": [
    {
     "data": {
      "text/plain": [
       "<surprise.trainset.Trainset at 0x1f18713ab88>"
      ]
     },
     "execution_count": 14,
     "metadata": {},
     "output_type": "execute_result"
    }
   ],
   "source": [
    "trainset"
   ]
  },
  {
   "cell_type": "markdown",
   "metadata": {},
   "source": [
    "Matrix Factorization\n",
    "\n",
    "Hopcroft and Kannan (2012), explains the whole concept of matrix factorization on customer data where m customers buy n products. The authors explain collaborative filtering in a comprehensive language. For demonstrative purposes, the author of this article demonstrates the concept on a specific case.\n",
    "\n",
    "Let matrix $R_{m*n}$ represent the ratings on movies assigned by each user, also called the utility matrix. Specifically, the value $r_{ij} = 5$ represents the rating of user i assigned to movie j. However, the individual's preference is determined by k factors. For example, the user's age, sex, income, education, etc. are likely to affect the user's behavior. Accordingly, the individual's rating of a movie ($r_{ij}$) is determined by some weighted combinations of the hidden factors. In practice, customer's behavior can be characterized by a k-dimensional vector with much lower dimensions than the original matrix $R$ with $m * n$ dimensions. The vector's components, also called the latent factors, represent the weight of each factor. For example, given a vector $v_2 = [0.2 , 0.8]$ it can be hypothesized that there are only two (unknown) latent factors with subsequent weights describing the rating (behavior).\n",
    "\n",
    "Matrix factorization is an effective CF technique because it benefits from the properties of linear algebra. Specifically, consider matrix $R$ as a record of various elements. As it is possible to decompose any integer into the product of its prime factor, matrix factorization also enables humans to explore information about matrices and their functional properties an array of elements (Goodfellow, Bengio, 2016)\n",
    "\n",
    "Singular Value Decomposition (SVD)\n",
    "\n",
    "SVD decomposes any matrix into singular vectors and singular values. If the reader has previous experience with machine learning, particularly with dimensionality reduction, they would find traditional use of SVD in Principal Component Analysis (PCA). Simply put, SVD is equivalent to PCA after mean centering, i.e. shifting all data points so that their mean is on the origin (Gillis, 2014).\n",
    "\n",
    "Formally, SVD is decomposition of a matrix R into the product of three matrices: $R_{m*n} = U_{m*m} D_{m*n} V_{n*n}^{t}$.\n",
    "\n",
    "Where $R_{m*n}$ denotes the utility matrix with n equal to the number of e.g. users and m number exposed items (movies). $U_{m*m}$ is a left singular orthogonal matrix, representing the relationship between users and latent factors (Hopcroft & Kannan, 2012). $D_{m*n}$ is a diagonal matrix (with positive real values) describing the strength of each latent factor. $V_{n*n}^{t}$ (transpose) is a right singular orthogonal matrix, indicating the similarity between items and latent factors.\n",
    "\n",
    "The general goal of SVD (and other matrix factorization methods) is to decompose the matrix R with all missing $r_{ij}$ and multiply its components $U_{m*m} D_{m*n} V_{n*n}^{t}$ once again. As a result, there are no missing values $r_{ij}$ and it is possible to recommend each user movies (items) they have not seen or purchased yet. To better understand linear algebra behind SVD, one can watch Gilbert Strang's lecture on SVD for MIT OpenCourseWare on YouTube channel or visit refer to NIT Singular Value Decomposition (SVD) tutorial."
   ]
  },
  {
   "cell_type": "markdown",
   "metadata": {},
   "source": [
    "Reference: \n",
    "(1) https://www.cs.cornell.edu/jeh/book.pdf\n",
    "(2) https://analyticsindiamag.com/singular-value-decomposition-svd-application-recommender-system/#:~:text=In%20the%20context%20of%20the,given%20to%20items%20by%20users."
   ]
  },
  {
   "cell_type": "markdown",
   "metadata": {},
   "source": [
    "### Surprise Library has a built-in SVD Computation "
   ]
  },
  {
   "cell_type": "markdown",
   "metadata": {},
   "source": [
    "##### The following function computes the Cross validated RMSE. And, the return contains 100 measures of min RMSE given 100 consecutive values of k in each test set, and by five folds in every iteration (from [surprise document](http://surpriselib.com/))"
   ]
  },
  {
   "cell_type": "code",
   "execution_count": 15,
   "metadata": {},
   "outputs": [],
   "source": [
    "# Just checking the effect of number of latent factors k on the model's performance.\n",
    "def rmse_vs_factors(algorithm, data):\n",
    "    \"\"\"Returns: rmse_algorithm i.e. a list of mean RMSE of CV = 5 in cross_validate() for each  factor k in range(1, 101, 1) 100 values \n",
    "    Arg:  i.) algorithm = Matrix factoization algorithm, e.g SVD/NMF/PMF, ii.)  data = surprise.dataset.DatasetAutoFolds\n",
    "    \"\"\"\n",
    "    rmse_algorithm = []\n",
    "    \n",
    "    for k in range(1, 101, 1):\n",
    "        algo = algorithm(n_factors = k)\n",
    "\n",
    "        #[\"test_rmse\"] is a numpy array with min accuracy value for each testset\n",
    "        loss_fce = cross_validate(algo, data, measures=['RMSE'], cv=5, verbose=False)[\"test_rmse\"].mean() \n",
    "        rmse_algorithm.append(loss_fce)\n",
    "  \n",
    "    return rmse_algorithm"
   ]
  },
  {
   "cell_type": "code",
   "execution_count": 16,
   "metadata": {},
   "outputs": [],
   "source": [
    "rmse_svd = rmse_vs_factors(SVD,data)"
   ]
  },
  {
   "cell_type": "code",
   "execution_count": 17,
   "metadata": {},
   "outputs": [
    {
     "data": {
      "text/plain": [
       "[0.8640701175512149,\n",
       " 0.8638769168745929,\n",
       " 0.8637510800022202,\n",
       " 0.8647810806707433,\n",
       " 0.8630269836485123,\n",
       " 0.8645231696291852,\n",
       " 0.8637202865052265,\n",
       " 0.8653130504980988,\n",
       " 0.8651309812188954,\n",
       " 0.8639277704232035,\n",
       " 0.8643845731386314,\n",
       " 0.8642636198723611,\n",
       " 0.8636404957627614,\n",
       " 0.8635472186317541,\n",
       " 0.8630540896887444,\n",
       " 0.8646289674927801,\n",
       " 0.8644148449973146,\n",
       " 0.8647752962643429,\n",
       " 0.863489924117179,\n",
       " 0.863763619597148,\n",
       " 0.8643895617697609,\n",
       " 0.8641200537928475,\n",
       " 0.8646901769902537,\n",
       " 0.8645757957332838,\n",
       " 0.8645621484022519,\n",
       " 0.8643118397484937,\n",
       " 0.8639517832384405,\n",
       " 0.8640837187371281,\n",
       " 0.8648788040001444,\n",
       " 0.8638063897068632,\n",
       " 0.8643820853322743,\n",
       " 0.8645563355224608,\n",
       " 0.8651725056535128,\n",
       " 0.8643567704716653,\n",
       " 0.8656419522972746,\n",
       " 0.8649302076143298,\n",
       " 0.8650170850424029,\n",
       " 0.8645597711881864,\n",
       " 0.8651011379056058,\n",
       " 0.8647809429792133,\n",
       " 0.8661189481648073,\n",
       " 0.8661791376317639,\n",
       " 0.8643815017493012,\n",
       " 0.8659318947507512,\n",
       " 0.8647480138846344,\n",
       " 0.8650681506913702,\n",
       " 0.8656506614550313,\n",
       " 0.8671811414913503,\n",
       " 0.8649275326436274,\n",
       " 0.8653892480907641,\n",
       " 0.8659947430690075,\n",
       " 0.8657821886109553,\n",
       " 0.8656940431350154,\n",
       " 0.8661001767642794,\n",
       " 0.8653297479176649,\n",
       " 0.866604727773154,\n",
       " 0.8665283804727393,\n",
       " 0.8665915831159445,\n",
       " 0.8659327377047557,\n",
       " 0.8665539602291151,\n",
       " 0.8666357195464511,\n",
       " 0.8673224716233283,\n",
       " 0.867036524441761,\n",
       " 0.8660014404420344,\n",
       " 0.866716657409898,\n",
       " 0.8659754499720138,\n",
       " 0.8674286308406585,\n",
       " 0.8675490242058274,\n",
       " 0.866633608542902,\n",
       " 0.8664741597754334,\n",
       " 0.8664317605017235,\n",
       " 0.8673299208700309,\n",
       " 0.8671319233322382,\n",
       " 0.8671429237325567,\n",
       " 0.8664256053126766,\n",
       " 0.8679146766340861,\n",
       " 0.8677858958340812,\n",
       " 0.867597655821787,\n",
       " 0.8686809637510067,\n",
       " 0.8679273780074167,\n",
       " 0.8664259739840302,\n",
       " 0.8679787189877921,\n",
       " 0.8665574263449825,\n",
       " 0.8676223830619524,\n",
       " 0.8681878149881633,\n",
       " 0.8682312682072592,\n",
       " 0.867325228557496,\n",
       " 0.8673038423874285,\n",
       " 0.8673592821589556,\n",
       " 0.8687979636935749,\n",
       " 0.8687294198724584,\n",
       " 0.8672159187083015,\n",
       " 0.8684596466846152,\n",
       " 0.8676192448622961,\n",
       " 0.866750291350608,\n",
       " 0.8694681891285112,\n",
       " 0.8679087028033148,\n",
       " 0.8692892067985749,\n",
       " 0.8683058318549207,\n",
       " 0.8681572516418437]"
      ]
     },
     "execution_count": 17,
     "metadata": {},
     "output_type": "execute_result"
    }
   ],
   "source": [
    "rmse_svd"
   ]
  },
  {
   "cell_type": "markdown",
   "metadata": {},
   "source": [
    "1. function plot_rmse() with two arguments where rmse is a list of float values and algorithm is an instantiated matrix factorization model. \n",
    "2. The function returns a plot with two line subplots that display performance vs. numbers of factors."
   ]
  },
  {
   "cell_type": "code",
   "execution_count": 18,
   "metadata": {},
   "outputs": [],
   "source": [
    "def plot_rmse(rmse, algorithm):\n",
    "    plt.figure(num=None, figsize=(11, 5), dpi=80, facecolor='w', edgecolor='k')\n",
    "        \n",
    "    plt.subplot(2,1,1)\n",
    "    plt.plot(rmse)\n",
    "    plt.xlim(0,100)\n",
    "    plt.title(\"{0} Performance: RMSE Against Number of Factors\".format(algorithm), size = 20 )\n",
    "    plt.ylabel(\"Mean RMSE (cv=5)\")\n",
    "\n",
    "    plt.subplot(2,1,2)\n",
    "    plt.plot(rmse)\n",
    "    plt.xlim(0,50)\n",
    "    plt.xticks(np.arange(0, 52, step=2))\n",
    "\n",
    "    plt.xlabel(\"{0}(n_factor = k)\".format(algorithm))\n",
    "    plt.ylabel(\"Mean RMSE (cv=5)\")\n",
    "    plt.axvline(np.argmin(rmse), color = \"r\")"
   ]
  },
  {
   "cell_type": "code",
   "execution_count": 19,
   "metadata": {},
   "outputs": [
    {
     "data": {
      "image/png": "[encoded data removed]",
      "text/plain": [
       "<Figure size 880x400 with 2 Axes>"
      ]
     },
     "metadata": {},
     "output_type": "display_data"
    }
   ],
   "source": [
    "plot_rmse(rmse_svd,\"SVD\")"
   ]
  },
  {
   "cell_type": "markdown",
   "metadata": {},
   "source": [
    "According to the figure, there is an increasing trend of worse performance with higher k. The lowest RMSE is achieved when $k=4$. However, it is worth mentioning that $k=14$ is also very close to the RMSE achieved with only 4 latent factors. Besides, the author argues that it is not probable that the user's taste (rating) is determined by such a low number of factors. On the other hand, the result suggests a range of values which can be used in GridSearchCV()for parameter tunning."
   ]
  },
  {
   "cell_type": "code",
   "execution_count": 20,
   "metadata": {},
   "outputs": [
    {
     "name": "stdout",
     "output_type": "stream",
     "text": [
      "0.8633595626314179\n",
      "{'n_factors': 18}\n"
     ]
    }
   ],
   "source": [
    "param_grid = {'n_factors': [4,6,9,11,14,18,29]}\n",
    "gs = GridSearchCV(SVD, param_grid, measures=['rmse'], cv=5)\n",
    "gs.fit(data)\n",
    "\n",
    "\n",
    "# best RMSE score\n",
    "print(gs.best_score['rmse'])\n",
    "\n",
    "# combination of parameters that gave the best RMSE score\n",
    "print(gs.best_params['rmse'])"
   ]
  },
  {
   "cell_type": "markdown",
   "metadata": {},
   "source": [
    "#### To make the model generalizable, i.e. avoid over and underfitting, the grid algorithm finds $n_factors = 18$ optimal."
   ]
  },
  {
   "cell_type": "markdown",
   "metadata": {},
   "source": [
    "#### Then, Training SVD Algorithm and Predictions\n",
    "#### To predict ratings, for each empty element $a_{ij}$ in the utility matrix, it is essential to specify: a.) the users and b.) particular movies that are not in the trainset. So, build_anti_testset() method of trainset accomplishes the goal"
   ]
  },
  {
   "cell_type": "code",
   "execution_count": 21,
   "metadata": {},
   "outputs": [
    {
     "data": {
      "text/plain": [
       "[Prediction(uid=1, iid=318, r_ui=3.5110432282575212, est=5, details={'was_impossible': False}),\n",
       " Prediction(uid=1, iid=1704, r_ui=3.5110432282575212, est=4.750784530374444, details={'was_impossible': False})]"
      ]
     },
     "execution_count": 21,
     "metadata": {},
     "output_type": "execute_result"
    }
   ],
   "source": [
    "algo_SVD = SVD(n_factors = 18)\n",
    "algo_SVD.fit(trainset)\n",
    "\n",
    "\n",
    "# Predict ratings for all pairs (i,j) that are NOT in the training set.\n",
    "testset = trainset.build_anti_testset()\n",
    "\n",
    "predictions = algo_SVD.test(testset)\n",
    "\n",
    "# subset of the list  predictions\n",
    "predictions[0:2]"
   ]
  },
  {
   "cell_type": "markdown",
   "metadata": {},
   "source": [
    "## Predictions"
   ]
  },
  {
   "cell_type": "code",
   "execution_count": 22,
   "metadata": {},
   "outputs": [],
   "source": [
    "def get_top_n(predictions, userId, movies_df, ratings_df, n = 10):\n",
    "    '''Return the top N (default) movieId for a user,.i.e. userID and history for comparisom\n",
    "    Args:\n",
    "    Returns: \n",
    "  \n",
    "    '''\n",
    "    #Peart I.: Surprise docomuntation\n",
    "    \n",
    "    #1. First map the predictions to each user.\n",
    "    top_n = defaultdict(list)\n",
    "    for uid, iid, true_r, est, _ in predictions:\n",
    "        top_n[uid].append((iid, est))\n",
    "\n",
    "    #2. Then sort the predictions for each user and retrieve the k highest ones.\n",
    "    for uid, user_ratings in top_n.items():\n",
    "        user_ratings.sort(key = lambda x: x[1], reverse = True)\n",
    "        top_n[uid] = user_ratings[: n ]\n",
    "    \n",
    "    #Part II.: inspired by: https://beckernick.github.io/matrix-factorization-recommender/\n",
    "    \n",
    "    #3. Tells how many movies the user has already rated\n",
    "    user_data = ratings_df[ratings_df.userId == (userId)]\n",
    "    print('User {0} has already rated {1} movies.'.format(userId, user_data.shape[0]))\n",
    "\n",
    "    \n",
    "    #4. Data Frame with predictions. \n",
    "    preds_df = pd.DataFrame([(id, pair[0],pair[1]) for id, row in top_n.items() for pair in row],\n",
    "                        columns=[\"userId\" ,\"movieId\",\"rat_pred\"])\n",
    "    \n",
    "    \n",
    "    #5. Return pred_usr, i.e. top N recommended movies with (merged) titles and genres. \n",
    "    pred_usr = preds_df[preds_df[\"userId\"] == (userId)].merge(movies_df, how = 'left', left_on = 'movieId', right_on = 'movieId')\n",
    "            \n",
    "    #6. Return hist_usr, i.e. top N historically rated movies with (merged) titles and genres for holistic evaluation\n",
    "    hist_usr = ratings_df[ratings_df.userId == (userId) ].sort_values(\"rating\", ascending = False).merge\\\n",
    "    (movies_df, how = 'left', left_on = 'movieId', right_on = 'movieId')\n",
    "    \n",
    "    \n",
    "    return hist_usr, pred_usr"
   ]
  },
  {
   "cell_type": "markdown",
   "metadata": {},
   "source": [
    "**SVD Recommendations\n",
    "\n",
    "Since the model was properly trained, it is already possible to suggest any userID n movies at this stage. Additionally, based on the acquired predictions and defined get_top_n() function it is reasonable to visually inspect the recommended movies and the user's highest rated movies in the past. For instance, let's assume the userId 124 wants to watch a movie at their earliest convenience but has no specific title in mind. On top of that, the movie database contains over 6,000 titles across multiple genres so the user would spend a lot of time researching for what movies are in line with respect to their specific preferences. The following code makes the user's choice much easier. After calling get_top_n() function, it is immediately obvious the user 124 has already rated 50 movies."
   ]
  },
  {
   "cell_type": "code",
   "execution_count": 24,
   "metadata": {},
   "outputs": [
    {
     "name": "stdout",
     "output_type": "stream",
     "text": [
      "User 124 has already rated 50 movies.\n"
     ]
    }
   ],
   "source": [
    "hist_SVD_124, pred_SVD_124 = get_top_n(predictions, movies_df = movie_data, userId = 124, ratings_df = rating_data)"
   ]
  },
  {
   "cell_type": "code",
   "execution_count": 25,
   "metadata": {},
   "outputs": [
    {
     "data": {
      "text/html": [
       "<div>\n",
       "<style scoped>\n",
       "    .dataframe tbody tr th:only-of-type {\n",
       "        vertical-align: middle;\n",
       "    }\n",
       "\n",
       "    .dataframe tbody tr th {\n",
       "        vertical-align: top;\n",
       "    }\n",
       "\n",
       "    .dataframe thead th {\n",
       "        text-align: right;\n",
       "    }\n",
       "</style>\n",
       "<table border=\"1\" class=\"dataframe\">\n",
       "  <thead>\n",
       "    <tr style=\"text-align: right;\">\n",
       "      <th></th>\n",
       "      <th>userId</th>\n",
       "      <th>movieId</th>\n",
       "      <th>rating</th>\n",
       "      <th>timestamp</th>\n",
       "      <th>title</th>\n",
       "      <th>genres</th>\n",
       "    </tr>\n",
       "  </thead>\n",
       "  <tbody>\n",
       "    <tr>\n",
       "      <th>0</th>\n",
       "      <td>124</td>\n",
       "      <td>1358</td>\n",
       "      <td>5.0</td>\n",
       "      <td>1336409590</td>\n",
       "      <td>Sling Blade (1996)</td>\n",
       "      <td>Drama</td>\n",
       "    </tr>\n",
       "    <tr>\n",
       "      <th>1</th>\n",
       "      <td>124</td>\n",
       "      <td>3949</td>\n",
       "      <td>5.0</td>\n",
       "      <td>1336413175</td>\n",
       "      <td>Requiem for a Dream (2000)</td>\n",
       "      <td>Drama</td>\n",
       "    </tr>\n",
       "    <tr>\n",
       "      <th>2</th>\n",
       "      <td>124</td>\n",
       "      <td>7361</td>\n",
       "      <td>5.0</td>\n",
       "      <td>1336413015</td>\n",
       "      <td>Eternal Sunshine of the Spotless Mind (2004)</td>\n",
       "      <td>Drama|Romance|Sci-Fi</td>\n",
       "    </tr>\n",
       "    <tr>\n",
       "      <th>3</th>\n",
       "      <td>124</td>\n",
       "      <td>6377</td>\n",
       "      <td>5.0</td>\n",
       "      <td>1336584435</td>\n",
       "      <td>Finding Nemo (2003)</td>\n",
       "      <td>Adventure|Animation|Children|Comedy</td>\n",
       "    </tr>\n",
       "    <tr>\n",
       "      <th>4</th>\n",
       "      <td>124</td>\n",
       "      <td>2858</td>\n",
       "      <td>5.0</td>\n",
       "      <td>1336584459</td>\n",
       "      <td>American Beauty (1999)</td>\n",
       "      <td>Drama|Romance</td>\n",
       "    </tr>\n",
       "    <tr>\n",
       "      <th>5</th>\n",
       "      <td>124</td>\n",
       "      <td>356</td>\n",
       "      <td>5.0</td>\n",
       "      <td>1336423402</td>\n",
       "      <td>Forrest Gump (1994)</td>\n",
       "      <td>Comedy|Drama|Romance|War</td>\n",
       "    </tr>\n",
       "    <tr>\n",
       "      <th>6</th>\n",
       "      <td>124</td>\n",
       "      <td>608</td>\n",
       "      <td>5.0</td>\n",
       "      <td>1336412883</td>\n",
       "      <td>Fargo (1996)</td>\n",
       "      <td>Comedy|Crime|Drama|Thriller</td>\n",
       "    </tr>\n",
       "    <tr>\n",
       "      <th>7</th>\n",
       "      <td>124</td>\n",
       "      <td>3252</td>\n",
       "      <td>4.5</td>\n",
       "      <td>1336409712</td>\n",
       "      <td>Scent of a Woman (1992)</td>\n",
       "      <td>Drama</td>\n",
       "    </tr>\n",
       "    <tr>\n",
       "      <th>8</th>\n",
       "      <td>124</td>\n",
       "      <td>1210</td>\n",
       "      <td>4.5</td>\n",
       "      <td>1336584462</td>\n",
       "      <td>Star Wars: Episode VI - Return of the Jedi (1983)</td>\n",
       "      <td>Action|Adventure|Sci-Fi</td>\n",
       "    </tr>\n",
       "    <tr>\n",
       "      <th>9</th>\n",
       "      <td>124</td>\n",
       "      <td>1196</td>\n",
       "      <td>4.5</td>\n",
       "      <td>1336584447</td>\n",
       "      <td>Star Wars: Episode V - The Empire Strikes Back...</td>\n",
       "      <td>Action|Adventure|Sci-Fi</td>\n",
       "    </tr>\n",
       "    <tr>\n",
       "      <th>10</th>\n",
       "      <td>124</td>\n",
       "      <td>3328</td>\n",
       "      <td>4.5</td>\n",
       "      <td>1336413358</td>\n",
       "      <td>Ghost Dog: The Way of the Samurai (1999)</td>\n",
       "      <td>Crime|Drama</td>\n",
       "    </tr>\n",
       "    <tr>\n",
       "      <th>11</th>\n",
       "      <td>124</td>\n",
       "      <td>1884</td>\n",
       "      <td>4.5</td>\n",
       "      <td>1336584611</td>\n",
       "      <td>Fear and Loathing in Las Vegas (1998)</td>\n",
       "      <td>Adventure|Comedy|Drama</td>\n",
       "    </tr>\n",
       "    <tr>\n",
       "      <th>12</th>\n",
       "      <td>124</td>\n",
       "      <td>4226</td>\n",
       "      <td>4.5</td>\n",
       "      <td>1336413304</td>\n",
       "      <td>Memento (2000)</td>\n",
       "      <td>Mystery|Thriller</td>\n",
       "    </tr>\n",
       "    <tr>\n",
       "      <th>13</th>\n",
       "      <td>124</td>\n",
       "      <td>3147</td>\n",
       "      <td>4.5</td>\n",
       "      <td>1336412867</td>\n",
       "      <td>Green Mile, The (1999)</td>\n",
       "      <td>Crime|Drama</td>\n",
       "    </tr>\n",
       "    <tr>\n",
       "      <th>14</th>\n",
       "      <td>124</td>\n",
       "      <td>5608</td>\n",
       "      <td>4.5</td>\n",
       "      <td>1336413269</td>\n",
       "      <td>Das Experiment (Experiment, The) (2001)</td>\n",
       "      <td>Drama|Thriller</td>\n",
       "    </tr>\n",
       "  </tbody>\n",
       "</table>\n",
       "</div>"
      ],
      "text/plain": [
       "    userId  movieId  rating   timestamp  \\\n",
       "0      124     1358     5.0  1336409590   \n",
       "1      124     3949     5.0  1336413175   \n",
       "2      124     7361     5.0  1336413015   \n",
       "3      124     6377     5.0  1336584435   \n",
       "4      124     2858     5.0  1336584459   \n",
       "5      124      356     5.0  1336423402   \n",
       "6      124      608     5.0  1336412883   \n",
       "7      124     3252     4.5  1336409712   \n",
       "8      124     1210     4.5  1336584462   \n",
       "9      124     1196     4.5  1336584447   \n",
       "10     124     3328     4.5  1336413358   \n",
       "11     124     1884     4.5  1336584611   \n",
       "12     124     4226     4.5  1336413304   \n",
       "13     124     3147     4.5  1336412867   \n",
       "14     124     5608     4.5  1336413269   \n",
       "\n",
       "                                                title  \\\n",
       "0                                  Sling Blade (1996)   \n",
       "1                          Requiem for a Dream (2000)   \n",
       "2        Eternal Sunshine of the Spotless Mind (2004)   \n",
       "3                                 Finding Nemo (2003)   \n",
       "4                              American Beauty (1999)   \n",
       "5                                 Forrest Gump (1994)   \n",
       "6                                        Fargo (1996)   \n",
       "7                             Scent of a Woman (1992)   \n",
       "8   Star Wars: Episode VI - Return of the Jedi (1983)   \n",
       "9   Star Wars: Episode V - The Empire Strikes Back...   \n",
       "10           Ghost Dog: The Way of the Samurai (1999)   \n",
       "11              Fear and Loathing in Las Vegas (1998)   \n",
       "12                                     Memento (2000)   \n",
       "13                             Green Mile, The (1999)   \n",
       "14            Das Experiment (Experiment, The) (2001)   \n",
       "\n",
       "                                 genres  \n",
       "0                                 Drama  \n",
       "1                                 Drama  \n",
       "2                  Drama|Romance|Sci-Fi  \n",
       "3   Adventure|Animation|Children|Comedy  \n",
       "4                         Drama|Romance  \n",
       "5              Comedy|Drama|Romance|War  \n",
       "6           Comedy|Crime|Drama|Thriller  \n",
       "7                                 Drama  \n",
       "8               Action|Adventure|Sci-Fi  \n",
       "9               Action|Adventure|Sci-Fi  \n",
       "10                          Crime|Drama  \n",
       "11               Adventure|Comedy|Drama  \n",
       "12                     Mystery|Thriller  \n",
       "13                          Crime|Drama  \n",
       "14                       Drama|Thriller  "
      ]
     },
     "execution_count": 25,
     "metadata": {},
     "output_type": "execute_result"
    }
   ],
   "source": [
    "# To see the user's history, let's examine their top 15 highest rated movies\n",
    "hist_SVD_124.head(15)"
   ]
  },
  {
   "cell_type": "code",
   "execution_count": 26,
   "metadata": {},
   "outputs": [
    {
     "data": {
      "text/html": [
       "<div>\n",
       "<style scoped>\n",
       "    .dataframe tbody tr th:only-of-type {\n",
       "        vertical-align: middle;\n",
       "    }\n",
       "\n",
       "    .dataframe tbody tr th {\n",
       "        vertical-align: top;\n",
       "    }\n",
       "\n",
       "    .dataframe thead th {\n",
       "        text-align: right;\n",
       "    }\n",
       "</style>\n",
       "<table border=\"1\" class=\"dataframe\">\n",
       "  <thead>\n",
       "    <tr style=\"text-align: right;\">\n",
       "      <th></th>\n",
       "      <th>userId</th>\n",
       "      <th>movieId</th>\n",
       "      <th>rat_pred</th>\n",
       "      <th>title</th>\n",
       "      <th>genres</th>\n",
       "    </tr>\n",
       "  </thead>\n",
       "  <tbody>\n",
       "    <tr>\n",
       "      <th>0</th>\n",
       "      <td>124</td>\n",
       "      <td>750</td>\n",
       "      <td>4.600220</td>\n",
       "      <td>Dr. Strangelove or: How I Learned to Stop Worr...</td>\n",
       "      <td>Comedy|War</td>\n",
       "    </tr>\n",
       "    <tr>\n",
       "      <th>1</th>\n",
       "      <td>124</td>\n",
       "      <td>1204</td>\n",
       "      <td>4.577019</td>\n",
       "      <td>Lawrence of Arabia (1962)</td>\n",
       "      <td>Adventure|Drama|War</td>\n",
       "    </tr>\n",
       "    <tr>\n",
       "      <th>2</th>\n",
       "      <td>124</td>\n",
       "      <td>904</td>\n",
       "      <td>4.561244</td>\n",
       "      <td>Rear Window (1954)</td>\n",
       "      <td>Mystery|Thriller</td>\n",
       "    </tr>\n",
       "    <tr>\n",
       "      <th>3</th>\n",
       "      <td>124</td>\n",
       "      <td>2959</td>\n",
       "      <td>4.529422</td>\n",
       "      <td>Fight Club (1999)</td>\n",
       "      <td>Action|Crime|Drama|Thriller</td>\n",
       "    </tr>\n",
       "    <tr>\n",
       "      <th>4</th>\n",
       "      <td>124</td>\n",
       "      <td>1104</td>\n",
       "      <td>4.519563</td>\n",
       "      <td>Streetcar Named Desire, A (1951)</td>\n",
       "      <td>Drama</td>\n",
       "    </tr>\n",
       "    <tr>\n",
       "      <th>5</th>\n",
       "      <td>124</td>\n",
       "      <td>912</td>\n",
       "      <td>4.513226</td>\n",
       "      <td>Casablanca (1942)</td>\n",
       "      <td>Drama|Romance</td>\n",
       "    </tr>\n",
       "    <tr>\n",
       "      <th>6</th>\n",
       "      <td>124</td>\n",
       "      <td>2571</td>\n",
       "      <td>4.501588</td>\n",
       "      <td>Matrix, The (1999)</td>\n",
       "      <td>Action|Sci-Fi|Thriller</td>\n",
       "    </tr>\n",
       "    <tr>\n",
       "      <th>7</th>\n",
       "      <td>124</td>\n",
       "      <td>4973</td>\n",
       "      <td>4.494541</td>\n",
       "      <td>Amelie (Fabuleux destin d'Amélie Poulain, Le) ...</td>\n",
       "      <td>Comedy|Romance</td>\n",
       "    </tr>\n",
       "    <tr>\n",
       "      <th>8</th>\n",
       "      <td>124</td>\n",
       "      <td>2324</td>\n",
       "      <td>4.493342</td>\n",
       "      <td>Life Is Beautiful (La Vita è bella) (1997)</td>\n",
       "      <td>Comedy|Drama|Romance|War</td>\n",
       "    </tr>\n",
       "    <tr>\n",
       "      <th>9</th>\n",
       "      <td>124</td>\n",
       "      <td>898</td>\n",
       "      <td>4.493223</td>\n",
       "      <td>Philadelphia Story, The (1940)</td>\n",
       "      <td>Comedy|Drama|Romance</td>\n",
       "    </tr>\n",
       "  </tbody>\n",
       "</table>\n",
       "</div>"
      ],
      "text/plain": [
       "   userId  movieId  rat_pred  \\\n",
       "0     124      750  4.600220   \n",
       "1     124     1204  4.577019   \n",
       "2     124      904  4.561244   \n",
       "3     124     2959  4.529422   \n",
       "4     124     1104  4.519563   \n",
       "5     124      912  4.513226   \n",
       "6     124     2571  4.501588   \n",
       "7     124     4973  4.494541   \n",
       "8     124     2324  4.493342   \n",
       "9     124      898  4.493223   \n",
       "\n",
       "                                               title  \\\n",
       "0  Dr. Strangelove or: How I Learned to Stop Worr...   \n",
       "1                          Lawrence of Arabia (1962)   \n",
       "2                                 Rear Window (1954)   \n",
       "3                                  Fight Club (1999)   \n",
       "4                   Streetcar Named Desire, A (1951)   \n",
       "5                                  Casablanca (1942)   \n",
       "6                                 Matrix, The (1999)   \n",
       "7  Amelie (Fabuleux destin d'Amélie Poulain, Le) ...   \n",
       "8         Life Is Beautiful (La Vita è bella) (1997)   \n",
       "9                     Philadelphia Story, The (1940)   \n",
       "\n",
       "                        genres  \n",
       "0                   Comedy|War  \n",
       "1          Adventure|Drama|War  \n",
       "2             Mystery|Thriller  \n",
       "3  Action|Crime|Drama|Thriller  \n",
       "4                        Drama  \n",
       "5                Drama|Romance  \n",
       "6       Action|Sci-Fi|Thriller  \n",
       "7               Comedy|Romance  \n",
       "8     Comedy|Drama|Romance|War  \n",
       "9         Comedy|Drama|Romance  "
      ]
     },
     "execution_count": 26,
     "metadata": {},
     "output_type": "execute_result"
    }
   ],
   "source": [
    "# Prediction\n",
    "pred_SVD_124"
   ]
  },
  {
   "cell_type": "markdown",
   "metadata": {},
   "source": [
    "#### TODO: Try another algorithm (other than SVD) to see if there are any characteristics that you could find in prediction"
   ]
  },
  {
   "cell_type": "markdown",
   "metadata": {},
   "source": [
    "#### Refernece: \n",
    "##### (1) https://towardsdatascience.com/creating-a-hybrid-content-collaborative-movie-recommender-using-deep-learning-cc8b431618af\n",
    "##### (2) Sarwar, Badrul & Badrul, & Karypis, George & Cybenko, George & Konstan, & Joseph, & Reidl, & Tsibouklis, John. (2001). Item-based collaborative filtering recommendation algorithmus."
   ]
  },
  {
   "cell_type": "code",
   "execution_count": null,
   "metadata": {},
   "outputs": [],
   "source": []
  }
 ],
 "metadata": {
  "kernelspec": {
   "display_name": "Python 3",
   "language": "python",
   "name": "python3"
  },
  "language_info": {
   "codemirror_mode": {
    "name": "ipython",
    "version": 3
   },
   "file_extension": ".py",
   "mimetype": "text/x-python",
   "name": "python",
   "nbconvert_exporter": "python",
   "pygments_lexer": "ipython3",
   "version": "3.7.6"
  }
 },
 "nbformat": 4,
 "nbformat_minor": 4
}
