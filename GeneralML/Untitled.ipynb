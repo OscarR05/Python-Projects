{
 "cells": [
  {
   "cell_type": "code",
   "execution_count": null,
   "metadata": {},
   "outputs": [],
   "source": [
    "values = [1,2,3,4]"
   ]
  },
  {
   "cell_type": "code",
   "execution_count": 2,
   "metadata": {},
   "outputs": [
    {
     "name": "stdout",
     "output_type": "stream",
     "text": [
      "0 1\n",
      "1 2\n",
      "2 3\n",
      "3 4\n"
     ]
    }
   ],
   "source": [
    "index = 0\n",
    "\n",
    "for value in values:\n",
    "    print(index, value)\n",
    "    index += 1"
   ]
  },
  {
   "cell_type": "code",
   "execution_count": 4,
   "metadata": {},
   "outputs": [
    {
     "data": {
      "text/plain": [
       "range(0, 4)"
      ]
     },
     "execution_count": 4,
     "metadata": {},
     "output_type": "execute_result"
    }
   ],
   "source": [
    "range(len(values))"
   ]
  },
  {
   "cell_type": "code",
   "execution_count": 7,
   "metadata": {},
   "outputs": [
    {
     "name": "stdout",
     "output_type": "stream",
     "text": [
      "0 1\n",
      "1 2\n",
      "2 3\n",
      "3 4\n"
     ]
    }
   ],
   "source": [
    "values = [1,2,3,4]\n",
    "for index in range(len(values)):\n",
    "    value = values[index]\n",
    "    print(index,value)"
   ]
  },
  {
   "cell_type": "code",
   "execution_count": 23,
   "metadata": {},
   "outputs": [
    {
     "name": "stdout",
     "output_type": "stream",
     "text": [
      "(0, 1)\n",
      "1\n",
      "(1, 2)\n",
      "2\n",
      "(2, 3)\n",
      "3\n",
      "(3, 4)\n",
      "4\n"
     ]
    }
   ],
   "source": [
    "values = [1,2,3,4]\n",
    "\n",
    "for value in enumerate(values):\n",
    "    print(value)\n",
    "    print(value[1])"
   ]
  },
  {
   "cell_type": "code",
   "execution_count": null,
   "metadata": {},
   "outputs": [],
   "source": []
  },
  {
   "cell_type": "code",
   "execution_count": 14,
   "metadata": {},
   "outputs": [
    {
     "name": "stdout",
     "output_type": "stream",
     "text": [
      "Extra verbose output for: Test User\n",
      "Test User\n",
      "Real User 1\n",
      "Real User 2\n"
     ]
    }
   ],
   "source": [
    "users = [\"Test User\", \"Real User 1\", \"Real User 2\"]\n",
    "for index, user in enumerate(users):\n",
    "    if index == 0:\n",
    "        print(\"Extra verbose output for:\", user)\n",
    "    print(user)"
   ]
  },
  {
   "cell_type": "code",
   "execution_count": 19,
   "metadata": {},
   "outputs": [
    {
     "name": "stdout",
     "output_type": "stream",
     "text": [
      "Test User\n",
      "not now\n",
      "Real User 1\n",
      "Real User 2\n"
     ]
    }
   ],
   "source": [
    "for index, user in enumerate(users):\n",
    "    if index == 1:\n",
    "        print('not now')\n",
    "    print(user)    "
   ]
  }
 ],
 "metadata": {
  "kernelspec": {
   "display_name": "Python 3",
   "language": "python",
   "name": "python3"
  },
  "language_info": {
   "codemirror_mode": {
    "name": "ipython",
    "version": 3
   },
   "file_extension": ".py",
   "mimetype": "text/x-python",
   "name": "python",
   "nbconvert_exporter": "python",
   "pygments_lexer": "ipython3",
   "version": "3.8.5"
  }
 },
 "nbformat": 4,
 "nbformat_minor": 4
}
