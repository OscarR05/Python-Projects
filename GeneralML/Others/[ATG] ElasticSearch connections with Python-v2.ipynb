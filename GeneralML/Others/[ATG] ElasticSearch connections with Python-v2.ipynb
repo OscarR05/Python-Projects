{
 "cells": [
  {
   "cell_type": "markdown",
   "metadata": {},
   "source": [
    "### How to know index names in ElasticSearch ?\n",
    "\n",
    "https://kibana.atgameshosting.com/\n",
    "\n",
    "Management -> Elasticsearch -> Index Managemen"
   ]
  },
  {
   "cell_type": "code",
   "execution_count": 1,
   "metadata": {
    "collapsed": false,
    "jupyter": {
     "outputs_hidden": false
    }
   },
   "outputs": [],
   "source": [
    "import pandas as pd\n",
    "import matplotlib.pyplot as plt\n",
    "from datetime import datetime\n",
    "import os\n",
    "import pprint\n",
    "from elasticsearch import Elasticsearch"
   ]
  },
  {
   "cell_type": "code",
   "execution_count": 2,
   "metadata": {
    "collapsed": false,
    "jupyter": {
     "outputs_hidden": false
    }
   },
   "outputs": [],
   "source": [
    "%matplotlib inline\n",
    "plt.style.use('ggplot')\n",
    "plt.rcParams['figure.figsize'] = (14, 8)"
   ]
  },
  {
   "cell_type": "markdown",
   "metadata": {},
   "source": [
    "# create a .env in your preferred directory\n",
    "# sample content of the .env file:\n",
    "ELASTICSEARCH_HOST=38.64.85.1<br/>\n",
    "ELASTICSEARCH_PORT=9200<br/>\n",
    "ELASTICSEARCH_ACCOUNT=david.chou<br/>\n",
    "ELASTICSEARCH_PASSWORD=IWONTTELLYOU"
   ]
  },
  {
   "cell_type": "code",
   "execution_count": 49,
   "metadata": {
    "collapsed": false,
    "jupyter": {
     "outputs_hidden": false
    }
   },
   "outputs": [
    {
     "name": "stdout",
     "output_type": "stream",
     "text": [
      "The dotenv extension is already loaded. To reload it, use:\n",
      "  %reload_ext dotenv\n"
     ]
    }
   ],
   "source": [
    "%load_ext dotenv\n",
    "%dotenv /Users/dchou/.env"
   ]
  },
  {
   "cell_type": "code",
   "execution_count": 50,
   "metadata": {
    "collapsed": false,
    "jupyter": {
     "outputs_hidden": false
    }
   },
   "outputs": [],
   "source": [
    "HOST = os.getenv(\"ELASTICSEARCH_HOST\")\n",
    "PORT = os.getenv(\"ELASTICSEARCH_PORT\")\n",
    "ACCOUNT = os.getenv(\"ELASTICSEARCH_ACCOUNT\")\n",
    "PASSWORD = os.getenv(\"ELASTICSEARCH_PASSWORD\")"
   ]
  },
  {
   "cell_type": "code",
   "execution_count": 51,
   "metadata": {
    "collapsed": false,
    "jupyter": {
     "outputs_hidden": false
    }
   },
   "outputs": [
    {
     "data": {
      "text/plain": [
       "'david.chou'"
      ]
     },
     "execution_count": 51,
     "metadata": {},
     "output_type": "execute_result"
    }
   ],
   "source": [
    "ACCOUNT"
   ]
  },
  {
   "cell_type": "code",
   "execution_count": 52,
   "metadata": {
    "collapsed": false,
    "jupyter": {
     "outputs_hidden": false
    }
   },
   "outputs": [],
   "source": [
    "es = Elasticsearch(\n",
    "    [\n",
    "        'https://' + ACCOUNT + ':' + PASSWORD + '@' + HOST + ':' + PORT + '/'\n",
    "    ],\n",
    "    ssl_show_warn=False,\n",
    "    verify_certs=True,\n",
    "    # provide a path to CA certs on disk\n",
    "    ca_certs='/Users/dchou/elastic-certificates-ca.pem'\n",
    ")"
   ]
  },
  {
   "cell_type": "code",
   "execution_count": 53,
   "metadata": {
    "collapsed": false,
    "jupyter": {
     "outputs_hidden": false
    }
   },
   "outputs": [],
   "source": [
    "##es = Elasticsearch(hosts=[ELASTICSEARCH_IP]) # ELASTICSEARCH_IP is the ip of your Elasticsearch Server.\n",
    "#index_name=\"filebeat-acnet-dev-*\"\n",
    "#index_name=\"filebeat-acnet-live-0.0.1-7.4.0-2019.12.15\"\n",
    "##query_str = '{\"query\":{\"range\":{\"event_data.UtcTime\":{\"gte\":\"2019-01-01\", \"lte\":\"2020-02-27\"}}}}'\n",
    "#query_str = \"\"\"{\n",
    "#  \"query\": {\n",
    "#    \"match_phrase\": {\n",
    "#      \"log_type.keyword\": \"game-play\"\n",
    "#    }\n",
    "#  }\n",
    "#}\n",
    "#\"\"\"\n",
    "#res = es.search(index=index_name, body=query_str, from_=0, size=10000) # DON'T SET SIZE=100000\n",
    "#pprint.pprint(res['hits']['hits'])"
   ]
  },
  {
   "cell_type": "markdown",
   "metadata": {},
   "source": [
    "<br>\n",
    "#### Use Kibana UI to start\n",
    "  * https://kibana.atgameshosting.com/app/kibana#/discover/c6915f80-5dd3-11ea-a466-05347817d7f6?_g=(filters:!(),refreshInterval:(pause:!t,value:0),time:(from:now-15d,to:now))&_a=(columns:!(log_at,log.timestamp,account.email,machine_uuid),filters:!(('$state':(store:appState),meta:(alias:!n,disabled:!f,index:c5f2dcd0-f17b-11e9-981f-e5daf0165e10,key:account.email,negate:!f,params:(query:'atgames.qa%2Bbent@gmail.com'),type:phrase),query:(match_phrase:(account.email:'atgames.qa%2Bbent@gmail.com'))),('$state':(store:appState),meta:(alias:!n,disabled:!f,index:c5f2dcd0-f17b-11e9-981f-e5daf0165e10,key:machine_uuid,negate:!f,params:(query:'88001911B0019068'),type:phrase),query:(match_phrase:(machine_uuid:'88001911B0019068')))),index:c5f2dcd0-f17b-11e9-981f-e5daf0165e10,interval:auto,query:(language:kuery,query:''),savedQuery:'Bent%20Chiropractics%20Clinic',sort:!(!('@timestamp',desc)))\n",
    "  \n",
    "<figure> \n",
    "<figcaption>**Kibana output**</figcaption>\n",
    "<img src=\"./images/kibana_output.png\"\n",
    "     alt=\"kibana_output\"\n",
    "     style=\"float: left\"/>   \n",
    "</figure>\n",
    "<br><br>\n",
    "\n",
    "<p>notice the timezone information</p>"
   ]
  },
  {
   "cell_type": "markdown",
   "metadata": {},
   "source": [
    "#### Get KQL from Kibana\n",
    "- KQL: Kibana Query Language\n",
    "- Inspect → Requests\n",
    "\n",
    "<figure> \n",
    "<figcaption>**Get KQL from Kibana**</figcaption>\n",
    "<img src=\"./images/get_KQL_from_kibana.png\"\n",
    "     alt=\"kibana_output\"\n",
    "     style=\"float: left\"/>   \n",
    "</figure>\n",
    "<br><br>"
   ]
  },
  {
   "cell_type": "markdown",
   "metadata": {},
   "source": [
    "### History for reference:\n",
    "\n",
    "#### filter string for clinic machine:\n",
    "      \"filter\": [\n",
    "        {\n",
    "          \"match_all\": {}\n",
    "        },\n",
    "        {\n",
    "          \"match_phrase\": {\n",
    "            \"account.email\": \"atgames.qa+bent@gmail.com\"\n",
    "          }\n",
    "        },\n",
    "        {\n",
    "          \"match_phrase\": {\n",
    "            \"machine_uuid\": \"88001911B0019068\"\n",
    "          }\n",
    "        },\n",
    "        {\n",
    "          \"range\": {\n",
    "            \"@timestamp\": {\n",
    "              \"gte\": \"2020-02-23T07:00:28.729Z\",\n",
    "              \"lte\": \"2020-03-31T07:00:28.729Z\",\n",
    "              \"format\": \"strict_date_optional_time\"\n",
    "            }\n",
    "          }\n",
    "        }\n",
    "      ],\n",
    "      \n",
    "#### filter for 2@1.1\n",
    "      \"filter\": [\n",
    "        {\n",
    "          \"match_all\": {}\n",
    "        },\n",
    "        {\n",
    "          \"match_phrase\": {\n",
    "            \"account.email\": \"2@1.1\"\n",
    "          }\n",
    "        },\n",
    "        {\n",
    "          \"match_phrase\": {\n",
    "            \"machine_uuid\": \"88001908A0489298\"\n",
    "          }\n",
    "        },\n",
    "        {\n",
    "          \"range\": {\n",
    "            \"@timestamp\": {\n",
    "              \"gte\": \"2020-02-23T07:00:28.729Z\",\n",
    "              \"lte\": \"2020-03-31T07:00:28.729Z\",\n",
    "              \"format\": \"strict_date_optional_time\"\n",
    "            }\n",
    "          }\n",
    "        }\n",
    "      ],\n",
    "      \n",
    "#### filter for atgames.qa+139@gmail.com\n",
    "      \"filter\": [\n",
    "        {\n",
    "          \"match_all\": {}\n",
    "        },\n",
    "        {\n",
    "          \"match_phrase\": {\n",
    "            \"account.email\": \"atgames.qa+139@gmail.com\"\n",
    "          }\n",
    "        },\n",
    "        {\n",
    "          \"match_phrase\": {\n",
    "            \"machine_uuid\": \"88009901Q0000158\"\n",
    "          }\n",
    "        },\n",
    "        {\n",
    "          \"range\": {\n",
    "            \"@timestamp\": {\n",
    "              \"gte\": \"2020-02-23T07:00:28.729Z\",\n",
    "              \"lte\": \"2020-03-31T07:00:28.729Z\",\n",
    "              \"format\": \"strict_date_optional_time\"\n",
    "            }\n",
    "          }\n",
    "        }\n",
    "      ],\n",
    "      \n",
    "#### filter for HA880QATW00001F0\n",
    "      \"filter\": [\n",
    "        {\n",
    "          \"match_all\": {}\n",
    "        },\n",
    "        {\n",
    "          \"match_phrase\": {\n",
    "            \"account.email\": \"1@1.1\"\n",
    "          }\n",
    "        },\n",
    "        {\n",
    "          \"match_phrase\": {\n",
    "            \"machine_uuid\": \"HA880QATW00001F0\"\n",
    "          }\n",
    "        },\n",
    "        {\n",
    "          \"range\": {\n",
    "            \"@timestamp\": {\n",
    "              \"gte\": \"2020-02-23T07:00:28.729Z\",\n",
    "              \"lte\": \"2020-03-31T07:00:28.729Z\",\n",
    "              \"format\": \"strict_date_optional_time\"\n",
    "            }\n",
    "          }\n",
    "        }\n",
    "      ],\n",
    "\n"
   ]
  },
  {
   "cell_type": "markdown",
   "metadata": {},
   "source": [
    "### Bent Chiropractics Clinic\n",
    "\n",
    "- account.email: atgames.qa+bent@gmail.com\n",
    "- machine_uuid:  88001911B0019068"
   ]
  },
  {
   "cell_type": "code",
   "execution_count": 349,
   "metadata": {
    "collapsed": false,
    "jupyter": {
     "outputs_hidden": false
    }
   },
   "outputs": [
    {
     "name": "stderr",
     "output_type": "stream",
     "text": [
      "/Users/dchou/anaconda/envs/Analytics/lib/python3.8/site-packages/urllib3/connection.py:377: SubjectAltNameWarning: Certificate for instance has no `subjectAltName`, falling back to check for a `commonName` for now. This feature is being removed by major browsers and deprecated by RFC 2818. (See https://github.com/urllib3/urllib3/issues/497 for details.)\n",
      "  warnings.warn(\n"
     ]
    }
   ],
   "source": [
    "index_name=\"filebeat-acnet-live-*\"\n",
    "#index_name=\"filebeat-acnet-live-0.0.1-7.4.0-2020.03.03\"\n",
    "query_str = \"\"\"\n",
    "{\n",
    "  \"version\": true,\n",
    "  \"size\": 500,\n",
    "  \"sort\": [\n",
    "    {\n",
    "      \"@timestamp\": {\n",
    "        \"order\": \"desc\",\n",
    "        \"unmapped_type\": \"boolean\"\n",
    "      }\n",
    "    }\n",
    "  ],\n",
    "  \"aggs\": {\n",
    "    \"2\": {\n",
    "      \"date_histogram\": {\n",
    "        \"field\": \"@timestamp\",\n",
    "        \"fixed_interval\": \"12h\",\n",
    "        \"time_zone\": \"America/Los_Angeles\",\n",
    "        \"min_doc_count\": 1\n",
    "      }\n",
    "    }\n",
    "  },\n",
    "  \"stored_fields\": [\n",
    "    \"*\"\n",
    "  ],\n",
    "  \"script_fields\": {},\n",
    "  \"docvalue_fields\": [\n",
    "    {\n",
    "      \"field\": \"@timestamp\",\n",
    "      \"format\": \"date_time\"\n",
    "    },\n",
    "    {\n",
    "      \"field\": \"account.created_date\",\n",
    "      \"format\": \"date_time\"\n",
    "    },\n",
    "    {\n",
    "      \"field\": \"account.current_sign_in_at\",\n",
    "      \"format\": \"date_time\"\n",
    "    },\n",
    "    {\n",
    "      \"field\": \"activity.binding_info.binding_info.binding_at\",\n",
    "      \"format\": \"date_time\"\n",
    "    },\n",
    "    {\n",
    "      \"field\": \"activity.binding_info.binding_info.created_at\",\n",
    "      \"format\": \"date_time\"\n",
    "    },\n",
    "    {\n",
    "      \"field\": \"activity.binding_info.binding_info.updated_at\",\n",
    "      \"format\": \"date_time\"\n",
    "    },\n",
    "    {\n",
    "      \"field\": \"activity.play_end\",\n",
    "      \"format\": \"date_time\"\n",
    "    },\n",
    "    {\n",
    "      \"field\": \"activity.play_start\",\n",
    "      \"format\": \"date_time\"\n",
    "    },\n",
    "    {\n",
    "      \"field\": \"activity.updated_at.after\",\n",
    "      \"format\": \"date_time\"\n",
    "    },\n",
    "    {\n",
    "      \"field\": \"activity.updated_at.before\",\n",
    "      \"format\": \"date_time\"\n",
    "    },\n",
    "    {\n",
    "      \"field\": \"d2d_account.created_date\",\n",
    "      \"format\": \"date_time\"\n",
    "    },\n",
    "    {\n",
    "      \"field\": \"d2d_account.current_sign_in_at\",\n",
    "      \"format\": \"date_time\"\n",
    "    },\n",
    "    {\n",
    "      \"field\": \"log.timestamp\",\n",
    "      \"format\": \"date_time\"\n",
    "    },\n",
    "    {\n",
    "      \"field\": \"log_at\",\n",
    "      \"format\": \"date_time\"\n",
    "    }\n",
    "  ],\n",
    "  \"_source\": {\n",
    "    \"excludes\": []\n",
    "  },\n",
    "  \"query\": {\n",
    "    \"bool\": {\n",
    "      \"must\": [],\n",
    "      \"filter\": [\n",
    "        {\n",
    "          \"match_all\": {}\n",
    "        },\n",
    "        {\n",
    "          \"match_phrase\": {\n",
    "            \"account.email\": \"1@1.1\"\n",
    "          }\n",
    "        },\n",
    "        {\n",
    "          \"match_phrase\": {\n",
    "            \"machine_uuid\": \"HA880QATW00001F0\"\n",
    "          }\n",
    "        },\n",
    "        {\n",
    "          \"range\": {\n",
    "            \"@timestamp\": {\n",
    "              \"gte\": \"2020-02-23T07:00:28.729Z\",\n",
    "              \"lte\": \"2020-03-31T07:00:28.729Z\",\n",
    "              \"format\": \"strict_date_optional_time\"\n",
    "            }\n",
    "          }\n",
    "        }\n",
    "      ],\n",
    "      \"should\": [],\n",
    "      \"must_not\": []\n",
    "    }\n",
    "  },\n",
    "  \"highlight\": {\n",
    "    \"pre_tags\": [\n",
    "      \"@kibana-highlighted-field@\"\n",
    "    ],\n",
    "    \"post_tags\": [\n",
    "      \"@/kibana-highlighted-field@\"\n",
    "    ],\n",
    "    \"fields\": {\n",
    "      \"*\": {}\n",
    "    },\n",
    "    \"fragment_size\": 2147483647\n",
    "  }\n",
    "}\n",
    "\"\"\"\n",
    "\n",
    "res = es.search(index=index_name, body=query_str, from_=0, size=10000) # DON'T SET SIZE=100000\n",
    "hits = res['hits']['hits']\n",
    "#print(res['hits']['hits'])"
   ]
  },
  {
   "cell_type": "code",
   "execution_count": 350,
   "metadata": {
    "collapsed": false,
    "jupyter": {
     "outputs_hidden": false
    }
   },
   "outputs": [
    {
     "name": "stdout",
     "output_type": "stream",
     "text": [
      "type(hits):  <class 'list'>\n",
      "len(hits):  185\n"
     ]
    }
   ],
   "source": [
    "print('type(hits): ', type(hits))\n",
    "print('len(hits): ', len(hits))"
   ]
  },
  {
   "cell_type": "code",
   "execution_count": 351,
   "metadata": {
    "collapsed": false,
    "jupyter": {
     "outputs_hidden": false
    }
   },
   "outputs": [
    {
     "data": {
      "text/plain": [
       "dict"
      ]
     },
     "execution_count": 351,
     "metadata": {},
     "output_type": "execute_result"
    }
   ],
   "source": [
    "type(hits[0])"
   ]
  },
  {
   "cell_type": "code",
   "execution_count": 352,
   "metadata": {
    "collapsed": false,
    "jupyter": {
     "outputs_hidden": false
    }
   },
   "outputs": [
    {
     "name": "stdout",
     "output_type": "stream",
     "text": [
      "0 2020-03-06T09:28:26.000+00:00 2020-03-06T09:31:03.513396 Game 11\n",
      "n=  0\n"
     ]
    }
   ],
   "source": [
    "# find the first 'game-play' record:\n",
    "n = 0\n",
    "for hit in hits:\n",
    "    print(n, hit['_source']['log_at'], hit['_source']['log']['timestamp'], hit['_source']['log_type'], len(hit['_source']['activity']))\n",
    "    #if hit['_source']['log_type'] == 'game_play' and len(hit['_source']['activity']) == 11:\n",
    "    log_type = hit['_source']['log_type']\n",
    "    if log_type == 'Game' or log_type == 'game-play': # and len(hit['_source']['activity']) == 11:\n",
    "        break\n",
    "    elif log_type == 'User':\n",
    "        #print(hit['_source']['log_event'])\n",
    "        pass\n",
    "    elif log_type == 'MachineUuid':\n",
    "        pass\n",
    "    n = n + 1\n",
    "    \n",
    "if n >= len(hits):\n",
    "    print('\\n        ############\\nNo \"Game\" record found !!!\\n        ############')\n",
    "    \n",
    "print('n= ', n)"
   ]
  },
  {
   "cell_type": "code",
   "execution_count": 353,
   "metadata": {
    "collapsed": false,
    "jupyter": {
     "outputs_hidden": false
    }
   },
   "outputs": [
    {
     "data": {
      "text/plain": [
       "{'_index': 'filebeat-acnet-live-0.0.1-7.4.0-2020.03.06',\n",
       " '_type': '_doc',\n",
       " '_id': 'j24vr3ABaf2Ya91vG45t',\n",
       " '_version': 1,\n",
       " '_score': None,\n",
       " '_source': {'agent': {'hostname': 'd2d-web01',\n",
       "   'id': '0b58399d-5c65-4562-a480-91e77efd6fa4',\n",
       "   'ephemeral_id': '9c283c4d-d073-464b-892b-d6f100fdabfa',\n",
       "   'type': 'filebeat',\n",
       "   'version': '7.4.0'},\n",
       "  'account_uuid': '37cea104-cc49-459f-84ce-548bb6d1a54e',\n",
       "  'activity': {'1p_buttons': 64,\n",
       "   'play_end': '2020-03-06T04:28:26-05:00',\n",
       "   'play_duration': 30,\n",
       "   '2p_spinner': 0,\n",
       "   '2p_joystick': 0,\n",
       "   '2p_buttons': 0,\n",
       "   'game_title': 'Secret Agent / Sly Spy',\n",
       "   'play_start': '2020-03-06T04:27:56-05:00',\n",
       "   '1p_spinner': 0,\n",
       "   '1p_joystick': 9,\n",
       "   'game_id': '379'},\n",
       "  'log': {'file': {'path': '/opt/www/acnet/backend/current/log/production.log'},\n",
       "   'offset': 46730513,\n",
       "   'level': ' INFO',\n",
       "   'timestamp': '2020-03-06T09:31:03.513396'},\n",
       "  'log_type': 'Game',\n",
       "  'remote_ip': '210.59.164.138',\n",
       "  'ecs': {'version': '1.1.0'},\n",
       "  'log_ip': '192.168.200.167',\n",
       "  'host': {'name': 'd2d-web01'},\n",
       "  'log_at': '2020-03-06T09:28:26.000+00:00',\n",
       "  'log_event': 'play',\n",
       "  'machine_type': 'Ultimate Legend',\n",
       "  'machine_uuid': 'HA880QATW00001F0',\n",
       "  'geoip': {'continent_name': 'Asia',\n",
       "   'region_iso_code': 'TW-TPE',\n",
       "   'city_name': 'Taipei',\n",
       "   'country_iso_code': 'TW',\n",
       "   'region_name': 'Taipei City',\n",
       "   'location': {'lon': 121.5318, 'lat': 25.0478}},\n",
       "  'message': 'I, [2020-03-06T09:31:03.513396 #16670]  INFO -- [ELK]: {\"environment\":\"production\",\"remote_ip\":\"210.59.164.138\",\"d2d-env\":\"acnet-live\",\"log_at\":\"2020-03-06T09:28:26.000+00:00\",\"log_ip\":\"192.168.200.167\",\"log_type\":\"Game\",\"log_event\":\"play\",\"machine_type\":\"Ultimate Legend\",\"machine_uuid\":\"HA880QATW00001F0\",\"account_uuid\":\"37cea104-cc49-459f-84ce-548bb6d1a54e\",\"activity\":{\"1p_buttons\":64,\"1p_joystick\":9,\"1p_spinner\":0,\"2p_buttons\":0,\"2p_joystick\":0,\"2p_spinner\":0,\"game_id\":\"379\",\"game_title\":\"Secret Agent / Sly Spy\",\"play_duration\":30,\"play_end\":\"2020-03-06T04:28:26-05:00\",\"play_start\":\"2020-03-06T04:27:56-05:00\"},\"account\":{\"account_id\":73,\"email\":\"1@1.1\",\"created_date\":\"2019-10-25T13:27:34.000Z\",\"current_sign_in_at\":\"2020-03-06T09:31:01.000Z\",\"current_sign_in_ip\":\"34.215.128.158\",\"uuid\":\"37cea104-cc49-459f-84ce-548bb6d1a54e\"}}',\n",
       "  'd2d-env': 'acnet-live',\n",
       "  'tags': ['ArcadeNet-Live'],\n",
       "  'input': {'type': 'log'},\n",
       "  'environment': 'production',\n",
       "  '@timestamp': '2020-03-06T09:31:03.981Z',\n",
       "  'account': {'account_id': 73,\n",
       "   'created_date': '2019-10-25T13:27:34.000Z',\n",
       "   'current_sign_in_ip': '34.215.128.158',\n",
       "   'uuid': '37cea104-cc49-459f-84ce-548bb6d1a54e',\n",
       "   'email': '1@1.1',\n",
       "   'current_sign_in_at': '2020-03-06T09:31:01.000Z'}},\n",
       " 'fields': {'activity.play_end': ['2020-03-06T09:28:26.000Z'],\n",
       "  'log.timestamp': ['2020-03-06T09:31:03.513Z'],\n",
       "  '@timestamp': ['2020-03-06T09:31:03.981Z'],\n",
       "  'account.created_date': ['2019-10-25T13:27:34.000Z'],\n",
       "  'account.current_sign_in_at': ['2020-03-06T09:31:01.000Z'],\n",
       "  'log_at': ['2020-03-06T09:28:26.000Z'],\n",
       "  'activity.play_start': ['2020-03-06T09:27:56.000Z']},\n",
       " 'highlight': {'machine_uuid': ['@kibana-highlighted-field@HA880QATW00001F0@/kibana-highlighted-field@'],\n",
       "  'account.email': ['@kibana-highlighted-field@1@/kibana-highlighted-field@@@kibana-highlighted-field@1.1@/kibana-highlighted-field@']},\n",
       " 'sort': [1583487063981]}"
      ]
     },
     "execution_count": 353,
     "metadata": {},
     "output_type": "execute_result"
    }
   ],
   "source": [
    "hits[0]"
   ]
  },
  {
   "cell_type": "code",
   "execution_count": 354,
   "metadata": {
    "collapsed": false,
    "jupyter": {
     "outputs_hidden": false
    }
   },
   "outputs": [
    {
     "name": "stdout",
     "output_type": "stream",
     "text": [
      "game_title:  Secret Agent / Sly Spy\n",
      "play_start:  2020-03-06T04:27:56-05:00 2020-03-06 04:27:56-05:00\n",
      "play_end:    2020-03-06T04:28:26-05:00 2020-03-06 04:28:26-05:00\n",
      "log_at:      2020-03-06T09:28:26.000+00:00 2020-03-06 09:28:26+00:00\n",
      "timestamp:   2020-03-06T09:31:03.513396 2020-03-06 09:31:03.513396\n",
      "@timestamp:  2020-03-06T09:31:03.981Z 2020-03-06 09:31:03.981000+00:00\n"
     ]
    }
   ],
   "source": [
    "# Use https://jsonlint.com/ to see the formatted json structure\n",
    "\n",
    "print('game_title: ', hits[n]['_source']['activity']['game_title'])\n",
    "print('play_start: ', hits[n]['_source']['activity']['play_start'], pd.to_datetime(hits[n]['_source']['activity']['play_start']))\n",
    "print('play_end:   ', hits[n]['_source']['activity']['play_end'], pd.to_datetime(hits[n]['_source']['activity']['play_end']))\n",
    "print('log_at:     ', hits[n]['_source']['log_at'], pd.to_datetime(hits[n]['_source']['log_at']))\n",
    "print('timestamp:  ', hits[n]['_source']['log']['timestamp'], pd.to_datetime(hits[n]['_source']['log']['timestamp']))\n",
    "print('@timestamp: ', hits[n]['_source']['@timestamp'], pd.to_datetime(hits[n]['_source']['@timestamp']))\n",
    "# >>> '2020-03-03T02:10:40.033+00:00'\n",
    "\n",
    "####\n",
    "#print(type(hits[n]['_source']['log']['timestamp']))\n",
    "#>>> <class 'str'>\n",
    "# print(type(pd.to_datetime(hits[n]['_source']['log']['timestamp'])))\n",
    "#>>> <class 'pandas._libs.tslibs.timestamps.Timestamp'>"
   ]
  },
  {
   "cell_type": "markdown",
   "metadata": {},
   "source": [
    "1. **log_at**: timestamp on ALU \n",
    "2. **log.timestamp**: timestamp on ArcadeNet server \n",
    "3. **Time**: timestamp on Elasticsearch"
   ]
  },
  {
   "cell_type": "code",
   "execution_count": 355,
   "metadata": {
    "collapsed": true,
    "jupyter": {
     "outputs_hidden": true
    }
   },
   "outputs": [],
   "source": [
    "# select preferred time zone to present timestamps\n",
    "# Pleae select the time zone carefully, this will be effective for all the time values to be presented.\n",
    "TIMEZONE = 'America/New_York'\n",
    "TIMEZONE = 'America/Los_Angeles'\n",
    "TIMEZONE = 'Asia/Taipei'\n",
    "TIMEZONE = 'utc'"
   ]
  },
  {
   "cell_type": "code",
   "execution_count": 356,
   "metadata": {
    "collapsed": false,
    "jupyter": {
     "outputs_hidden": false
    }
   },
   "outputs": [
    {
     "name": "stdout",
     "output_type": "stream",
     "text": [
      "game_title:  Secret Agent / Sly Spy\n",
      "play_start:  2020-03-06 09:27:56+00:00\n",
      "play_end:    2020-03-06 09:28:26+00:00\n",
      "log_at:      2020-03-06 09:28:26+00:00\n",
      "timestamp:   2020-03-06 09:31:03.513396+00:00\n",
      "@timestamp:  2020-03-06 09:31:03.981000+00:00\n"
     ]
    }
   ],
   "source": [
    "#pd.to_datetime(hits[n]['_source']['log']['timestamp']).astimezone(pytz.utc)\n",
    "#WRONG print('timestamp:  ', pd.to_datetime(hits[n]['_source']['log']['timestamp']).replace(tzinfo=pytz.utc))\n",
    "#WRONG print('play_start: ', pd.to_datetime(hits[n]['_source']['activity']['play_start']).replace(tzinfo=pytz.utc))\n",
    "\n",
    "print('game_title: ', hits[n]['_source']['activity']['game_title'])\n",
    "#ERROR print(pd.to_datetime(hits[n]['_source']['activity']['play_start']).tz_localize('utc'))\n",
    "#ERROR TypeError: Cannot localize tz-aware Timestamp, use tz_convert for conversions\n",
    "print('play_start: ', pd.to_datetime(hits[n]['_source']['activity']['play_start']).tz_convert(TIMEZONE))\n",
    "print('play_end:   ', pd.to_datetime(hits[n]['_source']['activity']['play_end']).tz_convert(TIMEZONE))\n",
    "\n",
    "#ERROR print(pd.to_datetime(hits[n]['_source']['log']['timestamp']).tz_convert('utc'))\n",
    "#ERROR TypeError: Cannot convert tz-naive Timestamp, use tz_localize to localize\n",
    "print('log_at:     ', pd.to_datetime(hits[n]['_source']['log_at']).tz_convert(TIMEZONE))\n",
    "print('timestamp:  ', pd.to_datetime(hits[n]['_source']['log']['timestamp']).tz_localize(TIMEZONE))\n",
    "print('@timestamp: ', pd.to_datetime(hits[n]['_source']['@timestamp']).tz_convert(TIMEZONE))\n",
    "\n",
    "# TIMEZONE = 'utc'\n",
    "#game_title:  Centipede® (Arcade)\n",
    "#play_start:  2020-03-03 01:42:48.385000+00:00\n",
    "#play_end:    2020-03-03 02:10:40.032000+00:00\n",
    "#log_at:      2020-03-03 02:10:40.033000+00:00\n",
    "#timestamp:   2020-03-03 16:11:18.333140+00:00\n",
    "#@timestamp:  2020-03-03 16:11:19.030000+00:00               "
   ]
  },
  {
   "cell_type": "code",
   "execution_count": 388,
   "metadata": {
    "collapsed": false,
    "jupyter": {
     "outputs_hidden": false
    }
   },
   "outputs": [],
   "source": [
    "# TODO TODO TODO TODO\n",
    "# spinner game list ?"
   ]
  },
  {
   "cell_type": "code",
   "execution_count": 358,
   "metadata": {
    "collapsed": false,
    "jupyter": {
     "outputs_hidden": false
    }
   },
   "outputs": [],
   "source": [
    "#type(pd.to_datetime(hits[n]['_source']['log']['timestamp']).tz_localize('utc'))\n",
    "#>>> pandas._libs.tslibs.timestamps.Timestamp\n",
    "\n",
    "#type(pd.to_datetime(hits[n]['_source']['activity']['play_start']).tz_convert('utc'))\n",
    "#>>> pandas._libs.tslibs.timestamps.Timestamp"
   ]
  },
  {
   "cell_type": "code",
   "execution_count": 359,
   "metadata": {
    "collapsed": false,
    "jupyter": {
     "outputs_hidden": false
    }
   },
   "outputs": [],
   "source": [
    "#[len(x['_source']['activity']) for x in hits]"
   ]
  },
  {
   "cell_type": "code",
   "execution_count": 366,
   "metadata": {
    "collapsed": false,
    "jupyter": {
     "outputs_hidden": false
    }
   },
   "outputs": [],
   "source": [
    "list_game_play = []\n",
    "for hit in hits:\n",
    "    #print(len(hit['_source']['activity']))\n",
    "    activity = hit['_source']['activity']\n",
    "    #print('====')\n",
    "    \n",
    "    # 'log_type' == 'game-play'\n",
    "    # if ('game_title' in activity):\n",
    "    log_type = hit['_source']['log_type']\n",
    "    if log_type == 'Game': # or log_type == 'game-play':\n",
    "        try:\n",
    "            if len(hit['_source']['activity']) == 11:\n",
    "                #print(activity['game_title'], activity['play_start'], activity['play_end'])\n",
    "                #print(activity['1p_buttons'], activity['1p_joystick'], activity['1p_spinner'])\n",
    "                play_start     = pd.to_datetime(activity['play_start']).tz_convert(TIMEZONE)\n",
    "                play_end       = pd.to_datetime(activity['play_end']).tz_convert(TIMEZONE)\n",
    "                log_at         = pd.to_datetime(hit['_source']['log_at']).tz_convert(TIMEZONE)\n",
    "                log_at_acnet   = pd.to_datetime(hit['_source']['log']['timestamp']).tz_localize(TIMEZONE)\n",
    "                log_at_elastic = pd.to_datetime(hit['_source']['@timestamp']).tz_convert(TIMEZONE)\n",
    "                list_game_play.append((activity['game_title'], play_start, play_end, log_at, log_at_acnet, log_at_elastic, activity['play_duration'], activity['1p_buttons'], activity['1p_joystick'], activity['1p_spinner'], activity['2p_buttons'], activity['2p_joystick'], activity['2p_spinner']))\n",
    "    \n",
    "        except Exception as e:\n",
    "            print(e)\n",
    "            print(activity)"
   ]
  },
  {
   "cell_type": "code",
   "execution_count": 367,
   "metadata": {
    "collapsed": false,
    "jupyter": {
     "outputs_hidden": false
    }
   },
   "outputs": [
    {
     "data": {
      "text/plain": [
       "[('Secret Agent / Sly Spy',\n",
       "  Timestamp('2020-03-06 09:27:56+0000', tz='UTC'),\n",
       "  Timestamp('2020-03-06 09:28:26+0000', tz='UTC'),\n",
       "  Timestamp('2020-03-06 09:28:26+0000', tz='UTC'),\n",
       "  Timestamp('2020-03-06 09:31:03.513396+0000', tz='UTC'),\n",
       "  Timestamp('2020-03-06 09:31:03.981000+0000', tz='UTC'),\n",
       "  30,\n",
       "  64,\n",
       "  9,\n",
       "  0,\n",
       "  0,\n",
       "  0,\n",
       "  0),\n",
       " ('Side Pocket (Genesis)',\n",
       "  Timestamp('2020-03-06 09:28:41+0000', tz='UTC'),\n",
       "  Timestamp('2020-03-06 09:28:53+0000', tz='UTC'),\n",
       "  Timestamp('2020-03-06 09:28:53+0000', tz='UTC'),\n",
       "  Timestamp('2020-03-06 09:31:03.524053+0000', tz='UTC'),\n",
       "  Timestamp('2020-03-06 09:31:03.981000+0000', tz='UTC'),\n",
       "  12,\n",
       "  7,\n",
       "  0,\n",
       "  0,\n",
       "  0,\n",
       "  0,\n",
       "  0)]"
      ]
     },
     "execution_count": 367,
     "metadata": {},
     "output_type": "execute_result"
    }
   ],
   "source": [
    "list_game_play[0:2]"
   ]
  },
  {
   "cell_type": "code",
   "execution_count": 368,
   "metadata": {
    "collapsed": false,
    "jupyter": {
     "outputs_hidden": false
    }
   },
   "outputs": [],
   "source": [
    "#test_df = pd.DataFrame([(x.group(), x.start(), x.end()) for x in matches],      #OK\n",
    "#                       columns=['item','start','end'])                          #OK\n",
    "df = pd.DataFrame(data=list_game_play, columns=['game_title','play_start','play_end','log_at','log_at_acnet','log_at_elastic','play_duration','1p_buttons','1p_joystick','1p_spinner','2p_buttons','2p_joystick','2p_spinner'])"
   ]
  },
  {
   "cell_type": "code",
   "execution_count": 369,
   "metadata": {
    "collapsed": false,
    "jupyter": {
     "outputs_hidden": false
    }
   },
   "outputs": [],
   "source": [
    "# add data for testing purpose\n",
    "#df = df.append({'game_title':'Top Racer 2','play_start':'2020-03-02T18:00:18.114+08:00','play_end':'2020-03-02T18:20:38.114+08:00'}, ignore_index = True)"
   ]
  },
  {
   "cell_type": "code",
   "execution_count": 370,
   "metadata": {
    "collapsed": false,
    "jupyter": {
     "outputs_hidden": false
    }
   },
   "outputs": [
    {
     "data": {
      "text/html": [
       "<div>\n",
       "<style scoped>\n",
       "    .dataframe tbody tr th:only-of-type {\n",
       "        vertical-align: middle;\n",
       "    }\n",
       "\n",
       "    .dataframe tbody tr th {\n",
       "        vertical-align: top;\n",
       "    }\n",
       "\n",
       "    .dataframe thead th {\n",
       "        text-align: right;\n",
       "    }\n",
       "</style>\n",
       "<table border=\"1\" class=\"dataframe\">\n",
       "  <thead>\n",
       "    <tr style=\"text-align: right;\">\n",
       "      <th></th>\n",
       "      <th>game_title</th>\n",
       "      <th>play_start</th>\n",
       "      <th>play_end</th>\n",
       "      <th>log_at</th>\n",
       "      <th>log_acnet</th>\n",
       "      <th>log_elastic</th>\n",
       "      <th>play_duration</th>\n",
       "      <th>1p_buttons</th>\n",
       "      <th>1p_joystick</th>\n",
       "      <th>1p_spinner</th>\n",
       "      <th>2p_buttons</th>\n",
       "      <th>2p_joystick</th>\n",
       "      <th>2p_spinner</th>\n",
       "    </tr>\n",
       "  </thead>\n",
       "  <tbody>\n",
       "    <tr>\n",
       "      <th>0</th>\n",
       "      <td>Secret Agent / Sly Spy</td>\n",
       "      <td>2020-03-06 09:27:56+00:00</td>\n",
       "      <td>2020-03-06 09:28:26+00:00</td>\n",
       "      <td>2020-03-06 09:28:26+00:00</td>\n",
       "      <td>2020-03-06 09:31:03.513396+00:00</td>\n",
       "      <td>2020-03-06 09:31:03.981000+00:00</td>\n",
       "      <td>30</td>\n",
       "      <td>64</td>\n",
       "      <td>9</td>\n",
       "      <td>0</td>\n",
       "      <td>0</td>\n",
       "      <td>0</td>\n",
       "      <td>0</td>\n",
       "    </tr>\n",
       "    <tr>\n",
       "      <th>1</th>\n",
       "      <td>Side Pocket (Genesis)</td>\n",
       "      <td>2020-03-06 09:28:41+00:00</td>\n",
       "      <td>2020-03-06 09:28:53+00:00</td>\n",
       "      <td>2020-03-06 09:28:53+00:00</td>\n",
       "      <td>2020-03-06 09:31:03.524053+00:00</td>\n",
       "      <td>2020-03-06 09:31:03.981000+00:00</td>\n",
       "      <td>12</td>\n",
       "      <td>7</td>\n",
       "      <td>0</td>\n",
       "      <td>0</td>\n",
       "      <td>0</td>\n",
       "      <td>0</td>\n",
       "      <td>0</td>\n",
       "    </tr>\n",
       "    <tr>\n",
       "      <th>2</th>\n",
       "      <td>Side Pocket (Genesis)</td>\n",
       "      <td>2020-03-06 09:28:58+00:00</td>\n",
       "      <td>2020-03-06 09:29:42+00:00</td>\n",
       "      <td>2020-03-06 09:29:42+00:00</td>\n",
       "      <td>2020-03-06 09:31:03.534306+00:00</td>\n",
       "      <td>2020-03-06 09:31:03.981000+00:00</td>\n",
       "      <td>44</td>\n",
       "      <td>15</td>\n",
       "      <td>0</td>\n",
       "      <td>0</td>\n",
       "      <td>0</td>\n",
       "      <td>0</td>\n",
       "      <td>0</td>\n",
       "    </tr>\n",
       "    <tr>\n",
       "      <th>3</th>\n",
       "      <td>Side Pocket (Genesis)</td>\n",
       "      <td>2020-03-06 09:29:46+00:00</td>\n",
       "      <td>2020-03-06 09:30:03+00:00</td>\n",
       "      <td>2020-03-06 09:30:03+00:00</td>\n",
       "      <td>2020-03-06 09:31:03.541187+00:00</td>\n",
       "      <td>2020-03-06 09:31:03.981000+00:00</td>\n",
       "      <td>17</td>\n",
       "      <td>10</td>\n",
       "      <td>0</td>\n",
       "      <td>0</td>\n",
       "      <td>0</td>\n",
       "      <td>0</td>\n",
       "      <td>0</td>\n",
       "    </tr>\n",
       "    <tr>\n",
       "      <th>4</th>\n",
       "      <td>Captain Silver</td>\n",
       "      <td>2020-03-06 09:17:51+00:00</td>\n",
       "      <td>2020-03-06 09:18:20+00:00</td>\n",
       "      <td>2020-03-06 09:18:20+00:00</td>\n",
       "      <td>2020-03-06 09:31:03.460813+00:00</td>\n",
       "      <td>2020-03-06 09:31:03.980000+00:00</td>\n",
       "      <td>29</td>\n",
       "      <td>3</td>\n",
       "      <td>7</td>\n",
       "      <td>0</td>\n",
       "      <td>0</td>\n",
       "      <td>0</td>\n",
       "      <td>0</td>\n",
       "    </tr>\n",
       "  </tbody>\n",
       "</table>\n",
       "</div>"
      ],
      "text/plain": [
       "               game_title                play_start                  play_end  \\\n",
       "0  Secret Agent / Sly Spy 2020-03-06 09:27:56+00:00 2020-03-06 09:28:26+00:00   \n",
       "1   Side Pocket (Genesis) 2020-03-06 09:28:41+00:00 2020-03-06 09:28:53+00:00   \n",
       "2   Side Pocket (Genesis) 2020-03-06 09:28:58+00:00 2020-03-06 09:29:42+00:00   \n",
       "3   Side Pocket (Genesis) 2020-03-06 09:29:46+00:00 2020-03-06 09:30:03+00:00   \n",
       "4          Captain Silver 2020-03-06 09:17:51+00:00 2020-03-06 09:18:20+00:00   \n",
       "\n",
       "                     log_at                        log_acnet  \\\n",
       "0 2020-03-06 09:28:26+00:00 2020-03-06 09:31:03.513396+00:00   \n",
       "1 2020-03-06 09:28:53+00:00 2020-03-06 09:31:03.524053+00:00   \n",
       "2 2020-03-06 09:29:42+00:00 2020-03-06 09:31:03.534306+00:00   \n",
       "3 2020-03-06 09:30:03+00:00 2020-03-06 09:31:03.541187+00:00   \n",
       "4 2020-03-06 09:18:20+00:00 2020-03-06 09:31:03.460813+00:00   \n",
       "\n",
       "                       log_elastic  play_duration  1p_buttons  1p_joystick  \\\n",
       "0 2020-03-06 09:31:03.981000+00:00             30          64            9   \n",
       "1 2020-03-06 09:31:03.981000+00:00             12           7            0   \n",
       "2 2020-03-06 09:31:03.981000+00:00             44          15            0   \n",
       "3 2020-03-06 09:31:03.981000+00:00             17          10            0   \n",
       "4 2020-03-06 09:31:03.980000+00:00             29           3            7   \n",
       "\n",
       "   1p_spinner  2p_buttons  2p_joystick  2p_spinner  \n",
       "0           0           0            0           0  \n",
       "1           0           0            0           0  \n",
       "2           0           0            0           0  \n",
       "3           0           0            0           0  \n",
       "4           0           0            0           0  "
      ]
     },
     "execution_count": 370,
     "metadata": {},
     "output_type": "execute_result"
    }
   ],
   "source": [
    "df.head()"
   ]
  },
  {
   "cell_type": "markdown",
   "metadata": {},
   "source": [
    "### How long does it take from ALU to ArcadeNet server ?"
   ]
  },
  {
   "cell_type": "code",
   "execution_count": 371,
   "metadata": {
    "collapsed": false,
    "jupyter": {
     "outputs_hidden": false
    }
   },
   "outputs": [
    {
     "data": {
      "text/html": [
       "<div>\n",
       "<style scoped>\n",
       "    .dataframe tbody tr th:only-of-type {\n",
       "        vertical-align: middle;\n",
       "    }\n",
       "\n",
       "    .dataframe tbody tr th {\n",
       "        vertical-align: top;\n",
       "    }\n",
       "\n",
       "    .dataframe thead th {\n",
       "        text-align: right;\n",
       "    }\n",
       "</style>\n",
       "<table border=\"1\" class=\"dataframe\">\n",
       "  <thead>\n",
       "    <tr style=\"text-align: right;\">\n",
       "      <th></th>\n",
       "      <th>game_title</th>\n",
       "      <th>elapsed_acnet</th>\n",
       "      <th>elapsed_elastic</th>\n",
       "    </tr>\n",
       "  </thead>\n",
       "  <tbody>\n",
       "    <tr>\n",
       "      <th>0</th>\n",
       "      <td>Side Pocket (Genesis)</td>\n",
       "      <td>00:01:00.541187</td>\n",
       "      <td>00:01:00.981000</td>\n",
       "    </tr>\n",
       "    <tr>\n",
       "      <th>1</th>\n",
       "      <td>Side Pocket (Genesis)</td>\n",
       "      <td>00:01:21.534306</td>\n",
       "      <td>00:01:21.981000</td>\n",
       "    </tr>\n",
       "    <tr>\n",
       "      <th>2</th>\n",
       "      <td>Side Pocket (Genesis)</td>\n",
       "      <td>00:02:10.524053</td>\n",
       "      <td>00:02:10.981000</td>\n",
       "    </tr>\n",
       "    <tr>\n",
       "      <th>3</th>\n",
       "      <td>Secret Agent / Sly Spy</td>\n",
       "      <td>00:02:37.513396</td>\n",
       "      <td>00:02:37.981000</td>\n",
       "    </tr>\n",
       "    <tr>\n",
       "      <th>4</th>\n",
       "      <td>Judge Dredd 95</td>\n",
       "      <td>00:03:28.504193</td>\n",
       "      <td>00:03:28.980000</td>\n",
       "    </tr>\n",
       "    <tr>\n",
       "      <th>5</th>\n",
       "      <td>Judge Dredd 95</td>\n",
       "      <td>00:03:43.494744</td>\n",
       "      <td>00:03:43.980000</td>\n",
       "    </tr>\n",
       "    <tr>\n",
       "      <th>6</th>\n",
       "      <td>Judge Dredd 95</td>\n",
       "      <td>00:04:10.486945</td>\n",
       "      <td>00:04:10.980000</td>\n",
       "    </tr>\n",
       "    <tr>\n",
       "      <th>7</th>\n",
       "      <td>Judge Dredd 95</td>\n",
       "      <td>00:04:42.478871</td>\n",
       "      <td>00:04:42.980000</td>\n",
       "    </tr>\n",
       "    <tr>\n",
       "      <th>8</th>\n",
       "      <td>Judge Dredd 95</td>\n",
       "      <td>00:05:28.471077</td>\n",
       "      <td>00:05:28.980000</td>\n",
       "    </tr>\n",
       "    <tr>\n",
       "      <th>9</th>\n",
       "      <td>Captain Silver</td>\n",
       "      <td>00:12:43.460813</td>\n",
       "      <td>00:12:43.980000</td>\n",
       "    </tr>\n",
       "  </tbody>\n",
       "</table>\n",
       "</div>"
      ],
      "text/plain": [
       "               game_title   elapsed_acnet elapsed_elastic\n",
       "0   Side Pocket (Genesis) 00:01:00.541187 00:01:00.981000\n",
       "1   Side Pocket (Genesis) 00:01:21.534306 00:01:21.981000\n",
       "2   Side Pocket (Genesis) 00:02:10.524053 00:02:10.981000\n",
       "3  Secret Agent / Sly Spy 00:02:37.513396 00:02:37.981000\n",
       "4          Judge Dredd 95 00:03:28.504193 00:03:28.980000\n",
       "5          Judge Dredd 95 00:03:43.494744 00:03:43.980000\n",
       "6          Judge Dredd 95 00:04:10.486945 00:04:10.980000\n",
       "7          Judge Dredd 95 00:04:42.478871 00:04:42.980000\n",
       "8          Judge Dredd 95 00:05:28.471077 00:05:28.980000\n",
       "9          Captain Silver 00:12:43.460813 00:12:43.980000"
      ]
     },
     "execution_count": 371,
     "metadata": {},
     "output_type": "execute_result"
    }
   ],
   "source": [
    "df2 = df.copy()\n",
    "df2['elapsed_acnet'] = df['log_acnet'] - df['log_at']\n",
    "df2['elapsed_elastic'] = df['log_elastic'] - df['log_at']\n",
    "#df3 = df2.reset_index().sort_values('elapsed_time', ascending=False).reset_index(drop=True)[['game_title', 'elapsed_time','log_at','log_timestamp']]\n",
    "df3 = df2.reset_index().sort_values('elapsed_acnet', ascending=True).reset_index(drop=True)[['game_title', 'elapsed_acnet','elapsed_elastic']]\n",
    "df3"
   ]
  },
  {
   "cell_type": "markdown",
   "metadata": {},
   "source": [
    "### Most played game by count"
   ]
  },
  {
   "cell_type": "code",
   "execution_count": 372,
   "metadata": {
    "collapsed": false,
    "jupyter": {
     "outputs_hidden": false
    }
   },
   "outputs": [
    {
     "data": {
      "text/html": [
       "<div>\n",
       "<style scoped>\n",
       "    .dataframe tbody tr th:only-of-type {\n",
       "        vertical-align: middle;\n",
       "    }\n",
       "\n",
       "    .dataframe tbody tr th {\n",
       "        vertical-align: top;\n",
       "    }\n",
       "\n",
       "    .dataframe thead th {\n",
       "        text-align: right;\n",
       "    }\n",
       "</style>\n",
       "<table border=\"1\" class=\"dataframe\">\n",
       "  <thead>\n",
       "    <tr style=\"text-align: right;\">\n",
       "      <th></th>\n",
       "      <th>game_title</th>\n",
       "      <th>Counts</th>\n",
       "    </tr>\n",
       "  </thead>\n",
       "  <tbody>\n",
       "    <tr>\n",
       "      <th>0</th>\n",
       "      <td>Judge Dredd 95</td>\n",
       "      <td>5</td>\n",
       "    </tr>\n",
       "    <tr>\n",
       "      <th>1</th>\n",
       "      <td>Side Pocket (Genesis)</td>\n",
       "      <td>3</td>\n",
       "    </tr>\n",
       "    <tr>\n",
       "      <th>2</th>\n",
       "      <td>Captain Silver</td>\n",
       "      <td>1</td>\n",
       "    </tr>\n",
       "    <tr>\n",
       "      <th>3</th>\n",
       "      <td>Secret Agent / Sly Spy</td>\n",
       "      <td>1</td>\n",
       "    </tr>\n",
       "  </tbody>\n",
       "</table>\n",
       "</div>"
      ],
      "text/plain": [
       "               game_title  Counts\n",
       "0          Judge Dredd 95       5\n",
       "1   Side Pocket (Genesis)       3\n",
       "2          Captain Silver       1\n",
       "3  Secret Agent / Sly Spy       1"
      ]
     },
     "execution_count": 372,
     "metadata": {},
     "output_type": "execute_result"
    }
   ],
   "source": [
    "#df2 = df.groupby('game_title').count().rename(columns={'played_time': 'Counts'})\n",
    "df2 = df.groupby('game_title').agg({'play_duration': 'count'}).rename(columns={'play_duration': 'Counts'})\n",
    "df3 = df2.reset_index().sort_values('Counts', ascending=False).reset_index(drop=True)[['game_title', 'Counts']]\n",
    "df3.head(10)"
   ]
  },
  {
   "cell_type": "code",
   "execution_count": 373,
   "metadata": {
    "collapsed": false,
    "jupyter": {
     "outputs_hidden": false
    }
   },
   "outputs": [
    {
     "data": {
      "text/plain": [
       "<matplotlib.axes._subplots.AxesSubplot at 0x12a269370>"
      ]
     },
     "execution_count": 373,
     "metadata": {},
     "output_type": "execute_result"
    },
    {
     "data": {
      "image/png": "[encoded data removed]",
      "text/plain": [
       "<Figure size 1008x576 with 1 Axes>"
      ]
     },
     "metadata": {},
     "output_type": "display_data"
    }
   ],
   "source": [
    "df3.plot.bar(x='game_title', y='Counts', title='Sort by played times')"
   ]
  },
  {
   "cell_type": "markdown",
   "metadata": {},
   "source": [
    "### Most played game by cumulative played time"
   ]
  },
  {
   "cell_type": "code",
   "execution_count": 374,
   "metadata": {
    "collapsed": false,
    "jupyter": {
     "outputs_hidden": false
    }
   },
   "outputs": [
    {
     "data": {
      "text/html": [
       "<div>\n",
       "<style scoped>\n",
       "    .dataframe tbody tr th:only-of-type {\n",
       "        vertical-align: middle;\n",
       "    }\n",
       "\n",
       "    .dataframe tbody tr th {\n",
       "        vertical-align: top;\n",
       "    }\n",
       "\n",
       "    .dataframe thead th {\n",
       "        text-align: right;\n",
       "    }\n",
       "</style>\n",
       "<table border=\"1\" class=\"dataframe\">\n",
       "  <thead>\n",
       "    <tr style=\"text-align: right;\">\n",
       "      <th></th>\n",
       "      <th>game_title</th>\n",
       "      <th>play_start</th>\n",
       "      <th>play_end</th>\n",
       "      <th>log_at</th>\n",
       "      <th>log_acnet</th>\n",
       "      <th>log_elastic</th>\n",
       "      <th>play_duration</th>\n",
       "      <th>1p_buttons</th>\n",
       "      <th>1p_joystick</th>\n",
       "      <th>1p_spinner</th>\n",
       "      <th>2p_buttons</th>\n",
       "      <th>2p_joystick</th>\n",
       "      <th>2p_spinner</th>\n",
       "    </tr>\n",
       "  </thead>\n",
       "  <tbody>\n",
       "    <tr>\n",
       "      <th>0</th>\n",
       "      <td>Secret Agent / Sly Spy</td>\n",
       "      <td>2020-03-06 09:27:56+00:00</td>\n",
       "      <td>2020-03-06 09:28:26+00:00</td>\n",
       "      <td>2020-03-06 09:28:26+00:00</td>\n",
       "      <td>2020-03-06 09:31:03.513396+00:00</td>\n",
       "      <td>2020-03-06 09:31:03.981000+00:00</td>\n",
       "      <td>30</td>\n",
       "      <td>64</td>\n",
       "      <td>9</td>\n",
       "      <td>0</td>\n",
       "      <td>0</td>\n",
       "      <td>0</td>\n",
       "      <td>0</td>\n",
       "    </tr>\n",
       "    <tr>\n",
       "      <th>1</th>\n",
       "      <td>Side Pocket (Genesis)</td>\n",
       "      <td>2020-03-06 09:28:41+00:00</td>\n",
       "      <td>2020-03-06 09:28:53+00:00</td>\n",
       "      <td>2020-03-06 09:28:53+00:00</td>\n",
       "      <td>2020-03-06 09:31:03.524053+00:00</td>\n",
       "      <td>2020-03-06 09:31:03.981000+00:00</td>\n",
       "      <td>12</td>\n",
       "      <td>7</td>\n",
       "      <td>0</td>\n",
       "      <td>0</td>\n",
       "      <td>0</td>\n",
       "      <td>0</td>\n",
       "      <td>0</td>\n",
       "    </tr>\n",
       "    <tr>\n",
       "      <th>2</th>\n",
       "      <td>Side Pocket (Genesis)</td>\n",
       "      <td>2020-03-06 09:28:58+00:00</td>\n",
       "      <td>2020-03-06 09:29:42+00:00</td>\n",
       "      <td>2020-03-06 09:29:42+00:00</td>\n",
       "      <td>2020-03-06 09:31:03.534306+00:00</td>\n",
       "      <td>2020-03-06 09:31:03.981000+00:00</td>\n",
       "      <td>44</td>\n",
       "      <td>15</td>\n",
       "      <td>0</td>\n",
       "      <td>0</td>\n",
       "      <td>0</td>\n",
       "      <td>0</td>\n",
       "      <td>0</td>\n",
       "    </tr>\n",
       "    <tr>\n",
       "      <th>3</th>\n",
       "      <td>Side Pocket (Genesis)</td>\n",
       "      <td>2020-03-06 09:29:46+00:00</td>\n",
       "      <td>2020-03-06 09:30:03+00:00</td>\n",
       "      <td>2020-03-06 09:30:03+00:00</td>\n",
       "      <td>2020-03-06 09:31:03.541187+00:00</td>\n",
       "      <td>2020-03-06 09:31:03.981000+00:00</td>\n",
       "      <td>17</td>\n",
       "      <td>10</td>\n",
       "      <td>0</td>\n",
       "      <td>0</td>\n",
       "      <td>0</td>\n",
       "      <td>0</td>\n",
       "      <td>0</td>\n",
       "    </tr>\n",
       "    <tr>\n",
       "      <th>4</th>\n",
       "      <td>Captain Silver</td>\n",
       "      <td>2020-03-06 09:17:51+00:00</td>\n",
       "      <td>2020-03-06 09:18:20+00:00</td>\n",
       "      <td>2020-03-06 09:18:20+00:00</td>\n",
       "      <td>2020-03-06 09:31:03.460813+00:00</td>\n",
       "      <td>2020-03-06 09:31:03.980000+00:00</td>\n",
       "      <td>29</td>\n",
       "      <td>3</td>\n",
       "      <td>7</td>\n",
       "      <td>0</td>\n",
       "      <td>0</td>\n",
       "      <td>0</td>\n",
       "      <td>0</td>\n",
       "    </tr>\n",
       "  </tbody>\n",
       "</table>\n",
       "</div>"
      ],
      "text/plain": [
       "               game_title                play_start                  play_end  \\\n",
       "0  Secret Agent / Sly Spy 2020-03-06 09:27:56+00:00 2020-03-06 09:28:26+00:00   \n",
       "1   Side Pocket (Genesis) 2020-03-06 09:28:41+00:00 2020-03-06 09:28:53+00:00   \n",
       "2   Side Pocket (Genesis) 2020-03-06 09:28:58+00:00 2020-03-06 09:29:42+00:00   \n",
       "3   Side Pocket (Genesis) 2020-03-06 09:29:46+00:00 2020-03-06 09:30:03+00:00   \n",
       "4          Captain Silver 2020-03-06 09:17:51+00:00 2020-03-06 09:18:20+00:00   \n",
       "\n",
       "                     log_at                        log_acnet  \\\n",
       "0 2020-03-06 09:28:26+00:00 2020-03-06 09:31:03.513396+00:00   \n",
       "1 2020-03-06 09:28:53+00:00 2020-03-06 09:31:03.524053+00:00   \n",
       "2 2020-03-06 09:29:42+00:00 2020-03-06 09:31:03.534306+00:00   \n",
       "3 2020-03-06 09:30:03+00:00 2020-03-06 09:31:03.541187+00:00   \n",
       "4 2020-03-06 09:18:20+00:00 2020-03-06 09:31:03.460813+00:00   \n",
       "\n",
       "                       log_elastic  play_duration  1p_buttons  1p_joystick  \\\n",
       "0 2020-03-06 09:31:03.981000+00:00             30          64            9   \n",
       "1 2020-03-06 09:31:03.981000+00:00             12           7            0   \n",
       "2 2020-03-06 09:31:03.981000+00:00             44          15            0   \n",
       "3 2020-03-06 09:31:03.981000+00:00             17          10            0   \n",
       "4 2020-03-06 09:31:03.980000+00:00             29           3            7   \n",
       "\n",
       "   1p_spinner  2p_buttons  2p_joystick  2p_spinner  \n",
       "0           0           0            0           0  \n",
       "1           0           0            0           0  \n",
       "2           0           0            0           0  \n",
       "3           0           0            0           0  \n",
       "4           0           0            0           0  "
      ]
     },
     "execution_count": 374,
     "metadata": {},
     "output_type": "execute_result"
    }
   ],
   "source": [
    "df.head()"
   ]
  },
  {
   "cell_type": "code",
   "execution_count": 375,
   "metadata": {
    "collapsed": false,
    "jupyter": {
     "outputs_hidden": false
    }
   },
   "outputs": [
    {
     "data": {
      "text/html": [
       "<div>\n",
       "<style scoped>\n",
       "    .dataframe tbody tr th:only-of-type {\n",
       "        vertical-align: middle;\n",
       "    }\n",
       "\n",
       "    .dataframe tbody tr th {\n",
       "        vertical-align: top;\n",
       "    }\n",
       "\n",
       "    .dataframe thead th {\n",
       "        text-align: right;\n",
       "    }\n",
       "</style>\n",
       "<table border=\"1\" class=\"dataframe\">\n",
       "  <thead>\n",
       "    <tr style=\"text-align: right;\">\n",
       "      <th></th>\n",
       "      <th>total_played_time</th>\n",
       "    </tr>\n",
       "    <tr>\n",
       "      <th>game_title</th>\n",
       "      <th></th>\n",
       "    </tr>\n",
       "  </thead>\n",
       "  <tbody>\n",
       "    <tr>\n",
       "      <th>Captain Silver</th>\n",
       "      <td>29</td>\n",
       "    </tr>\n",
       "    <tr>\n",
       "      <th>Judge Dredd 95</th>\n",
       "      <td>125</td>\n",
       "    </tr>\n",
       "    <tr>\n",
       "      <th>Secret Agent / Sly Spy</th>\n",
       "      <td>30</td>\n",
       "    </tr>\n",
       "    <tr>\n",
       "      <th>Side Pocket (Genesis)</th>\n",
       "      <td>73</td>\n",
       "    </tr>\n",
       "  </tbody>\n",
       "</table>\n",
       "</div>"
      ],
      "text/plain": [
       "                        total_played_time\n",
       "game_title                               \n",
       "Captain Silver                         29\n",
       "Judge Dredd 95                        125\n",
       "Secret Agent / Sly Spy                 30\n",
       "Side Pocket (Genesis)                  73"
      ]
     },
     "execution_count": 375,
     "metadata": {},
     "output_type": "execute_result"
    }
   ],
   "source": [
    "#df2 = df.groupby('game_title').sum()['played_time']\n",
    "df2 = df.groupby('game_title').agg({'play_duration': 'sum'}).rename(columns={'play_duration': 'total_played_time'})\n",
    "df2"
   ]
  },
  {
   "cell_type": "code",
   "execution_count": 376,
   "metadata": {
    "collapsed": false,
    "jupyter": {
     "outputs_hidden": false
    }
   },
   "outputs": [
    {
     "data": {
      "text/html": [
       "<div>\n",
       "<style scoped>\n",
       "    .dataframe tbody tr th:only-of-type {\n",
       "        vertical-align: middle;\n",
       "    }\n",
       "\n",
       "    .dataframe tbody tr th {\n",
       "        vertical-align: top;\n",
       "    }\n",
       "\n",
       "    .dataframe thead th {\n",
       "        text-align: right;\n",
       "    }\n",
       "</style>\n",
       "<table border=\"1\" class=\"dataframe\">\n",
       "  <thead>\n",
       "    <tr style=\"text-align: right;\">\n",
       "      <th></th>\n",
       "      <th>game_title</th>\n",
       "      <th>total_played_time</th>\n",
       "    </tr>\n",
       "  </thead>\n",
       "  <tbody>\n",
       "    <tr>\n",
       "      <th>0</th>\n",
       "      <td>Judge Dredd 95</td>\n",
       "      <td>125</td>\n",
       "    </tr>\n",
       "    <tr>\n",
       "      <th>1</th>\n",
       "      <td>Side Pocket (Genesis)</td>\n",
       "      <td>73</td>\n",
       "    </tr>\n",
       "    <tr>\n",
       "      <th>2</th>\n",
       "      <td>Secret Agent / Sly Spy</td>\n",
       "      <td>30</td>\n",
       "    </tr>\n",
       "    <tr>\n",
       "      <th>3</th>\n",
       "      <td>Captain Silver</td>\n",
       "      <td>29</td>\n",
       "    </tr>\n",
       "  </tbody>\n",
       "</table>\n",
       "</div>"
      ],
      "text/plain": [
       "               game_title  total_played_time\n",
       "0          Judge Dredd 95                125\n",
       "1   Side Pocket (Genesis)                 73\n",
       "2  Secret Agent / Sly Spy                 30\n",
       "3          Captain Silver                 29"
      ]
     },
     "execution_count": 376,
     "metadata": {},
     "output_type": "execute_result"
    }
   ],
   "source": [
    "df3 = df2.reset_index().sort_values('total_played_time', ascending=False).reset_index(drop=True)[['game_title', 'total_played_time']]\n",
    "df3.head(10)\n",
    "#print(type(df['played_time']))\n",
    "#print(df['played_time'].astype(int)/1000000000)"
   ]
  },
  {
   "cell_type": "code",
   "execution_count": 377,
   "metadata": {
    "collapsed": false,
    "jupyter": {
     "outputs_hidden": false
    }
   },
   "outputs": [],
   "source": [
    "#t = pd.to_timedelta(['01:12:34', '02:00:00', '03:00:00', '04:00:00'])\n",
    "#print(t)\n",
    "#>>> TimedeltaIndex(['01:12:34', '02:00:00', '03:00:00', '04:00:00'], dtype='timedelta64[ns]', freq=None)\n",
    "\n",
    "#t.seconds\n",
    "#>>> Int64Index([4354, 7200, 10800, 14400], dtype='int64')"
   ]
  },
  {
   "cell_type": "code",
   "execution_count": 378,
   "metadata": {
    "collapsed": false,
    "jupyter": {
     "outputs_hidden": false
    }
   },
   "outputs": [],
   "source": [
    "#pd.to_timedelta(df['played_time'])"
   ]
  },
  {
   "cell_type": "code",
   "execution_count": 379,
   "metadata": {
    "collapsed": false,
    "jupyter": {
     "outputs_hidden": false
    }
   },
   "outputs": [
    {
     "data": {
      "text/plain": [
       "<matplotlib.axes._subplots.AxesSubplot at 0x128f32e50>"
      ]
     },
     "execution_count": 379,
     "metadata": {},
     "output_type": "execute_result"
    },
    {
     "data": {
      "image/png": "[encoded data removed]",
      "text/plain": [
       "<Figure size 1008x576 with 1 Axes>"
      ]
     },
     "metadata": {},
     "output_type": "display_data"
    }
   ],
   "source": [
    "df3.plot.bar(x='game_title', y='total_played_time', title='Sort by cumulative played time (seconds)')"
   ]
  },
  {
   "cell_type": "markdown",
   "metadata": {},
   "source": [
    "### Buttons, joysticks, spinners usage analysis"
   ]
  },
  {
   "cell_type": "code",
   "execution_count": 380,
   "metadata": {
    "collapsed": false,
    "jupyter": {
     "outputs_hidden": false
    }
   },
   "outputs": [
    {
     "data": {
      "text/html": [
       "<div>\n",
       "<style scoped>\n",
       "    .dataframe tbody tr th:only-of-type {\n",
       "        vertical-align: middle;\n",
       "    }\n",
       "\n",
       "    .dataframe tbody tr th {\n",
       "        vertical-align: top;\n",
       "    }\n",
       "\n",
       "    .dataframe thead th {\n",
       "        text-align: right;\n",
       "    }\n",
       "</style>\n",
       "<table border=\"1\" class=\"dataframe\">\n",
       "  <thead>\n",
       "    <tr style=\"text-align: right;\">\n",
       "      <th></th>\n",
       "      <th>1p_buttons</th>\n",
       "      <th>1p_joystick</th>\n",
       "      <th>1p_spinner</th>\n",
       "      <th>2p_buttons</th>\n",
       "      <th>2p_joystick</th>\n",
       "      <th>2p_spinner</th>\n",
       "    </tr>\n",
       "    <tr>\n",
       "      <th>game_title</th>\n",
       "      <th></th>\n",
       "      <th></th>\n",
       "      <th></th>\n",
       "      <th></th>\n",
       "      <th></th>\n",
       "      <th></th>\n",
       "    </tr>\n",
       "  </thead>\n",
       "  <tbody>\n",
       "    <tr>\n",
       "      <th>Captain Silver</th>\n",
       "      <td>3</td>\n",
       "      <td>7</td>\n",
       "      <td>0</td>\n",
       "      <td>0</td>\n",
       "      <td>0</td>\n",
       "      <td>0</td>\n",
       "    </tr>\n",
       "    <tr>\n",
       "      <th>Judge Dredd 95</th>\n",
       "      <td>8</td>\n",
       "      <td>0</td>\n",
       "      <td>0</td>\n",
       "      <td>0</td>\n",
       "      <td>0</td>\n",
       "      <td>0</td>\n",
       "    </tr>\n",
       "    <tr>\n",
       "      <th>Secret Agent / Sly Spy</th>\n",
       "      <td>64</td>\n",
       "      <td>9</td>\n",
       "      <td>0</td>\n",
       "      <td>0</td>\n",
       "      <td>0</td>\n",
       "      <td>0</td>\n",
       "    </tr>\n",
       "    <tr>\n",
       "      <th>Side Pocket (Genesis)</th>\n",
       "      <td>32</td>\n",
       "      <td>0</td>\n",
       "      <td>0</td>\n",
       "      <td>0</td>\n",
       "      <td>0</td>\n",
       "      <td>0</td>\n",
       "    </tr>\n",
       "  </tbody>\n",
       "</table>\n",
       "</div>"
      ],
      "text/plain": [
       "                        1p_buttons  1p_joystick  1p_spinner  2p_buttons  \\\n",
       "game_title                                                                \n",
       "Captain Silver                   3            7           0           0   \n",
       "Judge Dredd 95                   8            0           0           0   \n",
       "Secret Agent / Sly Spy          64            9           0           0   \n",
       "Side Pocket (Genesis)           32            0           0           0   \n",
       "\n",
       "                        2p_joystick  2p_spinner  \n",
       "game_title                                       \n",
       "Captain Silver                    0           0  \n",
       "Judge Dredd 95                    0           0  \n",
       "Secret Agent / Sly Spy            0           0  \n",
       "Side Pocket (Genesis)             0           0  "
      ]
     },
     "execution_count": 380,
     "metadata": {},
     "output_type": "execute_result"
    }
   ],
   "source": [
    "df2 = df.groupby('game_title').agg({'1p_buttons':'sum','1p_joystick':'sum','1p_spinner':'sum','2p_buttons':'sum','2p_joystick':'sum','2p_spinner':'sum'})  #.rename(columns={'played_time': 'total_played_time'})\n",
    "df2"
   ]
  },
  {
   "cell_type": "code",
   "execution_count": 381,
   "metadata": {
    "collapsed": false,
    "jupyter": {
     "outputs_hidden": false
    }
   },
   "outputs": [
    {
     "data": {
      "text/html": [
       "<div>\n",
       "<style scoped>\n",
       "    .dataframe tbody tr th:only-of-type {\n",
       "        vertical-align: middle;\n",
       "    }\n",
       "\n",
       "    .dataframe tbody tr th {\n",
       "        vertical-align: top;\n",
       "    }\n",
       "\n",
       "    .dataframe thead th {\n",
       "        text-align: right;\n",
       "    }\n",
       "</style>\n",
       "<table border=\"1\" class=\"dataframe\">\n",
       "  <thead>\n",
       "    <tr style=\"text-align: right;\">\n",
       "      <th></th>\n",
       "      <th>game_title</th>\n",
       "      <th>1p_buttons</th>\n",
       "      <th>1p_joystick</th>\n",
       "      <th>1p_spinner</th>\n",
       "      <th>2p_buttons</th>\n",
       "      <th>2p_joystick</th>\n",
       "      <th>2p_spinner</th>\n",
       "    </tr>\n",
       "  </thead>\n",
       "  <tbody>\n",
       "    <tr>\n",
       "      <th>0</th>\n",
       "      <td>Secret Agent / Sly Spy</td>\n",
       "      <td>64</td>\n",
       "      <td>9</td>\n",
       "      <td>0</td>\n",
       "      <td>0</td>\n",
       "      <td>0</td>\n",
       "      <td>0</td>\n",
       "    </tr>\n",
       "    <tr>\n",
       "      <th>1</th>\n",
       "      <td>Side Pocket (Genesis)</td>\n",
       "      <td>32</td>\n",
       "      <td>0</td>\n",
       "      <td>0</td>\n",
       "      <td>0</td>\n",
       "      <td>0</td>\n",
       "      <td>0</td>\n",
       "    </tr>\n",
       "    <tr>\n",
       "      <th>2</th>\n",
       "      <td>Judge Dredd 95</td>\n",
       "      <td>8</td>\n",
       "      <td>0</td>\n",
       "      <td>0</td>\n",
       "      <td>0</td>\n",
       "      <td>0</td>\n",
       "      <td>0</td>\n",
       "    </tr>\n",
       "    <tr>\n",
       "      <th>3</th>\n",
       "      <td>Captain Silver</td>\n",
       "      <td>3</td>\n",
       "      <td>7</td>\n",
       "      <td>0</td>\n",
       "      <td>0</td>\n",
       "      <td>0</td>\n",
       "      <td>0</td>\n",
       "    </tr>\n",
       "  </tbody>\n",
       "</table>\n",
       "</div>"
      ],
      "text/plain": [
       "               game_title  1p_buttons  1p_joystick  1p_spinner  2p_buttons  \\\n",
       "0  Secret Agent / Sly Spy          64            9           0           0   \n",
       "1   Side Pocket (Genesis)          32            0           0           0   \n",
       "2          Judge Dredd 95           8            0           0           0   \n",
       "3          Captain Silver           3            7           0           0   \n",
       "\n",
       "   2p_joystick  2p_spinner  \n",
       "0            0           0  \n",
       "1            0           0  \n",
       "2            0           0  \n",
       "3            0           0  "
      ]
     },
     "execution_count": 381,
     "metadata": {},
     "output_type": "execute_result"
    }
   ],
   "source": [
    "#df3 = df2.reset_index().sort_values('1p_buttons', ascending=False).reset_index(drop=True)[['game_title', '1p_buttons']]\n",
    "df3 = df2.reset_index().sort_values('1p_buttons', ascending=False).reset_index(drop=True)\n",
    "df3.head(10)"
   ]
  },
  {
   "cell_type": "code",
   "execution_count": 382,
   "metadata": {
    "collapsed": false,
    "jupyter": {
     "outputs_hidden": false
    }
   },
   "outputs": [
    {
     "data": {
      "text/plain": [
       "<matplotlib.axes._subplots.AxesSubplot at 0x128b34cd0>"
      ]
     },
     "execution_count": 382,
     "metadata": {},
     "output_type": "execute_result"
    },
    {
     "data": {
      "image/png": "[encoded data removed]",
      "text/plain": [
       "<Figure size 1008x576 with 1 Axes>"
      ]
     },
     "metadata": {},
     "output_type": "display_data"
    }
   ],
   "source": [
    "df3.plot.bar(x='game_title', y=['1p_buttons','2p_buttons','1p_joystick','2p_joystick'], title='Sort by cumulative played time (seconds)')"
   ]
  },
  {
   "cell_type": "markdown",
   "metadata": {},
   "source": [
    "### Game played by date"
   ]
  },
  {
   "cell_type": "code",
   "execution_count": 383,
   "metadata": {
    "collapsed": false,
    "jupyter": {
     "outputs_hidden": false
    }
   },
   "outputs": [],
   "source": [
    "#df['YYMMDD'] = df['play_start'].apply(lambda ts: str(ts.year)[2:] + \"-\" + str(ts.month) + \"-\" + str(ts.day))\n",
    "df['YYMMDD'] = df['play_start'].apply(lambda ts: ts.date())"
   ]
  },
  {
   "cell_type": "code",
   "execution_count": 384,
   "metadata": {
    "collapsed": false,
    "jupyter": {
     "outputs_hidden": false
    }
   },
   "outputs": [
    {
     "data": {
      "text/html": [
       "<div>\n",
       "<style scoped>\n",
       "    .dataframe tbody tr th:only-of-type {\n",
       "        vertical-align: middle;\n",
       "    }\n",
       "\n",
       "    .dataframe tbody tr th {\n",
       "        vertical-align: top;\n",
       "    }\n",
       "\n",
       "    .dataframe thead th {\n",
       "        text-align: right;\n",
       "    }\n",
       "</style>\n",
       "<table border=\"1\" class=\"dataframe\">\n",
       "  <thead>\n",
       "    <tr style=\"text-align: right;\">\n",
       "      <th></th>\n",
       "      <th>game_title</th>\n",
       "      <th>YYMMDD</th>\n",
       "      <th>play_start</th>\n",
       "    </tr>\n",
       "  </thead>\n",
       "  <tbody>\n",
       "    <tr>\n",
       "      <th>0</th>\n",
       "      <td>Secret Agent / Sly Spy</td>\n",
       "      <td>2020-03-06</td>\n",
       "      <td>2020-03-06 09:27:56+00:00</td>\n",
       "    </tr>\n",
       "    <tr>\n",
       "      <th>1</th>\n",
       "      <td>Side Pocket (Genesis)</td>\n",
       "      <td>2020-03-06</td>\n",
       "      <td>2020-03-06 09:28:41+00:00</td>\n",
       "    </tr>\n",
       "    <tr>\n",
       "      <th>2</th>\n",
       "      <td>Side Pocket (Genesis)</td>\n",
       "      <td>2020-03-06</td>\n",
       "      <td>2020-03-06 09:28:58+00:00</td>\n",
       "    </tr>\n",
       "    <tr>\n",
       "      <th>3</th>\n",
       "      <td>Side Pocket (Genesis)</td>\n",
       "      <td>2020-03-06</td>\n",
       "      <td>2020-03-06 09:29:46+00:00</td>\n",
       "    </tr>\n",
       "    <tr>\n",
       "      <th>4</th>\n",
       "      <td>Captain Silver</td>\n",
       "      <td>2020-03-06</td>\n",
       "      <td>2020-03-06 09:17:51+00:00</td>\n",
       "    </tr>\n",
       "  </tbody>\n",
       "</table>\n",
       "</div>"
      ],
      "text/plain": [
       "               game_title      YYMMDD                play_start\n",
       "0  Secret Agent / Sly Spy  2020-03-06 2020-03-06 09:27:56+00:00\n",
       "1   Side Pocket (Genesis)  2020-03-06 2020-03-06 09:28:41+00:00\n",
       "2   Side Pocket (Genesis)  2020-03-06 2020-03-06 09:28:58+00:00\n",
       "3   Side Pocket (Genesis)  2020-03-06 2020-03-06 09:29:46+00:00\n",
       "4          Captain Silver  2020-03-06 2020-03-06 09:17:51+00:00"
      ]
     },
     "execution_count": 384,
     "metadata": {},
     "output_type": "execute_result"
    }
   ],
   "source": [
    "df[['game_title','YYMMDD','play_start']].head()"
   ]
  },
  {
   "cell_type": "code",
   "execution_count": 385,
   "metadata": {
    "collapsed": false,
    "jupyter": {
     "outputs_hidden": false
    }
   },
   "outputs": [
    {
     "data": {
      "text/html": [
       "<div>\n",
       "<style scoped>\n",
       "    .dataframe tbody tr th:only-of-type {\n",
       "        vertical-align: middle;\n",
       "    }\n",
       "\n",
       "    .dataframe tbody tr th {\n",
       "        vertical-align: top;\n",
       "    }\n",
       "\n",
       "    .dataframe thead th {\n",
       "        text-align: right;\n",
       "    }\n",
       "</style>\n",
       "<table border=\"1\" class=\"dataframe\">\n",
       "  <thead>\n",
       "    <tr style=\"text-align: right;\">\n",
       "      <th></th>\n",
       "      <th>YYMMDD</th>\n",
       "      <th>Counts</th>\n",
       "    </tr>\n",
       "  </thead>\n",
       "  <tbody>\n",
       "    <tr>\n",
       "      <th>0</th>\n",
       "      <td>2020-03-06</td>\n",
       "      <td>10</td>\n",
       "    </tr>\n",
       "  </tbody>\n",
       "</table>\n",
       "</div>"
      ],
      "text/plain": [
       "       YYMMDD  Counts\n",
       "0  2020-03-06      10"
      ]
     },
     "execution_count": 385,
     "metadata": {},
     "output_type": "execute_result"
    }
   ],
   "source": [
    "#df2 = df.groupby('year_month').count().rename(columns={'uuid': 'Counts'})\n",
    "df2 = df.groupby('YYMMDD').agg({'play_duration': 'count'}).rename(columns={'play_duration': 'Counts'})\n",
    "df3 = df2.reset_index().sort_values('YYMMDD', ascending=True).reset_index(drop=True)[['YYMMDD', 'Counts']]\n",
    "df3.head(10)"
   ]
  },
  {
   "cell_type": "code",
   "execution_count": 386,
   "metadata": {
    "collapsed": false,
    "jupyter": {
     "outputs_hidden": false
    }
   },
   "outputs": [
    {
     "data": {
      "text/plain": [
       "<matplotlib.axes._subplots.AxesSubplot at 0x126656460>"
      ]
     },
     "execution_count": 386,
     "metadata": {},
     "output_type": "execute_result"
    },
    {
     "data": {
      "image/png": "[encoded data removed]",
      "text/plain": [
       "<Figure size 1008x576 with 1 Axes>"
      ]
     },
     "metadata": {},
     "output_type": "display_data"
    }
   ],
   "source": [
    "df3.plot.bar(x='YYMMDD', y='Counts', title='Count by Year/Month')"
   ]
  },
  {
   "cell_type": "code",
   "execution_count": null,
   "metadata": {
    "collapsed": true,
    "jupyter": {
     "outputs_hidden": true
    }
   },
   "outputs": [],
   "source": []
  },
  {
   "cell_type": "code",
   "execution_count": null,
   "metadata": {
    "collapsed": true,
    "jupyter": {
     "outputs_hidden": true
    }
   },
   "outputs": [],
   "source": []
  }
 ],
 "metadata": {
  "kernelspec": {
   "display_name": "Python 3",
   "language": "python",
   "name": "python3"
  },
  "language_info": {
   "codemirror_mode": {
    "name": "ipython",
    "version": 3
   },
   "file_extension": ".py",
   "mimetype": "text/x-python",
   "name": "python",
   "nbconvert_exporter": "python",
   "pygments_lexer": "ipython3",
   "version": "3.7.6"
  }
 },
 "nbformat": 4,
 "nbformat_minor": 4
}
