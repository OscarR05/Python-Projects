{
 "cells": [
  {
   "cell_type": "markdown",
   "metadata": {},
   "source": [
    "# User Firmware Version Count"
   ]
  },
  {
   "cell_type": "code",
   "execution_count": 1,
   "metadata": {},
   "outputs": [],
   "source": [
    "import pandas as pd\n",
    "import matplotlib.pyplot as plt\n",
    "import numpy as np\n",
    "from datetime import datetime\n",
    "import seaborn as sns\n",
    "import calendar\n",
    "import os\n",
    "import pprint\n",
    "from elasticsearch import Elasticsearch\n",
    "\n",
    "import dtale\n",
    "%matplotlib inline\n",
    "pd.set_option('display.max_columns', None)"
   ]
  },
  {
   "cell_type": "code",
   "execution_count": 2,
   "metadata": {},
   "outputs": [],
   "source": [
    "#fw_count['upgrade_day'] = fw_count['upgrade_state_updated_at'].dt.day\n",
    "#fw_count['upgrade_month'] = fw_count['upgrade_state_updated_at'].dt.month.fillna(0.0).astype(int)\n",
    "#fw_count['upgrade_month'] = fw_count['upgrade_month'].apply(lambda x: calendar.month_abbr[x])\n",
    "#fw_count['upgrade_date'] = fw_count['upgrade_month'].map(str) + \"-\" + fw_count['upgrade_day'].map(str)\n",
    "#fw_count['upgrade_date'] = fw_count['upgrade_date'].str.slice(start=0, stop=6)\n",
    "#fw_count['upgrade_date'] = fw_count['upgrade_date'].str.replace(\".\",\"\")"
   ]
  },
  {
   "cell_type": "code",
   "execution_count": 3,
   "metadata": {},
   "outputs": [],
   "source": [
    "path = 'C:\\\\Users\\\\bokhy\\\\Desktop\\\\ATG\\\\Power BI'\n",
    "fw_count_y = pd.read_csv(os.path.join(path, 'V.csv'), engine='python')\n",
    "fw_count_n = pd.read_csv(os.path.join(path, 'V1.csv'), engine='python')"
   ]
  },
  {
   "cell_type": "code",
   "execution_count": 4,
   "metadata": {},
   "outputs": [
    {
     "data": {
      "text/plain": [
       "(3766, 4)"
      ]
     },
     "execution_count": 4,
     "metadata": {},
     "output_type": "execute_result"
    }
   ],
   "source": [
    "fw_count_y.shape"
   ]
  },
  {
   "cell_type": "code",
   "execution_count": 5,
   "metadata": {},
   "outputs": [
    {
     "data": {
      "text/plain": [
       "(3745, 7)"
      ]
     },
     "execution_count": 5,
     "metadata": {},
     "output_type": "execute_result"
    }
   ],
   "source": [
    "fw_count_n.shape"
   ]
  },
  {
   "cell_type": "code",
   "execution_count": 6,
   "metadata": {},
   "outputs": [
    {
     "data": {
      "text/html": [
       "<div>\n",
       "<style scoped>\n",
       "    .dataframe tbody tr th:only-of-type {\n",
       "        vertical-align: middle;\n",
       "    }\n",
       "\n",
       "    .dataframe tbody tr th {\n",
       "        vertical-align: top;\n",
       "    }\n",
       "\n",
       "    .dataframe thead th {\n",
       "        text-align: right;\n",
       "    }\n",
       "</style>\n",
       "<table border=\"1\" class=\"dataframe\">\n",
       "  <thead>\n",
       "    <tr style=\"text-align: right;\">\n",
       "      <th></th>\n",
       "      <th>UUID</th>\n",
       "      <th>display_version_number</th>\n",
       "      <th>upgrade_state_updated_at</th>\n",
       "      <th>State</th>\n",
       "    </tr>\n",
       "  </thead>\n",
       "  <tbody>\n",
       "    <tr>\n",
       "      <th>0</th>\n",
       "      <td>88001908A0000168</td>\n",
       "      <td>5.12.0</td>\n",
       "      <td>2020-11-28 15:31:22</td>\n",
       "      <td>Success</td>\n",
       "    </tr>\n",
       "    <tr>\n",
       "      <th>1</th>\n",
       "      <td>88001908A00010A8</td>\n",
       "      <td>5.12.0</td>\n",
       "      <td>2020-11-29 16:28:26</td>\n",
       "      <td>Success</td>\n",
       "    </tr>\n",
       "    <tr>\n",
       "      <th>2</th>\n",
       "      <td>88001908A0002330</td>\n",
       "      <td>5.12.0</td>\n",
       "      <td>2020-11-27 19:54:35</td>\n",
       "      <td>Success</td>\n",
       "    </tr>\n",
       "    <tr>\n",
       "      <th>3</th>\n",
       "      <td>88001908A00027E0</td>\n",
       "      <td>5.12.0</td>\n",
       "      <td>2020-11-26 15:15:39</td>\n",
       "      <td>Success</td>\n",
       "    </tr>\n",
       "    <tr>\n",
       "      <th>4</th>\n",
       "      <td>88001908A0004400</td>\n",
       "      <td>5.12.0</td>\n",
       "      <td>2020-11-26 18:30:49</td>\n",
       "      <td>Success</td>\n",
       "    </tr>\n",
       "  </tbody>\n",
       "</table>\n",
       "</div>"
      ],
      "text/plain": [
       "               UUID display_version_number upgrade_state_updated_at    State\n",
       "0  88001908A0000168                 5.12.0      2020-11-28 15:31:22  Success\n",
       "1  88001908A00010A8                 5.12.0      2020-11-29 16:28:26  Success\n",
       "2  88001908A0002330                 5.12.0      2020-11-27 19:54:35  Success\n",
       "3  88001908A00027E0                 5.12.0      2020-11-26 15:15:39  Success\n",
       "4  88001908A0004400                 5.12.0      2020-11-26 18:30:49  Success"
      ]
     },
     "execution_count": 6,
     "metadata": {},
     "output_type": "execute_result"
    }
   ],
   "source": [
    "fw_count_y.head()"
   ]
  },
  {
   "cell_type": "code",
   "execution_count": 7,
   "metadata": {},
   "outputs": [
    {
     "data": {
      "text/plain": [
       "<matplotlib.axes._subplots.AxesSubplot at 0x1db18b62088>"
      ]
     },
     "execution_count": 7,
     "metadata": {},
     "output_type": "execute_result"
    },
    {
     "data": {
      "image/png": "[encoded data removed]",
      "text/plain": [
       "<Figure size 432x288 with 1 Axes>"
      ]
     },
     "metadata": {
      "needs_background": "light"
     },
     "output_type": "display_data"
    }
   ],
   "source": [
    "fw_count_y.display_version_number.hist()"
   ]
  },
  {
   "cell_type": "code",
   "execution_count": 8,
   "metadata": {},
   "outputs": [
    {
     "name": "stderr",
     "output_type": "stream",
     "text": [
      "c:\\users\\bokhy\\appdata\\local\\programs\\python\\python37\\lib\\site-packages\\ipykernel_launcher.py:3: SettingWithCopyWarning:\n",
      "\n",
      "\n",
      "A value is trying to be set on a copy of a slice from a DataFrame.\n",
      "Try using .loc[row_indexer,col_indexer] = value instead\n",
      "\n",
      "See the caveats in the documentation: https://pandas.pydata.org/pandas-docs/stable/user_guide/indexing.html#returning-a-view-versus-a-copy\n",
      "\n"
     ]
    }
   ],
   "source": [
    "fw_count_n_notnull = fw_count_n[fw_count_n['display_version_number'].notnull()]\n",
    "fw_count_n_null = fw_count_n[fw_count_n['display_version_number'].isnull()]\n",
    "fw_count_n_null['display_version_number'] = fw_count_n_null['version_number']\n",
    "\n",
    "fw_count_n = fw_count_n_notnull.append(fw_count_n_null)\n",
    "fw_count = fw_count_y.append(fw_count_n)\n",
    "fw_count = fw_count.sort_values(\"display_version_number\", ascending=False).reset_index()"
   ]
  },
  {
   "cell_type": "code",
   "execution_count": 9,
   "metadata": {},
   "outputs": [
    {
     "data": {
      "text/plain": [
       "(7511, 8)"
      ]
     },
     "execution_count": 9,
     "metadata": {},
     "output_type": "execute_result"
    }
   ],
   "source": [
    "fw_count.shape"
   ]
  },
  {
   "cell_type": "code",
   "execution_count": 10,
   "metadata": {},
   "outputs": [
    {
     "data": {
      "text/html": [
       "<div>\n",
       "<style scoped>\n",
       "    .dataframe tbody tr th:only-of-type {\n",
       "        vertical-align: middle;\n",
       "    }\n",
       "\n",
       "    .dataframe tbody tr th {\n",
       "        vertical-align: top;\n",
       "    }\n",
       "\n",
       "    .dataframe thead th {\n",
       "        text-align: right;\n",
       "    }\n",
       "</style>\n",
       "<table border=\"1\" class=\"dataframe\">\n",
       "  <thead>\n",
       "    <tr style=\"text-align: right;\">\n",
       "      <th></th>\n",
       "      <th>index</th>\n",
       "      <th>UUID</th>\n",
       "      <th>display_version_number</th>\n",
       "      <th>upgrade_state_updated_at</th>\n",
       "      <th>State</th>\n",
       "      <th>version_id</th>\n",
       "      <th>version_number</th>\n",
       "      <th>current_version</th>\n",
       "    </tr>\n",
       "  </thead>\n",
       "  <tbody>\n",
       "    <tr>\n",
       "      <th>0</th>\n",
       "      <td>1156</td>\n",
       "      <td>88001908A01769D0</td>\n",
       "      <td>5.9.0</td>\n",
       "      <td>2020-11-08 00:58:40</td>\n",
       "      <td>Success</td>\n",
       "      <td>NaN</td>\n",
       "      <td>NaN</td>\n",
       "      <td>NaN</td>\n",
       "    </tr>\n",
       "    <tr>\n",
       "      <th>1</th>\n",
       "      <td>1237</td>\n",
       "      <td>88001912B00993C8</td>\n",
       "      <td>5.9.0</td>\n",
       "      <td>2020-11-10 01:27:41</td>\n",
       "      <td>Success</td>\n",
       "      <td>NaN</td>\n",
       "      <td>NaN</td>\n",
       "      <td>NaN</td>\n",
       "    </tr>\n",
       "    <tr>\n",
       "      <th>2</th>\n",
       "      <td>1239</td>\n",
       "      <td>88001912B0104838</td>\n",
       "      <td>5.9.0</td>\n",
       "      <td>2020-11-05 16:53:48</td>\n",
       "      <td>Success</td>\n",
       "      <td>NaN</td>\n",
       "      <td>NaN</td>\n",
       "      <td>NaN</td>\n",
       "    </tr>\n",
       "    <tr>\n",
       "      <th>3</th>\n",
       "      <td>1240</td>\n",
       "      <td>88001912B0111300</td>\n",
       "      <td>5.9.0</td>\n",
       "      <td>2020-11-09 19:18:51</td>\n",
       "      <td>Success</td>\n",
       "      <td>NaN</td>\n",
       "      <td>NaN</td>\n",
       "      <td>NaN</td>\n",
       "    </tr>\n",
       "    <tr>\n",
       "      <th>4</th>\n",
       "      <td>1241</td>\n",
       "      <td>88001912B0112140</td>\n",
       "      <td>5.9.0</td>\n",
       "      <td>2020-11-06 16:07:39</td>\n",
       "      <td>Success</td>\n",
       "      <td>NaN</td>\n",
       "      <td>NaN</td>\n",
       "      <td>NaN</td>\n",
       "    </tr>\n",
       "  </tbody>\n",
       "</table>\n",
       "</div>"
      ],
      "text/plain": [
       "   index              UUID display_version_number upgrade_state_updated_at  \\\n",
       "0   1156  88001908A01769D0                  5.9.0      2020-11-08 00:58:40   \n",
       "1   1237  88001912B00993C8                  5.9.0      2020-11-10 01:27:41   \n",
       "2   1239  88001912B0104838                  5.9.0      2020-11-05 16:53:48   \n",
       "3   1240  88001912B0111300                  5.9.0      2020-11-09 19:18:51   \n",
       "4   1241  88001912B0112140                  5.9.0      2020-11-06 16:07:39   \n",
       "\n",
       "     State  version_id version_number current_version  \n",
       "0  Success         NaN            NaN             NaN  \n",
       "1  Success         NaN            NaN             NaN  \n",
       "2  Success         NaN            NaN             NaN  \n",
       "3  Success         NaN            NaN             NaN  \n",
       "4  Success         NaN            NaN             NaN  "
      ]
     },
     "execution_count": 10,
     "metadata": {},
     "output_type": "execute_result"
    }
   ],
   "source": [
    "fw_count.head()"
   ]
  },
  {
   "cell_type": "code",
   "execution_count": 11,
   "metadata": {},
   "outputs": [],
   "source": [
    "TIMEZONE = 'utc'\n",
    "fw_count['upgrade_state_updated_at'] = pd.to_datetime(fw_count['upgrade_state_updated_at'],format=\"%Y-%m-%d %H:%M:%S\",errors='coerce')"
   ]
  },
  {
   "cell_type": "code",
   "execution_count": 12,
   "metadata": {},
   "outputs": [],
   "source": [
    "fw_count['upgrade_date']  = fw_count['upgrade_state_updated_at'].dt.date\n",
    "fw_count['upgrade_date']  = pd.to_datetime(fw_count['upgrade_date'])\n",
    "fw_count = fw_count.drop(['current_version','upgrade_state_updated_at','version_id'], axis=1)"
   ]
  },
  {
   "cell_type": "code",
   "execution_count": 13,
   "metadata": {},
   "outputs": [
    {
     "data": {
      "text/plain": [
       "(7511, 6)"
      ]
     },
     "execution_count": 13,
     "metadata": {},
     "output_type": "execute_result"
    }
   ],
   "source": [
    "fw_count.shape"
   ]
  },
  {
   "cell_type": "code",
   "execution_count": 14,
   "metadata": {},
   "outputs": [
    {
     "data": {
      "text/html": [
       "<div>\n",
       "<style scoped>\n",
       "    .dataframe tbody tr th:only-of-type {\n",
       "        vertical-align: middle;\n",
       "    }\n",
       "\n",
       "    .dataframe tbody tr th {\n",
       "        vertical-align: top;\n",
       "    }\n",
       "\n",
       "    .dataframe thead th {\n",
       "        text-align: right;\n",
       "    }\n",
       "</style>\n",
       "<table border=\"1\" class=\"dataframe\">\n",
       "  <thead>\n",
       "    <tr style=\"text-align: right;\">\n",
       "      <th></th>\n",
       "      <th>index</th>\n",
       "      <th>UUID</th>\n",
       "      <th>display_version_number</th>\n",
       "      <th>State</th>\n",
       "      <th>version_number</th>\n",
       "      <th>upgrade_date</th>\n",
       "    </tr>\n",
       "  </thead>\n",
       "  <tbody>\n",
       "    <tr>\n",
       "      <th>0</th>\n",
       "      <td>1156</td>\n",
       "      <td>88001908A01769D0</td>\n",
       "      <td>5.9.0</td>\n",
       "      <td>Success</td>\n",
       "      <td>NaN</td>\n",
       "      <td>2020-11-08</td>\n",
       "    </tr>\n",
       "    <tr>\n",
       "      <th>1</th>\n",
       "      <td>1237</td>\n",
       "      <td>88001912B00993C8</td>\n",
       "      <td>5.9.0</td>\n",
       "      <td>Success</td>\n",
       "      <td>NaN</td>\n",
       "      <td>2020-11-10</td>\n",
       "    </tr>\n",
       "    <tr>\n",
       "      <th>2</th>\n",
       "      <td>1239</td>\n",
       "      <td>88001912B0104838</td>\n",
       "      <td>5.9.0</td>\n",
       "      <td>Success</td>\n",
       "      <td>NaN</td>\n",
       "      <td>2020-11-05</td>\n",
       "    </tr>\n",
       "    <tr>\n",
       "      <th>3</th>\n",
       "      <td>1240</td>\n",
       "      <td>88001912B0111300</td>\n",
       "      <td>5.9.0</td>\n",
       "      <td>Success</td>\n",
       "      <td>NaN</td>\n",
       "      <td>2020-11-09</td>\n",
       "    </tr>\n",
       "    <tr>\n",
       "      <th>4</th>\n",
       "      <td>1241</td>\n",
       "      <td>88001912B0112140</td>\n",
       "      <td>5.9.0</td>\n",
       "      <td>Success</td>\n",
       "      <td>NaN</td>\n",
       "      <td>2020-11-06</td>\n",
       "    </tr>\n",
       "  </tbody>\n",
       "</table>\n",
       "</div>"
      ],
      "text/plain": [
       "   index              UUID display_version_number    State version_number  \\\n",
       "0   1156  88001908A01769D0                  5.9.0  Success            NaN   \n",
       "1   1237  88001912B00993C8                  5.9.0  Success            NaN   \n",
       "2   1239  88001912B0104838                  5.9.0  Success            NaN   \n",
       "3   1240  88001912B0111300                  5.9.0  Success            NaN   \n",
       "4   1241  88001912B0112140                  5.9.0  Success            NaN   \n",
       "\n",
       "  upgrade_date  \n",
       "0   2020-11-08  \n",
       "1   2020-11-10  \n",
       "2   2020-11-05  \n",
       "3   2020-11-09  \n",
       "4   2020-11-06  "
      ]
     },
     "execution_count": 14,
     "metadata": {},
     "output_type": "execute_result"
    }
   ],
   "source": [
    "fw_count.head()"
   ]
  },
  {
   "cell_type": "code",
   "execution_count": 15,
   "metadata": {},
   "outputs": [],
   "source": [
    "def fw_release(row):\n",
    "    if row[\"display_version_number\"] == \"4.1.0\":\n",
    "        return \"2020-Jan-15\"    \n",
    "    elif row['display_version_number'] == \"4.2.0\":\n",
    "        return '2020-Jan-22'\n",
    "    elif row['display_version_number'] == \"4.3.0\":\n",
    "        return '2020-Jan-29'\n",
    "    elif row['display_version_number'] == \"4.4.0\":\n",
    "        return '2020-Feb-5'\n",
    "    elif row['display_version_number'] == \"4.5.0\":\n",
    "        return '2020-Feb-12'\n",
    "    elif row['display_version_number'] == \"4.6.0\":\n",
    "        return '2020-Feb-14'\n",
    "    elif row['display_version_number'] == \"4.7.0\":\n",
    "        return '2020-Feb-19'\n",
    "    elif row['display_version_number'] == \"4.8.0\":\n",
    "        return '2020-Feb-26'\n",
    "    elif row['display_version_number'] == \"4.9.0\":\n",
    "        return '2020-Mar-4'\n",
    "    elif row['display_version_number'] == \"4.10.0\":\n",
    "        return '2020-Mar-11'\n",
    "    elif row['display_version_number'] == \"4.11.0\":\n",
    "        return '2020-Mar-18'\n",
    "    elif row['display_version_number'] == \"4.11.1\":\n",
    "        return '2020-Mar-20'\n",
    "    elif row['display_version_number'] == \"4.12.0\":\n",
    "        return '2020-Mar-25'\n",
    "    elif row['display_version_number'] == \"4.13.0\":\n",
    "        return '2020-Apr-1'\n",
    "    elif row['display_version_number'] == \"4.14.0\":\n",
    "        return '2020-Apr-8'\n",
    "    elif row['display_version_number'] == \"4.14.1\":\n",
    "        return '2020-Apr-10' \n",
    "    elif row['display_version_number'] == \"4.15.0\":\n",
    "        return '2020-Apr-15'\n",
    "    elif row['display_version_number'] == \"4.16.0\":\n",
    "        return '2020-Apr-22'    \n",
    "    elif row['display_version_number'] == \"4.17.0\":\n",
    "        return '2020-Apr-29'\n",
    "    elif row['display_version_number'] == \"4.18.0\":\n",
    "        return '2020-May-6'    \n",
    "    elif row['display_version_number'] == \"4.19.0\":\n",
    "        return '2020-May-13'      \n",
    "    elif row['display_version_number'] == \"4.20.0\":\n",
    "        return '2020-May-20'     \n",
    "    elif row['display_version_number'] == \"4.21.0\":\n",
    "        return '2020-May-27'    \n",
    "    elif row['display_version_number'] == \"4.22.0\":\n",
    "        return '2020-Jun-3'  \n",
    "    elif row['display_version_number'] == \"4.23.0\":\n",
    "        return '2020-Jun-10'     \n",
    "    elif row['display_version_number'] == \"4.24.0\":\n",
    "        return '2020-Jun-17'  \n",
    "    elif row['display_version_number'] == \"4.25.0\":\n",
    "        return '2020-Jun-24'\n",
    "    elif row['display_version_number'] == \"4.26.0\":\n",
    "        return '2020-Jul-1'     \n",
    "    elif row['display_version_number'] == \"4.26.1\":\n",
    "        return '2020-Jul-3'  \n",
    "    elif row['display_version_number'] == \"4.27.0\":\n",
    "        return '2020-Jul-8' \n",
    "    elif row['display_version_number'] == \"4.28.0\":\n",
    "        return '2020-Jul-15'     \n",
    "    elif row['display_version_number'] == \"4.29.0\":\n",
    "        return '2020-Jul-22'     \n",
    "    elif row['display_version_number'] == \"4.30.0\":\n",
    "        return '2020-Jul-29'\n",
    "    elif row['display_version_number'] == \"4.31.0\":\n",
    "        return '2020-Aug-5'    \n",
    "    elif row['display_version_number'] == \"4.32.0\":\n",
    "        return '2020-Aug-12' \n",
    "    elif row['display_version_number'] == \"4.33.0\":\n",
    "        return '2020-Aug-19'     \n",
    "    elif row['display_version_number'] == \"4.34.0\":\n",
    "        return '2020-Aug-26'  \n",
    "    elif row['display_version_number'] == \"5.0.0\":\n",
    "        return '2020-Sep-7'  \n",
    "    elif row['display_version_number'] == \"5.1.0\":\n",
    "        return '2020-Sep-14'      \n",
    "    elif row['display_version_number'] == \"5.2.0\":\n",
    "        return '2020-Sep-16'\n",
    "    elif row['display_version_number'] == \"5.3.0\":\n",
    "        return '2020-Sep-23'    \n",
    "    elif row['display_version_number'] == \"5.4.0\":\n",
    "        return '2020-Sep-30' \n",
    "    elif row['display_version_number'] == \"5.5.0\":\n",
    "        return '2020-Oct-7' \n",
    "    elif row['display_version_number'] == \"5.6.0\":\n",
    "        return '2020-Oct-14' \n",
    "    elif row['display_version_number'] == \"5.7.0\":\n",
    "        return '2020-Oct-21' \n",
    "    elif row['display_version_number'] == \"5.8.0\":\n",
    "        return '2020-Oct-28' \n",
    "    elif row['display_version_number'] == \"5.9.0\":\n",
    "        return '2020-Nov-4' \n",
    "    elif row['display_version_number'] == \"5.10.0\":\n",
    "        return '2020-Nov-11' \n",
    "    elif row['display_version_number'] == \"5.11.0\":\n",
    "        return '2020-Nov-18' \n",
    "    elif row['display_version_number'] == \"5.12.0\":\n",
    "        return '2020-Nov-25' \n",
    "    \n",
    "    else:\n",
    "        return 'N/A'"
   ]
  },
  {
   "cell_type": "code",
   "execution_count": 16,
   "metadata": {},
   "outputs": [],
   "source": [
    "def increment_number(row):\n",
    "    if row[\"display_version_number\"] == \"4.1.0\":\n",
    "        return 1    \n",
    "    elif row['display_version_number'] == \"4.2.0\":\n",
    "        return 2\n",
    "    elif row['display_version_number'] == \"4.3.0\":\n",
    "        return 3\n",
    "    elif row['display_version_number'] == \"4.4.0\":\n",
    "        return 4\n",
    "    elif row['display_version_number'] == \"4.5.0\":\n",
    "        return 5\n",
    "    elif row['display_version_number'] == \"4.6.0\":\n",
    "        return 6\n",
    "    elif row['display_version_number'] == \"4.7.0\":\n",
    "        return 7\n",
    "    elif row['display_version_number'] == \"4.8.0\":\n",
    "        return 8\n",
    "    elif row['display_version_number'] == \"4.9.0\":\n",
    "        return 9\n",
    "    elif row['display_version_number'] == \"4.10.0\":\n",
    "        return 10\n",
    "    elif row['display_version_number'] == \"4.11.0\":\n",
    "        return 11\n",
    "    elif row['display_version_number'] == \"4.11.1\":\n",
    "        return 12\n",
    "    elif row['display_version_number'] == \"4.12.0\":\n",
    "        return 13\n",
    "    elif row['display_version_number'] == \"4.13.0\":\n",
    "        return 14\n",
    "    elif row['display_version_number'] == \"4.14.0\":\n",
    "        return 15\n",
    "    elif row['display_version_number'] == \"4.14.1\":\n",
    "        return 16 \n",
    "    elif row['display_version_number'] == \"4.15.0\":\n",
    "        return 17\n",
    "    elif row['display_version_number'] == \"4.16.0\":\n",
    "        return 18    \n",
    "    elif row['display_version_number'] == \"4.17.0\":\n",
    "        return 19\n",
    "    elif row['display_version_number'] == \"4.18.0\":\n",
    "        return 20    \n",
    "    elif row['display_version_number'] == \"4.19.0\":\n",
    "        return 21      \n",
    "    elif row['display_version_number'] == \"4.20.0\":\n",
    "        return 22     \n",
    "    elif row['display_version_number'] == \"4.21.0\":\n",
    "        return 23    \n",
    "    elif row['display_version_number'] == \"4.22.0\":\n",
    "        return 24  \n",
    "    elif row['display_version_number'] == \"4.23.0\":\n",
    "        return 25     \n",
    "    elif row['display_version_number'] == \"4.24.0\":\n",
    "        return 26  \n",
    "    elif row['display_version_number'] == \"4.25.0\":\n",
    "        return 27\n",
    "    elif row['display_version_number'] == \"4.26.0\":\n",
    "        return 28     \n",
    "    elif row['display_version_number'] == \"4.26.1\":\n",
    "        return 29  \n",
    "    elif row['display_version_number'] == \"4.27.0\":\n",
    "        return 30 \n",
    "    elif row['display_version_number'] == \"4.28.0\":\n",
    "        return 31     \n",
    "    elif row['display_version_number'] == \"4.29.0\":\n",
    "        return 32     \n",
    "    elif row['display_version_number'] == \"4.30.0\":\n",
    "        return 33\n",
    "    elif row['display_version_number'] == \"4.31.0\":\n",
    "        return 34    \n",
    "    elif row['display_version_number'] == \"4.32.0\":\n",
    "        return 35 \n",
    "    elif row['display_version_number'] == \"4.33.0\":\n",
    "        return 36     \n",
    "    elif row['display_version_number'] == \"4.34.0\":\n",
    "        return 37  \n",
    "    elif row['display_version_number'] == \"5.0.0\":\n",
    "        return 38  \n",
    "    elif row['display_version_number'] == \"5.1.0\":\n",
    "        return 39      \n",
    "    elif row['display_version_number'] == \"5.2.0\":\n",
    "        return 40\n",
    "    elif row['display_version_number'] == \"5.3.0\":\n",
    "        return 41\n",
    "    elif row['display_version_number'] == \"5.4.0\":\n",
    "        return 42\n",
    "    elif row['display_version_number'] == \"5.5.0\":\n",
    "        return 43\n",
    "    elif row['display_version_number'] == \"5.6.0\":\n",
    "        return 44\n",
    "    elif row['display_version_number'] == \"5.7.0\":\n",
    "        return 45\n",
    "    elif row['display_version_number'] == \"5.8.0\":\n",
    "        return 46\n",
    "    elif row['display_version_number'] == \"5.9.0\":\n",
    "        return 47\n",
    "    elif row['display_version_number'] == \"5.10.0\":\n",
    "        return 48\n",
    "    elif row['display_version_number'] == \"5.11.0\":\n",
    "        return 49\n",
    "    elif row['display_version_number'] == \"5.12.0\":\n",
    "        return 50\n",
    "    \n",
    "    else:\n",
    "        return 0"
   ]
  },
  {
   "cell_type": "code",
   "execution_count": 17,
   "metadata": {},
   "outputs": [],
   "source": [
    "fw_count = fw_count.assign(increment_number = fw_count.apply(increment_number, axis=1))"
   ]
  },
  {
   "cell_type": "code",
   "execution_count": 18,
   "metadata": {},
   "outputs": [],
   "source": [
    "fw_count = fw_count.assign(fw_release = fw_count.apply(fw_release, axis=1))\n",
    "fw_count['fw_release'] = pd.to_datetime(fw_count['fw_release'], format='%Y-%b-%d',errors='coerce')"
   ]
  },
  {
   "cell_type": "code",
   "execution_count": 19,
   "metadata": {},
   "outputs": [
    {
     "data": {
      "text/plain": [
       "(7511, 8)"
      ]
     },
     "execution_count": 19,
     "metadata": {},
     "output_type": "execute_result"
    }
   ],
   "source": [
    "fw_count.shape"
   ]
  },
  {
   "cell_type": "code",
   "execution_count": 20,
   "metadata": {},
   "outputs": [
    {
     "data": {
      "text/html": [
       "<div>\n",
       "<style scoped>\n",
       "    .dataframe tbody tr th:only-of-type {\n",
       "        vertical-align: middle;\n",
       "    }\n",
       "\n",
       "    .dataframe tbody tr th {\n",
       "        vertical-align: top;\n",
       "    }\n",
       "\n",
       "    .dataframe thead th {\n",
       "        text-align: right;\n",
       "    }\n",
       "</style>\n",
       "<table border=\"1\" class=\"dataframe\">\n",
       "  <thead>\n",
       "    <tr style=\"text-align: right;\">\n",
       "      <th></th>\n",
       "      <th>index</th>\n",
       "      <th>UUID</th>\n",
       "      <th>display_version_number</th>\n",
       "      <th>State</th>\n",
       "      <th>version_number</th>\n",
       "      <th>upgrade_date</th>\n",
       "      <th>increment_number</th>\n",
       "      <th>fw_release</th>\n",
       "    </tr>\n",
       "  </thead>\n",
       "  <tbody>\n",
       "    <tr>\n",
       "      <th>0</th>\n",
       "      <td>1156</td>\n",
       "      <td>88001908A01769D0</td>\n",
       "      <td>5.9.0</td>\n",
       "      <td>Success</td>\n",
       "      <td>NaN</td>\n",
       "      <td>2020-11-08</td>\n",
       "      <td>47</td>\n",
       "      <td>2020-11-04</td>\n",
       "    </tr>\n",
       "    <tr>\n",
       "      <th>1</th>\n",
       "      <td>1237</td>\n",
       "      <td>88001912B00993C8</td>\n",
       "      <td>5.9.0</td>\n",
       "      <td>Success</td>\n",
       "      <td>NaN</td>\n",
       "      <td>2020-11-10</td>\n",
       "      <td>47</td>\n",
       "      <td>2020-11-04</td>\n",
       "    </tr>\n",
       "    <tr>\n",
       "      <th>2</th>\n",
       "      <td>1239</td>\n",
       "      <td>88001912B0104838</td>\n",
       "      <td>5.9.0</td>\n",
       "      <td>Success</td>\n",
       "      <td>NaN</td>\n",
       "      <td>2020-11-05</td>\n",
       "      <td>47</td>\n",
       "      <td>2020-11-04</td>\n",
       "    </tr>\n",
       "    <tr>\n",
       "      <th>3</th>\n",
       "      <td>1240</td>\n",
       "      <td>88001912B0111300</td>\n",
       "      <td>5.9.0</td>\n",
       "      <td>Success</td>\n",
       "      <td>NaN</td>\n",
       "      <td>2020-11-09</td>\n",
       "      <td>47</td>\n",
       "      <td>2020-11-04</td>\n",
       "    </tr>\n",
       "    <tr>\n",
       "      <th>4</th>\n",
       "      <td>1241</td>\n",
       "      <td>88001912B0112140</td>\n",
       "      <td>5.9.0</td>\n",
       "      <td>Success</td>\n",
       "      <td>NaN</td>\n",
       "      <td>2020-11-06</td>\n",
       "      <td>47</td>\n",
       "      <td>2020-11-04</td>\n",
       "    </tr>\n",
       "  </tbody>\n",
       "</table>\n",
       "</div>"
      ],
      "text/plain": [
       "   index              UUID display_version_number    State version_number  \\\n",
       "0   1156  88001908A01769D0                  5.9.0  Success            NaN   \n",
       "1   1237  88001912B00993C8                  5.9.0  Success            NaN   \n",
       "2   1239  88001912B0104838                  5.9.0  Success            NaN   \n",
       "3   1240  88001912B0111300                  5.9.0  Success            NaN   \n",
       "4   1241  88001912B0112140                  5.9.0  Success            NaN   \n",
       "\n",
       "  upgrade_date  increment_number fw_release  \n",
       "0   2020-11-08                47 2020-11-04  \n",
       "1   2020-11-10                47 2020-11-04  \n",
       "2   2020-11-05                47 2020-11-04  \n",
       "3   2020-11-09                47 2020-11-04  \n",
       "4   2020-11-06                47 2020-11-04  "
      ]
     },
     "execution_count": 20,
     "metadata": {},
     "output_type": "execute_result"
    }
   ],
   "source": [
    "fw_count.head()"
   ]
  },
  {
   "cell_type": "code",
   "execution_count": 21,
   "metadata": {},
   "outputs": [],
   "source": [
    "fw_count['date_taken'] = fw_count['upgrade_date'] - fw_count['fw_release']"
   ]
  },
  {
   "cell_type": "code",
   "execution_count": 22,
   "metadata": {},
   "outputs": [
    {
     "data": {
      "text/html": [
       "<div>\n",
       "<style scoped>\n",
       "    .dataframe tbody tr th:only-of-type {\n",
       "        vertical-align: middle;\n",
       "    }\n",
       "\n",
       "    .dataframe tbody tr th {\n",
       "        vertical-align: top;\n",
       "    }\n",
       "\n",
       "    .dataframe thead th {\n",
       "        text-align: right;\n",
       "    }\n",
       "</style>\n",
       "<table border=\"1\" class=\"dataframe\">\n",
       "  <thead>\n",
       "    <tr style=\"text-align: right;\">\n",
       "      <th></th>\n",
       "      <th>index</th>\n",
       "      <th>UUID</th>\n",
       "      <th>display_version_number</th>\n",
       "      <th>State</th>\n",
       "      <th>version_number</th>\n",
       "      <th>upgrade_date</th>\n",
       "      <th>increment_number</th>\n",
       "      <th>fw_release</th>\n",
       "      <th>date_taken</th>\n",
       "    </tr>\n",
       "  </thead>\n",
       "  <tbody>\n",
       "    <tr>\n",
       "      <th>0</th>\n",
       "      <td>1156</td>\n",
       "      <td>88001908A01769D0</td>\n",
       "      <td>5.9.0</td>\n",
       "      <td>Success</td>\n",
       "      <td>NaN</td>\n",
       "      <td>2020-11-08</td>\n",
       "      <td>47</td>\n",
       "      <td>2020-11-04</td>\n",
       "      <td>4 days</td>\n",
       "    </tr>\n",
       "    <tr>\n",
       "      <th>1</th>\n",
       "      <td>1237</td>\n",
       "      <td>88001912B00993C8</td>\n",
       "      <td>5.9.0</td>\n",
       "      <td>Success</td>\n",
       "      <td>NaN</td>\n",
       "      <td>2020-11-10</td>\n",
       "      <td>47</td>\n",
       "      <td>2020-11-04</td>\n",
       "      <td>6 days</td>\n",
       "    </tr>\n",
       "    <tr>\n",
       "      <th>2</th>\n",
       "      <td>1239</td>\n",
       "      <td>88001912B0104838</td>\n",
       "      <td>5.9.0</td>\n",
       "      <td>Success</td>\n",
       "      <td>NaN</td>\n",
       "      <td>2020-11-05</td>\n",
       "      <td>47</td>\n",
       "      <td>2020-11-04</td>\n",
       "      <td>1 days</td>\n",
       "    </tr>\n",
       "    <tr>\n",
       "      <th>3</th>\n",
       "      <td>1240</td>\n",
       "      <td>88001912B0111300</td>\n",
       "      <td>5.9.0</td>\n",
       "      <td>Success</td>\n",
       "      <td>NaN</td>\n",
       "      <td>2020-11-09</td>\n",
       "      <td>47</td>\n",
       "      <td>2020-11-04</td>\n",
       "      <td>5 days</td>\n",
       "    </tr>\n",
       "    <tr>\n",
       "      <th>4</th>\n",
       "      <td>1241</td>\n",
       "      <td>88001912B0112140</td>\n",
       "      <td>5.9.0</td>\n",
       "      <td>Success</td>\n",
       "      <td>NaN</td>\n",
       "      <td>2020-11-06</td>\n",
       "      <td>47</td>\n",
       "      <td>2020-11-04</td>\n",
       "      <td>2 days</td>\n",
       "    </tr>\n",
       "  </tbody>\n",
       "</table>\n",
       "</div>"
      ],
      "text/plain": [
       "   index              UUID display_version_number    State version_number  \\\n",
       "0   1156  88001908A01769D0                  5.9.0  Success            NaN   \n",
       "1   1237  88001912B00993C8                  5.9.0  Success            NaN   \n",
       "2   1239  88001912B0104838                  5.9.0  Success            NaN   \n",
       "3   1240  88001912B0111300                  5.9.0  Success            NaN   \n",
       "4   1241  88001912B0112140                  5.9.0  Success            NaN   \n",
       "\n",
       "  upgrade_date  increment_number fw_release date_taken  \n",
       "0   2020-11-08                47 2020-11-04     4 days  \n",
       "1   2020-11-10                47 2020-11-04     6 days  \n",
       "2   2020-11-05                47 2020-11-04     1 days  \n",
       "3   2020-11-09                47 2020-11-04     5 days  \n",
       "4   2020-11-06                47 2020-11-04     2 days  "
      ]
     },
     "execution_count": 22,
     "metadata": {},
     "output_type": "execute_result"
    }
   ],
   "source": [
    "fw_count.head()"
   ]
  },
  {
   "cell_type": "code",
   "execution_count": 23,
   "metadata": {},
   "outputs": [
    {
     "data": {
      "text/plain": [
       "<bound method NDFrame.describe of       index              UUID display_version_number    State version_number  \\\n",
       "0      1156  88001908A01769D0                  5.9.0  Success            NaN   \n",
       "1      1237  88001912B00993C8                  5.9.0  Success            NaN   \n",
       "2      1239  88001912B0104838                  5.9.0  Success            NaN   \n",
       "3      1240  88001912B0111300                  5.9.0  Success            NaN   \n",
       "4      1241  88001912B0112140                  5.9.0  Success            NaN   \n",
       "...     ...               ...                    ...      ...            ...   \n",
       "7506   3761  88001908A0228238                    NaN  Success            NaN   \n",
       "7507   3762  88001908A03708B0                    NaN  Success            NaN   \n",
       "7508   3763  88001908A0430348                    NaN  Success            NaN   \n",
       "7509   3764  88001908A05429F8                    NaN  Success            NaN   \n",
       "7510   3765  88001908A0571258                    NaN  Success            NaN   \n",
       "\n",
       "     upgrade_date  increment_number fw_release date_taken  \n",
       "0      2020-11-08                47 2020-11-04     4 days  \n",
       "1      2020-11-10                47 2020-11-04     6 days  \n",
       "2      2020-11-05                47 2020-11-04     1 days  \n",
       "3      2020-11-09                47 2020-11-04     5 days  \n",
       "4      2020-11-06                47 2020-11-04     2 days  \n",
       "...           ...               ...        ...        ...  \n",
       "7506   2020-01-04                 0        NaT        NaT  \n",
       "7507   2020-01-03                 0        NaT        NaT  \n",
       "7508   2020-01-02                 0        NaT        NaT  \n",
       "7509   2020-01-03                 0        NaT        NaT  \n",
       "7510   2020-01-02                 0        NaT        NaT  \n",
       "\n",
       "[7511 rows x 9 columns]>"
      ]
     },
     "execution_count": 23,
     "metadata": {},
     "output_type": "execute_result"
    }
   ],
   "source": [
    "fw_count.describe"
   ]
  },
  {
   "cell_type": "code",
   "execution_count": 24,
   "metadata": {},
   "outputs": [
    {
     "data": {
      "text/plain": [
       "(7511, 9)"
      ]
     },
     "execution_count": 24,
     "metadata": {},
     "output_type": "execute_result"
    }
   ],
   "source": [
    "fw_count.shape"
   ]
  },
  {
   "cell_type": "markdown",
   "metadata": {},
   "source": [
    "### Firmware User in 5.x release"
   ]
  },
  {
   "cell_type": "code",
   "execution_count": 25,
   "metadata": {},
   "outputs": [
    {
     "data": {
      "text/plain": [
       "<matplotlib.axes._subplots.AxesSubplot at 0x1db2f14dd48>"
      ]
     },
     "execution_count": 25,
     "metadata": {},
     "output_type": "execute_result"
    },
    {
     "data": {
      "image/png": "[encoded data removed]",
      "text/plain": [
       "<Figure size 1080x576 with 1 Axes>"
      ]
     },
     "metadata": {
      "needs_background": "light"
     },
     "output_type": "display_data"
    }
   ],
   "source": [
    "import seaborn as sns\n",
    "plt.figure(figsize=(15,8))\n",
    "sns.countplot(data=fw_count[fw_count['increment_number'] >= 38],\n",
    "              x=\"display_version_number\",\n",
    "              palette='Set1')"
   ]
  },
  {
   "cell_type": "code",
   "execution_count": 26,
   "metadata": {},
   "outputs": [
    {
     "data": {
      "text/plain": [
       "Success       3766\n",
       "CHECKING      3589\n",
       "DOWNLOADED     156\n",
       "Name: State, dtype: int64"
      ]
     },
     "execution_count": 26,
     "metadata": {},
     "output_type": "execute_result"
    }
   ],
   "source": [
    "fw_count['State'].value_counts()"
   ]
  },
  {
   "cell_type": "code",
   "execution_count": 27,
   "metadata": {},
   "outputs": [],
   "source": [
    "fw_count.to_csv(os.path.join(path, 'fw_count.csv'), index=False)"
   ]
  },
  {
   "cell_type": "code",
   "execution_count": null,
   "metadata": {},
   "outputs": [],
   "source": []
  }
 ],
 "metadata": {
  "kernelspec": {
   "display_name": "Python 3",
   "language": "python",
   "name": "python3"
  },
  "language_info": {
   "codemirror_mode": {
    "name": "ipython",
    "version": 3
   },
   "file_extension": ".py",
   "mimetype": "text/x-python",
   "name": "python",
   "nbconvert_exporter": "python",
   "pygments_lexer": "ipython3",
   "version": "3.7.6"
  }
 },
 "nbformat": 4,
 "nbformat_minor": 4
}
