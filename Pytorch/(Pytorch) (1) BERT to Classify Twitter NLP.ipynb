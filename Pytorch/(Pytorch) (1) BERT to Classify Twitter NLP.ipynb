{
 "cells": [
  {
   "cell_type": "code",
   "execution_count": 1,
   "metadata": {
    "collapsed": true,
    "jupyter": {
     "outputs_hidden": true
    }
   },
   "outputs": [
    {
     "name": "stdout",
     "output_type": "stream",
     "text": [
      "Collecting transformers\n",
      "  Downloading https://files.pythonhosted.org/packages/50/10/aeefced99c8a59d828a92cc11d213e2743212d3641c87c82d61b035a7d5c/transformers-2.3.0-py3-none-any.whl (447kB)\n",
      "Requirement already satisfied: boto3 in c:\\users\\bokhy\\appdata\\local\\programs\\python\\python37\\lib\\site-packages (from transformers) (1.11.3)\n",
      "Requirement already satisfied: tqdm in c:\\users\\bokhy\\appdata\\local\\programs\\python\\python37\\lib\\site-packages (from transformers) (4.41.0)\n",
      "Requirement already satisfied: sacremoses in c:\\users\\bokhy\\appdata\\local\\programs\\python\\python37\\lib\\site-packages (from transformers) (0.0.38)\n",
      "Requirement already satisfied: requests in c:\\users\\bokhy\\appdata\\local\\programs\\python\\python37\\lib\\site-packages (from transformers) (2.22.0)\n",
      "Requirement already satisfied: regex!=2019.12.17 in c:\\users\\bokhy\\appdata\\local\\programs\\python\\python37\\lib\\site-packages (from transformers) (2020.1.8)\n",
      "Requirement already satisfied: sentencepiece in c:\\users\\bokhy\\appdata\\local\\programs\\python\\python37\\lib\\site-packages (from transformers) (0.1.85)\n",
      "Requirement already satisfied: numpy in c:\\users\\bokhy\\appdata\\roaming\\python\\python37\\site-packages (from transformers) (1.16.3)\n",
      "Requirement already satisfied: s3transfer<0.4.0,>=0.3.0 in c:\\users\\bokhy\\appdata\\local\\programs\\python\\python37\\lib\\site-packages (from boto3->transformers) (0.3.0)\n",
      "Requirement already satisfied: botocore<1.15.0,>=1.14.3 in c:\\users\\bokhy\\appdata\\local\\programs\\python\\python37\\lib\\site-packages (from boto3->transformers) (1.14.3)\n",
      "Requirement already satisfied: jmespath<1.0.0,>=0.7.1 in c:\\users\\bokhy\\appdata\\local\\programs\\python\\python37\\lib\\site-packages (from boto3->transformers) (0.9.4)\n",
      "Requirement already satisfied: joblib in c:\\users\\bokhy\\appdata\\local\\programs\\python\\python37\\lib\\site-packages (from sacremoses->transformers) (0.13.2)\n",
      "Requirement already satisfied: six in c:\\users\\bokhy\\appdata\\roaming\\python\\python37\\site-packages (from sacremoses->transformers) (1.12.0)\n",
      "Requirement already satisfied: click in c:\\users\\bokhy\\appdata\\local\\programs\\python\\python37\\lib\\site-packages (from sacremoses->transformers) (7.0)\n",
      "Requirement already satisfied: urllib3!=1.25.0,!=1.25.1,<1.26,>=1.21.1 in c:\\users\\bokhy\\appdata\\local\\programs\\python\\python37\\lib\\site-packages (from requests->transformers) (1.24.3)\n",
      "Requirement already satisfied: certifi>=2017.4.17 in c:\\users\\bokhy\\appdata\\local\\programs\\python\\python37\\lib\\site-packages (from requests->transformers) (2019.11.28)\n",
      "Requirement already satisfied: idna<2.9,>=2.5 in c:\\users\\bokhy\\appdata\\local\\programs\\python\\python37\\lib\\site-packages (from requests->transformers) (2.8)\n",
      "Requirement already satisfied: chardet<3.1.0,>=3.0.2 in c:\\users\\bokhy\\appdata\\local\\programs\\python\\python37\\lib\\site-packages (from requests->transformers) (3.0.4)\n",
      "Requirement already satisfied: python-dateutil<3.0.0,>=2.1 in c:\\users\\bokhy\\appdata\\local\\programs\\python\\python37\\lib\\site-packages (from botocore<1.15.0,>=1.14.3->boto3->transformers) (2.8.0)\n",
      "Requirement already satisfied: docutils<0.16,>=0.10 in c:\\users\\bokhy\\appdata\\local\\programs\\python\\python37\\lib\\site-packages (from botocore<1.15.0,>=1.14.3->boto3->transformers) (0.15.2)\n",
      "Installing collected packages: transformers\n",
      "Successfully installed transformers-2.3.0\n"
     ]
    },
    {
     "name": "stderr",
     "output_type": "stream",
     "text": [
      "WARNING: You are using pip version 19.3.1; however, version 20.0.2 is available.\n",
      "You should consider upgrading via the 'python -m pip install --upgrade pip' command.\n"
     ]
    }
   ],
   "source": [
    "!pip install transformers"
   ]
  },
  {
   "cell_type": "code",
   "execution_count": 1,
   "metadata": {},
   "outputs": [
    {
     "name": "stderr",
     "output_type": "stream",
     "text": [
      "I0126 18:48:25.140106 13856 file_utils.py:35] PyTorch version 1.3.1 available.\n"
     ]
    }
   ],
   "source": [
    "import random\n",
    "import numpy as np\n",
    "from tqdm import tqdm_notebook as tqdm\n",
    "import time\n",
    "import logging\n",
    "from sklearn.model_selection import StratifiedKFold\n",
    "import os\n",
    "import pandas as pd\n",
    "import torch\n",
    "import torch.nn as nn\n",
    "import torch.nn.functional as F\n",
    "from torch.utils.data import (DataLoader, RandomSampler, SequentialSampler,\n",
    "                              TensorDataset)\n",
    "from sklearn.metrics import accuracy_score, f1_score\n",
    "\n",
    "from transformers import *"
   ]
  },
  {
   "cell_type": "code",
   "execution_count": 2,
   "metadata": {},
   "outputs": [],
   "source": [
    "# Set Seed Everything\n",
    "def seed_everything(seed=623):\n",
    "    random.seed(seed)\n",
    "    os.environ['PYTHONHASHSEED'] = str(seed)\n",
    "    np.random.seed(seed)\n",
    "    torch.manual_seed(seed)\n",
    "    torch.cuda.manual_seed(seed)\n",
    "    torch.backends.cudnn.deterministic = True\n",
    "seed_everything()"
   ]
  },
  {
   "cell_type": "code",
   "execution_count": 3,
   "metadata": {},
   "outputs": [],
   "source": [
    "train = pd.read_csv('C:\\\\Users\\\\bokhy\\\\Python\\\\pytorch\\\\pytorch\\\\data\\\\nlp-getting-started\\\\train.csv')\n",
    "test = pd.read_csv('C:\\\\Users\\\\bokhy\\\\Python\\\\pytorch\\\\pytorch\\\\data\\\\nlp-getting-started\\\\test.csv')\n",
    "submit = pd.read_csv('C:\\\\Users\\\\bokhy\\\\Python\\\\pytorch\\\\pytorch\\\\data\\\\nlp-getting-started\\\\sample_submission.csv')"
   ]
  },
  {
   "cell_type": "code",
   "execution_count": 4,
   "metadata": {},
   "outputs": [
    {
     "name": "stdout",
     "output_type": "stream",
     "text": [
      "(7613, 5)\n",
      "(3263, 4)\n"
     ]
    },
    {
     "data": {
      "text/html": [
       "<div>\n",
       "<style scoped>\n",
       "    .dataframe tbody tr th:only-of-type {\n",
       "        vertical-align: middle;\n",
       "    }\n",
       "\n",
       "    .dataframe tbody tr th {\n",
       "        vertical-align: top;\n",
       "    }\n",
       "\n",
       "    .dataframe thead th {\n",
       "        text-align: right;\n",
       "    }\n",
       "</style>\n",
       "<table border=\"1\" class=\"dataframe\">\n",
       "  <thead>\n",
       "    <tr style=\"text-align: right;\">\n",
       "      <th></th>\n",
       "      <th>id</th>\n",
       "      <th>keyword</th>\n",
       "      <th>location</th>\n",
       "      <th>text</th>\n",
       "      <th>target</th>\n",
       "    </tr>\n",
       "  </thead>\n",
       "  <tbody>\n",
       "    <tr>\n",
       "      <th>0</th>\n",
       "      <td>1</td>\n",
       "      <td>NaN</td>\n",
       "      <td>NaN</td>\n",
       "      <td>Our Deeds are the Reason of this #earthquake M...</td>\n",
       "      <td>1</td>\n",
       "    </tr>\n",
       "    <tr>\n",
       "      <th>1</th>\n",
       "      <td>4</td>\n",
       "      <td>NaN</td>\n",
       "      <td>NaN</td>\n",
       "      <td>Forest fire near La Ronge Sask. Canada</td>\n",
       "      <td>1</td>\n",
       "    </tr>\n",
       "    <tr>\n",
       "      <th>2</th>\n",
       "      <td>5</td>\n",
       "      <td>NaN</td>\n",
       "      <td>NaN</td>\n",
       "      <td>All residents asked to 'shelter in place' are ...</td>\n",
       "      <td>1</td>\n",
       "    </tr>\n",
       "    <tr>\n",
       "      <th>3</th>\n",
       "      <td>6</td>\n",
       "      <td>NaN</td>\n",
       "      <td>NaN</td>\n",
       "      <td>13,000 people receive #wildfires evacuation or...</td>\n",
       "      <td>1</td>\n",
       "    </tr>\n",
       "    <tr>\n",
       "      <th>4</th>\n",
       "      <td>7</td>\n",
       "      <td>NaN</td>\n",
       "      <td>NaN</td>\n",
       "      <td>Just got sent this photo from Ruby #Alaska as ...</td>\n",
       "      <td>1</td>\n",
       "    </tr>\n",
       "  </tbody>\n",
       "</table>\n",
       "</div>"
      ],
      "text/plain": [
       "   id keyword location                                               text  \\\n",
       "0   1     NaN      NaN  Our Deeds are the Reason of this #earthquake M...   \n",
       "1   4     NaN      NaN             Forest fire near La Ronge Sask. Canada   \n",
       "2   5     NaN      NaN  All residents asked to 'shelter in place' are ...   \n",
       "3   6     NaN      NaN  13,000 people receive #wildfires evacuation or...   \n",
       "4   7     NaN      NaN  Just got sent this photo from Ruby #Alaska as ...   \n",
       "\n",
       "   target  \n",
       "0       1  \n",
       "1       1  \n",
       "2       1  \n",
       "3       1  \n",
       "4       1  "
      ]
     },
     "execution_count": 4,
     "metadata": {},
     "output_type": "execute_result"
    }
   ],
   "source": [
    "print(train.shape)\n",
    "print(test.shape)\n",
    "train.head()"
   ]
  },
  {
   "cell_type": "code",
   "execution_count": 5,
   "metadata": {},
   "outputs": [],
   "source": [
    "# Tokenize our train and test data"
   ]
  },
  {
   "cell_type": "code",
   "execution_count": 6,
   "metadata": {},
   "outputs": [],
   "source": [
    "class InputExample(object):\n",
    "    \"\"\"A single training/test example for simple sequence classification.\"\"\"\n",
    "\n",
    "    def __init__(self, id, text, label=None):\n",
    "        \"\"\"Constructs a InputExample.\n",
    "        Args:\n",
    "            id: Unique id for the example.\n",
    "            text: string. The untokenized text of the first sequence. For single\n",
    "            sequence tasks, only this sequence must be specified.\n",
    "            label: (Optional) string. The label of the example. This should be\n",
    "            specified for train and dev examples, but not for test examples.\n",
    "        \"\"\"\n",
    "        self.id = id\n",
    "        self.text = text\n",
    "        self.label = label\n",
    "\n",
    "\n",
    "class InputFeatures(object):\n",
    "    def __init__(self,example_id,choices_features,label):\n",
    "        self.example_id = example_id\n",
    "        _, input_ids, input_mask, segment_ids = choices_features[0]\n",
    "        self.choices_features = {\n",
    "            'input_ids': input_ids,\n",
    "            'input_mask': input_mask,\n",
    "            'segment_ids': segment_ids\n",
    "        }\n",
    "        self.label = label"
   ]
  },
  {
   "cell_type": "code",
   "execution_count": 7,
   "metadata": {},
   "outputs": [],
   "source": [
    "def read_examples(df, is_training):\n",
    "    if not is_training:\n",
    "        df['target'] = np.zeros(len(df), dtype=np.int64)\n",
    "    examples = []\n",
    "    for val in df[['id', 'text', 'target']].values:\n",
    "        examples.append(InputExample(id=val[0], text=val[1], label=val[2]))\n",
    "    return examples, df\n",
    "\n",
    "\n",
    "def _truncate_seq_pair(tokens_a, tokens_b, max_length):\n",
    "    \"\"\"Truncates a sequence pair in place to the maximum length.\"\"\"\n",
    "\n",
    "    # This is a simple heuristic which will always truncate the longer sequence\n",
    "    # one token at a time. This makes more sense than truncating an equal percent\n",
    "    # of tokens from each, since if one sequence is very short then each token\n",
    "    # that's truncated likely contains more information than a longer sequence.\n",
    "\n",
    "    while True:\n",
    "        total_length = len(tokens_a) + len(tokens_b)\n",
    "        if total_length <= max_length:\n",
    "            break\n",
    "        if len(tokens_a) > len(tokens_b):\n",
    "            tokens_a.pop()\n",
    "        else:\n",
    "            tokens_b.pop()"
   ]
  },
  {
   "cell_type": "code",
   "execution_count": 8,
   "metadata": {},
   "outputs": [],
   "source": [
    "def convert_examples_to_features(examples, tokenizer, max_seq_length,\n",
    "                                 is_training):\n",
    "    features = []\n",
    "    for example_index, example in enumerate(examples):\n",
    "\n",
    "        text = tokenizer.tokenize(example.text)\n",
    "        MAX_TEXT_LEN = max_seq_length - 2 \n",
    "        text = text[:MAX_TEXT_LEN]\n",
    "\n",
    "        choices_features = []\n",
    "\n",
    "        tokens = [\"[CLS]\"] + text + [\"[SEP]\"]  \n",
    "        segment_ids = [0] * (len(text) + 2) \n",
    "        input_ids = tokenizer.convert_tokens_to_ids(tokens)\n",
    "        input_mask = [1] * len(input_ids)\n",
    "\n",
    "        padding_length = max_seq_length - len(input_ids)\n",
    "        input_ids += ([0] * padding_length)\n",
    "        input_mask += ([0] * padding_length)\n",
    "        segment_ids += ([0] * padding_length)\n",
    "        choices_features.append((tokens, input_ids, input_mask, segment_ids))\n",
    "\n",
    "        label = example.label\n",
    "        if example_index < 1 and is_training:\n",
    "            logger.info(\"*** Example ***\")\n",
    "            logger.info(\"idx: {}\".format(example_index))\n",
    "            logger.info(\"id: {}\".format(example.id))\n",
    "            logger.info(\"tokens: {}\".format(' '.join(tokens).replace('\\u2581', '_')))\n",
    "            logger.info(\"input_ids: {}\".format(' '.join(map(str, input_ids))))\n",
    "            logger.info(\"input_mask: {}\".format(len(input_mask)))\n",
    "            logger.info(\"segment_ids: {}\".format(len(segment_ids)))\n",
    "            logger.info(\"label: {}\".format(label))\n",
    "\n",
    "        features.append(\n",
    "            InputFeatures(\n",
    "                example_id=example.id,\n",
    "                choices_features=choices_features,\n",
    "                label=label\n",
    "            )\n",
    "        )\n",
    "    return features\n",
    "\n",
    "\n",
    "def select_field(features, field):\n",
    "    return [\n",
    "        feature.choices_features[field] for feature in features\n",
    "    ]\n",
    "\n",
    "def metric(y_true, y_pred):\n",
    "    acc = accuracy_score(y_true, y_pred)\n",
    "    f1 = f1_score(y_true, y_pred, average='macro')\n",
    "    return acc, f1"
   ]
  },
  {
   "cell_type": "code",
   "execution_count": 9,
   "metadata": {},
   "outputs": [],
   "source": [
    "# hyperparameters\n",
    "max_seq_length = 128\n",
    "learning_rate = 1e-5  \n",
    "num_epochs = 3  \n",
    "batch_size = 8  \n",
    "patience = 2  \n",
    "file_name = 'model'  "
   ]
  },
  {
   "cell_type": "code",
   "execution_count": 10,
   "metadata": {},
   "outputs": [],
   "source": [
    "logger = logging.getLogger('mylogger')\n",
    "logger.setLevel(logging.DEBUG)\n",
    "timestamp = time.strftime(\"%Y.%m.%d_%H.%M.%S\", time.localtime())\n",
    "fh = logging.FileHandler('log_model.txt')\n",
    "fh.setLevel(logging.DEBUG)\n",
    "ch = logging.StreamHandler()\n",
    "ch.setLevel(logging.DEBUG)\n",
    "formatter = logging.Formatter('[%(asctime)s][%(levelname)s] ## %(message)s')\n",
    "fh.setFormatter(formatter)\n",
    "ch.setFormatter(formatter)\n",
    "logger.addHandler(fh)\n",
    "logger.addHandler(ch)"
   ]
  },
  {
   "cell_type": "code",
   "execution_count": 11,
   "metadata": {},
   "outputs": [
    {
     "name": "stderr",
     "output_type": "stream",
     "text": [
      "I0126 18:48:49.879570 13856 tokenization_utils.py:398] loading file https://s3.amazonaws.com/models.huggingface.co/bert/bert-base-uncased-vocab.txt from cache at C:\\Users\\bokhy\\.cache\\torch\\transformers\\26bc1ad6c0ac742e9b52263248f6d0f00068293b33709fae12320c0e35ccfbbb.542ce4285a40d23a559526243235df47c5f75c197f04f37d1a0c124c32c9a084\n"
     ]
    }
   ],
   "source": [
    "# BERT expects three kinds of input: input_ids(of tokens), segment_ids(to distinguish different sentences), \n",
    "# and input_mask(to indicate which elements in the sequence are tokens and which are padding elements). \n",
    "# The code below gets all three inputs for train set\n",
    "tokenizer = BertTokenizer.from_pretrained('bert-base-uncased', do_lower_case=True)"
   ]
  },
  {
   "cell_type": "code",
   "execution_count": 12,
   "metadata": {},
   "outputs": [
    {
     "name": "stderr",
     "output_type": "stream",
     "text": [
      "[2020-01-26 18:48:51,736][INFO] ## *** Example ***\n",
      "I0126 18:48:51.736677 13856 <ipython-input-8-d8a8c87a5f7e>:25] *** Example ***\n",
      "[2020-01-26 18:48:51,737][INFO] ## idx: 0\n",
      "I0126 18:48:51.737674 13856 <ipython-input-8-d8a8c87a5f7e>:26] idx: 0\n",
      "[2020-01-26 18:48:51,739][INFO] ## id: 1\n",
      "I0126 18:48:51.739673 13856 <ipython-input-8-d8a8c87a5f7e>:27] id: 1\n",
      "[2020-01-26 18:48:51,742][INFO] ## tokens: [CLS] our deeds are the reason of this # earthquake may allah forgive us all [SEP]\n",
      "I0126 18:48:51.742662 13856 <ipython-input-8-d8a8c87a5f7e>:28] tokens: [CLS] our deeds are the reason of this # earthquake may allah forgive us all [SEP]\n",
      "[2020-01-26 18:48:51,743][INFO] ## input_ids: 101 2256 15616 2024 1996 3114 1997 2023 1001 8372 2089 16455 9641 2149 2035 102 0 0 0 0 0 0 0 0 0 0 0 0 0 0 0 0 0 0 0 0 0 0 0 0 0 0 0 0 0 0 0 0 0 0 0 0 0 0 0 0 0 0 0 0 0 0 0 0 0 0 0 0 0 0 0 0 0 0 0 0 0 0 0 0 0 0 0 0 0 0 0 0 0 0 0 0 0 0 0 0 0 0 0 0 0 0 0 0 0 0 0 0 0 0 0 0 0 0 0 0 0 0 0 0 0 0 0 0 0 0 0 0\n",
      "I0126 18:48:51.743655 13856 <ipython-input-8-d8a8c87a5f7e>:29] input_ids: 101 2256 15616 2024 1996 3114 1997 2023 1001 8372 2089 16455 9641 2149 2035 102 0 0 0 0 0 0 0 0 0 0 0 0 0 0 0 0 0 0 0 0 0 0 0 0 0 0 0 0 0 0 0 0 0 0 0 0 0 0 0 0 0 0 0 0 0 0 0 0 0 0 0 0 0 0 0 0 0 0 0 0 0 0 0 0 0 0 0 0 0 0 0 0 0 0 0 0 0 0 0 0 0 0 0 0 0 0 0 0 0 0 0 0 0 0 0 0 0 0 0 0 0 0 0 0 0 0 0 0 0 0 0 0\n",
      "[2020-01-26 18:48:51,745][INFO] ## input_mask: 128\n",
      "I0126 18:48:51.745654 13856 <ipython-input-8-d8a8c87a5f7e>:30] input_mask: 128\n",
      "[2020-01-26 18:48:51,747][INFO] ## segment_ids: 128\n",
      "I0126 18:48:51.747645 13856 <ipython-input-8-d8a8c87a5f7e>:31] segment_ids: 128\n",
      "[2020-01-26 18:48:51,749][INFO] ## label: 1\n",
      "I0126 18:48:51.749644 13856 <ipython-input-8-d8a8c87a5f7e>:32] label: 1\n"
     ]
    }
   ],
   "source": [
    "# Train set\n",
    "train_examples, train_df = read_examples(train, is_training=True)\n",
    "labels = train_df['target'].astype(int).values\n",
    "train_features = convert_examples_to_features(\n",
    "    train_examples, tokenizer, max_seq_length, True)\n",
    "all_input_ids = np.array(select_field(train_features, 'input_ids'))\n",
    "all_input_mask = np.array(select_field(train_features, 'input_mask'))\n",
    "all_segment_ids = np.array(select_field(train_features, 'segment_ids'))\n",
    "all_label = np.array([f.label for f in train_features])"
   ]
  },
  {
   "cell_type": "code",
   "execution_count": 13,
   "metadata": {},
   "outputs": [
    {
     "name": "stderr",
     "output_type": "stream",
     "text": [
      "[2020-01-26 18:48:56,144][INFO] ## *** Example ***\n",
      "I0126 18:48:56.144277 13856 <ipython-input-8-d8a8c87a5f7e>:25] *** Example ***\n",
      "[2020-01-26 18:48:56,150][INFO] ## idx: 0\n",
      "I0126 18:48:56.150223 13856 <ipython-input-8-d8a8c87a5f7e>:26] idx: 0\n",
      "[2020-01-26 18:48:56,153][INFO] ## id: 0\n",
      "I0126 18:48:56.153217 13856 <ipython-input-8-d8a8c87a5f7e>:27] id: 0\n",
      "[2020-01-26 18:48:56,155][INFO] ## tokens: [CLS] just happened a terrible car crash [SEP]\n",
      "I0126 18:48:56.155211 13856 <ipython-input-8-d8a8c87a5f7e>:28] tokens: [CLS] just happened a terrible car crash [SEP]\n",
      "[2020-01-26 18:48:56,160][INFO] ## input_ids: 101 2074 3047 1037 6659 2482 5823 102 0 0 0 0 0 0 0 0 0 0 0 0 0 0 0 0 0 0 0 0 0 0 0 0 0 0 0 0 0 0 0 0 0 0 0 0 0 0 0 0 0 0 0 0 0 0 0 0 0 0 0 0 0 0 0 0 0 0 0 0 0 0 0 0 0 0 0 0 0 0 0 0 0 0 0 0 0 0 0 0 0 0 0 0 0 0 0 0 0 0 0 0 0 0 0 0 0 0 0 0 0 0 0 0 0 0 0 0 0 0 0 0 0 0 0 0 0 0 0 0\n",
      "I0126 18:48:56.160197 13856 <ipython-input-8-d8a8c87a5f7e>:29] input_ids: 101 2074 3047 1037 6659 2482 5823 102 0 0 0 0 0 0 0 0 0 0 0 0 0 0 0 0 0 0 0 0 0 0 0 0 0 0 0 0 0 0 0 0 0 0 0 0 0 0 0 0 0 0 0 0 0 0 0 0 0 0 0 0 0 0 0 0 0 0 0 0 0 0 0 0 0 0 0 0 0 0 0 0 0 0 0 0 0 0 0 0 0 0 0 0 0 0 0 0 0 0 0 0 0 0 0 0 0 0 0 0 0 0 0 0 0 0 0 0 0 0 0 0 0 0 0 0 0 0 0 0\n",
      "[2020-01-26 18:48:56,165][INFO] ## input_mask: 128\n",
      "I0126 18:48:56.165183 13856 <ipython-input-8-d8a8c87a5f7e>:30] input_mask: 128\n",
      "[2020-01-26 18:48:56,167][INFO] ## segment_ids: 128\n",
      "I0126 18:48:56.167178 13856 <ipython-input-8-d8a8c87a5f7e>:31] segment_ids: 128\n",
      "[2020-01-26 18:48:56,169][INFO] ## label: 0\n",
      "I0126 18:48:56.169171 13856 <ipython-input-8-d8a8c87a5f7e>:32] label: 0\n"
     ]
    }
   ],
   "source": [
    "# Test-set Similarly\n",
    "test_examples, test_df = read_examples(test, is_training=False)\n",
    "test_features = convert_examples_to_features(\n",
    "    test_examples, tokenizer, max_seq_length, True)\n",
    "test_input_ids = torch.tensor(select_field(test_features, 'input_ids'), dtype=torch.long)\n",
    "test_input_mask = torch.tensor(select_field(test_features, 'input_mask'), dtype=torch.long)\n",
    "test_segment_ids = torch.tensor(select_field(test_features, 'segment_ids'), dtype=torch.long)"
   ]
  },
  {
   "cell_type": "code",
   "execution_count": 14,
   "metadata": {},
   "outputs": [],
   "source": [
    "# We will be using bert-base-uncased as our base model\n",
    "class NeuralNet(nn.Module):\n",
    "    def __init__(self, hidden_size=768, num_class=2):\n",
    "        super(NeuralNet, self).__init__()\n",
    "\n",
    "        self.bert = BertModel.from_pretrained('bert-base-uncased',  \n",
    "                                        output_hidden_states=True,\n",
    "                                        output_attentions=True)\n",
    "        for param in self.bert.parameters():\n",
    "            param.requires_grad = True\n",
    "        self.weights = nn.Parameter(torch.rand(13, 1))\n",
    "        self.dropouts = nn.ModuleList([\n",
    "            nn.Dropout(0.5) for _ in range(5)\n",
    "        ])\n",
    "        self.fc = nn.Linear(hidden_size, num_class)\n",
    "\n",
    "    def forward(self, input_ids, input_mask, segment_ids):\n",
    "        all_hidden_states, all_attentions = self.bert(input_ids, token_type_ids=segment_ids,\n",
    "                                                                attention_mask=input_mask)[-2:]\n",
    "        batch_size = input_ids.shape[0]\n",
    "        ht_cls = torch.cat(all_hidden_states)[:, :1, :].view(\n",
    "            13, batch_size, 1, 768)\n",
    "        atten = torch.sum(ht_cls * self.weights.view(\n",
    "            13, 1, 1, 1), dim=[1, 3])\n",
    "        atten = F.softmax(atten.view(-1), dim=0)\n",
    "        feature = torch.sum(ht_cls * atten.view(13, 1, 1, 1), dim=[0, 2])\n",
    "        for i, dropout in enumerate(self.dropouts):\n",
    "            if i == 0:\n",
    "                h = self.fc(dropout(feature))\n",
    "            else:\n",
    "                h += self.fc(dropout(feature))\n",
    "        h = h / len(self.dropouts)\n",
    "        return h"
   ]
  },
  {
   "cell_type": "code",
   "execution_count": 15,
   "metadata": {},
   "outputs": [
    {
     "data": {
      "text/plain": [
       "array([[0., 0.],\n",
       "       [0., 0.],\n",
       "       [0., 0.],\n",
       "       ...,\n",
       "       [0., 0.],\n",
       "       [0., 0.],\n",
       "       [0., 0.]], dtype=float32)"
      ]
     },
     "execution_count": 15,
     "metadata": {},
     "output_type": "execute_result"
    }
   ],
   "source": [
    "# We will use StratifiedKFold to split our data into 7 folds. \n",
    "# Multifold splitting is a popular validation strategy in kaggle competitions.\n",
    "skf = StratifiedKFold(n_splits=7, shuffle=True, random_state=623)\n",
    "# off: out-of-fold\n",
    "oof_train = np.zeros((len(train_df), 2), dtype=np.float32)\n",
    "oof_test = np.zeros((len(test_df), 2), dtype=np.float32)\n",
    "oof_train\n",
    "oof_test"
   ]
  },
  {
   "cell_type": "code",
   "execution_count": 16,
   "metadata": {},
   "outputs": [],
   "source": [
    "import fastai\n",
    "from fastai.vision import *\n",
    "from fastai.callbacks import *\n",
    "from fastai.utils.mem import *"
   ]
  },
  {
   "cell_type": "code",
   "execution_count": 17,
   "metadata": {},
   "outputs": [
    {
     "data": {
      "text/plain": [
       "33"
      ]
     },
     "execution_count": 17,
     "metadata": {},
     "output_type": "execute_result"
    }
   ],
   "source": [
    "gc.collect()"
   ]
  },
  {
   "cell_type": "code",
   "execution_count": 21,
   "metadata": {},
   "outputs": [],
   "source": [
    "torch.cuda.set_device(0)\n",
    "torch.cuda.empty_cache()"
   ]
  },
  {
   "cell_type": "code",
   "execution_count": 16,
   "metadata": {},
   "outputs": [
    {
     "name": "stderr",
     "output_type": "stream",
     "text": [
      "[2020-01-26 18:49:07,881][INFO] ## ================     fold 0        ===============\n",
      "I0126 18:49:07.881520 13856 <ipython-input-16-4acce12899b9>:5] ================     fold 0        ===============\n",
      "I0126 18:49:08.318372 13856 configuration_utils.py:185] loading configuration file https://s3.amazonaws.com/models.huggingface.co/bert/bert-base-uncased-config.json from cache at C:\\Users\\bokhy\\.cache\\torch\\transformers\\4dad0251492946e18ac39290fcfe91b89d370fee250efe9521476438fe8ca185.bf3b9ea126d8c0001ee8a1e8b92229871d06d36d8808208cc2449280da87785c\n",
      "I0126 18:49:08.320368 13856 configuration_utils.py:199] Model config {\n",
      "  \"attention_probs_dropout_prob\": 0.1,\n",
      "  \"finetuning_task\": null,\n",
      "  \"hidden_act\": \"gelu\",\n",
      "  \"hidden_dropout_prob\": 0.1,\n",
      "  \"hidden_size\": 768,\n",
      "  \"id2label\": {\n",
      "    \"0\": \"LABEL_0\",\n",
      "    \"1\": \"LABEL_1\"\n",
      "  },\n",
      "  \"initializer_range\": 0.02,\n",
      "  \"intermediate_size\": 3072,\n",
      "  \"is_decoder\": false,\n",
      "  \"label2id\": {\n",
      "    \"LABEL_0\": 0,\n",
      "    \"LABEL_1\": 1\n",
      "  },\n",
      "  \"layer_norm_eps\": 1e-12,\n",
      "  \"max_position_embeddings\": 512,\n",
      "  \"num_attention_heads\": 12,\n",
      "  \"num_hidden_layers\": 12,\n",
      "  \"num_labels\": 2,\n",
      "  \"output_attentions\": true,\n",
      "  \"output_hidden_states\": true,\n",
      "  \"output_past\": true,\n",
      "  \"pruned_heads\": {},\n",
      "  \"torchscript\": false,\n",
      "  \"type_vocab_size\": 2,\n",
      "  \"use_bfloat16\": false,\n",
      "  \"vocab_size\": 30522\n",
      "}\n",
      "\n",
      "I0126 18:49:08.734825 13856 modeling_utils.py:406] loading weights file https://s3.amazonaws.com/models.huggingface.co/bert/bert-base-uncased-pytorch_model.bin from cache at C:\\Users\\bokhy\\.cache\\torch\\transformers\\aa1ef1aede4482d0dbcd4d52baad8ae300e60902e88fcb0bebdec09afd232066.36ca03ab34a1a5d5fa7bc3d03d55c4fa650fed07220e2eeebc06ce58d0e9a157\n",
      "c:\\users\\bokhy\\appdata\\local\\programs\\python\\python37\\lib\\site-packages\\ipykernel_launcher.py:44: TqdmDeprecationWarning: This function will be removed in tqdm==5.0.0\n",
      "Please use `tqdm.notebook.tqdm` instead of `tqdm.tqdm_notebook`\n"
     ]
    },
    {
     "data": {
      "application/vnd.jupyter.widget-view+json": {
       "model_id": "7eefa7b2f3044a8c89e7e23baa2933b1",
       "version_major": 2,
       "version_minor": 0
      },
      "text/plain": [
       "HBox(children=(FloatProgress(value=0.0, max=816.0), HTML(value='')))"
      ]
     },
     "metadata": {},
     "output_type": "display_data"
    },
    {
     "name": "stdout",
     "output_type": "stream",
     "text": [
      "\n"
     ]
    },
    {
     "name": "stderr",
     "output_type": "stream",
     "text": [
      "c:\\users\\bokhy\\appdata\\local\\programs\\python\\python37\\lib\\site-packages\\ipykernel_launcher.py:58: TqdmDeprecationWarning: This function will be removed in tqdm==5.0.0\n",
      "Please use `tqdm.notebook.tqdm` instead of `tqdm.tqdm_notebook`\n"
     ]
    },
    {
     "data": {
      "application/vnd.jupyter.widget-view+json": {
       "model_id": "0b0932cc8dcb42c988d49198da3533e7",
       "version_major": 2,
       "version_minor": 0
      },
      "text/plain": [
       "HBox(children=(FloatProgress(value=1.0, bar_style='info', max=1.0), HTML(value='')))"
      ]
     },
     "metadata": {},
     "output_type": "display_data"
    },
    {
     "name": "stdout",
     "output_type": "stream",
     "text": [
      "\n"
     ]
    },
    {
     "name": "stderr",
     "output_type": "stream",
     "text": [
      "[2020-01-26 19:00:54,805][INFO] ## epoch: 0, train loss: 0.44981819, valid loss: 0.37909862, acc: 0.83471074, f1: 0.82362659, best_f1: 0.82362659\n",
      "\n",
      "I0126 19:00:54.805861 13856 <ipython-input-16-4acce12899b9>:75] epoch: 0, train loss: 0.44981819, valid loss: 0.37909862, acc: 0.83471074, f1: 0.82362659, best_f1: 0.82362659\n",
      "\n"
     ]
    },
    {
     "data": {
      "application/vnd.jupyter.widget-view+json": {
       "model_id": "d44acda06a954c98865a346c83cbdf29",
       "version_major": 2,
       "version_minor": 0
      },
      "text/plain": [
       "HBox(children=(FloatProgress(value=0.0, max=816.0), HTML(value='')))"
      ]
     },
     "metadata": {},
     "output_type": "display_data"
    },
    {
     "name": "stdout",
     "output_type": "stream",
     "text": [
      "\n"
     ]
    },
    {
     "data": {
      "application/vnd.jupyter.widget-view+json": {
       "model_id": "d30673469764449b8bca43cc329ed49b",
       "version_major": 2,
       "version_minor": 0
      },
      "text/plain": [
       "HBox(children=(FloatProgress(value=1.0, bar_style='info', max=1.0), HTML(value='')))"
      ]
     },
     "metadata": {},
     "output_type": "display_data"
    },
    {
     "name": "stdout",
     "output_type": "stream",
     "text": [
      "\n"
     ]
    },
    {
     "name": "stderr",
     "output_type": "stream",
     "text": [
      "[2020-01-26 19:13:06,571][INFO] ## epoch: 1, train loss: 0.31929401, valid loss: 0.40869437, acc: 0.83471074, f1: 0.83129299, best_f1: 0.83129299\n",
      "\n",
      "I0126 19:13:06.571895 13856 <ipython-input-16-4acce12899b9>:75] epoch: 1, train loss: 0.31929401, valid loss: 0.40869437, acc: 0.83471074, f1: 0.83129299, best_f1: 0.83129299\n",
      "\n"
     ]
    },
    {
     "data": {
      "application/vnd.jupyter.widget-view+json": {
       "model_id": "68c7d7028d054801b1b8f1593608eae0",
       "version_major": 2,
       "version_minor": 0
      },
      "text/plain": [
       "HBox(children=(FloatProgress(value=0.0, max=816.0), HTML(value='')))"
      ]
     },
     "metadata": {},
     "output_type": "display_data"
    },
    {
     "name": "stdout",
     "output_type": "stream",
     "text": [
      "\n"
     ]
    },
    {
     "data": {
      "application/vnd.jupyter.widget-view+json": {
       "model_id": "37c0044683934e5f8e07be8e87d05d9a",
       "version_major": 2,
       "version_minor": 0
      },
      "text/plain": [
       "HBox(children=(FloatProgress(value=1.0, bar_style='info', max=1.0), HTML(value='')))"
      ]
     },
     "metadata": {},
     "output_type": "display_data"
    },
    {
     "name": "stderr",
     "output_type": "stream",
     "text": [
      "[2020-01-26 19:25:18,279][INFO] ## epoch: 2, train loss: 0.19407260, valid loss: 0.44171160, acc: 0.82920110, f1: 0.82456660, best_f1: 0.83129299\n",
      "\n",
      "I0126 19:25:18.279090 13856 <ipython-input-16-4acce12899b9>:75] epoch: 2, train loss: 0.19407260, valid loss: 0.44171160, acc: 0.82920110, f1: 0.82456660, best_f1: 0.83129299\n",
      "\n"
     ]
    },
    {
     "name": "stdout",
     "output_type": "stream",
     "text": [
      "\n"
     ]
    },
    {
     "name": "stderr",
     "output_type": "stream",
     "text": [
      "c:\\users\\bokhy\\appdata\\local\\programs\\python\\python37\\lib\\site-packages\\ipykernel_launcher.py:86: TqdmDeprecationWarning: This function will be removed in tqdm==5.0.0\n",
      "Please use `tqdm.notebook.tqdm` instead of `tqdm.tqdm_notebook`\n"
     ]
    },
    {
     "data": {
      "application/vnd.jupyter.widget-view+json": {
       "model_id": "182f7dd6526941c0b5c3e13c86e0e3d3",
       "version_major": 2,
       "version_minor": 0
      },
      "text/plain": [
       "HBox(children=(FloatProgress(value=1.0, bar_style='info', max=1.0), HTML(value='')))"
      ]
     },
     "metadata": {},
     "output_type": "display_data"
    },
    {
     "name": "stdout",
     "output_type": "stream",
     "text": [
      "\n"
     ]
    },
    {
     "name": "stderr",
     "output_type": "stream",
     "text": [
      "c:\\users\\bokhy\\appdata\\local\\programs\\python\\python37\\lib\\site-packages\\ipykernel_launcher.py:92: TqdmDeprecationWarning: This function will be removed in tqdm==5.0.0\n",
      "Please use `tqdm.notebook.tqdm` instead of `tqdm.tqdm_notebook`\n"
     ]
    },
    {
     "data": {
      "application/vnd.jupyter.widget-view+json": {
       "model_id": "bb754e632a1d40aab114ebeddbcd7fc4",
       "version_major": 2,
       "version_minor": 0
      },
      "text/plain": [
       "HBox(children=(FloatProgress(value=1.0, bar_style='info', max=1.0), HTML(value='')))"
      ]
     },
     "metadata": {},
     "output_type": "display_data"
    },
    {
     "name": "stderr",
     "output_type": "stream",
     "text": [
      "[2020-01-26 19:27:40,460][INFO] ## epoch: best, acc: 0.83471074, f1: 0.83129299, best_f1: 0.83129299\n",
      "\n",
      "I0126 19:27:40.460875 13856 <ipython-input-16-4acce12899b9>:101] epoch: best, acc: 0.83471074, f1: 0.83129299, best_f1: 0.83129299\n",
      "\n",
      "[2020-01-26 19:27:40,462][INFO] ## ================     fold 1        ===============\n",
      "I0126 19:27:40.462870 13856 <ipython-input-16-4acce12899b9>:5] ================     fold 1        ===============\n"
     ]
    },
    {
     "name": "stdout",
     "output_type": "stream",
     "text": [
      "\n"
     ]
    },
    {
     "name": "stderr",
     "output_type": "stream",
     "text": [
      "I0126 19:27:40.880117 13856 configuration_utils.py:185] loading configuration file https://s3.amazonaws.com/models.huggingface.co/bert/bert-base-uncased-config.json from cache at C:\\Users\\bokhy\\.cache\\torch\\transformers\\4dad0251492946e18ac39290fcfe91b89d370fee250efe9521476438fe8ca185.bf3b9ea126d8c0001ee8a1e8b92229871d06d36d8808208cc2449280da87785c\n",
      "I0126 19:27:40.882111 13856 configuration_utils.py:199] Model config {\n",
      "  \"attention_probs_dropout_prob\": 0.1,\n",
      "  \"finetuning_task\": null,\n",
      "  \"hidden_act\": \"gelu\",\n",
      "  \"hidden_dropout_prob\": 0.1,\n",
      "  \"hidden_size\": 768,\n",
      "  \"id2label\": {\n",
      "    \"0\": \"LABEL_0\",\n",
      "    \"1\": \"LABEL_1\"\n",
      "  },\n",
      "  \"initializer_range\": 0.02,\n",
      "  \"intermediate_size\": 3072,\n",
      "  \"is_decoder\": false,\n",
      "  \"label2id\": {\n",
      "    \"LABEL_0\": 0,\n",
      "    \"LABEL_1\": 1\n",
      "  },\n",
      "  \"layer_norm_eps\": 1e-12,\n",
      "  \"max_position_embeddings\": 512,\n",
      "  \"num_attention_heads\": 12,\n",
      "  \"num_hidden_layers\": 12,\n",
      "  \"num_labels\": 2,\n",
      "  \"output_attentions\": true,\n",
      "  \"output_hidden_states\": true,\n",
      "  \"output_past\": true,\n",
      "  \"pruned_heads\": {},\n",
      "  \"torchscript\": false,\n",
      "  \"type_vocab_size\": 2,\n",
      "  \"use_bfloat16\": false,\n",
      "  \"vocab_size\": 30522\n",
      "}\n",
      "\n",
      "I0126 19:27:41.281167 13856 modeling_utils.py:406] loading weights file https://s3.amazonaws.com/models.huggingface.co/bert/bert-base-uncased-pytorch_model.bin from cache at C:\\Users\\bokhy\\.cache\\torch\\transformers\\aa1ef1aede4482d0dbcd4d52baad8ae300e60902e88fcb0bebdec09afd232066.36ca03ab34a1a5d5fa7bc3d03d55c4fa650fed07220e2eeebc06ce58d0e9a157\n"
     ]
    },
    {
     "data": {
      "application/vnd.jupyter.widget-view+json": {
       "model_id": "ef5a944514884c20b3485bf5e3f817d5",
       "version_major": 2,
       "version_minor": 0
      },
      "text/plain": [
       "HBox(children=(FloatProgress(value=0.0, max=816.0), HTML(value='')))"
      ]
     },
     "metadata": {},
     "output_type": "display_data"
    },
    {
     "ename": "RuntimeError",
     "evalue": "CUDA out of memory. Tried to allocate 12.00 MiB (GPU 0; 4.00 GiB total capacity; 2.93 GiB already allocated; 2.47 MiB free; 131.13 MiB cached)",
     "output_type": "error",
     "traceback": [
      "\u001b[1;31m---------------------------------------------------------------------------\u001b[0m",
      "\u001b[1;31mRuntimeError\u001b[0m                              Traceback (most recent call last)",
      "\u001b[1;32m<ipython-input-16-4acce12899b9>\u001b[0m in \u001b[0;36m<module>\u001b[1;34m\u001b[0m\n\u001b[0;32m     48\u001b[0m             \u001b[0mloss\u001b[0m \u001b[1;33m=\u001b[0m \u001b[0mloss_fn\u001b[0m\u001b[1;33m(\u001b[0m\u001b[0my_pred\u001b[0m\u001b[1;33m,\u001b[0m \u001b[0my_truth\u001b[0m\u001b[1;33m)\u001b[0m\u001b[1;33m\u001b[0m\u001b[1;33m\u001b[0m\u001b[0m\n\u001b[0;32m     49\u001b[0m             \u001b[0moptimizer\u001b[0m\u001b[1;33m.\u001b[0m\u001b[0mzero_grad\u001b[0m\u001b[1;33m(\u001b[0m\u001b[1;33m)\u001b[0m\u001b[1;33m\u001b[0m\u001b[1;33m\u001b[0m\u001b[0m\n\u001b[1;32m---> 50\u001b[1;33m             \u001b[0mloss\u001b[0m\u001b[1;33m.\u001b[0m\u001b[0mbackward\u001b[0m\u001b[1;33m(\u001b[0m\u001b[1;33m)\u001b[0m\u001b[1;33m\u001b[0m\u001b[1;33m\u001b[0m\u001b[0m\n\u001b[0m\u001b[0;32m     51\u001b[0m             \u001b[0moptimizer\u001b[0m\u001b[1;33m.\u001b[0m\u001b[0mstep\u001b[0m\u001b[1;33m(\u001b[0m\u001b[1;33m)\u001b[0m\u001b[1;33m\u001b[0m\u001b[1;33m\u001b[0m\u001b[0m\n\u001b[0;32m     52\u001b[0m             \u001b[0mtrain_loss\u001b[0m \u001b[1;33m+=\u001b[0m \u001b[0mloss\u001b[0m\u001b[1;33m.\u001b[0m\u001b[0mitem\u001b[0m\u001b[1;33m(\u001b[0m\u001b[1;33m)\u001b[0m \u001b[1;33m/\u001b[0m \u001b[0mlen\u001b[0m\u001b[1;33m(\u001b[0m\u001b[0mtrain_loader\u001b[0m\u001b[1;33m)\u001b[0m\u001b[1;33m\u001b[0m\u001b[1;33m\u001b[0m\u001b[0m\n",
      "\u001b[1;32mc:\\users\\bokhy\\appdata\\local\\programs\\python\\python37\\lib\\site-packages\\torch\\tensor.py\u001b[0m in \u001b[0;36mbackward\u001b[1;34m(self, gradient, retain_graph, create_graph)\u001b[0m\n\u001b[0;32m    164\u001b[0m                 \u001b[0mproducts\u001b[0m\u001b[1;33m.\u001b[0m \u001b[0mDefaults\u001b[0m \u001b[0mto\u001b[0m\u001b[0;31m \u001b[0m\u001b[0;31m`\u001b[0m\u001b[0;31m`\u001b[0m\u001b[1;32mFalse\u001b[0m\u001b[0;31m`\u001b[0m\u001b[0;31m`\u001b[0m\u001b[1;33m.\u001b[0m\u001b[1;33m\u001b[0m\u001b[1;33m\u001b[0m\u001b[0m\n\u001b[0;32m    165\u001b[0m         \"\"\"\n\u001b[1;32m--> 166\u001b[1;33m         \u001b[0mtorch\u001b[0m\u001b[1;33m.\u001b[0m\u001b[0mautograd\u001b[0m\u001b[1;33m.\u001b[0m\u001b[0mbackward\u001b[0m\u001b[1;33m(\u001b[0m\u001b[0mself\u001b[0m\u001b[1;33m,\u001b[0m \u001b[0mgradient\u001b[0m\u001b[1;33m,\u001b[0m \u001b[0mretain_graph\u001b[0m\u001b[1;33m,\u001b[0m \u001b[0mcreate_graph\u001b[0m\u001b[1;33m)\u001b[0m\u001b[1;33m\u001b[0m\u001b[1;33m\u001b[0m\u001b[0m\n\u001b[0m\u001b[0;32m    167\u001b[0m \u001b[1;33m\u001b[0m\u001b[0m\n\u001b[0;32m    168\u001b[0m     \u001b[1;32mdef\u001b[0m \u001b[0mregister_hook\u001b[0m\u001b[1;33m(\u001b[0m\u001b[0mself\u001b[0m\u001b[1;33m,\u001b[0m \u001b[0mhook\u001b[0m\u001b[1;33m)\u001b[0m\u001b[1;33m:\u001b[0m\u001b[1;33m\u001b[0m\u001b[1;33m\u001b[0m\u001b[0m\n",
      "\u001b[1;32mc:\\users\\bokhy\\appdata\\local\\programs\\python\\python37\\lib\\site-packages\\torch\\autograd\\__init__.py\u001b[0m in \u001b[0;36mbackward\u001b[1;34m(tensors, grad_tensors, retain_graph, create_graph, grad_variables)\u001b[0m\n\u001b[0;32m     97\u001b[0m     Variable._execution_engine.run_backward(\n\u001b[0;32m     98\u001b[0m         \u001b[0mtensors\u001b[0m\u001b[1;33m,\u001b[0m \u001b[0mgrad_tensors\u001b[0m\u001b[1;33m,\u001b[0m \u001b[0mretain_graph\u001b[0m\u001b[1;33m,\u001b[0m \u001b[0mcreate_graph\u001b[0m\u001b[1;33m,\u001b[0m\u001b[1;33m\u001b[0m\u001b[1;33m\u001b[0m\u001b[0m\n\u001b[1;32m---> 99\u001b[1;33m         allow_unreachable=True)  # allow_unreachable flag\n\u001b[0m\u001b[0;32m    100\u001b[0m \u001b[1;33m\u001b[0m\u001b[0m\n\u001b[0;32m    101\u001b[0m \u001b[1;33m\u001b[0m\u001b[0m\n",
      "\u001b[1;31mRuntimeError\u001b[0m: CUDA out of memory. Tried to allocate 12.00 MiB (GPU 0; 4.00 GiB total capacity; 2.93 GiB already allocated; 2.47 MiB free; 131.13 MiB cached)"
     ]
    }
   ],
   "source": [
    "for fold, (train_index, valid_index) in enumerate(skf.split(all_label, all_label)):\n",
    "    if fold == 2:\n",
    "        break # due to kernel time limit\n",
    "\n",
    "    logger.info('================     fold {}        ==============='.format(fold))\n",
    "\n",
    "    train_input_ids = torch.tensor(all_input_ids[train_index], dtype=torch.long)\n",
    "    train_input_mask = torch.tensor(all_input_mask[train_index], dtype=torch.long)\n",
    "    train_segment_ids = torch.tensor(all_segment_ids[train_index], dtype=torch.long)\n",
    "    train_label = torch.tensor(all_label[train_index], dtype=torch.long)\n",
    "\n",
    "    valid_input_ids = torch.tensor(all_input_ids[valid_index], dtype=torch.long)\n",
    "    valid_input_mask = torch.tensor(all_input_mask[valid_index], dtype=torch.long)\n",
    "    valid_segment_ids = torch.tensor(all_segment_ids[valid_index], dtype=torch.long)\n",
    "    valid_label = torch.tensor(all_label[valid_index], dtype=torch.long)\n",
    "\n",
    "    train = torch.utils.data.TensorDataset(train_input_ids, train_input_mask, train_segment_ids, train_label)\n",
    "    valid = torch.utils.data.TensorDataset(valid_input_ids, valid_input_mask, valid_segment_ids, valid_label)\n",
    "    test = torch.utils.data.TensorDataset(test_input_ids, test_input_mask, test_segment_ids)\n",
    "\n",
    "    train_loader = torch.utils.data.DataLoader(train, batch_size=batch_size, shuffle=True)\n",
    "    valid_loader = torch.utils.data.DataLoader(valid, batch_size=batch_size, shuffle=False)\n",
    "    test_loader = torch.utils.data.DataLoader(test, batch_size=batch_size, shuffle=False)\n",
    "\n",
    "    model = NeuralNet()\n",
    "    model.cuda()\n",
    "    loss_fn = torch.nn.CrossEntropyLoss()\n",
    "\n",
    "    param_optimizer = list(model.named_parameters())\n",
    "    no_decay = ['bias', 'LayerNorm.bias', 'LayerNorm.weight']\n",
    "    optimizer_grouped_parameters = [\n",
    "        {'params': [p for n, p in param_optimizer if not any(nd in n for nd in no_decay)], 'weight_decay': 0.01},\n",
    "        {'params': [p for n, p in param_optimizer if any(nd in n for nd in no_decay)], 'weight_decay': 0.0}]\n",
    "\n",
    "    optimizer = AdamW(optimizer_grouped_parameters, lr=learning_rate, eps=1e-6)\n",
    "    model.train()\n",
    "\n",
    "    best_f1 = 0.\n",
    "    valid_best = np.zeros((valid_label.size(0), 2))\n",
    "\n",
    "    early_stop = 0\n",
    "    for epoch in range(num_epochs):\n",
    "        train_loss = 0.\n",
    "        for batch in tqdm(train_loader):\n",
    "            batch = tuple(t.cuda() for t in batch)\n",
    "            x_ids, x_mask, x_sids, y_truth = batch\n",
    "            y_pred = model(x_ids, x_mask, x_sids)\n",
    "            loss = loss_fn(y_pred, y_truth)\n",
    "            optimizer.zero_grad()\n",
    "            loss.backward()\n",
    "            optimizer.step()\n",
    "            train_loss += loss.item() / len(train_loader)\n",
    "    \n",
    "        model.eval()\n",
    "        val_loss = 0.\n",
    "        valid_preds_fold = np.zeros((valid_label.size(0), 2))\n",
    "        with torch.no_grad():\n",
    "            for i, batch in tqdm(enumerate(valid_loader)):\n",
    "                batch = tuple(t.cuda() for t in batch)\n",
    "                x_ids, x_mask, x_sids, y_truth = batch\n",
    "                y_pred = model(x_ids, x_mask, x_sids).detach()\n",
    "                val_loss += loss_fn(y_pred, y_truth).item() / len(valid_loader)\n",
    "                valid_preds_fold[i * batch_size:(i + 1) * batch_size] = F.softmax(y_pred, dim=1).cpu().numpy()\n",
    "    \n",
    "        acc, f1 = metric(all_label[valid_index], np.argmax(valid_preds_fold, axis=1))\n",
    "        if best_f1 < f1:\n",
    "            early_stop = 0\n",
    "            best_f1 = f1\n",
    "            valid_best = valid_preds_fold\n",
    "            torch.save(model.state_dict(), 'model_fold_{}.bin'.format(fold))\n",
    "        else:\n",
    "            early_stop += 1\n",
    "        logger.info(\n",
    "            'epoch: %d, train loss: %.8f, valid loss: %.8f, acc: %.8f, f1: %.8f, best_f1: %.8f\\n' %\n",
    "            (epoch, train_loss, val_loss, acc, f1, best_f1))\n",
    "        torch.cuda.empty_cache()  \n",
    "    \n",
    "        if early_stop >= patience:\n",
    "            break\n",
    "\n",
    "    test_preds_fold = np.zeros((len(test_df), 2))\n",
    "    valid_preds_fold = np.zeros((valid_label.size(0), 2))\n",
    "    model.load_state_dict(torch.load('model_fold_{}.bin'.format(fold)))\n",
    "    model.eval()\n",
    "    with torch.no_grad():\n",
    "        for i, batch in tqdm(enumerate(valid_loader)):\n",
    "            batch = tuple(t.cuda() for t in batch)\n",
    "            x_ids, x_mask, x_sids, y_truth = batch\n",
    "            y_pred = model(x_ids, x_mask, x_sids).detach()\n",
    "            valid_preds_fold[i * batch_size:(i + 1) * batch_size] = F.softmax(y_pred, dim=1).cpu().numpy()\n",
    "    with torch.no_grad():\n",
    "        for i, batch in tqdm(enumerate(test_loader)):\n",
    "            batch = tuple(t.cuda() for t in batch)\n",
    "            x_ids, x_mask, x_sids = batch\n",
    "            y_pred = model(x_ids, x_mask, x_sids).detach()\n",
    "            test_preds_fold[i * batch_size:(i + 1) * batch_size] = F.softmax(y_pred, dim=1).cpu().numpy()\n",
    "    valid_best = valid_preds_fold\n",
    "    oof_train[valid_index] = valid_best\n",
    "    acc, f1 = metric(all_label[valid_index], np.argmax(valid_best, axis=1))\n",
    "    logger.info('epoch: best, acc: %.8f, f1: %.8f, best_f1: %.8f\\n' %\n",
    "                (acc, f1, best_f1))\n",
    "    \n",
    "    \n",
    "    #oof_test += test_preds_fold / 7 # uncomment this for 7 folds\n",
    "    oof_test += test_preds_fold / 2 # comment this line when training for 7 folds"
   ]
  },
  {
   "cell_type": "code",
   "execution_count": 17,
   "metadata": {},
   "outputs": [
    {
     "name": "stderr",
     "output_type": "stream",
     "text": [
      "[2020-01-26 20:28:56,492][INFO] ## 0.20176612255820175\n",
      "I0126 20:28:56.492817 13856 <ipython-input-17-986c7bf9c857>:1] 0.20176612255820175\n"
     ]
    }
   ],
   "source": [
    "logger.info(f1_score(labels, np.argmax(oof_train, axis=1)))\n",
    "train_df['pred_target'] = np.argmax(oof_train, axis=1)"
   ]
  },
  {
   "cell_type": "code",
   "execution_count": 18,
   "metadata": {},
   "outputs": [
    {
     "data": {
      "text/html": [
       "<div>\n",
       "<style scoped>\n",
       "    .dataframe tbody tr th:only-of-type {\n",
       "        vertical-align: middle;\n",
       "    }\n",
       "\n",
       "    .dataframe tbody tr th {\n",
       "        vertical-align: top;\n",
       "    }\n",
       "\n",
       "    .dataframe thead th {\n",
       "        text-align: right;\n",
       "    }\n",
       "</style>\n",
       "<table border=\"1\" class=\"dataframe\">\n",
       "  <thead>\n",
       "    <tr style=\"text-align: right;\">\n",
       "      <th></th>\n",
       "      <th>id</th>\n",
       "      <th>keyword</th>\n",
       "      <th>location</th>\n",
       "      <th>text</th>\n",
       "      <th>target</th>\n",
       "      <th>pred_target</th>\n",
       "    </tr>\n",
       "  </thead>\n",
       "  <tbody>\n",
       "    <tr>\n",
       "      <th>0</th>\n",
       "      <td>1</td>\n",
       "      <td>NaN</td>\n",
       "      <td>NaN</td>\n",
       "      <td>Our Deeds are the Reason of this #earthquake M...</td>\n",
       "      <td>1</td>\n",
       "      <td>1</td>\n",
       "    </tr>\n",
       "    <tr>\n",
       "      <th>1</th>\n",
       "      <td>4</td>\n",
       "      <td>NaN</td>\n",
       "      <td>NaN</td>\n",
       "      <td>Forest fire near La Ronge Sask. Canada</td>\n",
       "      <td>1</td>\n",
       "      <td>0</td>\n",
       "    </tr>\n",
       "    <tr>\n",
       "      <th>2</th>\n",
       "      <td>5</td>\n",
       "      <td>NaN</td>\n",
       "      <td>NaN</td>\n",
       "      <td>All residents asked to 'shelter in place' are ...</td>\n",
       "      <td>1</td>\n",
       "      <td>0</td>\n",
       "    </tr>\n",
       "    <tr>\n",
       "      <th>3</th>\n",
       "      <td>6</td>\n",
       "      <td>NaN</td>\n",
       "      <td>NaN</td>\n",
       "      <td>13,000 people receive #wildfires evacuation or...</td>\n",
       "      <td>1</td>\n",
       "      <td>0</td>\n",
       "    </tr>\n",
       "    <tr>\n",
       "      <th>4</th>\n",
       "      <td>7</td>\n",
       "      <td>NaN</td>\n",
       "      <td>NaN</td>\n",
       "      <td>Just got sent this photo from Ruby #Alaska as ...</td>\n",
       "      <td>1</td>\n",
       "      <td>0</td>\n",
       "    </tr>\n",
       "  </tbody>\n",
       "</table>\n",
       "</div>"
      ],
      "text/plain": [
       "   id keyword location                                               text  \\\n",
       "0   1     NaN      NaN  Our Deeds are the Reason of this #earthquake M...   \n",
       "1   4     NaN      NaN             Forest fire near La Ronge Sask. Canada   \n",
       "2   5     NaN      NaN  All residents asked to 'shelter in place' are ...   \n",
       "3   6     NaN      NaN  13,000 people receive #wildfires evacuation or...   \n",
       "4   7     NaN      NaN  Just got sent this photo from Ruby #Alaska as ...   \n",
       "\n",
       "   target  pred_target  \n",
       "0       1            1  \n",
       "1       1            0  \n",
       "2       1            0  \n",
       "3       1            0  \n",
       "4       1            0  "
      ]
     },
     "execution_count": 18,
     "metadata": {},
     "output_type": "execute_result"
    }
   ],
   "source": [
    "train_df.head()"
   ]
  },
  {
   "cell_type": "code",
   "execution_count": 19,
   "metadata": {},
   "outputs": [
    {
     "name": "stderr",
     "output_type": "stream",
     "text": [
      "[2020-01-26 20:59:19,591][INFO] ## 0    1889\n",
      "1    1374\n",
      "Name: target, dtype: int64\n",
      "I0126 20:59:19.591239 13856 <ipython-input-19-4d11e337f759>:2] 0    1889\n",
      "1    1374\n",
      "Name: target, dtype: int64\n"
     ]
    }
   ],
   "source": [
    "test_df['target'] = np.argmax(oof_test, axis=1)\n",
    "logger.info(test_df['target'].value_counts())"
   ]
  },
  {
   "cell_type": "code",
   "execution_count": 20,
   "metadata": {},
   "outputs": [],
   "source": [
    "submit['target'] = np.argmax(oof_test, axis=1)\n",
    "submit.to_csv('submission_3fold.csv', index=False)"
   ]
  },
  {
   "cell_type": "code",
   "execution_count": 21,
   "metadata": {},
   "outputs": [
    {
     "data": {
      "text/html": [
       "<div>\n",
       "<style scoped>\n",
       "    .dataframe tbody tr th:only-of-type {\n",
       "        vertical-align: middle;\n",
       "    }\n",
       "\n",
       "    .dataframe tbody tr th {\n",
       "        vertical-align: top;\n",
       "    }\n",
       "\n",
       "    .dataframe thead th {\n",
       "        text-align: right;\n",
       "    }\n",
       "</style>\n",
       "<table border=\"1\" class=\"dataframe\">\n",
       "  <thead>\n",
       "    <tr style=\"text-align: right;\">\n",
       "      <th></th>\n",
       "      <th>id</th>\n",
       "      <th>target</th>\n",
       "    </tr>\n",
       "  </thead>\n",
       "  <tbody>\n",
       "    <tr>\n",
       "      <th>0</th>\n",
       "      <td>0</td>\n",
       "      <td>1</td>\n",
       "    </tr>\n",
       "    <tr>\n",
       "      <th>1</th>\n",
       "      <td>2</td>\n",
       "      <td>1</td>\n",
       "    </tr>\n",
       "    <tr>\n",
       "      <th>2</th>\n",
       "      <td>3</td>\n",
       "      <td>1</td>\n",
       "    </tr>\n",
       "    <tr>\n",
       "      <th>3</th>\n",
       "      <td>9</td>\n",
       "      <td>1</td>\n",
       "    </tr>\n",
       "    <tr>\n",
       "      <th>4</th>\n",
       "      <td>11</td>\n",
       "      <td>1</td>\n",
       "    </tr>\n",
       "  </tbody>\n",
       "</table>\n",
       "</div>"
      ],
      "text/plain": [
       "   id  target\n",
       "0   0       1\n",
       "1   2       1\n",
       "2   3       1\n",
       "3   9       1\n",
       "4  11       1"
      ]
     },
     "execution_count": 21,
     "metadata": {},
     "output_type": "execute_result"
    }
   ],
   "source": [
    "submit.head()"
   ]
  },
  {
   "cell_type": "code",
   "execution_count": null,
   "metadata": {},
   "outputs": [],
   "source": []
  }
 ],
 "metadata": {
  "kernelspec": {
   "display_name": "Python 3",
   "language": "python",
   "name": "python3"
  },
  "language_info": {
   "codemirror_mode": {
    "name": "ipython",
    "version": 3
   },
   "file_extension": ".py",
   "mimetype": "text/x-python",
   "name": "python",
   "nbconvert_exporter": "python",
   "pygments_lexer": "ipython3",
   "version": "3.7.6"
  }
 },
 "nbformat": 4,
 "nbformat_minor": 4
}
