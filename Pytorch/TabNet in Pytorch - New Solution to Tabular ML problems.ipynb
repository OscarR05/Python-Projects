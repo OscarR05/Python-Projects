{
 "cells": [
  {
   "cell_type": "markdown",
   "metadata": {},
   "source": [
    "# TabNet in Pytorch - New Solution to Tabular ML problems"
   ]
  },
  {
   "cell_type": "markdown",
   "metadata": {},
   "source": [
    "### Tabnet has basic GLU (Gated Linear Unit) Activuation\n",
    "### with shared layers "
   ]
  },
  {
   "cell_type": "markdown",
   "metadata": {},
   "source": [
    "## Parameter to Tune at https://github.com/dreamquark-ai/tabnet"
   ]
  },
  {
   "cell_type": "markdown",
   "metadata": {},
   "source": [
    "It outperfomrs in many tree-based boosting algorithms !!"
   ]
  },
  {
   "cell_type": "markdown",
   "metadata": {},
   "source": [
    "### Architecture"
   ]
  },
  {
   "cell_type": "markdown",
   "metadata": {},
   "source": [
    "![a](https://image.slidesharecdn.com/tabnetpresentation-200606103121/95/tabnet-presentation-7-638.jpg?cb=1591439795)"
   ]
  },
  {
   "cell_type": "markdown",
   "metadata": {},
   "source": [
    "![Arc2](https://image.slidesharecdn.com/tabnetpresentation-200606103121/95/tabnet-presentation-8-638.jpg?cb=1591439795)"
   ]
  },
  {
   "cell_type": "markdown",
   "metadata": {},
   "source": [
    "Advantage:\n",
    "1. We can stack as much as we want (More steps, bigger the model)\n",
    "2. All steps contribute equally to the final layer (depending on the problems like regression or classification)"
   ]
  },
  {
   "cell_type": "markdown",
   "metadata": {},
   "source": [
    "![Explanability](https://image.slidesharecdn.com/tabnetpresentation-200606103121/95/tabnet-presentation-11-638.jpg?cb=1591439795)"
   ]
  },
  {
   "cell_type": "markdown",
   "metadata": {},
   "source": [
    "Has a robust explanability, and it's sk-learn compatible!"
   ]
  },
  {
   "cell_type": "markdown",
   "metadata": {},
   "source": [
    "## let's dive into examples!"
   ]
  },
  {
   "cell_type": "markdown",
   "metadata": {},
   "source": [
    "# Example"
   ]
  },
  {
   "cell_type": "markdown",
   "metadata": {},
   "source": [
    "## 1. Classification"
   ]
  },
  {
   "cell_type": "code",
   "execution_count": 63,
   "metadata": {},
   "outputs": [
    {
     "name": "stdout",
     "output_type": "stream",
     "text": [
      "Pytorch Version: 1.5.0\n"
     ]
    }
   ],
   "source": [
    "from pytorch_tabnet.tab_model import TabNetClassifier, TabNetRegressor\n",
    "\n",
    "import torch\n",
    "from sklearn.preprocessing import LabelEncoder\n",
    "from sklearn.metrics import accuracy_score, mean_squared_error\n",
    "from sklearn.model_selection import train_test_split\n",
    "import pandas as pd\n",
    "import numpy as np\n",
    "\n",
    "import os\n",
    "import math\n",
    "import random\n",
    "import pathlib\n",
    "import json\n",
    "import wget\n",
    "from pathlib import Path\n",
    "import shutil\n",
    "import gzip\n",
    "\n",
    "import matplotlib.pyplot as plt\n",
    "%matplotlib inline\n",
    "\n",
    "print('Pytorch Version:', torch.__version__)"
   ]
  },
  {
   "cell_type": "markdown",
   "metadata": {},
   "source": [
    "### (1) Load Data"
   ]
  },
  {
   "cell_type": "code",
   "execution_count": 5,
   "metadata": {},
   "outputs": [],
   "source": [
    "url = \"https://archive.ics.uci.edu/ml/machine-learning-databases/covtype/covtype.data.gz\"\n",
    "dataset_name = 'forest-cover-type'\n",
    "tmp_out = Path('./data/'+dataset_name+'.gz')\n",
    "out = Path(os.getcwd()+'/data/'+dataset_name+'.csv')"
   ]
  },
  {
   "cell_type": "code",
   "execution_count": 6,
   "metadata": {},
   "outputs": [
    {
     "name": "stdout",
     "output_type": "stream",
     "text": [
      "Downloading file...\n",
      "100% [........................................................................] 11240707 / 11240707"
     ]
    }
   ],
   "source": [
    "out.parent.mkdir(parents=True, exist_ok=True)\n",
    "if out.exists():\n",
    "    print(\"File already exists.\")\n",
    "else:\n",
    "    print(\"Downloading file...\")\n",
    "    wget.download(url, tmp_out.as_posix())\n",
    "    with gzip.open(tmp_out, 'rb') as f_in:\n",
    "        with open(out, 'wb') as f_out:\n",
    "            shutil.copyfileobj(f_in, f_out)"
   ]
  },
  {
   "cell_type": "markdown",
   "metadata": {},
   "source": [
    "### (2) Train/Test Split"
   ]
  },
  {
   "cell_type": "code",
   "execution_count": 8,
   "metadata": {},
   "outputs": [],
   "source": [
    "target = \"Covertype\"\n",
    "\n",
    "categorical = [\n",
    "    \"Wilderness_Area1\", \"Wilderness_Area2\", \"Wilderness_Area3\",\n",
    "    \"Wilderness_Area4\", \"Soil_Type1\", \"Soil_Type2\", \"Soil_Type3\", \"Soil_Type4\",\n",
    "    \"Soil_Type5\", \"Soil_Type6\", \"Soil_Type7\", \"Soil_Type8\", \"Soil_Type9\",\n",
    "    \"Soil_Type10\", \"Soil_Type11\", \"Soil_Type12\", \"Soil_Type13\", \"Soil_Type14\",\n",
    "    \"Soil_Type15\", \"Soil_Type16\", \"Soil_Type17\", \"Soil_Type18\", \"Soil_Type19\",\n",
    "    \"Soil_Type20\", \"Soil_Type21\", \"Soil_Type22\", \"Soil_Type23\", \"Soil_Type24\",\n",
    "    \"Soil_Type25\", \"Soil_Type26\", \"Soil_Type27\", \"Soil_Type28\", \"Soil_Type29\",\n",
    "    \"Soil_Type30\", \"Soil_Type31\", \"Soil_Type32\", \"Soil_Type33\", \"Soil_Type34\",\n",
    "    \"Soil_Type35\", \"Soil_Type36\", \"Soil_Type37\", \"Soil_Type38\", \"Soil_Type39\",\n",
    "    \"Soil_Type40\"\n",
    "]\n",
    "\n",
    "integer = [\n",
    "    \"Elevation\", \"Aspect\", \"Slope\", \"Horizontal_Distance_To_Hydrology\",\n",
    "    \"Vertical_Distance_To_Hydrology\", \"Horizontal_Distance_To_Roadways\",\n",
    "    \"Hillshade_9am\", \"Hillshade_Noon\", \"Hillshade_3pm\",\n",
    "    \"Horizontal_Distance_To_Fire_Points\"\n",
    "]\n",
    "\n",
    "feature_columns = (\n",
    "    integer + categorical + [target])"
   ]
  },
  {
   "cell_type": "code",
   "execution_count": 9,
   "metadata": {},
   "outputs": [
    {
     "name": "stdout",
     "output_type": "stream",
     "text": [
      "581012\n"
     ]
    }
   ],
   "source": [
    "train = pd.read_csv(out, header=None, names=feature_columns)\n",
    "train.head()\n",
    "\n",
    "n_total = len(train)\n",
    "print(n_total)\n",
    "\n",
    "# Train, val and test split follows\n",
    "train_val_indices, test_indices = train_test_split(\n",
    "    range(n_total), test_size=0.2, random_state=0)\n",
    "\n",
    "train_indices, valid_indices = train_test_split(\n",
    "    train_val_indices, test_size=0.2 / 0.6, random_state=0)"
   ]
  },
  {
   "cell_type": "markdown",
   "metadata": {},
   "source": [
    "### (3) Pre-Processing"
   ]
  },
  {
   "cell_type": "code",
   "execution_count": 10,
   "metadata": {},
   "outputs": [],
   "source": [
    "categorical_columns = []\n",
    "categorical_dims =  {}\n",
    "for col in train.columns[train.dtypes == object]:\n",
    "    print(col, train[col].nunique())\n",
    "    l_enc = LabelEncoder()\n",
    "    train[col] = train[col].fillna(\"VV_likely\")\n",
    "    train[col] = l_enc.fit_transform(train[col].values)\n",
    "    categorical_columns.append(col)\n",
    "    categorical_dims[col] = len(l_enc.classes_)\n",
    "\n",
    "for col in train.columns[train.dtypes == 'float64']:\n",
    "    train.fillna(train.loc[train_indices, col].mean(), inplace=True)"
   ]
  },
  {
   "cell_type": "markdown",
   "metadata": {},
   "source": [
    "### (4) Define categorical features for categorical embeddings"
   ]
  },
  {
   "cell_type": "code",
   "execution_count": 11,
   "metadata": {},
   "outputs": [],
   "source": [
    "unused_feat = []\n",
    "\n",
    "features = [ col for col in train.columns if col not in unused_feat+[target]] \n",
    "\n",
    "cat_idxs = [ i for i, f in enumerate(features) if f in categorical_columns]\n",
    "\n",
    "cat_dims = [ categorical_dims[f] for i, f in enumerate(features) if f in categorical_columns]"
   ]
  },
  {
   "cell_type": "markdown",
   "metadata": {},
   "source": [
    "### (5) Create a Model"
   ]
  },
  {
   "cell_type": "code",
   "execution_count": 12,
   "metadata": {},
   "outputs": [
    {
     "name": "stdout",
     "output_type": "stream",
     "text": [
      "Device used : cuda\n"
     ]
    }
   ],
   "source": [
    "clf = TabNetClassifier(\n",
    "    n_d=64, n_a=64, n_steps=5,\n",
    "    lr=0.02,\n",
    "    gamma=1.5, n_independent=2, n_shared=2,\n",
    "    cat_idxs=cat_idxs,\n",
    "    cat_dims=cat_dims,\n",
    "    cat_emb_dim=1,\n",
    "    lambda_sparse=1e-4, momentum=0.3, clip_value=2.,\n",
    "    optimizer_fn=torch.optim.Adam,\n",
    "    scheduler_params = {\"gamma\": 0.95,\n",
    "                     \"step_size\": 20},\n",
    "    scheduler_fn=torch.optim.lr_scheduler.StepLR, epsilon=1e-15\n",
    ")"
   ]
  },
  {
   "cell_type": "markdown",
   "metadata": {},
   "source": [
    "### (6) Train a Model"
   ]
  },
  {
   "cell_type": "code",
   "execution_count": 13,
   "metadata": {},
   "outputs": [],
   "source": [
    "X_train = train[features].values[train_indices]\n",
    "y_train = train[target].values[train_indices]\n",
    "\n",
    "X_valid = train[features].values[valid_indices]\n",
    "y_valid = train[target].values[valid_indices]\n",
    "\n",
    "X_test = train[features].values[test_indices]\n",
    "y_test = train[target].values[test_indices]"
   ]
  },
  {
   "cell_type": "code",
   "execution_count": 14,
   "metadata": {},
   "outputs": [],
   "source": [
    "max_epochs = 1000 if not os.getenv(\"CI\", False) else 2"
   ]
  },
  {
   "cell_type": "code",
   "execution_count": 15,
   "metadata": {},
   "outputs": [
    {
     "name": "stdout",
     "output_type": "stream",
     "text": [
      "Will train until validation stopping metric hasn't improved in 100 rounds.\n",
      "---------------------------------------\n",
      "| EPOCH |  train  |   valid  | total time (s)\n",
      "| 1     | 0.56079 |  0.22032 |   32.7      \n",
      "| 2     | 0.66891 |  0.24418 |   61.4      \n",
      "| 3     | 0.69981 |  0.15226 |   96.2      \n",
      "| 4     | 0.71060 |  0.15770 |   131.4     \n",
      "| 5     | 0.71834 |  0.16619 |   166.8     \n",
      "| 6     | 0.72683 |  0.20677 |   203.1     \n",
      "| 7     | 0.73037 |  0.18427 |   239.1     \n",
      "| 8     | 0.73657 |  0.21702 |   280.2     \n",
      "| 9     | 0.73895 |  0.25973 |   317.0     \n",
      "| 10    | 0.74255 |  0.30849 |   352.5     \n",
      "| 11    | 0.74675 |  0.38309 |   390.7     \n",
      "| 12    | 0.74869 |  0.40913 |   428.0     \n",
      "| 13    | 0.75236 |  0.50597 |   462.0     \n",
      "| 14    | 0.75527 |  0.55599 |   496.0     \n",
      "| 15    | 0.75886 |  0.58694 |   530.7     \n",
      "| 16    | 0.76262 |  0.61613 |   568.2     \n",
      "| 17    | 0.76595 |  0.67300 |   606.0     \n",
      "| 18    | 0.77195 |  0.70184 |   643.8     \n",
      "| 19    | 0.77594 |  0.72445 |   681.7     \n",
      "| 20    | 0.77722 |  0.73927 |   719.7     \n",
      "| 21    | 0.78065 |  0.74689 |   757.1     \n",
      "| 22    | 0.78209 |  0.76143 |   794.3     \n",
      "| 23    | 0.78187 |  0.76658 |   832.2     \n",
      "| 24    | 0.78596 |  0.78265 |   869.9     \n",
      "| 25    | 0.79321 |  0.79628 |   907.3     \n",
      "| 26    | 0.79918 |  0.80144 |   950.4     \n",
      "| 27    | 0.80229 |  0.80338 |   987.6     \n",
      "| 28    | 0.80510 |  0.81055 |   1025.0    \n",
      "| 29    | 0.80616 |  0.81145 |   1062.6    \n",
      "| 30    | 0.81095 |  0.81672 |   1099.9    \n",
      "| 31    | 0.81402 |  0.81978 |   1136.9    \n",
      "| 32    | 0.81880 |  0.82688 |   1174.7    \n",
      "| 33    | 0.82193 |  0.82416 |   1211.9    \n",
      "| 34    | 0.82329 |  0.83007 |   1249.8    \n",
      "| 35    | 0.82738 |  0.83422 |   1287.5    \n",
      "| 36    | 0.82662 |  0.83504 |   1325.1    \n",
      "| 37    | 0.81632 |  0.81775 |   1362.5    \n",
      "| 38    | 0.81864 |  0.83353 |   1400.4    \n",
      "| 39    | 0.82153 |  0.82960 |   1437.7    \n",
      "| 40    | 0.82536 |  0.83887 |   1475.2    \n",
      "| 41    | 0.83080 |  0.84250 |   1512.4    \n",
      "| 42    | 0.83675 |  0.84585 |   1550.4    \n",
      "| 43    | 0.83838 |  0.84490 |   1587.7    \n",
      "| 44    | 0.84197 |  0.85027 |   1624.9    \n",
      "| 45    | 0.83709 |  0.83093 |   1662.5    \n",
      "| 46    | 0.83164 |  0.84261 |   1699.8    \n",
      "| 47    | 0.84031 |  0.84882 |   1736.7    \n",
      "| 48    | 0.84699 |  0.85345 |   1777.5    \n",
      "| 49    | 0.85042 |  0.85676 |   1818.5    \n",
      "| 50    | 0.85277 |  0.86401 |   1858.6    \n",
      "| 51    | 0.85702 |  0.86235 |   1898.1    \n",
      "| 52    | 0.85887 |  0.86449 |   1936.0    \n",
      "| 53    | 0.86169 |  0.86221 |   1973.5    \n",
      "| 54    | 0.85367 |  0.86279 |   2011.1    \n",
      "| 55    | 0.86234 |  0.87215 |   2048.6    \n",
      "| 56    | 0.86772 |  0.87694 |   2086.2    \n",
      "| 57    | 0.86114 |  0.84975 |   2123.6    \n",
      "| 58    | 0.84709 |  0.82954 |   2161.4    \n",
      "| 59    | 0.82541 |  0.82969 |   2198.7    \n",
      "| 60    | 0.82445 |  0.83110 |   2237.7    \n",
      "| 61    | 0.82976 |  0.83738 |   2275.2    \n",
      "| 62    | 0.84168 |  0.85149 |   2312.4    \n",
      "| 63    | 0.85045 |  0.86303 |   2349.6    \n",
      "| 64    | 0.85670 |  0.85963 |   2387.3    \n",
      "| 65    | 0.84662 |  0.83808 |   2424.6    \n",
      "| 66    | 0.83459 |  0.84749 |   2461.6    \n",
      "| 67    | 0.84967 |  0.86076 |   2499.9    \n",
      "| 68    | 0.85924 |  0.86884 |   2537.1    \n",
      "| 69    | 0.86368 |  0.86680 |   2574.2    \n",
      "| 70    | 0.86624 |  0.87257 |   2611.5    \n",
      "| 71    | 0.86084 |  0.80604 |   2649.3    \n",
      "| 72    | 0.78755 |  0.79039 |   2686.6    \n",
      "| 73    | 0.79845 |  0.81654 |   2731.9    \n",
      "| 74    | 0.81347 |  0.82462 |   2780.3    \n",
      "| 75    | 0.80435 |  0.81170 |   2825.8    \n",
      "| 76    | 0.81315 |  0.82020 |   2869.0    \n",
      "| 77    | 0.76613 |  0.73253 |   2910.5    \n",
      "| 78    | 0.74520 |  0.75580 |   2950.9    \n",
      "| 79    | 0.76391 |  0.77470 |   2990.7    \n",
      "| 80    | 0.77417 |  0.78356 |   3029.0    \n",
      "| 81    | 0.78030 |  0.78679 |   3067.1    \n",
      "| 82    | 0.79052 |  0.80036 |   3104.1    \n",
      "| 83    | 0.79617 |  0.80115 |   3140.5    \n",
      "| 84    | 0.80335 |  0.81539 |   3175.9    \n",
      "| 85    | 0.81257 |  0.81993 |   3211.6    \n",
      "| 86    | 0.81782 |  0.82759 |   3258.2    \n",
      "| 87    | 0.81985 |  0.82836 |   3305.9    \n",
      "| 88    | 0.81448 |  0.81699 |   3351.3    \n",
      "| 89    | 0.81445 |  0.82814 |   3394.7    \n",
      "| 90    | 0.82311 |  0.83207 |   3435.9    \n",
      "| 91    | 0.82845 |  0.83883 |   3476.1    \n",
      "| 92    | 0.83530 |  0.84278 |   3515.4    \n",
      "| 93    | 0.83665 |  0.84330 |   3554.5    \n",
      "| 94    | 0.83847 |  0.84212 |   3592.3    \n",
      "| 95    | 0.84160 |  0.84950 |   3629.2    \n",
      "| 96    | 0.83277 |  0.82186 |   3665.7    \n",
      "| 97    | 0.82517 |  0.83948 |   3701.4    \n",
      "| 98    | 0.83600 |  0.84271 |   3738.0    \n",
      "| 99    | 0.84181 |  0.85051 |   3775.4    \n",
      "| 100   | 0.84552 |  0.85646 |   3813.6    \n",
      "| 101   | 0.84413 |  0.84983 |   3850.8    \n",
      "| 102   | 0.84334 |  0.85278 |   3888.3    \n",
      "| 103   | 0.85102 |  0.85706 |   3925.6    \n",
      "| 104   | 0.85529 |  0.86591 |   3964.0    \n",
      "| 105   | 0.85823 |  0.86616 |   4001.4    \n",
      "| 106   | 0.86250 |  0.87401 |   4039.0    \n",
      "| 107   | 0.86450 |  0.86988 |   4078.1    \n",
      "| 108   | 0.86136 |  0.87007 |   4115.3    \n",
      "| 109   | 0.85649 |  0.85979 |   4152.6    \n",
      "| 110   | 0.85660 |  0.86848 |   4189.8    \n",
      "| 111   | 0.85975 |  0.87195 |   4236.1    \n",
      "| 112   | 0.83871 |  0.81298 |   4285.1    \n",
      "| 113   | 0.77762 |  0.76619 |   4322.9    \n",
      "| 114   | 0.77367 |  0.79184 |   4358.8    \n",
      "| 115   | 0.78503 |  0.79092 |   4395.4    \n",
      "| 116   | 0.78224 |  0.79060 |   4432.9    \n",
      "| 117   | 0.78784 |  0.80241 |   4470.6    \n",
      "| 118   | 0.79801 |  0.80728 |   4508.4    \n",
      "| 119   | 0.80377 |  0.81314 |   4549.2    \n",
      "| 120   | 0.80935 |  0.82154 |   4586.3    \n",
      "| 121   | 0.81842 |  0.82606 |   4623.2    \n",
      "| 122   | 0.82005 |  0.82428 |   4661.2    \n",
      "| 123   | 0.82221 |  0.83111 |   4698.1    \n",
      "| 124   | 0.82709 |  0.83432 |   4735.3    \n",
      "| 125   | 0.83141 |  0.83737 |   4772.9    \n",
      "| 126   | 0.82774 |  0.81675 |   4810.3    \n",
      "| 127   | 0.81730 |  0.82057 |   4848.1    \n",
      "| 128   | 0.82198 |  0.83455 |   4885.6    \n",
      "| 129   | 0.83105 |  0.84259 |   4923.4    \n",
      "| 130   | 0.83048 |  0.82661 |   4960.8    \n",
      "| 131   | 0.81176 |  0.81864 |   4998.4    \n",
      "| 132   | 0.80519 |  0.80451 |   5035.9    \n",
      "| 133   | 0.80869 |  0.82106 |   5073.5    \n",
      "| 134   | 0.80447 |  0.80800 |   5110.9    \n",
      "| 135   | 0.80967 |  0.81942 |   5148.1    \n",
      "| 136   | 0.81861 |  0.82294 |   5185.7    \n",
      "| 137   | 0.82262 |  0.83176 |   5223.1    \n",
      "| 138   | 0.82634 |  0.83813 |   5260.8    \n",
      "| 139   | 0.83047 |  0.84066 |   5298.1    \n",
      "| 140   | 0.83445 |  0.84517 |   5335.5    \n",
      "| 141   | 0.83588 |  0.83788 |   5373.3    \n",
      "| 142   | 0.83382 |  0.84270 |   5410.2    \n",
      "| 143   | 0.83858 |  0.84466 |   5447.1    \n",
      "| 144   | 0.84247 |  0.84404 |   5484.5    \n",
      "| 145   | 0.84592 |  0.85278 |   5521.8    \n",
      "| 146   | 0.84407 |  0.84722 |   5560.1    \n",
      "| 147   | 0.83919 |  0.83735 |   5597.4    \n",
      "| 148   | 0.83654 |  0.84401 |   5635.1    \n",
      "| 149   | 0.83958 |  0.85223 |   5672.5    \n",
      "| 150   | 0.84586 |  0.85073 |   5709.7    \n",
      "| 151   | 0.85107 |  0.86265 |   5748.1    \n",
      "| 152   | 0.84332 |  0.84044 |   5785.5    \n",
      "| 153   | 0.83859 |  0.85237 |   5824.2    \n",
      "| 154   | 0.84708 |  0.86097 |   5862.2    \n",
      "| 155   | 0.84437 |  0.84612 |   5899.6    \n",
      "| 156   | 0.83533 |  0.83891 |   5937.0    \n",
      "Early stopping occured at epoch 156\n",
      "Training done in 5937.047 seconds.\n",
      "---------------------------------------\n"
     ]
    }
   ],
   "source": [
    "clf.fit(\n",
    "    X_train=X_train, y_train=y_train,\n",
    "    X_valid=X_valid, y_valid=y_valid,\n",
    "    max_epochs=max_epochs, patience=100,\n",
    "    batch_size=16384, virtual_batch_size=256\n",
    ")"
   ]
  },
  {
   "cell_type": "code",
   "execution_count": 16,
   "metadata": {},
   "outputs": [
    {
     "data": {
      "text/plain": [
       "[<matplotlib.lines.Line2D at 0x1c3db2b4788>]"
      ]
     },
     "execution_count": 16,
     "metadata": {},
     "output_type": "execute_result"
    },
    {
     "data": {
      "image/png": "[encoded data removed]",
      "text/plain": [
       "<Figure size 432x288 with 1 Axes>"
      ]
     },
     "metadata": {
      "needs_background": "light"
     },
     "output_type": "display_data"
    }
   ],
   "source": [
    "# plot losses\n",
    "plt.plot(clf.history['train']['loss'])\n",
    "plt.plot(clf.history['valid']['loss'])"
   ]
  },
  {
   "cell_type": "code",
   "execution_count": 17,
   "metadata": {},
   "outputs": [
    {
     "data": {
      "text/plain": [
       "[<matplotlib.lines.Line2D at 0x1c386056308>]"
      ]
     },
     "execution_count": 17,
     "metadata": {},
     "output_type": "execute_result"
    },
    {
     "data": {
      "image/png": "[encoded data removed]",
      "text/plain": [
       "<Figure size 432x288 with 1 Axes>"
      ]
     },
     "metadata": {
      "needs_background": "light"
     },
     "output_type": "display_data"
    }
   ],
   "source": [
    "# plot accuracies\n",
    "plt.plot([-x for x in clf.history['train']['metric']])\n",
    "plt.plot([-x for x in clf.history['valid']['metric']])"
   ]
  },
  {
   "cell_type": "markdown",
   "metadata": {},
   "source": [
    "### (7) Evaluate and Prediction"
   ]
  },
  {
   "cell_type": "code",
   "execution_count": 19,
   "metadata": {},
   "outputs": [
    {
     "name": "stdout",
     "output_type": "stream",
     "text": [
      "BEST VALID SCORE FOR forest-cover-type : -0.8769435318871541\n",
      "FINAL TEST SCORE FOR forest-cover-type : 0.877946352503808\n"
     ]
    }
   ],
   "source": [
    "# To get final results you may need to use a mapping for classes \n",
    "# as you are allowed to use targets like [\"yes\", \"no\", \"maybe\", \"I don't know\"]\n",
    "\n",
    "preds_mapper = { idx : class_name for idx, class_name in enumerate(clf.classes_)}\n",
    "\n",
    "preds = clf.predict_proba(X_test)\n",
    "\n",
    "y_pred = np.vectorize(preds_mapper.get)(np.argmax(preds, axis=1))\n",
    "\n",
    "test_acc = accuracy_score(y_pred=y_pred, y_true=y_test)\n",
    "\n",
    "print(f\"BEST VALID SCORE FOR {dataset_name} : {clf.best_cost}\")\n",
    "print(f\"FINAL TEST SCORE FOR {dataset_name} : {test_acc}\")"
   ]
  },
  {
   "cell_type": "code",
   "execution_count": 20,
   "metadata": {},
   "outputs": [],
   "source": [
    "# or you can simply use the predict method\n",
    "\n",
    "y_pred = clf.predict(X_test)\n",
    "test_acc = accuracy_score(y_pred=y_pred, y_true=y_test)\n",
    "print(f\"FINAL TEST SCORE FOR {dataset_name} : {test_acc}\")"
   ]
  },
  {
   "cell_type": "markdown",
   "metadata": {},
   "source": [
    "### (8) ML Explanation\n",
    "\n",
    "##### Global explainability : feat importance summing to 1"
   ]
  },
  {
   "cell_type": "code",
   "execution_count": 23,
   "metadata": {},
   "outputs": [
    {
     "data": {
      "text/plain": [
       "array([2.06985060e-01, 2.05323116e-02, 8.68474068e-04, 7.32807603e-02,\n",
       "       1.06426423e-02, 7.81555935e-02, 1.22019225e-02, 1.87041664e-02,\n",
       "       1.67281014e-02, 3.83164078e-03, 7.75130077e-02, 2.43340951e-03,\n",
       "       1.09689558e-02, 5.94868120e-04, 4.12367991e-03, 6.77477575e-03,\n",
       "       8.66506355e-03, 1.76662957e-02, 8.33596323e-03, 1.35711919e-02,\n",
       "       6.68019313e-03, 2.82436978e-03, 1.44143876e-02, 2.10648958e-02,\n",
       "       9.58632393e-03, 5.10320237e-02, 1.63746540e-03, 2.73632031e-03,\n",
       "       2.65570922e-03, 2.12177448e-02, 2.18405046e-02, 3.22798531e-04,\n",
       "       2.70298286e-03, 3.81003808e-03, 6.26933684e-04, 1.54110747e-02,\n",
       "       7.34738564e-02, 1.56653783e-02, 1.09570278e-02, 5.22872951e-06,\n",
       "       8.67283266e-03, 8.37724958e-03, 2.26903581e-02, 1.50456830e-02,\n",
       "       5.19529021e-03, 2.67514849e-02, 1.43090885e-02, 2.96755618e-03,\n",
       "       2.34175126e-04, 1.35612338e-03, 2.87748463e-03, 1.10573521e-02,\n",
       "       2.11722111e-04, 9.01045860e-03])"
      ]
     },
     "execution_count": 23,
     "metadata": {},
     "output_type": "execute_result"
    }
   ],
   "source": [
    "clf.feature_importances_"
   ]
  },
  {
   "cell_type": "markdown",
   "metadata": {},
   "source": [
    "##### Local explainability and masks"
   ]
  },
  {
   "cell_type": "code",
   "execution_count": 25,
   "metadata": {},
   "outputs": [],
   "source": [
    "explain_matrix, masks = clf.explain(X_test)"
   ]
  },
  {
   "cell_type": "code",
   "execution_count": 26,
   "metadata": {},
   "outputs": [
    {
     "data": {
      "image/png": "[encoded data removed]",
      "text/plain": [
       "<Figure size 1440x1440 with 5 Axes>"
      ]
     },
     "metadata": {
      "needs_background": "light"
     },
     "output_type": "display_data"
    }
   ],
   "source": [
    "fig, axs = plt.subplots(1, 5, figsize=(20,20))\n",
    "\n",
    "for i in range(5):\n",
    "    axs[i].imshow(masks[i][:50])\n",
    "    axs[i].set_title(f\"mask {i}\")"
   ]
  },
  {
   "cell_type": "markdown",
   "metadata": {},
   "source": [
    "### Implementation in XGBoost"
   ]
  },
  {
   "cell_type": "code",
   "execution_count": 28,
   "metadata": {},
   "outputs": [],
   "source": [
    "n_estimators = 1000 if not os.getenv(\"CI\", False) else 20"
   ]
  },
  {
   "cell_type": "code",
   "execution_count": 29,
   "metadata": {},
   "outputs": [
    {
     "name": "stdout",
     "output_type": "stream",
     "text": [
      "[0]\tvalidation_0-merror:0.220102\n",
      "Will train until validation_0-merror hasn't improved in 40 rounds.\n",
      "[10]\tvalidation_0-merror:0.195292\n",
      "[20]\tvalidation_0-merror:0.184288\n",
      "[30]\tvalidation_0-merror:0.17753\n",
      "[40]\tvalidation_0-merror:0.170727\n",
      "[50]\tvalidation_0-merror:0.162376\n",
      "[60]\tvalidation_0-merror:0.15656\n",
      "[70]\tvalidation_0-merror:0.151268\n",
      "[80]\tvalidation_0-merror:0.14644\n",
      "[90]\tvalidation_0-merror:0.141348\n",
      "[100]\tvalidation_0-merror:0.136733\n",
      "[110]\tvalidation_0-merror:0.132015\n",
      "[120]\tvalidation_0-merror:0.127006\n",
      "[130]\tvalidation_0-merror:0.123005\n",
      "[140]\tvalidation_0-merror:0.119055\n",
      "[150]\tvalidation_0-merror:0.11464\n",
      "[160]\tvalidation_0-merror:0.110348\n",
      "[170]\tvalidation_0-merror:0.107198\n",
      "[180]\tvalidation_0-merror:0.103397\n",
      "[190]\tvalidation_0-merror:0.099834\n",
      "[200]\tvalidation_0-merror:0.097485\n",
      "[210]\tvalidation_0-merror:0.093922\n",
      "[220]\tvalidation_0-merror:0.091353\n",
      "[230]\tvalidation_0-merror:0.089004\n",
      "[240]\tvalidation_0-merror:0.086467\n",
      "[250]\tvalidation_0-merror:0.084066\n",
      "[260]\tvalidation_0-merror:0.081427\n",
      "[270]\tvalidation_0-merror:0.079264\n",
      "[280]\tvalidation_0-merror:0.077548\n",
      "[290]\tvalidation_0-merror:0.075502\n",
      "[300]\tvalidation_0-merror:0.07352\n",
      "[310]\tvalidation_0-merror:0.071849\n",
      "[320]\tvalidation_0-merror:0.070422\n",
      "[330]\tvalidation_0-merror:0.069054\n",
      "[340]\tvalidation_0-merror:0.067802\n",
      "[350]\tvalidation_0-merror:0.066627\n",
      "[360]\tvalidation_0-merror:0.065401\n",
      "[370]\tvalidation_0-merror:0.064555\n",
      "[380]\tvalidation_0-merror:0.063277\n",
      "[390]\tvalidation_0-merror:0.062258\n",
      "[400]\tvalidation_0-merror:0.061083\n",
      "[410]\tvalidation_0-merror:0.060373\n",
      "[420]\tvalidation_0-merror:0.059302\n",
      "[430]\tvalidation_0-merror:0.058708\n",
      "[440]\tvalidation_0-merror:0.05794\n",
      "[450]\tvalidation_0-merror:0.057055\n",
      "[460]\tvalidation_0-merror:0.056404\n",
      "[470]\tvalidation_0-merror:0.055584\n",
      "[480]\tvalidation_0-merror:0.055184\n",
      "[490]\tvalidation_0-merror:0.054519\n",
      "[500]\tvalidation_0-merror:0.054125\n",
      "[510]\tvalidation_0-merror:0.053415\n",
      "[520]\tvalidation_0-merror:0.052976\n",
      "[530]\tvalidation_0-merror:0.052331\n",
      "[540]\tvalidation_0-merror:0.051821\n",
      "[550]\tvalidation_0-merror:0.051214\n",
      "[560]\tvalidation_0-merror:0.05053\n",
      "[570]\tvalidation_0-merror:0.050078\n",
      "[580]\tvalidation_0-merror:0.049827\n",
      "[590]\tvalidation_0-merror:0.049549\n",
      "[600]\tvalidation_0-merror:0.048904\n",
      "[610]\tvalidation_0-merror:0.04842\n",
      "[620]\tvalidation_0-merror:0.048058\n",
      "[630]\tvalidation_0-merror:0.047548\n",
      "[640]\tvalidation_0-merror:0.047148\n",
      "[650]\tvalidation_0-merror:0.046838\n",
      "[660]\tvalidation_0-merror:0.046509\n",
      "[670]\tvalidation_0-merror:0.046199\n",
      "[680]\tvalidation_0-merror:0.046057\n",
      "[690]\tvalidation_0-merror:0.045954\n",
      "[700]\tvalidation_0-merror:0.045728\n",
      "[710]\tvalidation_0-merror:0.045315\n",
      "[720]\tvalidation_0-merror:0.045018\n",
      "[730]\tvalidation_0-merror:0.044618\n",
      "[740]\tvalidation_0-merror:0.044341\n",
      "[750]\tvalidation_0-merror:0.044263\n",
      "[760]\tvalidation_0-merror:0.043928\n",
      "[770]\tvalidation_0-merror:0.043798\n",
      "[780]\tvalidation_0-merror:0.043579\n",
      "[790]\tvalidation_0-merror:0.04345\n",
      "[800]\tvalidation_0-merror:0.04325\n",
      "[810]\tvalidation_0-merror:0.043063\n",
      "[820]\tvalidation_0-merror:0.043088\n",
      "[830]\tvalidation_0-merror:0.042733\n",
      "[840]\tvalidation_0-merror:0.042488\n",
      "[850]\tvalidation_0-merror:0.042275\n",
      "[860]\tvalidation_0-merror:0.042127\n",
      "[870]\tvalidation_0-merror:0.041991\n",
      "[880]\tvalidation_0-merror:0.041772\n",
      "[890]\tvalidation_0-merror:0.041746\n",
      "[900]\tvalidation_0-merror:0.04163\n",
      "[910]\tvalidation_0-merror:0.041527\n",
      "[920]\tvalidation_0-merror:0.041339\n",
      "[930]\tvalidation_0-merror:0.041165\n",
      "[940]\tvalidation_0-merror:0.041036\n",
      "[950]\tvalidation_0-merror:0.040881\n",
      "[960]\tvalidation_0-merror:0.040797\n",
      "[970]\tvalidation_0-merror:0.040655\n",
      "[980]\tvalidation_0-merror:0.040649\n",
      "[990]\tvalidation_0-merror:0.040539\n",
      "[999]\tvalidation_0-merror:0.040429\n"
     ]
    },
    {
     "data": {
      "text/plain": [
       "XGBClassifier(max_depth=8, n_estimators=1000, n_jobs=-1,\n",
       "              objective='multi:softprob', subsample=0.7, verbosity=0)"
      ]
     },
     "execution_count": 29,
     "metadata": {},
     "output_type": "execute_result"
    }
   ],
   "source": [
    "from xgboost import XGBClassifier\n",
    "\n",
    "clf_xgb = XGBClassifier(max_depth=8,\n",
    "    learning_rate=0.1,\n",
    "    n_estimators=n_estimators,\n",
    "    verbosity=0,\n",
    "    silent=None,\n",
    "    objective=\"multi:softmax\",\n",
    "    booster='gbtree',\n",
    "    n_jobs=-1,\n",
    "    nthread=None,\n",
    "    gamma=0,\n",
    "    min_child_weight=1,\n",
    "    max_delta_step=0,\n",
    "    subsample=0.7,\n",
    "    colsample_bytree=1,\n",
    "    colsample_bylevel=1,\n",
    "    colsample_bynode=1,\n",
    "    reg_alpha=0,\n",
    "    reg_lambda=1,\n",
    "    scale_pos_weight=1,\n",
    "    base_score=0.5,\n",
    "    random_state=0,\n",
    "    seed=None,)\n",
    "\n",
    "clf_xgb.fit(X_train, y_train,\n",
    "            eval_set=[(X_valid, y_valid)],\n",
    "            early_stopping_rounds=40,\n",
    "            verbose=10)"
   ]
  },
  {
   "cell_type": "code",
   "execution_count": 30,
   "metadata": {},
   "outputs": [
    {
     "name": "stdout",
     "output_type": "stream",
     "text": [
      "0.9596481150403067\n",
      "0.9604399197955302\n"
     ]
    }
   ],
   "source": [
    "preds_valid = np.array(clf_xgb.predict_proba(X_valid, ))\n",
    "valid_acc = accuracy_score(y_pred=np.argmax(preds_valid, axis=1) + 1, y_true=y_valid)\n",
    "print(valid_acc)\n",
    "\n",
    "preds_test = np.array(clf_xgb.predict_proba(X_test))\n",
    "test_acc = accuracy_score(y_pred=np.argmax(preds_test, axis=1) + 1, y_true=y_test)\n",
    "print(test_acc)"
   ]
  },
  {
   "cell_type": "markdown",
   "metadata": {},
   "source": [
    "## 2. Regression"
   ]
  },
  {
   "cell_type": "markdown",
   "metadata": {},
   "source": [
    "### (1) Load Data"
   ]
  },
  {
   "cell_type": "code",
   "execution_count": 52,
   "metadata": {},
   "outputs": [],
   "source": [
    "url = \"https://archive.ics.uci.edu/ml/machine-learning-databases/adult/adult.data\"\n",
    "dataset_name = 'census-income'\n",
    "out = Path(os.getcwd()+'/data/'+dataset_name+'.csv')"
   ]
  },
  {
   "cell_type": "code",
   "execution_count": 53,
   "metadata": {},
   "outputs": [
    {
     "name": "stdout",
     "output_type": "stream",
     "text": [
      "File already exists.\n"
     ]
    }
   ],
   "source": [
    "out.parent.mkdir(parents=True, exist_ok=True)\n",
    "if out.exists():\n",
    "    print(\"File already exists.\")\n",
    "else:\n",
    "    print(\"Downloading file...\")\n",
    "    wget.download(url, out.as_posix())"
   ]
  },
  {
   "cell_type": "markdown",
   "metadata": {},
   "source": [
    "### (2) Train/Test Split"
   ]
  },
  {
   "cell_type": "code",
   "execution_count": 54,
   "metadata": {},
   "outputs": [],
   "source": [
    "train = pd.read_csv(out)\n",
    "target = ' <=50K'\n",
    "if \"Set\" not in train.columns:\n",
    "    train[\"Set\"] = np.random.choice([\"train\", \"valid\", \"test\"], p =[.8, .1, .1], size=(train.shape[0],))\n",
    "\n",
    "train_indices = train[train.Set==\"train\"].index\n",
    "valid_indices = train[train.Set==\"valid\"].index\n",
    "test_indices = train[train.Set==\"test\"].index"
   ]
  },
  {
   "cell_type": "code",
   "execution_count": 55,
   "metadata": {},
   "outputs": [
    {
     "data": {
      "text/plain": [
       "Int64Index([    0,     1,     3,     4,     5,     6,     7,     8,     9,\n",
       "               10,\n",
       "            ...\n",
       "            32548, 32549, 32550, 32551, 32553, 32554, 32555, 32556, 32557,\n",
       "            32559],\n",
       "           dtype='int64', length=26094)"
      ]
     },
     "execution_count": 55,
     "metadata": {},
     "output_type": "execute_result"
    }
   ],
   "source": [
    "train_indices"
   ]
  },
  {
   "cell_type": "markdown",
   "metadata": {},
   "source": [
    "### (3) Pre-Processing"
   ]
  },
  {
   "cell_type": "markdown",
   "metadata": {},
   "source": [
    "Label encode categorical features and fill empty cells."
   ]
  },
  {
   "cell_type": "code",
   "execution_count": 56,
   "metadata": {},
   "outputs": [
    {
     "name": "stdout",
     "output_type": "stream",
     "text": [
      " State-gov 9\n",
      " Bachelors 16\n",
      " Never-married 7\n",
      " Adm-clerical 15\n",
      " Not-in-family 6\n",
      " White 5\n",
      " Male 2\n",
      " United-States 42\n",
      " <=50K 2\n",
      "Set 3\n"
     ]
    }
   ],
   "source": [
    "categorical_columns = []\n",
    "categorical_dims =  {}\n",
    "for col in train.columns[train.dtypes == object]:\n",
    "    print(col, train[col].nunique())\n",
    "    l_enc = LabelEncoder()\n",
    "    train[col] = train[col].fillna(\"VV_likely\")\n",
    "    train[col] = l_enc.fit_transform(train[col].values)\n",
    "    categorical_columns.append(col)\n",
    "    categorical_dims[col] = len(l_enc.classes_)\n",
    "\n",
    "for col in train.columns[train.dtypes == 'float64']:\n",
    "    train.fillna(train.loc[train_indices, col].mean(), inplace=True)"
   ]
  },
  {
   "cell_type": "markdown",
   "metadata": {},
   "source": [
    "### (4) Define categorical features for categorical embeddings"
   ]
  },
  {
   "cell_type": "code",
   "execution_count": 57,
   "metadata": {},
   "outputs": [],
   "source": [
    "unused_feat = ['Set']\n",
    "\n",
    "features = [ col for col in train.columns if col not in unused_feat+[target]] \n",
    "\n",
    "cat_idxs = [ i for i, f in enumerate(features) if f in categorical_columns]\n",
    "\n",
    "cat_dims = [ categorical_dims[f] for i, f in enumerate(features) if f in categorical_columns]\n",
    "\n",
    "# define your embedding sizes : here just a random choice\n",
    "cat_emb_dim = [5, 4, 3, 6, 2, 2, 1, 10]"
   ]
  },
  {
   "cell_type": "markdown",
   "metadata": {},
   "source": [
    "### (5) Create a Model"
   ]
  },
  {
   "cell_type": "code",
   "execution_count": 58,
   "metadata": {},
   "outputs": [
    {
     "name": "stdout",
     "output_type": "stream",
     "text": [
      "Device used : cuda\n"
     ]
    }
   ],
   "source": [
    "clf = TabNetRegressor(cat_dims=cat_dims, \n",
    "                      cat_emb_dim=cat_emb_dim, \n",
    "                      cat_idxs=cat_idxs)"
   ]
  },
  {
   "cell_type": "markdown",
   "metadata": {},
   "source": [
    "### (6) Train a Model"
   ]
  },
  {
   "cell_type": "code",
   "execution_count": 59,
   "metadata": {},
   "outputs": [],
   "source": [
    "X_train = train[features].values[train_indices]\n",
    "y_train = train[target].values[train_indices].reshape(-1, 1)\n",
    "\n",
    "X_valid = train[features].values[valid_indices]\n",
    "y_valid = train[target].values[valid_indices].reshape(-1, 1)\n",
    "\n",
    "X_test = train[features].values[test_indices]\n",
    "y_test = train[target].values[test_indices].reshape(-1, 1)"
   ]
  },
  {
   "cell_type": "code",
   "execution_count": 60,
   "metadata": {},
   "outputs": [],
   "source": [
    "max_epochs = 1000 if not os.getenv(\"CI\", False) else 20"
   ]
  },
  {
   "cell_type": "code",
   "execution_count": 61,
   "metadata": {},
   "outputs": [
    {
     "name": "stdout",
     "output_type": "stream",
     "text": [
      "Will train until validation stopping metric hasn't improved in 50 rounds.\n",
      "---------------------------------------\n",
      "| EPOCH |  train  |   valid  | total time (s)\n",
      "| 1     | -0.17033 |  -0.27162 |   5.8       \n",
      "| 2     | -0.13373 |  -0.18774 |   11.4      \n",
      "| 3     | -0.12592 |  -0.16804 |   17.5      \n",
      "| 4     | -0.12041 |  -0.13407 |   23.4      \n",
      "| 5     | -0.11810 |  -0.12819 |   29.7      \n",
      "| 6     | -0.11661 |  -0.13072 |   36.0      \n",
      "| 7     | -0.11288 |  -0.12724 |   42.6      \n",
      "| 8     | -0.11267 |  -0.11723 |   48.7      \n",
      "| 9     | -0.11055 |  -0.11717 |   54.6      \n",
      "| 10    | -0.10884 |  -0.11294 |   60.4      \n",
      "| 11    | -0.10612 |  -0.10995 |   66.9      \n",
      "| 12    | -0.10412 |  -0.11029 |   72.7      \n",
      "| 13    | -0.10403 |  -0.10978 |   78.5      \n",
      "| 14    | -0.10333 |  -0.11039 |   84.4      \n",
      "| 15    | -0.10214 |  -0.10864 |   90.2      \n",
      "| 16    | -0.10224 |  -0.10830 |   96.2      \n",
      "| 17    | -0.10264 |  -0.11234 |   102.2     \n",
      "| 18    | -0.10092 |  -0.10992 |   108.0     \n",
      "| 19    | -0.10119 |  -0.10671 |   113.7     \n",
      "| 20    | -0.10048 |  -0.10866 |   119.6     \n",
      "| 21    | -0.10043 |  -0.10844 |   125.3     \n",
      "| 22    | -0.09999 |  -0.10824 |   133.4     \n",
      "| 23    | -0.10069 |  -0.11013 |   139.8     \n",
      "| 24    | -0.09963 |  -0.10872 |   147.0     \n",
      "| 25    | -0.09986 |  -0.10996 |   153.7     \n",
      "| 26    | -0.09862 |  -0.10796 |   159.9     \n",
      "| 27    | -0.09944 |  -0.10788 |   166.3     \n",
      "| 28    | -0.09945 |  -0.11139 |   172.5     \n",
      "| 29    | -0.09961 |  -0.10769 |   178.7     \n",
      "| 30    | -0.09869 |  -0.10631 |   185.4     \n",
      "| 31    | -0.09925 |  -0.10965 |   191.7     \n",
      "| 32    | -0.09855 |  -0.10618 |   198.1     \n",
      "| 33    | -0.09776 |  -0.10694 |   204.5     \n",
      "| 34    | -0.09751 |  -0.11263 |   210.7     \n",
      "| 35    | -0.09854 |  -0.10681 |   217.1     \n",
      "| 36    | -0.09889 |  -0.11326 |   231.2     \n",
      "| 37    | -0.09779 |  -0.10878 |   253.0     \n",
      "| 38    | -0.09959 |  -0.10904 |   272.3     \n",
      "| 39    | -0.10012 |  -0.11136 |   284.4     \n",
      "| 40    | -0.09936 |  -0.11480 |   295.7     \n",
      "| 41    | -0.09880 |  -0.10566 |   307.4     \n",
      "| 42    | -0.09910 |  -0.10637 |   320.0     \n",
      "| 43    | -0.09860 |  -0.11286 |   331.7     \n",
      "| 44    | -0.09752 |  -0.10692 |   347.6     \n",
      "| 45    | -0.09709 |  -0.10574 |   362.0     \n",
      "| 46    | -0.09864 |  -0.10788 |   372.2     \n",
      "| 47    | -0.09982 |  -0.10625 |   384.8     \n",
      "| 48    | -0.10007 |  -0.10679 |   404.7     \n",
      "| 49    | -0.09880 |  -0.10719 |   420.3     \n",
      "| 50    | -0.09849 |  -0.10834 |   435.8     \n",
      "| 51    | -0.09859 |  -0.10491 |   450.7     \n",
      "| 52    | -0.09793 |  -0.10846 |   462.6     \n",
      "| 53    | -0.09666 |  -0.10467 |   474.9     \n",
      "| 54    | -0.09738 |  -0.10861 |   485.4     \n",
      "| 55    | -0.09655 |  -0.10514 |   501.4     \n",
      "| 56    | -0.09598 |  -0.10585 |   518.4     \n",
      "| 57    | -0.09621 |  -0.10478 |   534.8     \n",
      "| 58    | -0.09562 |  -0.10574 |   549.1     \n",
      "| 59    | -0.09630 |  -0.10773 |   560.1     \n",
      "| 60    | -0.09528 |  -0.10568 |   570.8     \n",
      "| 61    | -0.09512 |  -0.10639 |   580.2     \n",
      "| 62    | -0.09528 |  -0.10697 |   591.0     \n",
      "| 63    | -0.09628 |  -0.10640 |   602.1     \n",
      "| 64    | -0.09627 |  -0.11002 |   611.6     \n",
      "| 65    | -0.09465 |  -0.10631 |   621.4     \n",
      "| 66    | -0.09558 |  -0.10475 |   630.8     \n",
      "| 67    | -0.09424 |  -0.10887 |   640.1     \n",
      "| 68    | -0.09478 |  -0.10519 |   650.2     \n",
      "| 69    | -0.09416 |  -0.10839 |   661.3     \n",
      "| 70    | -0.09585 |  -0.10855 |   671.7     \n",
      "| 71    | -0.09437 |  -0.10641 |   681.6     \n",
      "| 72    | -0.09354 |  -0.10729 |   691.4     \n",
      "| 73    | -0.09435 |  -0.10699 |   700.8     \n",
      "| 74    | -0.09361 |  -0.10725 |   712.1     \n",
      "| 75    | -0.09345 |  -0.10687 |   723.4     \n",
      "| 76    | -0.09330 |  -0.10610 |   732.4     \n",
      "| 77    | -0.09315 |  -0.10658 |   741.5     \n",
      "| 78    | -0.09260 |  -0.10697 |   751.0     \n",
      "| 79    | -0.09355 |  -0.10681 |   760.2     \n",
      "| 80    | -0.09351 |  -0.10547 |   768.7     \n",
      "| 81    | -0.09430 |  -0.10766 |   777.3     \n",
      "| 82    | -0.09319 |  -0.10632 |   786.6     \n",
      "| 83    | -0.09442 |  -0.10672 |   795.9     \n",
      "| 84    | -0.09525 |  -0.10904 |   805.0     \n",
      "| 85    | -0.09369 |  -0.10876 |   813.5     \n",
      "| 86    | -0.09443 |  -0.10789 |   822.4     \n",
      "| 87    | -0.09460 |  -0.10650 |   831.1     \n",
      "| 88    | -0.09292 |  -0.11067 |   839.5     \n",
      "| 89    | -0.09527 |  -0.10737 |   848.6     \n",
      "| 90    | -0.09433 |  -0.10631 |   857.1     \n",
      "| 91    | -0.09311 |  -0.10794 |   865.4     \n",
      "| 92    | -0.09274 |  -0.10513 |   873.6     \n",
      "| 93    | -0.09225 |  -0.10776 |   882.4     \n",
      "| 94    | -0.09253 |  -0.10827 |   891.2     \n",
      "| 95    | -0.09350 |  -0.10614 |   899.4     \n",
      "| 96    | -0.09187 |  -0.10743 |   908.1     \n",
      "| 97    | -0.09233 |  -0.10824 |   917.9     \n",
      "| 98    | -0.09296 |  -0.10749 |   930.0     \n",
      "| 99    | -0.09288 |  -0.10805 |   939.8     \n",
      "| 100   | -0.09284 |  -0.10626 |   948.5     \n",
      "| 101   | -0.09153 |  -0.10851 |   957.1     \n",
      "| 102   | -0.09421 |  -0.10710 |   966.1     \n",
      "| 103   | -0.09561 |  -0.11011 |   974.9     \n",
      "Early stopping occured at epoch 103\n",
      "Training done in 974.867 seconds.\n",
      "---------------------------------------\n"
     ]
    }
   ],
   "source": [
    "clf.fit(\n",
    "    X_train=X_train, y_train=y_train,\n",
    "    X_valid=X_valid, y_valid=y_valid,\n",
    "    max_epochs=max_epochs,\n",
    "    patience=50,\n",
    "    batch_size=1024, virtual_batch_size=128,\n",
    "    num_workers=0,\n",
    "    drop_last=False\n",
    ")"
   ]
  },
  {
   "cell_type": "markdown",
   "metadata": {},
   "source": [
    "### (7) Evaluate and Prediction"
   ]
  },
  {
   "cell_type": "code",
   "execution_count": 64,
   "metadata": {},
   "outputs": [
    {
     "name": "stdout",
     "output_type": "stream",
     "text": [
      "BEST VALID SCORE FOR census-income : 0.10466502606868744\n",
      "FINAL TEST SCORE FOR census-income : 0.10429346327336872\n"
     ]
    }
   ],
   "source": [
    "preds = clf.predict(X_test)\n",
    "\n",
    "y_true = y_test\n",
    "\n",
    "test_score = mean_squared_error(y_pred=preds, y_true=y_true)\n",
    "\n",
    "print(f\"BEST VALID SCORE FOR {dataset_name} : {clf.best_cost}\")\n",
    "print(f\"FINAL TEST SCORE FOR {dataset_name} : {test_score}\")"
   ]
  },
  {
   "cell_type": "markdown",
   "metadata": {},
   "source": [
    "### (8) ML Explanation\n",
    "\n",
    "##### Global explainability : feat importance summing to 1"
   ]
  },
  {
   "cell_type": "code",
   "execution_count": 65,
   "metadata": {},
   "outputs": [
    {
     "data": {
      "text/plain": [
       "array([7.60197223e-02, 4.53381126e-03, 3.51288006e-04, 8.90989974e-02,\n",
       "       1.80659371e-03, 1.29987365e-01, 3.12216862e-01, 6.25388060e-02,\n",
       "       1.81649025e-02, 3.80424200e-05, 2.06811124e-01, 1.20327338e-05,\n",
       "       3.20366949e-03, 9.52167841e-02])"
      ]
     },
     "execution_count": 65,
     "metadata": {},
     "output_type": "execute_result"
    }
   ],
   "source": [
    "clf.feature_importances_"
   ]
  },
  {
   "cell_type": "markdown",
   "metadata": {},
   "source": [
    "##### Local explainability and masks"
   ]
  },
  {
   "cell_type": "code",
   "execution_count": 66,
   "metadata": {},
   "outputs": [],
   "source": [
    "explain_matrix, masks = clf.explain(X_test)"
   ]
  },
  {
   "cell_type": "code",
   "execution_count": 67,
   "metadata": {},
   "outputs": [
    {
     "data": {
      "image/png": "[encoded data removed]",
      "text/plain": [
       "<Figure size 1440x1440 with 3 Axes>"
      ]
     },
     "metadata": {
      "needs_background": "light"
     },
     "output_type": "display_data"
    }
   ],
   "source": [
    "fig, axs = plt.subplots(1, 3, figsize=(20,20))\n",
    "\n",
    "for i in range(3):\n",
    "    axs[i].imshow(masks[i][:50])\n",
    "    axs[i].set_title(f\"mask {i}\")"
   ]
  },
  {
   "cell_type": "markdown",
   "metadata": {},
   "source": [
    "### Implementation in XGBoost"
   ]
  },
  {
   "cell_type": "code",
   "execution_count": 68,
   "metadata": {},
   "outputs": [
    {
     "name": "stdout",
     "output_type": "stream",
     "text": [
      "[0]\tvalidation_0-rmse:0.470985\n",
      "Will train until validation_0-rmse hasn't improved in 40 rounds.\n",
      "[10]\tvalidation_0-rmse:0.339601\n",
      "[20]\tvalidation_0-rmse:0.314615\n",
      "[30]\tvalidation_0-rmse:0.309246\n",
      "[40]\tvalidation_0-rmse:0.308169\n",
      "[50]\tvalidation_0-rmse:0.307491\n",
      "[60]\tvalidation_0-rmse:0.307688\n",
      "[70]\tvalidation_0-rmse:0.307697\n",
      "[80]\tvalidation_0-rmse:0.307683\n",
      "[90]\tvalidation_0-rmse:0.308334\n",
      "Stopping. Best iteration:\n",
      "[53]\tvalidation_0-rmse:0.307343\n",
      "\n"
     ]
    },
    {
     "data": {
      "text/plain": [
       "XGBRegressor(max_depth=8, n_estimators=1000, n_jobs=-1, subsample=0.7,\n",
       "             verbosity=0)"
      ]
     },
     "execution_count": 68,
     "metadata": {},
     "output_type": "execute_result"
    }
   ],
   "source": [
    "from xgboost import XGBRegressor\n",
    "\n",
    "clf_xgb = XGBRegressor(max_depth=8,\n",
    "    learning_rate=0.1,\n",
    "    n_estimators=1000,\n",
    "    verbosity=0,\n",
    "    silent=None,\n",
    "    objective='reg:linear',\n",
    "    booster='gbtree',\n",
    "    n_jobs=-1,\n",
    "    nthread=None,\n",
    "    gamma=0,\n",
    "    min_child_weight=1,\n",
    "    max_delta_step=0,\n",
    "    subsample=0.7,\n",
    "    colsample_bytree=1,\n",
    "    colsample_bylevel=1,\n",
    "    colsample_bynode=1,\n",
    "    reg_alpha=0,\n",
    "    reg_lambda=1,\n",
    "    scale_pos_weight=1,\n",
    "    base_score=0.5,\n",
    "    random_state=0,\n",
    "    seed=None,)\n",
    "\n",
    "clf_xgb.fit(X_train, y_train,\n",
    "        eval_set=[(X_valid, y_valid)],\n",
    "        early_stopping_rounds=40,\n",
    "        verbose=10)"
   ]
  },
  {
   "cell_type": "code",
   "execution_count": 70,
   "metadata": {},
   "outputs": [
    {
     "name": "stdout",
     "output_type": "stream",
     "text": [
      "0.09445981424093695\n",
      "0.09347489128752377\n"
     ]
    }
   ],
   "source": [
    "preds = np.array(clf_xgb.predict(X_valid))\n",
    "valid_auc = mean_squared_error(y_pred=preds, y_true=y_valid)\n",
    "print(valid_auc)\n",
    "\n",
    "preds = np.array(clf_xgb.predict(X_test))\n",
    "test_auc = mean_squared_error(y_pred=preds, y_true=y_test)\n",
    "print(test_auc)"
   ]
  },
  {
   "cell_type": "markdown",
   "metadata": {},
   "source": [
    "> FastAi wrapper https://pypi.org/project/fast-tabnet/"
   ]
  },
  {
   "cell_type": "markdown",
   "metadata": {},
   "source": [
    "> Paper https://arxiv.org/pdf/1908.07442.pdf"
   ]
  },
  {
   "cell_type": "markdown",
   "metadata": {},
   "source": [
    "> Slide https://www.slideshare.net/SebastienFischman/tab-netpresentation/SebastienFischman/tab-netpresentation"
   ]
  },
  {
   "cell_type": "code",
   "execution_count": null,
   "metadata": {},
   "outputs": [],
   "source": []
  }
 ],
 "metadata": {
  "kernelspec": {
   "display_name": "Python 3",
   "language": "python",
   "name": "python3"
  },
  "language_info": {
   "codemirror_mode": {
    "name": "ipython",
    "version": 3
   },
   "file_extension": ".py",
   "mimetype": "text/x-python",
   "name": "python",
   "nbconvert_exporter": "python",
   "pygments_lexer": "ipython3",
   "version": "3.7.6"
  }
 },
 "nbformat": 4,
 "nbformat_minor": 4
}
