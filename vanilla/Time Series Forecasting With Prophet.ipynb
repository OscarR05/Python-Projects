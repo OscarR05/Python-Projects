{
 "cells": [
  {
   "cell_type": "markdown",
   "metadata": {},
   "source": [
    "# Time Series Forecasting With Prophet in Python"
   ]
  },
  {
   "cell_type": "markdown",
   "metadata": {},
   "source": [
    "Time series forecasting can be challenging as there are many different methods you could use and many different hyperparameters for each method.\n",
    "\n",
    "The Prophet library is an open-source library designed by Facebook for making forecasts for univariate time series datasets. It is easy to use and designed to automatically find a good set of hyperparameters for the model in an effort to make skillful forecasts for data with trends and seasonal structure by default."
   ]
  },
  {
   "cell_type": "markdown",
   "metadata": {},
   "source": [
    "#### Intall Library"
   ]
  },
  {
   "cell_type": "code",
   "execution_count": null,
   "metadata": {},
   "outputs": [],
   "source": [
    "#!pip install fbprophet"
   ]
  },
  {
   "cell_type": "code",
   "execution_count": null,
   "metadata": {},
   "outputs": [],
   "source": [
    "# check prophet version\n",
    "import fbprophet\n",
    "# print version number\n",
    "print('Prophet %s' % fbprophet.__version__)"
   ]
  },
  {
   "cell_type": "code",
   "execution_count": null,
   "metadata": {},
   "outputs": [],
   "source": [
    "import pandas as pd\n",
    "import matplotlib.pyplot as plt\n",
    "import numpy as np\n",
    "from datetime import datetime\n",
    "import seaborn as sns\n",
    "import calendar\n",
    "import os\n",
    "import pprint"
   ]
  },
  {
   "cell_type": "markdown",
   "metadata": {},
   "source": [
    "#### Load Data"
   ]
  },
  {
   "cell_type": "markdown",
   "metadata": {},
   "source": [
    "##### We use the monthly car sales dataset. It is a standard univariate time series dataset that contains both a trend and seasonality. The dataset has 108 months of data"
   ]
  },
  {
   "cell_type": "code",
   "execution_count": null,
   "metadata": {},
   "outputs": [],
   "source": [
    "path = 'C:\\\\Users\\\\bokhy\\\\Desktop\\\\Python\\\\github\\\\Python-Projects\\\\'\n",
    "df = pd.read_csv(os.path.join(path, 'monthly-car-sales.csv'), engine='python', header=0)"
   ]
  },
  {
   "cell_type": "code",
   "execution_count": null,
   "metadata": {},
   "outputs": [],
   "source": [
    "# summarize shape\n",
    "print(df.shape)\n",
    "# show first few rows\n",
    "print(df.head())"
   ]
  },
  {
   "cell_type": "code",
   "execution_count": null,
   "metadata": {},
   "outputs": [],
   "source": [
    "df.plot()\n",
    "plt.show()"
   ]
  },
  {
   "cell_type": "markdown",
   "metadata": {},
   "source": [
    "### We can clearly see the trend in sales over time and a monthly seasonal pattern to the sales. These are patterns we expect the forecast model to take into account."
   ]
  },
  {
   "cell_type": "markdown",
   "metadata": {},
   "source": [
    "### Now that we are familiar with the dataset, let’s explore how we can use the Prophet library to make forecasts"
   ]
  },
  {
   "cell_type": "markdown",
   "metadata": {},
   "source": [
    "### To use Prophet for forecasting, first, a Prophet() object is defined and configured, then it is fit on the dataset by calling the fit() function and passing the data.\n",
    "\n",
    "### The Prophet() object takes arguments to configure the type of model you want, such as the type of growth, the type of seasonality, and more. By default, the model will work hard to figure out almost everything automatically."
   ]
  },
  {
   "cell_type": "code",
   "execution_count": null,
   "metadata": {},
   "outputs": [],
   "source": [
    "# prepare expected column names\n",
    "from pandas import to_datetime\n",
    "\n",
    "df.columns = ['ds', 'y']\n",
    "df['ds']= to_datetime(df['ds'])"
   ]
  },
  {
   "cell_type": "code",
   "execution_count": null,
   "metadata": {},
   "outputs": [],
   "source": [
    "from fbprophet import Prophet\n",
    "\n",
    "# define the model\n",
    "model = Prophet()\n",
    "# fit the model\n",
    "model.fit(df)"
   ]
  },
  {
   "cell_type": "markdown",
   "metadata": {},
   "source": [
    "## Make an In-Sample Forecast"
   ]
  },
  {
   "cell_type": "markdown",
   "metadata": {},
   "source": [
    "It can be useful to make a forecast on historical data.\n",
    "\n",
    "That is, we can make a forecast on data used as input to train the model. Ideally, the model has seen the data before and would make a perfect prediction.\n",
    "\n",
    "Nevertheless, this is not the case as the model tries to generalize across all cases in the data.\n",
    "\n",
    "This is called making an in-sample (in training set sample) forecast and reviewing the results can give insight into how good the model is. That is, how well it learned the training data."
   ]
  },
  {
   "cell_type": "code",
   "execution_count": null,
   "metadata": {},
   "outputs": [],
   "source": [
    "# define the period for which we want a prediction\n",
    "future = list()\n",
    "for i in range(1, 13):\n",
    "    date = '1968-%02d' % i\n",
    "    future.append([date])\n",
    "future = DataFrame(future)\n",
    "future.columns = ['ds']\n",
    "future['ds']= to_datetime(future['ds'])"
   ]
  },
  {
   "cell_type": "markdown",
   "metadata": {},
   "source": [
    "The result of the predict() function is a DataFrame that contains many columns. Perhaps the most important columns are the forecast date time (‘ds‘), the forecasted value (‘yhat‘), and the lower and upper bounds on the predicted value (‘yhat_lower‘ and ‘yhat_upper‘) that provide uncertainty of the forecast."
   ]
  },
  {
   "cell_type": "code",
   "execution_count": null,
   "metadata": {},
   "outputs": [],
   "source": [
    "# summarize the forecast\n",
    "print(forecast[['ds', 'yhat', 'yhat_lower', 'yhat_upper']].head())"
   ]
  },
  {
   "cell_type": "markdown",
   "metadata": {},
   "source": [
    "Prophet also provides a built-in tool for visualizing the prediction in the context of the training dataset."
   ]
  },
  {
   "cell_type": "code",
   "execution_count": null,
   "metadata": {},
   "outputs": [],
   "source": [
    "# plot forecast\n",
    "model.plot(forecast)\n",
    "pyplot.show()"
   ]
  },
  {
   "cell_type": "markdown",
   "metadata": {},
   "source": [
    "Running the example forecasts the last 12 months of the dataset.\n",
    "\n",
    "The first five months of the prediction are reported and we can see that values are not too different from the actual sales values in the dataset."
   ]
  },
  {
   "cell_type": "markdown",
   "metadata": {},
   "source": [
    "We can see the training data are represented as black dots and the forecast is a blue line with upper and lower bounds in a blue shaded area.\n",
    "\n",
    "We can see that the forecasted 12 months is a good match for the real observations, especially when the bounds are taken into account."
   ]
  },
  {
   "cell_type": "markdown",
   "metadata": {},
   "source": [
    "## Make an Out-of-Sample Forecast"
   ]
  },
  {
   "cell_type": "markdown",
   "metadata": {},
   "source": [
    "In practice, we really want a forecast model to make a prediction beyond the training data.\n",
    "\n",
    "This is called an out-of-sample forecast.\n",
    "\n",
    "We can achieve this in the same way as an in-sample forecast and simply specify a different forecast period.\n",
    "\n",
    "In this case, a period beyond the end of the training dataset, starting 1969-01"
   ]
  },
  {
   "cell_type": "code",
   "execution_count": null,
   "metadata": {},
   "outputs": [],
   "source": [
    "path = 'C:\\\\Users\\\\bokhy\\\\Desktop\\\\Python\\\\github\\\\Python-Projects\\\\'\n",
    "df = pd.read_csv(os.path.join(path, 'monthly-car-sales.csv'), engine='python', header=0)"
   ]
  },
  {
   "cell_type": "code",
   "execution_count": null,
   "metadata": {},
   "outputs": [],
   "source": [
    "# prepare expected column names\n",
    "df.columns = ['ds', 'y']\n",
    "df['ds']= to_datetime(df['ds'])\n",
    "# define the model\n",
    "model = Prophet()\n",
    "# fit the model\n",
    "model.fit(df)\n",
    "# define the period for which we want a prediction\n",
    "future = list()\n",
    "for i in range(1, 13):\n",
    "    date = '1969-%02d' % i\n",
    "    future.append([date])\n",
    "future = DataFrame(future)\n",
    "future.columns = ['ds']\n",
    "future['ds']= to_datetime(future['ds'])\n",
    "# use the model to make a forecast\n",
    "forecast = model.predict(future)\n",
    "# summarize the forecast\n",
    "print(forecast[['ds', 'yhat', 'yhat_lower', 'yhat_upper']].head())\n",
    "# plot forecast\n",
    "model.plot(forecast)\n",
    "pyplot.show()"
   ]
  },
  {
   "cell_type": "markdown",
   "metadata": {},
   "source": [
    "## Manually Evaluate Forecast Model"
   ]
  },
  {
   "cell_type": "markdown",
   "metadata": {},
   "source": [
    "It is critical to develop an objective estimate of a forecast model’s performance.\n",
    "\n",
    "This can be achieved by holding some data back from the model, such as the last 12 months. Then, fitting the model on the first portion of the data, using it to make predictions on the held-pack portion, and calculating an error measure, such as the mean absolute error across the forecasts. E.g. a simulated out-of-sample forecast.\n",
    "\n",
    "The score gives an estimate of how well we might expect the model to perform on average when making an out-of-sample forecast.\n",
    "\n",
    "We can do this with the samples data by creating a new DataFrame for training with the last 12 months removed."
   ]
  },
  {
   "cell_type": "code",
   "execution_count": null,
   "metadata": {},
   "outputs": [],
   "source": [
    "path = 'C:\\\\Users\\\\bokhy\\\\Desktop\\\\Python\\\\github\\\\Python-Projects\\\\'\n",
    "df = pd.read_csv(os.path.join(path, 'monthly-car-sales.csv'), engine='python', header=0)\n",
    "# prepare expected column names\n",
    "df.columns = ['ds', 'y']\n",
    "df['ds']= to_datetime(df['ds'])"
   ]
  },
  {
   "cell_type": "code",
   "execution_count": null,
   "metadata": {},
   "outputs": [],
   "source": [
    "# create test dataset, remove last 12 months\n",
    "train = df.drop(df.index[-12:])\n",
    "print(train.tail())"
   ]
  },
  {
   "cell_type": "code",
   "execution_count": null,
   "metadata": {},
   "outputs": [],
   "source": [
    "# evaluate prophet time series forecasting model on hold out dataset\n",
    "from sklearn.metrics import mean_absolute_error\n",
    "model = Prophet()\n",
    "# fit the model\n",
    "model.fit(train)\n",
    "# define the period for which we want a prediction\n",
    "future = list()\n",
    "for i in range(1, 13):\n",
    "    date = '1968-%02d' % i\n",
    "    future.append([date])\n",
    "future = DataFrame(future)\n",
    "future.columns = ['ds']\n",
    "future['ds'] = to_datetime(future['ds'])\n",
    "# use the model to make a forecast\n",
    "forecast = model.predict(future)\n",
    "# calculate MAE between expected and predicted values for december\n",
    "y_true = df['y'][-12:].values\n",
    "y_pred = forecast['yhat'].values\n",
    "mae = mean_absolute_error(y_true, y_pred)\n",
    "print('MAE: %.3f' % mae)\n",
    "# plot expected vs actual\n",
    "plt.plot(y_true, label='Actual')\n",
    "plt.plot(y_pred, label='Predicted')\n",
    "plt.legend()\n",
    "plt.show()"
   ]
  },
  {
   "cell_type": "markdown",
   "metadata": {},
   "source": [
    "Running the example first reports the last few rows of the training dataset.\n",
    "\n",
    "It confirms the training ends in the last month of 1967 and 1968 will be used as the hold-out dataset"
   ]
  },
  {
   "cell_type": "markdown",
   "metadata": {},
   "source": [
    "Next, a mean absolute error is calculated for the forecast period.\n",
    "\n",
    "In this case we can see that the error is approximately 1,336 sales, which is much lower (better) than a naive persistence model that achieves an error of 3,235 sales over the same period"
   ]
  },
  {
   "cell_type": "markdown",
   "metadata": {},
   "source": [
    "Finally, a plot is created comparing the actual vs. predicted values. In this case, we can see that the forecast is a good fit. The model has skill and forecast that looks sensible"
   ]
  },
  {
   "cell_type": "markdown",
   "metadata": {},
   "source": [
    "###### Reference\n",
    "https://machinelearningmastery.com/arima-for-time-series-forecasting-with-python/"
   ]
  }
 ],
 "metadata": {
  "kernelspec": {
   "display_name": "Python 3",
   "language": "python",
   "name": "python3"
  },
  "language_info": {
   "codemirror_mode": {
    "name": "ipython",
    "version": 3
   },
   "file_extension": ".py",
   "mimetype": "text/x-python",
   "name": "python",
   "nbconvert_exporter": "python",
   "pygments_lexer": "ipython3",
   "version": "3.7.6"
  }
 },
 "nbformat": 4,
 "nbformat_minor": 4
}
