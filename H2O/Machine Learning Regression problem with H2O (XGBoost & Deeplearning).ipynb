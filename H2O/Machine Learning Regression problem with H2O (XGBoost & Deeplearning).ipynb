{
 "cells": [
  {
   "cell_type": "markdown",
   "metadata": {},
   "source": [
    "# Machine Learning Regression problem with H2O (XGBoost & Deeplearning)"
   ]
  },
  {
   "cell_type": "markdown",
   "metadata": {},
   "source": [
    "In this notebook, we will use the subset of the Freddie Mac Single-Family dataset to try to predict the interest rate for a loan using H2O's XGBoost and Deep Learning models. We will explore how to use these models for a regression problem, and we will also demonstrate how to use H2O's grid search to tune the hyper-parameters of both models."
   ]
  },
  {
   "cell_type": "markdown",
   "metadata": {},
   "source": [
    "The data set we're using comes from Freddie Mac and contains 20 years of mortgage history for each loan and contains information about \"loan-level credit performance data on a portion of fully amortizing fixed-rate mortgages that Freddie Mac bought between 1999 to 2017. Features include demographic factors, monthly loan performance, credit performance including property disposition, voluntary prepayments, MI Recoveries, non-MI recoveries, expenses, current deferred UPB and due date of last paid installment.\"[1]\n",
    "\n",
    "We're going to use machine learning with H2O-3 to predict the interest rate for each loan. To do this, we will build two regression models: an XGBoost model and a Deep Learning model that will help us find the interest rate that a loan should be assigned. Complete this tutorial to see how we achieved those results.\n",
    "\n",
    "We will start by importing H2O, the estimators for the algorithms that we will use, and also the function to perform grid search on those algorithms."
   ]
  },
  {
   "cell_type": "code",
   "execution_count": 1,
   "metadata": {},
   "outputs": [],
   "source": [
    "#Import H2O and other libraries that will be used in this tutorial \n",
    "import h2o\n",
    "import matplotlib as plt\n",
    "%matplotlib inline\n",
    "\n",
    "#Import the Estimators\n",
    "from h2o.estimators.deeplearning import H2ODeepLearningEstimator\n",
    "from h2o.estimators import H2OXGBoostEstimator\n",
    "\n",
    "#Import h2o grid search \n",
    "import h2o.grid \n",
    "from h2o.grid.grid_search import H2OGridSearch"
   ]
  },
  {
   "cell_type": "code",
   "execution_count": 2,
   "metadata": {},
   "outputs": [],
   "source": [
    "import os\n",
    "import h2o\n",
    "\n",
    "startup  = '/home/h2o/bin/aquarium_startup'\n",
    "shutdown = '/home/h2o/bin/aquarium_stop'\n",
    "\n",
    "if os.path.exists(startup):\n",
    "    os.system(startup)\n",
    "    local_url = 'http://localhost:54321/h2o'\n",
    "    aquarium = True\n",
    "else:\n",
    "    local_url = 'http://localhost:54321'\n",
    "    aquarium = False"
   ]
  },
  {
   "cell_type": "code",
   "execution_count": 3,
   "metadata": {},
   "outputs": [
    {
     "name": "stdout",
     "output_type": "stream",
     "text": [
      "Checking whether there is an H2O instance running at http://localhost:54321 . connected.\n"
     ]
    },
    {
     "data": {
      "text/html": [
       "<div style=\"overflow:auto\"><table style=\"width:50%\"><tr><td>H2O_cluster_uptime:</td>\n",
       "<td>57 mins 22 secs</td></tr>\n",
       "<tr><td>H2O_cluster_timezone:</td>\n",
       "<td>America/Los_Angeles</td></tr>\n",
       "<tr><td>H2O_data_parsing_timezone:</td>\n",
       "<td>UTC</td></tr>\n",
       "<tr><td>H2O_cluster_version:</td>\n",
       "<td>3.30.1.1</td></tr>\n",
       "<tr><td>H2O_cluster_version_age:</td>\n",
       "<td>2 days </td></tr>\n",
       "<tr><td>H2O_cluster_name:</td>\n",
       "<td>H2O_from_python_bokhy_ughxpn</td></tr>\n",
       "<tr><td>H2O_cluster_total_nodes:</td>\n",
       "<td>1</td></tr>\n",
       "<tr><td>H2O_cluster_free_memory:</td>\n",
       "<td>2.943 Gb</td></tr>\n",
       "<tr><td>H2O_cluster_total_cores:</td>\n",
       "<td>8</td></tr>\n",
       "<tr><td>H2O_cluster_allowed_cores:</td>\n",
       "<td>8</td></tr>\n",
       "<tr><td>H2O_cluster_status:</td>\n",
       "<td>locked, healthy</td></tr>\n",
       "<tr><td>H2O_connection_url:</td>\n",
       "<td>http://localhost:54321</td></tr>\n",
       "<tr><td>H2O_connection_proxy:</td>\n",
       "<td>{\"http\": null, \"https\": null}</td></tr>\n",
       "<tr><td>H2O_internal_security:</td>\n",
       "<td>False</td></tr>\n",
       "<tr><td>H2O_API_Extensions:</td>\n",
       "<td>Amazon S3, Algos, AutoML, Core V3, TargetEncoder, Core V4</td></tr>\n",
       "<tr><td>Python_version:</td>\n",
       "<td>3.7.6 final</td></tr></table></div>"
      ],
      "text/plain": [
       "--------------------------  ---------------------------------------------------------\n",
       "H2O_cluster_uptime:         57 mins 22 secs\n",
       "H2O_cluster_timezone:       America/Los_Angeles\n",
       "H2O_data_parsing_timezone:  UTC\n",
       "H2O_cluster_version:        3.30.1.1\n",
       "H2O_cluster_version_age:    2 days\n",
       "H2O_cluster_name:           H2O_from_python_bokhy_ughxpn\n",
       "H2O_cluster_total_nodes:    1\n",
       "H2O_cluster_free_memory:    2.943 Gb\n",
       "H2O_cluster_total_cores:    8\n",
       "H2O_cluster_allowed_cores:  8\n",
       "H2O_cluster_status:         locked, healthy\n",
       "H2O_connection_url:         http://localhost:54321\n",
       "H2O_connection_proxy:       {\"http\": null, \"https\": null}\n",
       "H2O_internal_security:      False\n",
       "H2O_API_Extensions:         Amazon S3, Algos, AutoML, Core V3, TargetEncoder, Core V4\n",
       "Python_version:             3.7.6 final\n",
       "--------------------------  ---------------------------------------------------------"
      ]
     },
     "metadata": {},
     "output_type": "display_data"
    }
   ],
   "source": [
    "h2o.init(url=local_url)"
   ]
  },
  {
   "cell_type": "markdown",
   "metadata": {},
   "source": [
    "## 1. Load Data"
   ]
  },
  {
   "cell_type": "code",
   "execution_count": 4,
   "metadata": {},
   "outputs": [
    {
     "name": "stdout",
     "output_type": "stream",
     "text": [
      "Parse progress: |█████████████████████████████████████████████████████████| 100%\n"
     ]
    }
   ],
   "source": [
    "#Import the dataset \n",
    "loan_level = h2o.import_file(\"https://s3.amazonaws.com/data.h2o.ai/DAI-Tutorials/loan_level_500k.csv\")"
   ]
  },
  {
   "cell_type": "markdown",
   "metadata": {},
   "source": [
    "## Regression Analysis/Regressor Model\n",
    "Regression tries to predict a continuous number (as different from classification, which only categorizes). With a regressor model, you try to predict the exact number from your response column. In our case, we will try to predict the interest rate. You will see later on that some samples might have a 7.5% interest rate, and our regression model will try to predict that number.\n",
    "\n",
    "There are different types of regression analysis; for example, there is a linear regression, where you fit a straight line to your response based on your predictors, and you try to predict your output with it. Linear regressions are only advised for datasets with a linear distribution. There are also non-linear regressions, which are more useful when you do not have a linear distribution of your response variable.\n",
    "\n",
    "For regression use cases, H2O supports the following metrics:\n",
    "\n",
    "- R Squared (R2)\n",
    "- Mean Squared Error (MSE)\n",
    "- Root Mean Squared Error (RMSE)\n",
    "- Root Mean Squared Logarithmic Error (RMSLE)\n",
    "- Mean Absolute Error (MAE)\n",
    "- In this tutorial, we'll just focus on the RMSE and MAE.\n",
    "\n",
    "#### MSE\n",
    "The MSE metric measures the average of the squares of the errors or deviations. MSE takes the distances from the points to the regression line (these distances are the \"errors\") and squaring them to remove any negative signs. MSE incorporates both the variance and the bias of the predictor.\n",
    "MSE also gives more weight to larger differences. The bigger the error, the more it is penalized. For example, if your correct answers are 2,3,4 and the algorithm guesses 1,4,3, then the absolute error on each one is exactly 1, so squared error is also 1, and the MSE is 1. But if the algorithm guesses 2,3,6, then the errors are 0,0,2, the squared errors are 0,0,4, and the MSE is a higher 1.333.\n",
    "\n",
    "#### RMSE\n",
    "The RMSE metric evaluates how well a model can predict a continuous value. The RMSE units are the same as the predicted target, which is useful for understanding if the size of the error is of concern or not. The smaller the RMSE, the better the model's performance. RMSE is sensitive to outliers, meaning that when the error is larger, the more it is penalized.\n",
    "\n",
    "#### MAE\n",
    "The MAE is an average of the absolute errors. The MAE units are the same as the predicted target as well as the RMSW, which is also useful for understanding whether the size of the error is of concern or not. The smaller the MAE, the better the model's performance. MAE is robust to outliers, meaning all errors are penalized equally."
   ]
  },
  {
   "cell_type": "markdown",
   "metadata": {},
   "source": [
    "#### Look at the data"
   ]
  },
  {
   "cell_type": "code",
   "execution_count": 6,
   "metadata": {},
   "outputs": [
    {
     "data": {
      "text/html": [
       "<table>\n",
       "<thead>\n",
       "<tr><th style=\"text-align: right;\">  CREDIT_SCORE</th><th style=\"text-align: right;\">  FIRST_PAYMENT_DATE</th><th>FIRST_TIME_HOMEBUYER_FLAG  </th><th style=\"text-align: right;\">  MATURITY_DATE</th><th style=\"text-align: right;\">  METROPOLITAN_STATISTICAL_AREA</th><th style=\"text-align: right;\">  MORTGAGE_INSURANCE_PERCENTAGE</th><th style=\"text-align: right;\">  NUMBER_OF_UNITS</th><th>OCCUPANCY_STATUS  </th><th style=\"text-align: right;\">  ORIGINAL_COMBINED_LOAN_TO_VALUE</th><th style=\"text-align: right;\">  ORIGINAL_DEBT_TO_INCOME_RATIO</th><th style=\"text-align: right;\">  ORIGINAL_UPB</th><th style=\"text-align: right;\">  ORIGINAL_LOAN_TO_VALUE</th><th style=\"text-align: right;\">  ORIGINAL_INTEREST_RATE</th><th>CHANNEL  </th><th>PREPAYMENT_PENALTY_MORTGAGE_FLAG  </th><th>PRODUCT_TYPE  </th><th>PROPERTY_STATE  </th><th>PROPERTY_TYPE  </th><th style=\"text-align: right;\">  POSTAL_CODE</th><th>LOAN_SEQUENCE_NUMBER  </th><th>LOAN_PURPOSE  </th><th style=\"text-align: right;\">  ORIGINAL_LOAN_TERM</th><th style=\"text-align: right;\">  NUMBER_OF_BORROWERS</th><th>SELLER_NAME  </th><th>SERVICER_NAME  </th><th>PREPAID  </th><th>DELINQUENT  </th></tr>\n",
       "</thead>\n",
       "<tbody>\n",
       "<tr><td style=\"text-align: right;\">           669</td><td style=\"text-align: right;\">              200206</td><td>N                          </td><td style=\"text-align: right;\">         202901</td><td style=\"text-align: right;\">                            nan</td><td style=\"text-align: right;\">                              0</td><td style=\"text-align: right;\">                1</td><td>O                 </td><td style=\"text-align: right;\">                               80</td><td style=\"text-align: right;\">                             33</td><td style=\"text-align: right;\">        162000</td><td style=\"text-align: right;\">                      80</td><td style=\"text-align: right;\">                   7.12 </td><td>R        </td><td>N                                 </td><td>FRM           </td><td>WV              </td><td>SF             </td><td style=\"text-align: right;\">        26100</td><td>F199Q1000004          </td><td>P             </td><td style=\"text-align: right;\">                 320</td><td style=\"text-align: right;\">                    2</td><td>Other sellers</td><td>Other servicers</td><td>TRUE     </td><td>FALSE       </td></tr>\n",
       "<tr><td style=\"text-align: right;\">           732</td><td style=\"text-align: right;\">              199904</td><td>N                          </td><td style=\"text-align: right;\">         202903</td><td style=\"text-align: right;\">                          17140</td><td style=\"text-align: right;\">                              0</td><td style=\"text-align: right;\">                1</td><td>O                 </td><td style=\"text-align: right;\">                               25</td><td style=\"text-align: right;\">                             10</td><td style=\"text-align: right;\">         53000</td><td style=\"text-align: right;\">                      25</td><td style=\"text-align: right;\">                   6.5  </td><td>R        </td><td>N                                 </td><td>FRM           </td><td>OH              </td><td>SF             </td><td style=\"text-align: right;\">        45200</td><td>F199Q1000005          </td><td>N             </td><td style=\"text-align: right;\">                 360</td><td style=\"text-align: right;\">                    1</td><td>Other sellers</td><td>Other servicers</td><td>TRUE     </td><td>FALSE       </td></tr>\n",
       "<tr><td style=\"text-align: right;\">           679</td><td style=\"text-align: right;\">              200208</td><td>N                          </td><td style=\"text-align: right;\">         202902</td><td style=\"text-align: right;\">                          15940</td><td style=\"text-align: right;\">                             30</td><td style=\"text-align: right;\">                1</td><td>O                 </td><td style=\"text-align: right;\">                               91</td><td style=\"text-align: right;\">                             48</td><td style=\"text-align: right;\">        133000</td><td style=\"text-align: right;\">                      91</td><td style=\"text-align: right;\">                   6.75 </td><td>R        </td><td>N                                 </td><td>FRM           </td><td>OH              </td><td>SF             </td><td style=\"text-align: right;\">        44700</td><td>F199Q1000007          </td><td>P             </td><td style=\"text-align: right;\">                 319</td><td style=\"text-align: right;\">                    1</td><td>Other sellers</td><td>Other servicers</td><td>TRUE     </td><td>FALSE       </td></tr>\n",
       "<tr><td style=\"text-align: right;\">           721</td><td style=\"text-align: right;\">              200209</td><td>N                          </td><td style=\"text-align: right;\">         202902</td><td style=\"text-align: right;\">                          38060</td><td style=\"text-align: right;\">                              0</td><td style=\"text-align: right;\">                1</td><td>O                 </td><td style=\"text-align: right;\">                               39</td><td style=\"text-align: right;\">                             13</td><td style=\"text-align: right;\">        174000</td><td style=\"text-align: right;\">                      39</td><td style=\"text-align: right;\">                   6.625</td><td>T        </td><td>N                                 </td><td>FRM           </td><td>AZ              </td><td>SF             </td><td style=\"text-align: right;\">        85200</td><td>F199Q1000013          </td><td>N             </td><td style=\"text-align: right;\">                 318</td><td style=\"text-align: right;\">                    2</td><td>Other sellers</td><td>Other servicers</td><td>TRUE     </td><td>FALSE       </td></tr>\n",
       "<tr><td style=\"text-align: right;\">           618</td><td style=\"text-align: right;\">              200210</td><td>N                          </td><td style=\"text-align: right;\">         202902</td><td style=\"text-align: right;\">                          10420</td><td style=\"text-align: right;\">                             25</td><td style=\"text-align: right;\">                1</td><td>O                 </td><td style=\"text-align: right;\">                               85</td><td style=\"text-align: right;\">                             24</td><td style=\"text-align: right;\">        122000</td><td style=\"text-align: right;\">                      85</td><td style=\"text-align: right;\">                   6.375</td><td>R        </td><td>N                                 </td><td>FRM           </td><td>OH              </td><td>SF             </td><td style=\"text-align: right;\">        44200</td><td>F199Q1000015          </td><td>N             </td><td style=\"text-align: right;\">                 317</td><td style=\"text-align: right;\">                    2</td><td>Other sellers</td><td>Other servicers</td><td>TRUE     </td><td>FALSE       </td></tr>\n",
       "<tr><td style=\"text-align: right;\">           738</td><td style=\"text-align: right;\">              200211</td><td>N                          </td><td style=\"text-align: right;\">         202903</td><td style=\"text-align: right;\">                          10420</td><td style=\"text-align: right;\">                              0</td><td style=\"text-align: right;\">                1</td><td>O                 </td><td style=\"text-align: right;\">                               73</td><td style=\"text-align: right;\">                             44</td><td style=\"text-align: right;\">        218000</td><td style=\"text-align: right;\">                      73</td><td style=\"text-align: right;\">                   6    </td><td>R        </td><td>N                                 </td><td>FRM           </td><td>OH              </td><td>SF             </td><td style=\"text-align: right;\">        44300</td><td>F199Q1000016          </td><td>P             </td><td style=\"text-align: right;\">                 317</td><td style=\"text-align: right;\">                    2</td><td>Other sellers</td><td>Other servicers</td><td>TRUE     </td><td>FALSE       </td></tr>\n",
       "<tr><td style=\"text-align: right;\">           761</td><td style=\"text-align: right;\">              200211</td><td>N                          </td><td style=\"text-align: right;\">         202904</td><td style=\"text-align: right;\">                            nan</td><td style=\"text-align: right;\">                              0</td><td style=\"text-align: right;\">                1</td><td>O                 </td><td style=\"text-align: right;\">                               73</td><td style=\"text-align: right;\">                             31</td><td style=\"text-align: right;\">        138000</td><td style=\"text-align: right;\">                      73</td><td style=\"text-align: right;\">                   6.375</td><td>R        </td><td>N                                 </td><td>FRM           </td><td>SC              </td><td>PU             </td><td style=\"text-align: right;\">        29500</td><td>F199Q1000017          </td><td>P             </td><td style=\"text-align: right;\">                 318</td><td style=\"text-align: right;\">                    2</td><td>Other sellers</td><td>Other servicers</td><td>TRUE     </td><td>FALSE       </td></tr>\n",
       "<tr><td style=\"text-align: right;\">           707</td><td style=\"text-align: right;\">              200211</td><td>N                          </td><td style=\"text-align: right;\">         202903</td><td style=\"text-align: right;\">                          33340</td><td style=\"text-align: right;\">                              0</td><td style=\"text-align: right;\">                1</td><td>O                 </td><td style=\"text-align: right;\">                               60</td><td style=\"text-align: right;\">                             57</td><td style=\"text-align: right;\">        136000</td><td style=\"text-align: right;\">                      60</td><td style=\"text-align: right;\">                   6.25 </td><td>R        </td><td>N                                 </td><td>FRM           </td><td>WI              </td><td>SF             </td><td style=\"text-align: right;\">        53000</td><td>F199Q1000018          </td><td>C             </td><td style=\"text-align: right;\">                 317</td><td style=\"text-align: right;\">                    2</td><td>Other sellers</td><td>Other servicers</td><td>TRUE     </td><td>FALSE       </td></tr>\n",
       "<tr><td style=\"text-align: right;\">           760</td><td style=\"text-align: right;\">              200211</td><td>N                          </td><td style=\"text-align: right;\">         202903</td><td style=\"text-align: right;\">                          33340</td><td style=\"text-align: right;\">                              0</td><td style=\"text-align: right;\">                1</td><td>O                 </td><td style=\"text-align: right;\">                               63</td><td style=\"text-align: right;\">                             30</td><td style=\"text-align: right;\">         79000</td><td style=\"text-align: right;\">                      63</td><td style=\"text-align: right;\">                   6.125</td><td>R        </td><td>N                                 </td><td>FRM           </td><td>WI              </td><td>SF             </td><td style=\"text-align: right;\">        53000</td><td>F199Q1000019          </td><td>N             </td><td style=\"text-align: right;\">                 317</td><td style=\"text-align: right;\">                    2</td><td>Other sellers</td><td>Other servicers</td><td>TRUE     </td><td>FALSE       </td></tr>\n",
       "<tr><td style=\"text-align: right;\">           691</td><td style=\"text-align: right;\">              200302</td><td>N                          </td><td style=\"text-align: right;\">         202901</td><td style=\"text-align: right;\">                          15940</td><td style=\"text-align: right;\">                              0</td><td style=\"text-align: right;\">                1</td><td>O                 </td><td style=\"text-align: right;\">                               65</td><td style=\"text-align: right;\">                             25</td><td style=\"text-align: right;\">        130000</td><td style=\"text-align: right;\">                      65</td><td style=\"text-align: right;\">                   5.875</td><td>R        </td><td>N                                 </td><td>FRM           </td><td>OH              </td><td>SF             </td><td style=\"text-align: right;\">        44700</td><td>F199Q1000023          </td><td>P             </td><td style=\"text-align: right;\">                 312</td><td style=\"text-align: right;\">                    2</td><td>Other sellers</td><td>Other servicers</td><td>TRUE     </td><td>FALSE       </td></tr>\n",
       "</tbody>\n",
       "</table>"
      ]
     },
     "metadata": {},
     "output_type": "display_data"
    },
    {
     "data": {
      "text/plain": []
     },
     "execution_count": 6,
     "metadata": {},
     "output_type": "execute_result"
    }
   ],
   "source": [
    "loan_level.head()"
   ]
  },
  {
   "cell_type": "code",
   "execution_count": 7,
   "metadata": {},
   "outputs": [
    {
     "name": "stdout",
     "output_type": "stream",
     "text": [
      "Rows:500137\n",
      "Cols:1\n",
      "\n",
      "\n"
     ]
    },
    {
     "data": {
      "text/html": [
       "<table>\n",
       "<thead>\n",
       "<tr><th>       </th><th>ORIGINAL_INTEREST_RATE  </th></tr>\n",
       "</thead>\n",
       "<tbody>\n",
       "<tr><td>type   </td><td>real                    </td></tr>\n",
       "<tr><td>mins   </td><td>4.625                   </td></tr>\n",
       "<tr><td>mean   </td><td>7.18268686379932        </td></tr>\n",
       "<tr><td>maxs   </td><td>11.5                    </td></tr>\n",
       "<tr><td>sigma  </td><td>0.5799408623980559      </td></tr>\n",
       "<tr><td>zeros  </td><td>0                       </td></tr>\n",
       "<tr><td>missing</td><td>0                       </td></tr>\n",
       "<tr><td>0      </td><td>7.12                    </td></tr>\n",
       "<tr><td>1      </td><td>6.5                     </td></tr>\n",
       "<tr><td>2      </td><td>6.75                    </td></tr>\n",
       "<tr><td>3      </td><td>6.625                   </td></tr>\n",
       "<tr><td>4      </td><td>6.375                   </td></tr>\n",
       "<tr><td>5      </td><td>6.0                     </td></tr>\n",
       "<tr><td>6      </td><td>6.375                   </td></tr>\n",
       "<tr><td>7      </td><td>6.25                    </td></tr>\n",
       "<tr><td>8      </td><td>6.125                   </td></tr>\n",
       "<tr><td>9      </td><td>5.875                   </td></tr>\n",
       "</tbody>\n",
       "</table>"
      ]
     },
     "metadata": {},
     "output_type": "display_data"
    }
   ],
   "source": [
    "loan_level[\"ORIGINAL_INTEREST_RATE\"].describe()"
   ]
  },
  {
   "cell_type": "markdown",
   "metadata": {},
   "source": [
    "From the description above, we can see that the maximum interest rate value is 11.5%, and the minimum is 4.625%, while the average or mean is 7.183%. Our models will have to predict a numerical value from 4.625 to 11.5 based on the predictors that we choose. Let's take a look at a more graphical representation of our data with a histogram"
   ]
  },
  {
   "cell_type": "code",
   "execution_count": 8,
   "metadata": {},
   "outputs": [
    {
     "data": {
      "image/png": "[encoded data removed]",
      "text/plain": [
       "<Figure size 432x288 with 1 Axes>"
      ]
     },
     "metadata": {
      "needs_background": "light"
     },
     "output_type": "display_data"
    }
   ],
   "source": [
    "loan_level[\"ORIGINAL_INTEREST_RATE\"].hist()"
   ]
  },
  {
   "cell_type": "markdown",
   "metadata": {},
   "source": [
    "The histogram verifies that the interest rate around 7 and 7.5 is the most frequent one. Now that we have an idea of what our data and our response variable looks like, we can split the dataset.\n",
    "\n",
    "**Please note that the main goal of this tutorial is to show the usage of some models for regression problems, as well as to tune some of the hyper-parameters of the models. For that reason, we will be skipping any data visualization and manipulation, as well as feature engineering. The aforementioned stages in machine learning are very important, and should always be done; however, they will be covered in later tutorials.**\n",
    "\n",
    "We will split the dataset into three sets, training, validation, and test set. The reason for having validation and test sets is because we will use the validation set to tune our models, and we will treat the test set as some unseen data in which we will see how our models perform. We will assign 70% of our data to the training set, and 15% to both the validation and test sets.\n",
    "Split the dataset and print the distribution of each set"
   ]
  },
  {
   "cell_type": "code",
   "execution_count": 9,
   "metadata": {},
   "outputs": [
    {
     "name": "stdout",
     "output_type": "stream",
     "text": [
      "train:350268 valid:74971 test:74898\n"
     ]
    }
   ],
   "source": [
    "train, valid, test = loan_level.split_frame([0.70, 0.15], seed=42)\n",
    "print(\"train:%d valid:%d test:%d\" % (train.nrows, valid.nrows, test.nrows))"
   ]
  },
  {
   "cell_type": "markdown",
   "metadata": {},
   "source": [
    "#### Set Variables"
   ]
  },
  {
   "cell_type": "code",
   "execution_count": 10,
   "metadata": {},
   "outputs": [],
   "source": [
    "y = \"ORIGINAL_INTEREST_RATE\"\n",
    "\n",
    "ignore = [\"ORIGINAL_INTEREST_RATE\", \n",
    "          \"FIRST_PAYMENT_DATE\", \n",
    "          \"MATURITY_DATE\", \n",
    "          \"MORTGAGE_INSURANCE_PERCENTAGE\", \n",
    "          \"PREPAYMENT_PENALTY_MORTGAGE_FLAG\", \n",
    "          \"LOAN_SEQUENCE_NUMBER\", \n",
    "          \"PREPAID\", \n",
    "          \"DELINQUENT\", \n",
    "          \"PRODUCT_TYPE\"] \n",
    "\n",
    "x = list(set(train.names) - set(ignore))"
   ]
  },
  {
   "cell_type": "code",
   "execution_count": 11,
   "metadata": {},
   "outputs": [
    {
     "data": {
      "text/plain": [
       "['SELLER_NAME',\n",
       " 'ORIGINAL_COMBINED_LOAN_TO_VALUE',\n",
       " 'OCCUPANCY_STATUS',\n",
       " 'PROPERTY_STATE',\n",
       " 'FIRST_TIME_HOMEBUYER_FLAG',\n",
       " 'NUMBER_OF_BORROWERS',\n",
       " 'ORIGINAL_UPB',\n",
       " 'PROPERTY_TYPE',\n",
       " 'SERVICER_NAME',\n",
       " 'ORIGINAL_DEBT_TO_INCOME_RATIO',\n",
       " 'LOAN_PURPOSE',\n",
       " 'CREDIT_SCORE',\n",
       " 'ORIGINAL_LOAN_TO_VALUE',\n",
       " 'POSTAL_CODE',\n",
       " 'NUMBER_OF_UNITS',\n",
       " 'CHANNEL',\n",
       " 'ORIGINAL_LOAN_TERM',\n",
       " 'METROPOLITAN_STATISTICAL_AREA']"
      ]
     },
     "execution_count": 11,
     "metadata": {},
     "output_type": "execute_result"
    }
   ],
   "source": [
    "x"
   ]
  },
  {
   "cell_type": "markdown",
   "metadata": {},
   "source": [
    "## 2. Build an XGBoost Model"
   ]
  },
  {
   "cell_type": "code",
   "execution_count": null,
   "metadata": {},
   "outputs": [],
   "source": [
    "xgb = H2OXGBoostEstimator(seed=42, model_id='XGBoost', nfolds=0, keep_cross_validation_predictions = False)\n",
    "\n",
    "%time \n",
    "xgb.train(x=x, y=y, training_frame=train, validation_frame=valid)"
   ]
  },
  {
   "cell_type": "markdown",
   "metadata": {},
   "source": [
    "Note: You do not need to specify the cross-validation parameters, but we want to show the parameters that you would have to change in order to enable H2O internal cross-validation. If you wanted to use the H2O cross-validation, you would have to set keep_cross_validation_predictions to True and change nfolds to 3, 5, or 10, depending on the number of folds that you want; by doing cross-validation, you no longer need a validation frame."
   ]
  },
  {
   "cell_type": "code",
   "execution_count": null,
   "metadata": {},
   "outputs": [],
   "source": [
    "xgb"
   ]
  },
  {
   "cell_type": "markdown",
   "metadata": {},
   "source": [
    "When printing the model summary, you will see a complete summary with some of the parameters in your model (in this case, we only see the number of trees). You will see some scoring metrics on your training data, as well as on your validation data, as shown in the image above. From the report, we can see that the MAE, in fact, is lower than the RMSE, this might be due to having some of the interest rates at the far end of our range (such as interest rates as high as 10 and 11, when our mean is 7.2). The training and validation RMSE are 0.4212 and 0.4244, respectively. This means that according to the RMSE, on average, the predictions are 0.42 percent off from the actual values. While the training and validation MAE are 0.3071 and 0.3108 respectively, which tells us that the predictions are about 0.31 percent off from the actual values, according to the MAE. Since we have a target interest rate range between 4 to 12 percent, we will try to reduce the RMSE when tuning our models as it will penalize larger errors or outliers.\n",
    "\n",
    "In the model summary, you will also see two tables; the first table is the scoring history, and the second one is the variable importance table (not shown here). Besides looking at the table, we can also take a look at both graphing representations of the scoring history and the variable importance.\n",
    "\n",
    "Let's first plot the scoring histor, and variable importance"
   ]
  },
  {
   "cell_type": "code",
   "execution_count": null,
   "metadata": {},
   "outputs": [],
   "source": [
    "xgb.plot()"
   ]
  },
  {
   "cell_type": "code",
   "execution_count": null,
   "metadata": {},
   "outputs": [],
   "source": [
    "xgb.varimp_plot()"
   ]
  },
  {
   "cell_type": "markdown",
   "metadata": {},
   "source": [
    "We will make some predictions on our validation set. To compare the predictions to the actual value, we are going to bind the two data frames, the predictions and the validation set, as follow:"
   ]
  },
  {
   "cell_type": "code",
   "execution_count": null,
   "metadata": {},
   "outputs": [],
   "source": [
    "xgb_def_pred = xgb.predict(valid)\n",
    "xgb_def_pred.cbind(valid['ORIGINAL_INTEREST_RATE'])"
   ]
  },
  {
   "cell_type": "markdown",
   "metadata": {},
   "source": [
    "In the first ten predictions, we can see that they are somewhat close to the actual value, except for the first sample, which is more than 1.5% off. We can see that samples such as this one, might make the RMSE higher than the MAE.\n",
    "\n",
    "We can also check the model performance with a test, or in this case, with a validation set, and print some of the scores for our model. For now, we will just save the model performance, as we will use later on."
   ]
  },
  {
   "cell_type": "code",
   "execution_count": null,
   "metadata": {},
   "outputs": [],
   "source": [
    "default_xgb_per = xgb.model_performance(valid)"
   ]
  },
  {
   "cell_type": "markdown",
   "metadata": {},
   "source": [
    "\n",
    "\n"
   ]
  },
  {
   "cell_type": "markdown",
   "metadata": {},
   "source": [
    "## 3. Build a Deep Learning Model"
   ]
  },
  {
   "cell_type": "markdown",
   "metadata": {},
   "source": [
    "Deep learning estimator is fairly easy to use. For our default Deep Learning model, we do not need to define any parameters, but we will define the seed, model id, and we will also make sure that cross-validation is disabled, as we are using a validation frame."
   ]
  },
  {
   "cell_type": "code",
   "execution_count": 13,
   "metadata": {},
   "outputs": [
    {
     "name": "stdout",
     "output_type": "stream",
     "text": [
      "Wall time: 0 ns\n",
      "deeplearning Model Build progress: |██████████████████████████████████████| 100%\n"
     ]
    }
   ],
   "source": [
    "dl = H2ODeepLearningEstimator(seed=42, model_id='DL',\n",
    "                              nfolds= 0,\n",
    "                              keep_cross_validation_predictions = False\n",
    "                              )\n",
    "%time \n",
    "dl.train(x=x, y=y, training_frame=train, validation_frame=valid)"
   ]
  },
  {
   "cell_type": "code",
   "execution_count": 14,
   "metadata": {},
   "outputs": [
    {
     "name": "stdout",
     "output_type": "stream",
     "text": [
      "Model Details\n",
      "=============\n",
      "H2ODeepLearningEstimator :  Deep Learning\n",
      "Model Key:  DL\n",
      "\n",
      "\n",
      "Status of Neuron Layers: predicting ORIGINAL_INTEREST_RATE, regression, gaussian distribution, Quadratic loss, 73,601 weights/biases, 880.4 KB, 3,598,847 training samples, mini-batch size 1\n"
     ]
    },
    {
     "data": {
      "text/html": [
       "<div>\n",
       "<style scoped>\n",
       "    .dataframe tbody tr th:only-of-type {\n",
       "        vertical-align: middle;\n",
       "    }\n",
       "\n",
       "    .dataframe tbody tr th {\n",
       "        vertical-align: top;\n",
       "    }\n",
       "\n",
       "    .dataframe thead th {\n",
       "        text-align: right;\n",
       "    }\n",
       "</style>\n",
       "<table border=\"1\" class=\"dataframe\">\n",
       "  <thead>\n",
       "    <tr style=\"text-align: right;\">\n",
       "      <th></th>\n",
       "      <th></th>\n",
       "      <th>layer</th>\n",
       "      <th>units</th>\n",
       "      <th>type</th>\n",
       "      <th>dropout</th>\n",
       "      <th>l1</th>\n",
       "      <th>l2</th>\n",
       "      <th>mean_rate</th>\n",
       "      <th>rate_rms</th>\n",
       "      <th>momentum</th>\n",
       "      <th>mean_weight</th>\n",
       "      <th>weight_rms</th>\n",
       "      <th>mean_bias</th>\n",
       "      <th>bias_rms</th>\n",
       "    </tr>\n",
       "  </thead>\n",
       "  <tbody>\n",
       "    <tr>\n",
       "      <th>0</th>\n",
       "      <td></td>\n",
       "      <td>1</td>\n",
       "      <td>165</td>\n",
       "      <td>Input</td>\n",
       "      <td>0</td>\n",
       "      <td></td>\n",
       "      <td></td>\n",
       "      <td></td>\n",
       "      <td></td>\n",
       "      <td></td>\n",
       "      <td></td>\n",
       "      <td></td>\n",
       "      <td></td>\n",
       "      <td></td>\n",
       "    </tr>\n",
       "    <tr>\n",
       "      <th>1</th>\n",
       "      <td></td>\n",
       "      <td>2</td>\n",
       "      <td>200</td>\n",
       "      <td>Rectifier</td>\n",
       "      <td>0</td>\n",
       "      <td>0</td>\n",
       "      <td>0</td>\n",
       "      <td>0.0556208</td>\n",
       "      <td>0.213166</td>\n",
       "      <td>0</td>\n",
       "      <td>-0.0133035</td>\n",
       "      <td>0.18641</td>\n",
       "      <td>-0.016015</td>\n",
       "      <td>0.240832</td>\n",
       "    </tr>\n",
       "    <tr>\n",
       "      <th>2</th>\n",
       "      <td></td>\n",
       "      <td>3</td>\n",
       "      <td>200</td>\n",
       "      <td>Rectifier</td>\n",
       "      <td>0</td>\n",
       "      <td>0</td>\n",
       "      <td>0</td>\n",
       "      <td>0.0565888</td>\n",
       "      <td>0.0597781</td>\n",
       "      <td>0</td>\n",
       "      <td>-0.055436</td>\n",
       "      <td>0.140429</td>\n",
       "      <td>0.0572095</td>\n",
       "      <td>0.523543</td>\n",
       "    </tr>\n",
       "    <tr>\n",
       "      <th>3</th>\n",
       "      <td></td>\n",
       "      <td>4</td>\n",
       "      <td>1</td>\n",
       "      <td>Linear</td>\n",
       "      <td></td>\n",
       "      <td>0</td>\n",
       "      <td>0</td>\n",
       "      <td>0.00114034</td>\n",
       "      <td>0.000922778</td>\n",
       "      <td>0</td>\n",
       "      <td>-0.00921151</td>\n",
       "      <td>0.0805816</td>\n",
       "      <td>0.53918</td>\n",
       "      <td>1.09713e-154</td>\n",
       "    </tr>\n",
       "  </tbody>\n",
       "</table>\n",
       "</div>"
      ],
      "text/plain": [
       "     layer  units       type dropout l1 l2   mean_rate     rate_rms momentum  \\\n",
       "0        1    165      Input       0                                           \n",
       "1        2    200  Rectifier       0  0  0   0.0556208     0.213166        0   \n",
       "2        3    200  Rectifier       0  0  0   0.0565888    0.0597781        0   \n",
       "3        4      1     Linear          0  0  0.00114034  0.000922778        0   \n",
       "\n",
       "  mean_weight weight_rms  mean_bias      bias_rms  \n",
       "0                                                  \n",
       "1  -0.0133035    0.18641  -0.016015      0.240832  \n",
       "2   -0.055436   0.140429  0.0572095      0.523543  \n",
       "3 -0.00921151  0.0805816    0.53918  1.09713e-154  "
      ]
     },
     "metadata": {},
     "output_type": "display_data"
    },
    {
     "name": "stdout",
     "output_type": "stream",
     "text": [
      "\n",
      "\n",
      "ModelMetricsRegression: deeplearning\n",
      "** Reported on train data. **\n",
      "\n",
      "MSE: 0.19353740345708922\n",
      "RMSE: 0.43992886181414514\n",
      "MAE: 0.31480976947191924\n",
      "RMSLE: 0.05217880725894603\n",
      "Mean Residual Deviance: 0.19353740345708922\n",
      "\n",
      "ModelMetricsRegression: deeplearning\n",
      "** Reported on validation data. **\n",
      "\n",
      "MSE: 0.19590097755469604\n",
      "RMSE: 0.4426070238424782\n",
      "MAE: 0.31819382877238667\n",
      "RMSLE: 0.052454661814392047\n",
      "Mean Residual Deviance: 0.19590097755469604\n",
      "\n",
      "Scoring History: \n"
     ]
    },
    {
     "data": {
      "text/html": [
       "<div>\n",
       "<style scoped>\n",
       "    .dataframe tbody tr th:only-of-type {\n",
       "        vertical-align: middle;\n",
       "    }\n",
       "\n",
       "    .dataframe tbody tr th {\n",
       "        vertical-align: top;\n",
       "    }\n",
       "\n",
       "    .dataframe thead th {\n",
       "        text-align: right;\n",
       "    }\n",
       "</style>\n",
       "<table border=\"1\" class=\"dataframe\">\n",
       "  <thead>\n",
       "    <tr style=\"text-align: right;\">\n",
       "      <th></th>\n",
       "      <th></th>\n",
       "      <th>timestamp</th>\n",
       "      <th>duration</th>\n",
       "      <th>training_speed</th>\n",
       "      <th>epochs</th>\n",
       "      <th>iterations</th>\n",
       "      <th>samples</th>\n",
       "      <th>training_rmse</th>\n",
       "      <th>training_deviance</th>\n",
       "      <th>training_mae</th>\n",
       "      <th>training_r2</th>\n",
       "      <th>validation_rmse</th>\n",
       "      <th>validation_deviance</th>\n",
       "      <th>validation_mae</th>\n",
       "      <th>validation_r2</th>\n",
       "    </tr>\n",
       "  </thead>\n",
       "  <tbody>\n",
       "    <tr>\n",
       "      <th>0</th>\n",
       "      <td></td>\n",
       "      <td>2020-08-12 14:53:53</td>\n",
       "      <td>0.000 sec</td>\n",
       "      <td>None</td>\n",
       "      <td>0.000000</td>\n",
       "      <td>0</td>\n",
       "      <td>0.0</td>\n",
       "      <td>NaN</td>\n",
       "      <td>NaN</td>\n",
       "      <td>NaN</td>\n",
       "      <td>NaN</td>\n",
       "      <td>NaN</td>\n",
       "      <td>NaN</td>\n",
       "      <td>NaN</td>\n",
       "      <td>NaN</td>\n",
       "    </tr>\n",
       "    <tr>\n",
       "      <th>1</th>\n",
       "      <td></td>\n",
       "      <td>2020-08-12 14:53:57</td>\n",
       "      <td>5.830 sec</td>\n",
       "      <td>21051 obs/sec</td>\n",
       "      <td>0.284882</td>\n",
       "      <td>1</td>\n",
       "      <td>99785.0</td>\n",
       "      <td>0.485477</td>\n",
       "      <td>0.235688</td>\n",
       "      <td>0.359848</td>\n",
       "      <td>0.282620</td>\n",
       "      <td>0.487921</td>\n",
       "      <td>0.238067</td>\n",
       "      <td>0.361016</td>\n",
       "      <td>0.286977</td>\n",
       "    </tr>\n",
       "    <tr>\n",
       "      <th>2</th>\n",
       "      <td></td>\n",
       "      <td>2020-08-12 14:54:09</td>\n",
       "      <td>17.895 sec</td>\n",
       "      <td>31854 obs/sec</td>\n",
       "      <td>1.425885</td>\n",
       "      <td>5</td>\n",
       "      <td>499442.0</td>\n",
       "      <td>0.461583</td>\n",
       "      <td>0.213058</td>\n",
       "      <td>0.329545</td>\n",
       "      <td>0.351498</td>\n",
       "      <td>0.465912</td>\n",
       "      <td>0.217074</td>\n",
       "      <td>0.332636</td>\n",
       "      <td>0.349852</td>\n",
       "    </tr>\n",
       "    <tr>\n",
       "      <th>3</th>\n",
       "      <td></td>\n",
       "      <td>2020-08-12 14:54:26</td>\n",
       "      <td>35.597 sec</td>\n",
       "      <td>28908 obs/sec</td>\n",
       "      <td>2.566495</td>\n",
       "      <td>9</td>\n",
       "      <td>898961.0</td>\n",
       "      <td>0.456045</td>\n",
       "      <td>0.207977</td>\n",
       "      <td>0.316504</td>\n",
       "      <td>0.366965</td>\n",
       "      <td>0.463335</td>\n",
       "      <td>0.214679</td>\n",
       "      <td>0.320577</td>\n",
       "      <td>0.357025</td>\n",
       "    </tr>\n",
       "    <tr>\n",
       "      <th>4</th>\n",
       "      <td></td>\n",
       "      <td>2020-08-12 14:54:49</td>\n",
       "      <td>57.807 sec</td>\n",
       "      <td>28839 obs/sec</td>\n",
       "      <td>4.278681</td>\n",
       "      <td>15</td>\n",
       "      <td>1498685.0</td>\n",
       "      <td>0.619442</td>\n",
       "      <td>0.383708</td>\n",
       "      <td>0.489340</td>\n",
       "      <td>-0.167921</td>\n",
       "      <td>0.620816</td>\n",
       "      <td>0.385412</td>\n",
       "      <td>0.490522</td>\n",
       "      <td>-0.154329</td>\n",
       "    </tr>\n",
       "    <tr>\n",
       "      <th>5</th>\n",
       "      <td></td>\n",
       "      <td>2020-08-12 14:55:03</td>\n",
       "      <td>1 min 11.748 sec</td>\n",
       "      <td>30894 obs/sec</td>\n",
       "      <td>5.705702</td>\n",
       "      <td>20</td>\n",
       "      <td>1998525.0</td>\n",
       "      <td>0.443726</td>\n",
       "      <td>0.196893</td>\n",
       "      <td>0.314879</td>\n",
       "      <td>0.400704</td>\n",
       "      <td>0.449752</td>\n",
       "      <td>0.202277</td>\n",
       "      <td>0.320370</td>\n",
       "      <td>0.394171</td>\n",
       "    </tr>\n",
       "    <tr>\n",
       "      <th>6</th>\n",
       "      <td></td>\n",
       "      <td>2020-08-12 14:55:16</td>\n",
       "      <td>1 min 24.364 sec</td>\n",
       "      <td>32807 obs/sec</td>\n",
       "      <td>7.132162</td>\n",
       "      <td>25</td>\n",
       "      <td>2498168.0</td>\n",
       "      <td>0.450594</td>\n",
       "      <td>0.203035</td>\n",
       "      <td>0.318042</td>\n",
       "      <td>0.382008</td>\n",
       "      <td>0.457518</td>\n",
       "      <td>0.209322</td>\n",
       "      <td>0.322146</td>\n",
       "      <td>0.373069</td>\n",
       "    </tr>\n",
       "    <tr>\n",
       "      <th>7</th>\n",
       "      <td></td>\n",
       "      <td>2020-08-12 14:55:28</td>\n",
       "      <td>1 min 36.902 sec</td>\n",
       "      <td>34270 obs/sec</td>\n",
       "      <td>8.562215</td>\n",
       "      <td>30</td>\n",
       "      <td>2999070.0</td>\n",
       "      <td>0.439929</td>\n",
       "      <td>0.193537</td>\n",
       "      <td>0.314810</td>\n",
       "      <td>0.410916</td>\n",
       "      <td>0.442607</td>\n",
       "      <td>0.195901</td>\n",
       "      <td>0.318194</td>\n",
       "      <td>0.413267</td>\n",
       "    </tr>\n",
       "    <tr>\n",
       "      <th>8</th>\n",
       "      <td></td>\n",
       "      <td>2020-08-12 14:55:41</td>\n",
       "      <td>1 min 49.604 sec</td>\n",
       "      <td>35340 obs/sec</td>\n",
       "      <td>9.989340</td>\n",
       "      <td>35</td>\n",
       "      <td>3498946.0</td>\n",
       "      <td>0.457844</td>\n",
       "      <td>0.209621</td>\n",
       "      <td>0.328640</td>\n",
       "      <td>0.361962</td>\n",
       "      <td>0.463597</td>\n",
       "      <td>0.214922</td>\n",
       "      <td>0.332610</td>\n",
       "      <td>0.356297</td>\n",
       "    </tr>\n",
       "    <tr>\n",
       "      <th>9</th>\n",
       "      <td></td>\n",
       "      <td>2020-08-12 14:55:45</td>\n",
       "      <td>1 min 53.112 sec</td>\n",
       "      <td>35525 obs/sec</td>\n",
       "      <td>10.274553</td>\n",
       "      <td>36</td>\n",
       "      <td>3598847.0</td>\n",
       "      <td>0.447597</td>\n",
       "      <td>0.200343</td>\n",
       "      <td>0.308114</td>\n",
       "      <td>0.390201</td>\n",
       "      <td>0.453395</td>\n",
       "      <td>0.205567</td>\n",
       "      <td>0.312505</td>\n",
       "      <td>0.384317</td>\n",
       "    </tr>\n",
       "    <tr>\n",
       "      <th>10</th>\n",
       "      <td></td>\n",
       "      <td>2020-08-12 14:55:46</td>\n",
       "      <td>1 min 54.328 sec</td>\n",
       "      <td>35523 obs/sec</td>\n",
       "      <td>10.274553</td>\n",
       "      <td>36</td>\n",
       "      <td>3598847.0</td>\n",
       "      <td>0.439929</td>\n",
       "      <td>0.193537</td>\n",
       "      <td>0.314810</td>\n",
       "      <td>0.410916</td>\n",
       "      <td>0.442607</td>\n",
       "      <td>0.195901</td>\n",
       "      <td>0.318194</td>\n",
       "      <td>0.413267</td>\n",
       "    </tr>\n",
       "  </tbody>\n",
       "</table>\n",
       "</div>"
      ],
      "text/plain": [
       "                timestamp           duration training_speed     epochs  \\\n",
       "0     2020-08-12 14:53:53          0.000 sec           None   0.000000   \n",
       "1     2020-08-12 14:53:57          5.830 sec  21051 obs/sec   0.284882   \n",
       "2     2020-08-12 14:54:09         17.895 sec  31854 obs/sec   1.425885   \n",
       "3     2020-08-12 14:54:26         35.597 sec  28908 obs/sec   2.566495   \n",
       "4     2020-08-12 14:54:49         57.807 sec  28839 obs/sec   4.278681   \n",
       "5     2020-08-12 14:55:03   1 min 11.748 sec  30894 obs/sec   5.705702   \n",
       "6     2020-08-12 14:55:16   1 min 24.364 sec  32807 obs/sec   7.132162   \n",
       "7     2020-08-12 14:55:28   1 min 36.902 sec  34270 obs/sec   8.562215   \n",
       "8     2020-08-12 14:55:41   1 min 49.604 sec  35340 obs/sec   9.989340   \n",
       "9     2020-08-12 14:55:45   1 min 53.112 sec  35525 obs/sec  10.274553   \n",
       "10    2020-08-12 14:55:46   1 min 54.328 sec  35523 obs/sec  10.274553   \n",
       "\n",
       "    iterations    samples  training_rmse  training_deviance  training_mae  \\\n",
       "0            0        0.0            NaN                NaN           NaN   \n",
       "1            1    99785.0       0.485477           0.235688      0.359848   \n",
       "2            5   499442.0       0.461583           0.213058      0.329545   \n",
       "3            9   898961.0       0.456045           0.207977      0.316504   \n",
       "4           15  1498685.0       0.619442           0.383708      0.489340   \n",
       "5           20  1998525.0       0.443726           0.196893      0.314879   \n",
       "6           25  2498168.0       0.450594           0.203035      0.318042   \n",
       "7           30  2999070.0       0.439929           0.193537      0.314810   \n",
       "8           35  3498946.0       0.457844           0.209621      0.328640   \n",
       "9           36  3598847.0       0.447597           0.200343      0.308114   \n",
       "10          36  3598847.0       0.439929           0.193537      0.314810   \n",
       "\n",
       "    training_r2  validation_rmse  validation_deviance  validation_mae  \\\n",
       "0           NaN              NaN                  NaN             NaN   \n",
       "1      0.282620         0.487921             0.238067        0.361016   \n",
       "2      0.351498         0.465912             0.217074        0.332636   \n",
       "3      0.366965         0.463335             0.214679        0.320577   \n",
       "4     -0.167921         0.620816             0.385412        0.490522   \n",
       "5      0.400704         0.449752             0.202277        0.320370   \n",
       "6      0.382008         0.457518             0.209322        0.322146   \n",
       "7      0.410916         0.442607             0.195901        0.318194   \n",
       "8      0.361962         0.463597             0.214922        0.332610   \n",
       "9      0.390201         0.453395             0.205567        0.312505   \n",
       "10     0.410916         0.442607             0.195901        0.318194   \n",
       "\n",
       "    validation_r2  \n",
       "0             NaN  \n",
       "1        0.286977  \n",
       "2        0.349852  \n",
       "3        0.357025  \n",
       "4       -0.154329  \n",
       "5        0.394171  \n",
       "6        0.373069  \n",
       "7        0.413267  \n",
       "8        0.356297  \n",
       "9        0.384317  \n",
       "10       0.413267  "
      ]
     },
     "metadata": {},
     "output_type": "display_data"
    },
    {
     "name": "stdout",
     "output_type": "stream",
     "text": [
      "\n",
      "Variable Importances: \n"
     ]
    },
    {
     "data": {
      "text/html": [
       "<div>\n",
       "<style scoped>\n",
       "    .dataframe tbody tr th:only-of-type {\n",
       "        vertical-align: middle;\n",
       "    }\n",
       "\n",
       "    .dataframe tbody tr th {\n",
       "        vertical-align: top;\n",
       "    }\n",
       "\n",
       "    .dataframe thead th {\n",
       "        text-align: right;\n",
       "    }\n",
       "</style>\n",
       "<table border=\"1\" class=\"dataframe\">\n",
       "  <thead>\n",
       "    <tr style=\"text-align: right;\">\n",
       "      <th></th>\n",
       "      <th>variable</th>\n",
       "      <th>relative_importance</th>\n",
       "      <th>scaled_importance</th>\n",
       "      <th>percentage</th>\n",
       "    </tr>\n",
       "  </thead>\n",
       "  <tbody>\n",
       "    <tr>\n",
       "      <th>0</th>\n",
       "      <td>SELLER_NAME.Other sellers</td>\n",
       "      <td>1.000000</td>\n",
       "      <td>1.000000</td>\n",
       "      <td>0.011794</td>\n",
       "    </tr>\n",
       "    <tr>\n",
       "      <th>1</th>\n",
       "      <td>SELLER_NAME.NORWESTMORTGAGE,INC</td>\n",
       "      <td>0.990678</td>\n",
       "      <td>0.990678</td>\n",
       "      <td>0.011684</td>\n",
       "    </tr>\n",
       "    <tr>\n",
       "      <th>2</th>\n",
       "      <td>SELLER_NAME.FIRST UNION CAPITAL</td>\n",
       "      <td>0.950101</td>\n",
       "      <td>0.950101</td>\n",
       "      <td>0.011206</td>\n",
       "    </tr>\n",
       "    <tr>\n",
       "      <th>3</th>\n",
       "      <td>SELLER_NAME.WELLSFARGOHOMEMORTGA</td>\n",
       "      <td>0.882134</td>\n",
       "      <td>0.882134</td>\n",
       "      <td>0.010404</td>\n",
       "    </tr>\n",
       "    <tr>\n",
       "      <th>4</th>\n",
       "      <td>SELLER_NAME.CHASEMANHATTANMTGECO</td>\n",
       "      <td>0.882006</td>\n",
       "      <td>0.882006</td>\n",
       "      <td>0.010402</td>\n",
       "    </tr>\n",
       "    <tr>\n",
       "      <th>5</th>\n",
       "      <td>SELLER_NAME.CROSSLANDMTGECORP</td>\n",
       "      <td>0.846646</td>\n",
       "      <td>0.846646</td>\n",
       "      <td>0.009985</td>\n",
       "    </tr>\n",
       "    <tr>\n",
       "      <th>6</th>\n",
       "      <td>SELLER_NAME.STANDARD FEDERAL BAN</td>\n",
       "      <td>0.831295</td>\n",
       "      <td>0.831295</td>\n",
       "      <td>0.009804</td>\n",
       "    </tr>\n",
       "    <tr>\n",
       "      <th>7</th>\n",
       "      <td>SELLER_NAME.BANKOFAMERICA,NA</td>\n",
       "      <td>0.824306</td>\n",
       "      <td>0.824306</td>\n",
       "      <td>0.009722</td>\n",
       "    </tr>\n",
       "    <tr>\n",
       "      <th>8</th>\n",
       "      <td>SELLER_NAME.BISHOPSGATERESIDENTI</td>\n",
       "      <td>0.823274</td>\n",
       "      <td>0.823274</td>\n",
       "      <td>0.009710</td>\n",
       "    </tr>\n",
       "    <tr>\n",
       "      <th>9</th>\n",
       "      <td>SELLER_NAME.FIRSTARBANK,NA</td>\n",
       "      <td>0.813628</td>\n",
       "      <td>0.813628</td>\n",
       "      <td>0.009596</td>\n",
       "    </tr>\n",
       "    <tr>\n",
       "      <th>10</th>\n",
       "      <td>SERVICER_NAME.Other servicers</td>\n",
       "      <td>0.807938</td>\n",
       "      <td>0.807938</td>\n",
       "      <td>0.009529</td>\n",
       "    </tr>\n",
       "    <tr>\n",
       "      <th>11</th>\n",
       "      <td>SELLER_NAME.NATLCITYMTGECO</td>\n",
       "      <td>0.794619</td>\n",
       "      <td>0.794619</td>\n",
       "      <td>0.009372</td>\n",
       "    </tr>\n",
       "    <tr>\n",
       "      <th>12</th>\n",
       "      <td>SELLER_NAME.PNCMTGECORPOFAMERICA</td>\n",
       "      <td>0.789251</td>\n",
       "      <td>0.789251</td>\n",
       "      <td>0.009308</td>\n",
       "    </tr>\n",
       "    <tr>\n",
       "      <th>13</th>\n",
       "      <td>SELLER_NAME.NORWEST MORTGAGE, IN</td>\n",
       "      <td>0.785579</td>\n",
       "      <td>0.785579</td>\n",
       "      <td>0.009265</td>\n",
       "    </tr>\n",
       "    <tr>\n",
       "      <th>14</th>\n",
       "      <td>SELLER_NAME.ABNAMROMTGEGROUP,INC</td>\n",
       "      <td>0.780304</td>\n",
       "      <td>0.780304</td>\n",
       "      <td>0.009203</td>\n",
       "    </tr>\n",
       "    <tr>\n",
       "      <th>15</th>\n",
       "      <td>SERVICER_NAME.BANKOFAMERICA,NA</td>\n",
       "      <td>0.771477</td>\n",
       "      <td>0.771477</td>\n",
       "      <td>0.009099</td>\n",
       "    </tr>\n",
       "    <tr>\n",
       "      <th>16</th>\n",
       "      <td>SELLER_NAME.PRINCIPALRESIDENTIAL</td>\n",
       "      <td>0.771051</td>\n",
       "      <td>0.771051</td>\n",
       "      <td>0.009094</td>\n",
       "    </tr>\n",
       "    <tr>\n",
       "      <th>17</th>\n",
       "      <td>SERVICER_NAME.CHASEMTGECO</td>\n",
       "      <td>0.750546</td>\n",
       "      <td>0.750546</td>\n",
       "      <td>0.008852</td>\n",
       "    </tr>\n",
       "    <tr>\n",
       "      <th>18</th>\n",
       "      <td>SELLER_NAME.OLDKENTMTGECO</td>\n",
       "      <td>0.748508</td>\n",
       "      <td>0.748508</td>\n",
       "      <td>0.008828</td>\n",
       "    </tr>\n",
       "    <tr>\n",
       "      <th>19</th>\n",
       "      <td>SERVICER_NAME.WASHINGTONMUTUALBANK</td>\n",
       "      <td>0.747740</td>\n",
       "      <td>0.747740</td>\n",
       "      <td>0.008819</td>\n",
       "    </tr>\n",
       "  </tbody>\n",
       "</table>\n",
       "</div>"
      ],
      "text/plain": [
       "                              variable  relative_importance  \\\n",
       "0            SELLER_NAME.Other sellers             1.000000   \n",
       "1      SELLER_NAME.NORWESTMORTGAGE,INC             0.990678   \n",
       "2      SELLER_NAME.FIRST UNION CAPITAL             0.950101   \n",
       "3     SELLER_NAME.WELLSFARGOHOMEMORTGA             0.882134   \n",
       "4     SELLER_NAME.CHASEMANHATTANMTGECO             0.882006   \n",
       "5        SELLER_NAME.CROSSLANDMTGECORP             0.846646   \n",
       "6     SELLER_NAME.STANDARD FEDERAL BAN             0.831295   \n",
       "7         SELLER_NAME.BANKOFAMERICA,NA             0.824306   \n",
       "8     SELLER_NAME.BISHOPSGATERESIDENTI             0.823274   \n",
       "9           SELLER_NAME.FIRSTARBANK,NA             0.813628   \n",
       "10       SERVICER_NAME.Other servicers             0.807938   \n",
       "11          SELLER_NAME.NATLCITYMTGECO             0.794619   \n",
       "12    SELLER_NAME.PNCMTGECORPOFAMERICA             0.789251   \n",
       "13    SELLER_NAME.NORWEST MORTGAGE, IN             0.785579   \n",
       "14    SELLER_NAME.ABNAMROMTGEGROUP,INC             0.780304   \n",
       "15      SERVICER_NAME.BANKOFAMERICA,NA             0.771477   \n",
       "16    SELLER_NAME.PRINCIPALRESIDENTIAL             0.771051   \n",
       "17           SERVICER_NAME.CHASEMTGECO             0.750546   \n",
       "18           SELLER_NAME.OLDKENTMTGECO             0.748508   \n",
       "19  SERVICER_NAME.WASHINGTONMUTUALBANK             0.747740   \n",
       "\n",
       "    scaled_importance  percentage  \n",
       "0            1.000000    0.011794  \n",
       "1            0.990678    0.011684  \n",
       "2            0.950101    0.011206  \n",
       "3            0.882134    0.010404  \n",
       "4            0.882006    0.010402  \n",
       "5            0.846646    0.009985  \n",
       "6            0.831295    0.009804  \n",
       "7            0.824306    0.009722  \n",
       "8            0.823274    0.009710  \n",
       "9            0.813628    0.009596  \n",
       "10           0.807938    0.009529  \n",
       "11           0.794619    0.009372  \n",
       "12           0.789251    0.009308  \n",
       "13           0.785579    0.009265  \n",
       "14           0.780304    0.009203  \n",
       "15           0.771477    0.009099  \n",
       "16           0.771051    0.009094  \n",
       "17           0.750546    0.008852  \n",
       "18           0.748508    0.008828  \n",
       "19           0.747740    0.008819  "
      ]
     },
     "metadata": {},
     "output_type": "display_data"
    },
    {
     "name": "stdout",
     "output_type": "stream",
     "text": [
      "\n",
      "See the whole table with table.as_data_frame()\n"
     ]
    },
    {
     "data": {
      "text/plain": []
     },
     "execution_count": 14,
     "metadata": {},
     "output_type": "execute_result"
    }
   ],
   "source": [
    "dl"
   ]
  },
  {
   "cell_type": "markdown",
   "metadata": {},
   "source": [
    "For our deep learning model, we see that our validation scores are higher than the training scores, but not by much. The training and validation RMSE are 0.4395 and 0.4480, respectively. And the training and validation MAE are 0.3240 and 0.3298, respectively. You can also see the scoring history and variable importance table. You can plot both the scoring history and variable importance plot."
   ]
  },
  {
   "cell_type": "markdown",
   "metadata": {},
   "source": [
    "Note: The default number of epochs for a Deep Learning model is 10. We will try to find a number of epochs that will give us a better score when we tune our model."
   ]
  },
  {
   "cell_type": "code",
   "execution_count": 15,
   "metadata": {},
   "outputs": [
    {
     "data": {
      "image/png": "[encoded data removed]",
      "text/plain": [
       "<Figure size 432x288 with 1 Axes>"
      ]
     },
     "metadata": {
      "needs_background": "light"
     },
     "output_type": "display_data"
    }
   ],
   "source": [
    "dl.plot()"
   ]
  },
  {
   "cell_type": "code",
   "execution_count": 16,
   "metadata": {},
   "outputs": [
    {
     "data": {
      "image/png": "[encoded data removed]",
      "text/plain": [
       "<Figure size 1008x720 with 1 Axes>"
      ]
     },
     "metadata": {
      "needs_background": "light"
     },
     "output_type": "display_data"
    }
   ],
   "source": [
    "dl.varimp_plot()"
   ]
  },
  {
   "cell_type": "markdown",
   "metadata": {},
   "source": [
    "As we can see in the image above, the variable importance plot changes a lot compared to the XGBoost. For our Deep Learning model, we see most of the SELLER_NAME variables, and the most important variable for our Deep Learning model \"Other sellers\" is not even included in the top ten for the XGBoost. Also, the top 10 most important variables for the Deep Learning model have almost the same significance, as opposed to the other model.\n",
    "\n",
    "Save the model performance on the validation set, as we will use it later on for comparison purposes."
   ]
  },
  {
   "cell_type": "code",
   "execution_count": 17,
   "metadata": {},
   "outputs": [],
   "source": [
    "default_dl_per = dl.model_performance(valid)"
   ]
  },
  {
   "cell_type": "code",
   "execution_count": 18,
   "metadata": {},
   "outputs": [
    {
     "name": "stdout",
     "output_type": "stream",
     "text": [
      "\n",
      "ModelMetricsRegression: deeplearning\n",
      "** Reported on test data. **\n",
      "\n",
      "MSE: 0.19590097755469604\n",
      "RMSE: 0.4426070238424782\n",
      "MAE: 0.31819382877238667\n",
      "RMSLE: 0.052454661814392047\n",
      "Mean Residual Deviance: 0.19590097755469604\n"
     ]
    },
    {
     "data": {
      "text/plain": []
     },
     "execution_count": 18,
     "metadata": {},
     "output_type": "execute_result"
    }
   ],
   "source": [
    "default_dl_per"
   ]
  },
  {
   "cell_type": "markdown",
   "metadata": {},
   "source": [
    "\n",
    "\n"
   ]
  },
  {
   "cell_type": "markdown",
   "metadata": {},
   "source": [
    "## 4. Tune the XGBoost Model with H2O GridSearch"
   ]
  },
  {
   "cell_type": "markdown",
   "metadata": {},
   "source": [
    "We will first try to find the max_depth for our XGBoost, as this is one of the most important parameters for an XGBoost model.\n",
    "\n",
    "max_depth defines the number of nodes along the longest path from the start of the tree to the farthest leaf node. By default, the value is 6. We could do a random search along with the other parameters, but when max_depth is large, the model takes longer to train; therefore, in order to do a more efficient random search with the other parameters, we will first find the best value max_depth, and we will use 100 trees with early stopping to tune our hyper-parameters."
   ]
  },
  {
   "cell_type": "code",
   "execution_count": null,
   "metadata": {},
   "outputs": [],
   "source": [
    "xgb = H2OXGBoostEstimator(model_id='xgb', ntrees=100,\n",
    "                          stopping_rounds=5, #default\n",
    "                          stopping_tolerance=1e-4, #default\n",
    "                          stopping_metric = \"rmse\", #default\n",
    "                          seed=42\n",
    "    )\n",
    "\n",
    "hyper_params = {'max_depth' : [5,7,9,10,12,13,15,20]\n",
    "               }\n",
    "\n",
    "grid_id = 'depth_grid'\n",
    "\n",
    "search_criteria = { \"strategy\":\"Cartesian\"}\n",
    "\n",
    "xgb_grid = H2OGridSearch(model=xgb, \n",
    "                         hyper_params=hyper_params,\n",
    "                         grid_id=grid_id,\n",
    "                         search_criteria=search_criteria\n",
    "                         )"
   ]
  },
  {
   "cell_type": "code",
   "execution_count": null,
   "metadata": {},
   "outputs": [],
   "source": [
    "%time \n",
    "xgb_grid.train(x=x, y=y, training_frame=train, validation_frame = valid)"
   ]
  },
  {
   "cell_type": "markdown",
   "metadata": {},
   "source": [
    "Then, we can get the models trained by the GridSearch with the .get_grid() function, and print it in a nice table format with **.sorted_metric_table()** function."
   ]
  },
  {
   "cell_type": "code",
   "execution_count": null,
   "metadata": {},
   "outputs": [],
   "source": [
    "sorted_xgb = xgb_grid.get_grid(sort_by='rmse',decreasing=False)\n",
    "sorted_xgb.sorted_metric_table()"
   ]
  },
  {
   "cell_type": "markdown",
   "metadata": {},
   "source": [
    "We will use max_depth equal to 9 to try to tune the next parameters. We will keep the same number of trees, at ntrees=100. We will start by searching over five parameters, and see if we get any improvement. Here is the list of the five parameters that we will tune.\n",
    "\n",
    "1. reg_alpha: Specify a value for L1 regularization. L1 regularization encourages sparsity, meaning it will make the weights at the leaves become 0. This value defaults to 0.\n",
    "\n",
    "2. reg_lambda: Specify a value for L2 regularization. L2 Regularization makes some of the weights at the leaves to be small, but not zero. This defaults to 1.\n",
    "\n",
    "3. learn_rate (alias: eta): Specify the learning rate by which to shrink the feature weights. Shrinking feature weights after each boosting step makes the boosting process more conservative and prevents overfitting. The range is 0.0 to 1.0. This value defaults to 0.3.\n",
    "\n",
    "4. distribution: Specify the distribution (i.e., the loss function). The options are AUTO, Bernoulli, multinomial, gaussian, poisson, gamma, or tweedie. Since our response is numeric, we will just include poisson, Tweedie, Gaussian, and gamma.\n",
    "\n",
    "5. booster: Specify the booster type. This can be one of the following: \"gbtree,\" \"gblinear,\" or \"dart.\" Note that \"gbtree\" and \"dart\" use a tree-based model while \"gblinear\" uses a linear function. This value defaults to \"gbtree.\"\n",
    "\n",
    "Since we have several parameters, we will be doing a random search; we will be using early stopping, and for our stopping criteria, we will set a limit of 100 models or 15 minutes. You can change these settings in the \"search_criteria_tune\" parameter for the grid search."
   ]
  },
  {
   "cell_type": "code",
   "execution_count": null,
   "metadata": {},
   "outputs": [],
   "source": [
    "xgb = H2OXGBoostEstimator(model_id='xgb_grid', max_depth=9, ntrees=100, \n",
    "                          stopping_rounds=5, #default\n",
    "                          stopping_tolerance=1e-4, #default\n",
    "                          stopping_metric = \"rmse\", #default\n",
    "                          seed=42\n",
    "                          )\n",
    "\n",
    "hyper_params = {'reg_alpha' : [x*0.01 for x in range(0, 101)],\n",
    "                'reg_lambda' : [x*0.01 for x in range(0, 101)],\n",
    "                'learn_rate' : [x*0.01 for x in range(1, 101)],\n",
    "                'distribution' : ['poisson', 'tweedie', 'gaussian','gamma'],\n",
    "                'booster' : ['gbtree','gblinear','dart']\n",
    "               }\n",
    "\n",
    "search_criteria_tune = {'strategy': \"RandomDiscrete\",\n",
    "                   'max_runtime_secs': 900, #15 min  \n",
    "                   'max_models': 100,  ## build no more than 100 models\n",
    "                   'seed' : 42 }\n",
    "\n",
    "xgb_grid = H2OGridSearch(xgb, hyper_params,\n",
    "                         grid_id = 'random_grid',\n",
    "                         search_criteria=search_criteria_tune,\n",
    "                         )"
   ]
  },
  {
   "cell_type": "code",
   "execution_count": null,
   "metadata": {},
   "outputs": [],
   "source": [
    "%time \n",
    "xgb_grid.train(x=x, y=y, training_frame=train, validation_frame = valid)"
   ]
  },
  {
   "cell_type": "markdown",
   "metadata": {},
   "source": [
    "The parameters for the best model in the grid search are shown in the image below:"
   ]
  },
  {
   "cell_type": "code",
   "execution_count": null,
   "metadata": {},
   "outputs": [],
   "source": [
    "sorted_xgb = xgb_grid.get_grid(sort_by='rmse',decreasing=False)\n",
    "sorted_xgb.sorted_metric_table()"
   ]
  },
  {
   "cell_type": "markdown",
   "metadata": {},
   "source": [
    "With the grid search that we just did allowed us to train a total of 41 models (not all the models are shown). As you can see, the top model has a gbtree booster with a gaussian distribution, and the second-best model also has a gbtree booster with a tweedie distribution. We can also see that the next two models with the dart booster yield good scores. Since the dart booster configuration yields good results, we will try to tune some extra parameters for the third model, which uses the dart booster. Dart booster is a \"method to add dropout techniques from the deep neural net community to boosted trees\" [1]. We could further tune the best model from the above grid search, and to do so, we could try tuning the sample_rate,col_sample_rate,col_sample_rate_per_tree,min_rows and gamma among others. However, we want to show you the Dart functionality of XGBoost.\n",
    "\n",
    "These are five extra parameters that we can tune when using Dart boosting, and we will try to see if we can get any improvement by changing some of those parameters\n",
    "\n",
    "1. normalize_type: specify whether the normalization method. This can be one of the following:\n",
    "\n",
    "- tree (default): New trees have the same weight as each of the dropped trees 1 / (k + learning_rate).\n",
    "- forest: New trees have the same weight as the sum of the dropped trees (1 / (1 + learning_rate).\n",
    "\n",
    "2. one_drop: specify whether to enable one drop, which causes at least one tree to always drop during the dropout. This value defaults to FALSE.\n",
    "\n",
    "3. rate_drop: specify a float value from 0 to 1 for the rate at which to drop previous trees during dropout. This value defaults to 0.0.\n",
    "\n",
    "4. sample_type: specify whether the sampling type should be one of the following:\n",
    "\n",
    "- uniform (default): Dropped trees are selected uniformly.\n",
    "- weighted: Dropped trees are selected in proportion to weight.\n",
    "\n",
    "5. skip_drop: specify a float value from 0 to 1 for the skip drop. This determines the probability of skipping the dropout procedure during a boosting iteration. If a dropout is skipped, new trees are added in the same manner as \"gbtree.\" Note that non-zero skip_drop has a higher priority than rate_drop or one_drop. This value defaults to 0.0.\n",
    "\n",
    "We will update the parameters that we found in our previous grid search, and to save some time, we will set normalize_type='forest',one_drop=False, and sample_type='uniform'. We will do a quick search for rate_drop and skip_drop. Based on results from previous experiments, combinations of lowrate_drop with highskip_drop yielded slightly better results, so we will do that for this grid search. Because this is the third grid search you can skip this step, and use the values that we find."
   ]
  },
  {
   "cell_type": "code",
   "execution_count": null,
   "metadata": {},
   "outputs": [],
   "source": [
    "xgb = H2OXGBoostEstimator(model_id='xgb', \n",
    "                          max_depth=9, \n",
    "                          ntrees=100, \n",
    "                          distribution='gamma',\n",
    "                          reg_alpha= 0.4,\n",
    "                          reg_lambda= 0.1,\n",
    "                          learn_rate= 0.33,\n",
    "                          stopping_rounds=5, #default\n",
    "                          stopping_tolerance=1e-4, #default\n",
    "                          stopping_metric = \"rmse\", #default\n",
    "                          seed=42,\n",
    "                          booster = 'dart',\n",
    "                          normalize_type='forest',\n",
    "                          one_drop=False,\n",
    "                          sample_type='uniform'\n",
    "                          )\n",
    "\n",
    "hyper_params = { 'rate_drop' : [x*0.025 for x in range(0, 21)], #start from 0 to 0.5 in increments of 0.025\n",
    "                 'skip_drop' : [x*0.025 for x in range(20, 41)] #start from 0.5 to 1 in increments of 0.025\n",
    "               }\n",
    "\n",
    "search_criteria_tune = {'strategy': \"RandomDiscrete\",\n",
    "                   'max_runtime_secs': 600, #10 min  \n",
    "                   'max_models': 100,  # build no more than 100 models\n",
    "                   'seed' : 42\n",
    "                       }\n",
    "\n",
    "xgb_grid = H2OGridSearch(xgb, hyper_params,\n",
    "                         grid_id = 'dart_booster_grid',\n",
    "                         search_criteria=search_criteria_tune,\n",
    "                         )"
   ]
  },
  {
   "cell_type": "code",
   "execution_count": null,
   "metadata": {},
   "outputs": [],
   "source": [
    "%time \n",
    "xgb_grid.train(x=x, y=y, training_frame=train, validation_frame = valid)"
   ]
  },
  {
   "cell_type": "markdown",
   "metadata": {},
   "source": [
    "Now let's get the models from the grid search."
   ]
  },
  {
   "cell_type": "code",
   "execution_count": null,
   "metadata": {},
   "outputs": [],
   "source": [
    "sorted_xgb = xgb_grid.get_grid(sort_by='rmse',decreasing=False)\n",
    "sorted_xgb.sorted_metric_table()"
   ]
  },
  {
   "cell_type": "markdown",
   "metadata": {},
   "source": [
    "The score slightly improved from what we obtained in the first random grid search; keep in mind that we are just exploring a small set of models; if we were trying to find the best model, we would have to add a wider range for each parameter and run the grid search for a longer period of time. We could also do a local search with the values we found and see if we could get better results. Let's do a quick random grid search for our XGBoost in Flow.\n",
    "\n",
    "Start by building an XGBoost model the same way we did in Task 4. Find the training set (the frame with 350k rows and 27 columns), assign a model id such flow-xgb-grid so that it is easy to find the models later on; for now, you can set\n",
    "nfolds to 3. Choose ORIGINAL_INTEREST_RATE for the response_column, select the same eight columns as before to be ignored.\n",
    "\n",
    "- FIRST_PAYMENT_DATE,\n",
    "- MATURITY_DATE,\n",
    "- MORTGAGE_INSURANCE_PERCENTAGE,\n",
    "- PREPAYMENT_PENALTY_MORTGAGE_FLAG,\n",
    "- PRODUCT_TYPE,\n",
    "- LOAN_SEQUENCE_NUMBER,\n",
    "- PREPAID,\n",
    "- DELINQUENT"
   ]
  },
  {
   "cell_type": "markdown",
   "metadata": {},
   "source": [
    "Let's retrieve the best model from the grid search and then compare the results from the default model to the tuned model."
   ]
  },
  {
   "cell_type": "code",
   "execution_count": null,
   "metadata": {},
   "outputs": [],
   "source": [
    "best_xgb_model = xgb_grid.models[0] \n",
    "best_xgb_model"
   ]
  },
  {
   "cell_type": "markdown",
   "metadata": {},
   "source": [
    "Please note that you can also retrieve any of your models by changing the number inside the brackets. Now save the model performance on the validation set."
   ]
  },
  {
   "cell_type": "code",
   "execution_count": null,
   "metadata": {},
   "outputs": [],
   "source": [
    "tuned_xgb_per = best_xgb_model.model_performance(valid)"
   ]
  },
  {
   "cell_type": "markdown",
   "metadata": {},
   "source": [
    "##### Check both RMSE and MAE"
   ]
  },
  {
   "cell_type": "code",
   "execution_count": null,
   "metadata": {},
   "outputs": [],
   "source": [
    "print(\"Default XGB RMSE: %.4f \\nTuned XGB RMSE:%.4f\" % (default_xgb_per.rmse(), tuned_xgb_per.rmse()))"
   ]
  },
  {
   "cell_type": "code",
   "execution_count": null,
   "metadata": {},
   "outputs": [],
   "source": [
    "print(\"Default XGB MAE: %.4f \\nTuned XGB MAE:%.4f\" % (default_xgb_per.mae(), tuned_xgb_per.mae()))"
   ]
  },
  {
   "cell_type": "code",
   "execution_count": null,
   "metadata": {},
   "outputs": [],
   "source": []
  },
  {
   "cell_type": "markdown",
   "metadata": {},
   "source": [
    "Both RMSE and MAE slightly improved with the tuning that we did. As we mentioned before, we only let each random search run for 15 minutes. To see if we can obtain a much better model, we would have to let it run for much longer.\n",
    "\n",
    "One more thing that we could do is build an XGBoost model with all the parameters that we found, and increase the number of trees, similar to what we did in the first tutorial.\n",
    "\n",
    "Maybe for an interest rate decision, an MAE of 0.30 is good enough as it tells us that, on average, the model would predict a very close interest rate to what someone with \"x\" characteristics would get. However, for some companies that MAE might be too high, so it all depends on the application to decide whether or not our MAE results are satisfactory. We will see if the Deep Learning model can yield a lower RMSE and MAE."
   ]
  },
  {
   "cell_type": "markdown",
   "metadata": {},
   "source": [
    "\n",
    "\n"
   ]
  },
  {
   "cell_type": "markdown",
   "metadata": {},
   "source": [
    "## 5. Tune the Deeplearning Model with H2O GridSearch"
   ]
  },
  {
   "cell_type": "markdown",
   "metadata": {},
   "source": [
    "We will try to tune our Deep Learning model and see if we can improve the scores from the default model.\n",
    "\n",
    "Two of the most important parameters of a Deep Learning model are the number of neurons in the hidden layers and the number of epochs. The parameter for both hidden neurons and layers is \"hidden\", and we can specify the hidden layer sizes. For example, to define a two-hidden-layer model, with 200 neurons in each layer, we would define it as [200,200]. If you wanted to have three hidden layers with 300 neurons in the first layer, 200 in the second one, and 100 in the third one, we would do it as follows [300,200,100]. The epochs allows us to specify the number of times to iterate (stream) the dataset, and this value can be a fraction. We will try to find a good size for our hidden layer, and we will take care of the number of epochs with early stopping.\n",
    "\n",
    "Since there are so many combinations for the size of hidden layers, the easiest thing to do is to just do a random search and use one of the models that you find. In this tutorial, we will try to find a good size for the hidden layer taking into consideration the time it takes to train, and then we will try to tune that model. We will explore models with up to three hidden layers for you to see, but for the purpose of this tutorial, we will not try to tune a complex model.\n",
    "\n",
    "With the code shown below, you can do a random search to explore several sizes of hidden layers. The way we chose the number of neurons is selecting multiples of 165, which is the size of our input layer (although we do not have 165 predictors, we have predictors that have multiple categories, and they all add up to 165, and thus the number of neurons) and we also added two random sizes, 100 and 200, just to see how they perform."
   ]
  },
  {
   "cell_type": "code",
   "execution_count": 19,
   "metadata": {},
   "outputs": [],
   "source": [
    "dl = H2ODeepLearningEstimator(seed=623, model_id='DL',\n",
    "                              nfolds= 0,\n",
    "                              keep_cross_validation_predictions = False,\n",
    "                              stopping_metric='RMSE',\n",
    "                              epochs=10\n",
    "                              )\n",
    "\n",
    "hyper_params = {'hidden' : [[165], [330], [495], [100], [200], \n",
    "                            [165, 33], [165, 165], [200, 165], [330, 330], \n",
    "                            [165, 330, 165]]             \n",
    "               }\n",
    "\n",
    "search_criteria_tune = {'strategy': \"Cartesian\",\n",
    "                       }\n",
    "\n",
    "dl_grid = H2OGridSearch(model=dl, \n",
    "                        hyper_params=hyper_params,\n",
    "                         grid_id = 'hidden_layer_grid',\n",
    "                         search_criteria=search_criteria_tune\n",
    "                         )"
   ]
  },
  {
   "cell_type": "code",
   "execution_count": 20,
   "metadata": {},
   "outputs": [
    {
     "name": "stdout",
     "output_type": "stream",
     "text": [
      "Wall time: 0 ns\n",
      "deeplearning Grid Build progress: |███████████████████████████████████████| 100%\n"
     ]
    }
   ],
   "source": [
    "%time \n",
    "dl_grid.train(x=x, y=y, training_frame=train, validation_frame = valid)"
   ]
  },
  {
   "cell_type": "code",
   "execution_count": 21,
   "metadata": {},
   "outputs": [
    {
     "data": {
      "text/html": [
       "<div>\n",
       "<style scoped>\n",
       "    .dataframe tbody tr th:only-of-type {\n",
       "        vertical-align: middle;\n",
       "    }\n",
       "\n",
       "    .dataframe tbody tr th {\n",
       "        vertical-align: top;\n",
       "    }\n",
       "\n",
       "    .dataframe thead th {\n",
       "        text-align: right;\n",
       "    }\n",
       "</style>\n",
       "<table border=\"1\" class=\"dataframe\">\n",
       "  <thead>\n",
       "    <tr style=\"text-align: right;\">\n",
       "      <th></th>\n",
       "      <th></th>\n",
       "      <th>hidden</th>\n",
       "      <th>model_ids</th>\n",
       "      <th>rmse</th>\n",
       "    </tr>\n",
       "  </thead>\n",
       "  <tbody>\n",
       "    <tr>\n",
       "      <th>0</th>\n",
       "      <td></td>\n",
       "      <td>[200, 165]</td>\n",
       "      <td>hidden_layer_grid_model_8</td>\n",
       "      <td>0.4341071484294671</td>\n",
       "    </tr>\n",
       "    <tr>\n",
       "      <th>1</th>\n",
       "      <td></td>\n",
       "      <td>[165]</td>\n",
       "      <td>hidden_layer_grid_model_1</td>\n",
       "      <td>0.43439024000085696</td>\n",
       "    </tr>\n",
       "    <tr>\n",
       "      <th>2</th>\n",
       "      <td></td>\n",
       "      <td>[165, 33]</td>\n",
       "      <td>hidden_layer_grid_model_6</td>\n",
       "      <td>0.43507784102688246</td>\n",
       "    </tr>\n",
       "    <tr>\n",
       "      <th>3</th>\n",
       "      <td></td>\n",
       "      <td>[165, 330, 165]</td>\n",
       "      <td>hidden_layer_grid_model_10</td>\n",
       "      <td>0.43740278087118734</td>\n",
       "    </tr>\n",
       "    <tr>\n",
       "      <th>4</th>\n",
       "      <td></td>\n",
       "      <td>[165, 165]</td>\n",
       "      <td>hidden_layer_grid_model_7</td>\n",
       "      <td>0.43750844915001474</td>\n",
       "    </tr>\n",
       "    <tr>\n",
       "      <th>5</th>\n",
       "      <td></td>\n",
       "      <td>[200]</td>\n",
       "      <td>hidden_layer_grid_model_5</td>\n",
       "      <td>0.4397165228189012</td>\n",
       "    </tr>\n",
       "    <tr>\n",
       "      <th>6</th>\n",
       "      <td></td>\n",
       "      <td>[495]</td>\n",
       "      <td>hidden_layer_grid_model_3</td>\n",
       "      <td>0.4458597302592869</td>\n",
       "    </tr>\n",
       "    <tr>\n",
       "      <th>7</th>\n",
       "      <td></td>\n",
       "      <td>[330]</td>\n",
       "      <td>hidden_layer_grid_model_2</td>\n",
       "      <td>0.44999944542552284</td>\n",
       "    </tr>\n",
       "    <tr>\n",
       "      <th>8</th>\n",
       "      <td></td>\n",
       "      <td>[330, 330]</td>\n",
       "      <td>hidden_layer_grid_model_9</td>\n",
       "      <td>0.45161253741728424</td>\n",
       "    </tr>\n",
       "    <tr>\n",
       "      <th>9</th>\n",
       "      <td></td>\n",
       "      <td>[100]</td>\n",
       "      <td>hidden_layer_grid_model_4</td>\n",
       "      <td>0.47344688626506826</td>\n",
       "    </tr>\n",
       "  </tbody>\n",
       "</table>\n",
       "</div>"
      ],
      "text/plain": [
       "              hidden                   model_ids                 rmse\n",
       "0         [200, 165]   hidden_layer_grid_model_8   0.4341071484294671\n",
       "1              [165]   hidden_layer_grid_model_1  0.43439024000085696\n",
       "2          [165, 33]   hidden_layer_grid_model_6  0.43507784102688246\n",
       "3    [165, 330, 165]  hidden_layer_grid_model_10  0.43740278087118734\n",
       "4         [165, 165]   hidden_layer_grid_model_7  0.43750844915001474\n",
       "5              [200]   hidden_layer_grid_model_5   0.4397165228189012\n",
       "6              [495]   hidden_layer_grid_model_3   0.4458597302592869\n",
       "7              [330]   hidden_layer_grid_model_2  0.44999944542552284\n",
       "8         [330, 330]   hidden_layer_grid_model_9  0.45161253741728424\n",
       "9              [100]   hidden_layer_grid_model_4  0.47344688626506826"
      ]
     },
     "execution_count": 21,
     "metadata": {},
     "output_type": "execute_result"
    }
   ],
   "source": [
    "hidden_per = dl_grid.get_grid(sort_by='rmse', decreasing=False)\n",
    "hidden_per.sorted_metric_table()"
   ]
  },
  {
   "cell_type": "markdown",
   "metadata": {},
   "source": [
    "Model with 165 neurons was one of the most consistent ones, so we chose one hidden layer with 165 neurons to tune the other parameters.\n",
    "For deep learning models, the more complex the model, the longer it will take to train. For that reason, in this tutorial, we explore a fairly simple model, with only one hidden layer with 165 neurons.\n",
    "\n",
    "For the activation function, we could use the rectifier activation function, as it is one of the best amongst the three activation functions in H2O. We could try the maxout activation function, but the model usually takes much longer to build. H2O gives us the option to add dropout ratios to our activation functions, and for that reason, we will use the rectifier_with_dropout activation function. Therefore, we need to find a good dropout rate for our hidden layer.\n",
    "\n",
    "hidden_dropout_ratios improves generalization, which could help our model perform better. The range is >= 0 to <1, and the default is 0.5."
   ]
  },
  {
   "cell_type": "code",
   "execution_count": 22,
   "metadata": {},
   "outputs": [],
   "source": [
    "dl = H2ODeepLearningEstimator(\n",
    "    epochs=10,\n",
    "    hidden=[165],\n",
    "    seed=42,\n",
    "    model_id='DL',\n",
    "    activation='rectifier_with_dropout'\n",
    "    )\n",
    "\n",
    "hyper_params = {'hidden_dropout_ratios' : [[0], [0.01], [0.1], [0.15], [0.25], [0.3], [0.2],\n",
    "                                           [0.35],[0.5], [0.6], [0.8]]\n",
    "                                            \n",
    "    }\n",
    "\n",
    "search_criteria_tune = {'strategy': \"Cartesian\"\n",
    "                }\n",
    "\n",
    "dl_grid = H2OGridSearch(model=dl, \n",
    "                         hyper_params=hyper_params,\n",
    "                         grid_id = 'dropout_grid',\n",
    "                         search_criteria=search_criteria_tune,\n",
    "                         )"
   ]
  },
  {
   "cell_type": "code",
   "execution_count": 23,
   "metadata": {},
   "outputs": [
    {
     "name": "stdout",
     "output_type": "stream",
     "text": [
      "Wall time: 0 ns\n",
      "deeplearning Grid Build progress: |███████████████████████████████████████| 100%\n"
     ]
    }
   ],
   "source": [
    "%time \n",
    "dl_grid.train(x=x, y=y, training_frame=train, validation_frame = valid)"
   ]
  },
  {
   "cell_type": "code",
   "execution_count": 24,
   "metadata": {},
   "outputs": [
    {
     "data": {
      "text/html": [
       "<div>\n",
       "<style scoped>\n",
       "    .dataframe tbody tr th:only-of-type {\n",
       "        vertical-align: middle;\n",
       "    }\n",
       "\n",
       "    .dataframe tbody tr th {\n",
       "        vertical-align: top;\n",
       "    }\n",
       "\n",
       "    .dataframe thead th {\n",
       "        text-align: right;\n",
       "    }\n",
       "</style>\n",
       "<table border=\"1\" class=\"dataframe\">\n",
       "  <thead>\n",
       "    <tr style=\"text-align: right;\">\n",
       "      <th></th>\n",
       "      <th></th>\n",
       "      <th>hidden_dropout_ratios</th>\n",
       "      <th>model_ids</th>\n",
       "      <th>rmse</th>\n",
       "    </tr>\n",
       "  </thead>\n",
       "  <tbody>\n",
       "    <tr>\n",
       "      <th>0</th>\n",
       "      <td></td>\n",
       "      <td>[0.6]</td>\n",
       "      <td>dropout_grid_model_10</td>\n",
       "      <td>0.4356616951678924</td>\n",
       "    </tr>\n",
       "    <tr>\n",
       "      <th>1</th>\n",
       "      <td></td>\n",
       "      <td>[0.5]</td>\n",
       "      <td>dropout_grid_model_9</td>\n",
       "      <td>0.43621413719586943</td>\n",
       "    </tr>\n",
       "    <tr>\n",
       "      <th>2</th>\n",
       "      <td></td>\n",
       "      <td>[0.15]</td>\n",
       "      <td>dropout_grid_model_4</td>\n",
       "      <td>0.4368963938555745</td>\n",
       "    </tr>\n",
       "    <tr>\n",
       "      <th>3</th>\n",
       "      <td></td>\n",
       "      <td>[0.3]</td>\n",
       "      <td>dropout_grid_model_6</td>\n",
       "      <td>0.43798861598244315</td>\n",
       "    </tr>\n",
       "    <tr>\n",
       "      <th>4</th>\n",
       "      <td></td>\n",
       "      <td>[0.2]</td>\n",
       "      <td>dropout_grid_model_7</td>\n",
       "      <td>0.4397494239154581</td>\n",
       "    </tr>\n",
       "    <tr>\n",
       "      <th>5</th>\n",
       "      <td></td>\n",
       "      <td>[0.25]</td>\n",
       "      <td>dropout_grid_model_5</td>\n",
       "      <td>0.44038035525401653</td>\n",
       "    </tr>\n",
       "    <tr>\n",
       "      <th>6</th>\n",
       "      <td></td>\n",
       "      <td>[0.8]</td>\n",
       "      <td>dropout_grid_model_11</td>\n",
       "      <td>0.4423341348749736</td>\n",
       "    </tr>\n",
       "    <tr>\n",
       "      <th>7</th>\n",
       "      <td></td>\n",
       "      <td>[0.0]</td>\n",
       "      <td>dropout_grid_model_1</td>\n",
       "      <td>0.4424075548395576</td>\n",
       "    </tr>\n",
       "    <tr>\n",
       "      <th>8</th>\n",
       "      <td></td>\n",
       "      <td>[0.35]</td>\n",
       "      <td>dropout_grid_model_8</td>\n",
       "      <td>0.4513440269002026</td>\n",
       "    </tr>\n",
       "    <tr>\n",
       "      <th>9</th>\n",
       "      <td></td>\n",
       "      <td>[0.1]</td>\n",
       "      <td>dropout_grid_model_3</td>\n",
       "      <td>0.4537795786037289</td>\n",
       "    </tr>\n",
       "    <tr>\n",
       "      <th>10</th>\n",
       "      <td></td>\n",
       "      <td>[0.01]</td>\n",
       "      <td>dropout_grid_model_2</td>\n",
       "      <td>0.46803037953434745</td>\n",
       "    </tr>\n",
       "  </tbody>\n",
       "</table>\n",
       "</div>"
      ],
      "text/plain": [
       "     hidden_dropout_ratios              model_ids                 rmse\n",
       "0                    [0.6]  dropout_grid_model_10   0.4356616951678924\n",
       "1                    [0.5]   dropout_grid_model_9  0.43621413719586943\n",
       "2                   [0.15]   dropout_grid_model_4   0.4368963938555745\n",
       "3                    [0.3]   dropout_grid_model_6  0.43798861598244315\n",
       "4                    [0.2]   dropout_grid_model_7   0.4397494239154581\n",
       "5                   [0.25]   dropout_grid_model_5  0.44038035525401653\n",
       "6                    [0.8]  dropout_grid_model_11   0.4423341348749736\n",
       "7                    [0.0]   dropout_grid_model_1   0.4424075548395576\n",
       "8                   [0.35]   dropout_grid_model_8   0.4513440269002026\n",
       "9                    [0.1]   dropout_grid_model_3   0.4537795786037289\n",
       "10                  [0.01]   dropout_grid_model_2  0.46803037953434745"
      ]
     },
     "execution_count": 24,
     "metadata": {},
     "output_type": "execute_result"
    }
   ],
   "source": [
    "dropout = dl_grid.get_grid(sort_by='rmse', decreasing=False)\n",
    "dropout.sorted_metric_table()"
   ]
  },
  {
   "cell_type": "markdown",
   "metadata": {},
   "source": [
    "Based on our grid search, the best value for the hidden_dropout_ratios is 0.3, so for the next grid searches, we will use that value.\n",
    "\n",
    "Another parameter that is important in deep learning models is the learning rate. H2O offers a parameter called adaptive_rate(ADADELTA) and is enabled by default. Enabling the adaptive learning rate is roughly equivalent to turning on momentum training (as each model coefficient keeps track of its history), it is only slightly more computationally expensive (it uses an approximate square-root function that only costs a few clock cycles). Also, different hyper-parameters for adaptive learning rate can affect the training speed (at least for Rectifier activation functions, where back-propagation depends on the activation values).\n",
    "\n",
    "For cases where fastest model training is required (possibly at the expense of highest achievable accuracy), manual learning rates without momentum can be a good option, but in general, adaptive learning rate simplifies the usage of H2O Deep Learning and makes this tool highly usable by non-experts. However, let's try to disable the adaptive rate for now, and let's try to find a good learning rate for our model. For the learning rate, higher values result in a less stable model, while lower values lead to slower convergence. In order to specify the learning rate, we must disable adaptive_rate, as well as specify a value for the L2 regularization, which will add stability to our model. A suggested value for L2 is 1e-5. Please keep in mind that we could just use the adaptive learning rate feature, but we would like to show you the option to tune the parameters related to the learning rate.\n",
    "\n",
    "We will first start by finding a good learning rate for our model."
   ]
  },
  {
   "cell_type": "code",
   "execution_count": 25,
   "metadata": {},
   "outputs": [],
   "source": [
    "dl = H2ODeepLearningEstimator(\n",
    "    epochs=10,\n",
    "    hidden=[165],\n",
    "    seed=42,\n",
    "    model_id='DL',\n",
    "    activation = 'rectifier_with_dropout',\n",
    "    hidden_dropout_ratios=[0.3],\n",
    "    distribution='auto',\n",
    "    adaptive_rate=False\n",
    "    )\n",
    "\n",
    "hyper_params = { 'rate' : [0.0001, 0.0005, 0.0008, 0.001, 0.0015, 0.0020, 0.003, 0.004, 0.007, 0.009]\n",
    "                \n",
    "    }\n",
    "\n",
    "search_criteria_tune = {'strategy': \"Cartesian\",\n",
    "                       }\n",
    "\n",
    "dl_grid = H2OGridSearch(model=dl, hyper_params=hyper_params,\n",
    "                         grid_id = 'rate_grid',\n",
    "                         search_criteria=search_criteria_tune,\n",
    "                         )"
   ]
  },
  {
   "cell_type": "code",
   "execution_count": 26,
   "metadata": {},
   "outputs": [
    {
     "name": "stdout",
     "output_type": "stream",
     "text": [
      "Wall time: 0 ns\n",
      "deeplearning Grid Build progress: |███████████████████████████████████████| 100%\n"
     ]
    }
   ],
   "source": [
    "%time \n",
    "dl_grid.train(x=x, y=y, training_frame=train, validation_frame = valid)"
   ]
  },
  {
   "cell_type": "code",
   "execution_count": 27,
   "metadata": {},
   "outputs": [
    {
     "data": {
      "text/html": [
       "<div>\n",
       "<style scoped>\n",
       "    .dataframe tbody tr th:only-of-type {\n",
       "        vertical-align: middle;\n",
       "    }\n",
       "\n",
       "    .dataframe tbody tr th {\n",
       "        vertical-align: top;\n",
       "    }\n",
       "\n",
       "    .dataframe thead th {\n",
       "        text-align: right;\n",
       "    }\n",
       "</style>\n",
       "<table border=\"1\" class=\"dataframe\">\n",
       "  <thead>\n",
       "    <tr style=\"text-align: right;\">\n",
       "      <th></th>\n",
       "      <th></th>\n",
       "      <th>rate</th>\n",
       "      <th>model_ids</th>\n",
       "      <th>rmse</th>\n",
       "    </tr>\n",
       "  </thead>\n",
       "  <tbody>\n",
       "    <tr>\n",
       "      <th>0</th>\n",
       "      <td></td>\n",
       "      <td>8.0E-4</td>\n",
       "      <td>rate_grid_model_3</td>\n",
       "      <td>0.433155557691245</td>\n",
       "    </tr>\n",
       "    <tr>\n",
       "      <th>1</th>\n",
       "      <td></td>\n",
       "      <td>5.0E-4</td>\n",
       "      <td>rate_grid_model_2</td>\n",
       "      <td>0.43547853068737996</td>\n",
       "    </tr>\n",
       "    <tr>\n",
       "      <th>2</th>\n",
       "      <td></td>\n",
       "      <td>0.001</td>\n",
       "      <td>rate_grid_model_4</td>\n",
       "      <td>0.43657606247967</td>\n",
       "    </tr>\n",
       "    <tr>\n",
       "      <th>3</th>\n",
       "      <td></td>\n",
       "      <td>0.002</td>\n",
       "      <td>rate_grid_model_6</td>\n",
       "      <td>0.4370730518274487</td>\n",
       "    </tr>\n",
       "    <tr>\n",
       "      <th>4</th>\n",
       "      <td></td>\n",
       "      <td>0.004</td>\n",
       "      <td>rate_grid_model_8</td>\n",
       "      <td>0.44132720783534013</td>\n",
       "    </tr>\n",
       "    <tr>\n",
       "      <th>5</th>\n",
       "      <td></td>\n",
       "      <td>0.003</td>\n",
       "      <td>rate_grid_model_7</td>\n",
       "      <td>0.4430098298549247</td>\n",
       "    </tr>\n",
       "    <tr>\n",
       "      <th>6</th>\n",
       "      <td></td>\n",
       "      <td>0.009</td>\n",
       "      <td>rate_grid_model_10</td>\n",
       "      <td>0.44350017657233665</td>\n",
       "    </tr>\n",
       "    <tr>\n",
       "      <th>7</th>\n",
       "      <td></td>\n",
       "      <td>0.0015</td>\n",
       "      <td>rate_grid_model_5</td>\n",
       "      <td>0.44359704501530195</td>\n",
       "    </tr>\n",
       "    <tr>\n",
       "      <th>8</th>\n",
       "      <td></td>\n",
       "      <td>1.0E-4</td>\n",
       "      <td>rate_grid_model_1</td>\n",
       "      <td>0.44385568648565144</td>\n",
       "    </tr>\n",
       "    <tr>\n",
       "      <th>9</th>\n",
       "      <td></td>\n",
       "      <td>0.007</td>\n",
       "      <td>rate_grid_model_9</td>\n",
       "      <td>0.44390107834121134</td>\n",
       "    </tr>\n",
       "  </tbody>\n",
       "</table>\n",
       "</div>"
      ],
      "text/plain": [
       "       rate           model_ids                 rmse\n",
       "0    8.0E-4   rate_grid_model_3    0.433155557691245\n",
       "1    5.0E-4   rate_grid_model_2  0.43547853068737996\n",
       "2     0.001   rate_grid_model_4     0.43657606247967\n",
       "3     0.002   rate_grid_model_6   0.4370730518274487\n",
       "4     0.004   rate_grid_model_8  0.44132720783534013\n",
       "5     0.003   rate_grid_model_7   0.4430098298549247\n",
       "6     0.009  rate_grid_model_10  0.44350017657233665\n",
       "7    0.0015   rate_grid_model_5  0.44359704501530195\n",
       "8    1.0E-4   rate_grid_model_1  0.44385568648565144\n",
       "9     0.007   rate_grid_model_9  0.44390107834121134"
      ]
     },
     "execution_count": 27,
     "metadata": {},
     "output_type": "execute_result"
    }
   ],
   "source": [
    "learn_per = dl_grid.get_grid(sort_by='rmse', decreasing=False)\n",
    "learn_per.sorted_metric_table()"
   ]
  },
  {
   "cell_type": "markdown",
   "metadata": {},
   "source": [
    "The best learning rate according to our results is 0.0015. Now that we found a good learning rate, we need to tune some parameters that are related to the learning rate. We will try to tune five more parameters, and to do so, we will do a random search with them and see if our model is improved. Below is a short description of the parameters we are going to tune.\n",
    "\n",
    "1. rate_annealing: Learning rate annealing reduces the learning rate to \"freeze\" into local minima in the optimization landscape. The annealing rate is the inverse of the number of training samples it takes to cut the learning rate in half.\n",
    "\n",
    "2. rate_decay: The learning rate decay parameter controls the change of learning rate across layers. Meaning that depending on your learning rate and the rate_decay, the learning rate for the weights connecting the input and first hidden layer will be different to the learning rate for the weights connecting the first and the second hidden layer, as for the second layer it will be a smaller value.\n",
    "\n",
    "3. momentum_ramp: The momentum_ramp parameter controls the amount of learning for which momentum increases (assuming momentum_stable is larger than momentum_start). The ramp is measured in the number of training samples.\n",
    "\n",
    "4. momentum_stable: The momentum_stable parameter controls the final momentum value reached after momentum_ramp training samples. The momentum used for training will remain the same for training beyond reaching that point.\n",
    "\n",
    "5. momentum_start: The momentum_start parameter controls the amount of momentum at the beginning of training\n",
    "\n",
    "We will run the grid search for 10 minutes and see the results of our last grid search."
   ]
  },
  {
   "cell_type": "code",
   "execution_count": 28,
   "metadata": {},
   "outputs": [],
   "source": [
    "dl = H2ODeepLearningEstimator(\n",
    "    epochs=10,\n",
    "    hidden=[165],\n",
    "    seed=42,\n",
    "    model_id='DL',\n",
    "    activation = 'rectifier_with_dropout',\n",
    "    hidden_dropout_ratios=[0.3],\n",
    "    distribution='auto',\n",
    "    adaptive_rate=False,\n",
    "    l2=1e-5,\n",
    "    rate=0.0015\n",
    "    )\n",
    "\n",
    "hyper_params = { 'rate_annealing' : [1e-6, 1e-7, 1e-8, 1e-5],\n",
    "                'rate_decay': [1, 0.8, 0.9, 1.1, 1.2],\n",
    "                'momentum_ramp' : [10000, 15000, 5000, 20000, 50000, 100000],\n",
    "                'momentum_stable' : [0.9, 0.95, 0.99, 0.999],\n",
    "                'momentum_start' : [0.9, 0.4, 0.5, 0.7, 0.8]\n",
    "    }\n",
    "\n",
    "search_criteria_tune = {'strategy': \"RandomDiscrete\",\n",
    "                   'max_runtime_secs': 600, #10 min  \n",
    "                   'max_models': 100,  ## build no more than 100 models\n",
    "                   'seed' : 42 \n",
    "                       }\n",
    "\n",
    "dl_grid = H2OGridSearch(model=dl, \n",
    "                        hyper_params=hyper_params,\n",
    "                        grid_id = 'rate_random_grid',\n",
    "                        search_criteria=search_criteria_tune,\n",
    "                         )"
   ]
  },
  {
   "cell_type": "code",
   "execution_count": 29,
   "metadata": {},
   "outputs": [
    {
     "name": "stdout",
     "output_type": "stream",
     "text": [
      "Wall time: 0 ns\n",
      "deeplearning Grid Build progress: |███████████████████████████████████████| 100%\n"
     ]
    }
   ],
   "source": [
    "%time \n",
    "dl_grid.train(x=x, y=y, training_frame=train, validation_frame = valid)"
   ]
  },
  {
   "cell_type": "code",
   "execution_count": 30,
   "metadata": {},
   "outputs": [
    {
     "data": {
      "text/html": [
       "<div>\n",
       "<style scoped>\n",
       "    .dataframe tbody tr th:only-of-type {\n",
       "        vertical-align: middle;\n",
       "    }\n",
       "\n",
       "    .dataframe tbody tr th {\n",
       "        vertical-align: top;\n",
       "    }\n",
       "\n",
       "    .dataframe thead th {\n",
       "        text-align: right;\n",
       "    }\n",
       "</style>\n",
       "<table border=\"1\" class=\"dataframe\">\n",
       "  <thead>\n",
       "    <tr style=\"text-align: right;\">\n",
       "      <th></th>\n",
       "      <th></th>\n",
       "      <th>momentum_ramp</th>\n",
       "      <th>momentum_stable</th>\n",
       "      <th>momentum_start</th>\n",
       "      <th>rate_annealing</th>\n",
       "      <th>rate_decay</th>\n",
       "      <th>model_ids</th>\n",
       "      <th>rmse</th>\n",
       "    </tr>\n",
       "  </thead>\n",
       "  <tbody>\n",
       "    <tr>\n",
       "      <th>0</th>\n",
       "      <td></td>\n",
       "      <td>10000.0</td>\n",
       "      <td>0.99</td>\n",
       "      <td>0.5</td>\n",
       "      <td>1.0E-6</td>\n",
       "      <td>1.0</td>\n",
       "      <td>rate_random_grid_model_6</td>\n",
       "      <td>0.4301771103515655</td>\n",
       "    </tr>\n",
       "    <tr>\n",
       "      <th>1</th>\n",
       "      <td></td>\n",
       "      <td>5000.0</td>\n",
       "      <td>0.999</td>\n",
       "      <td>0.7</td>\n",
       "      <td>1.0E-5</td>\n",
       "      <td>0.9</td>\n",
       "      <td>rate_random_grid_model_2</td>\n",
       "      <td>0.4304419302072751</td>\n",
       "    </tr>\n",
       "    <tr>\n",
       "      <th>2</th>\n",
       "      <td></td>\n",
       "      <td>100000.0</td>\n",
       "      <td>0.99</td>\n",
       "      <td>0.5</td>\n",
       "      <td>1.0E-6</td>\n",
       "      <td>0.9</td>\n",
       "      <td>rate_random_grid_model_10</td>\n",
       "      <td>0.4320296415928409</td>\n",
       "    </tr>\n",
       "    <tr>\n",
       "      <th>3</th>\n",
       "      <td></td>\n",
       "      <td>50000.0</td>\n",
       "      <td>0.999</td>\n",
       "      <td>0.8</td>\n",
       "      <td>1.0E-6</td>\n",
       "      <td>1.0</td>\n",
       "      <td>rate_random_grid_model_5</td>\n",
       "      <td>0.4333514969750732</td>\n",
       "    </tr>\n",
       "    <tr>\n",
       "      <th>4</th>\n",
       "      <td></td>\n",
       "      <td>15000.0</td>\n",
       "      <td>0.99</td>\n",
       "      <td>0.5</td>\n",
       "      <td>1.0E-5</td>\n",
       "      <td>1.2</td>\n",
       "      <td>rate_random_grid_model_12</td>\n",
       "      <td>0.43338024198151337</td>\n",
       "    </tr>\n",
       "    <tr>\n",
       "      <th>5</th>\n",
       "      <td></td>\n",
       "      <td>10000.0</td>\n",
       "      <td>0.95</td>\n",
       "      <td>0.4</td>\n",
       "      <td>1.0E-7</td>\n",
       "      <td>0.9</td>\n",
       "      <td>rate_random_grid_model_9</td>\n",
       "      <td>0.43497180119109613</td>\n",
       "    </tr>\n",
       "    <tr>\n",
       "      <th>6</th>\n",
       "      <td></td>\n",
       "      <td>5000.0</td>\n",
       "      <td>0.9</td>\n",
       "      <td>0.5</td>\n",
       "      <td>1.0E-6</td>\n",
       "      <td>0.9</td>\n",
       "      <td>rate_random_grid_model_8</td>\n",
       "      <td>0.4356958871262241</td>\n",
       "    </tr>\n",
       "    <tr>\n",
       "      <th>7</th>\n",
       "      <td></td>\n",
       "      <td>10000.0</td>\n",
       "      <td>0.95</td>\n",
       "      <td>0.9</td>\n",
       "      <td>1.0E-5</td>\n",
       "      <td>0.8</td>\n",
       "      <td>rate_random_grid_model_1</td>\n",
       "      <td>0.43607634668201295</td>\n",
       "    </tr>\n",
       "    <tr>\n",
       "      <th>8</th>\n",
       "      <td></td>\n",
       "      <td>10000.0</td>\n",
       "      <td>0.9</td>\n",
       "      <td>0.9</td>\n",
       "      <td>1.0E-5</td>\n",
       "      <td>1.2</td>\n",
       "      <td>rate_random_grid_model_11</td>\n",
       "      <td>0.4361884657454211</td>\n",
       "    </tr>\n",
       "    <tr>\n",
       "      <th>9</th>\n",
       "      <td></td>\n",
       "      <td>100000.0</td>\n",
       "      <td>0.999</td>\n",
       "      <td>0.9</td>\n",
       "      <td>1.0E-7</td>\n",
       "      <td>0.8</td>\n",
       "      <td>rate_random_grid_model_4</td>\n",
       "      <td>0.43699592947680355</td>\n",
       "    </tr>\n",
       "    <tr>\n",
       "      <th>10</th>\n",
       "      <td></td>\n",
       "      <td>10000.0</td>\n",
       "      <td>0.95</td>\n",
       "      <td>0.5</td>\n",
       "      <td>1.0E-6</td>\n",
       "      <td>0.8</td>\n",
       "      <td>rate_random_grid_model_3</td>\n",
       "      <td>0.43746520622364776</td>\n",
       "    </tr>\n",
       "    <tr>\n",
       "      <th>11</th>\n",
       "      <td></td>\n",
       "      <td>10000.0</td>\n",
       "      <td>0.99</td>\n",
       "      <td>0.9</td>\n",
       "      <td>1.0E-8</td>\n",
       "      <td>1.2</td>\n",
       "      <td>rate_random_grid_model_13</td>\n",
       "      <td>0.44042900883919595</td>\n",
       "    </tr>\n",
       "    <tr>\n",
       "      <th>12</th>\n",
       "      <td></td>\n",
       "      <td>5000.0</td>\n",
       "      <td>0.999</td>\n",
       "      <td>0.7</td>\n",
       "      <td>1.0E-8</td>\n",
       "      <td>1.1</td>\n",
       "      <td>rate_random_grid_model_7</td>\n",
       "      <td>0.44057160181040145</td>\n",
       "    </tr>\n",
       "    <tr>\n",
       "      <th>13</th>\n",
       "      <td></td>\n",
       "      <td>5000.0</td>\n",
       "      <td>0.99</td>\n",
       "      <td>0.7</td>\n",
       "      <td>1.0E-6</td>\n",
       "      <td>1.1</td>\n",
       "      <td>rate_random_grid_model_14</td>\n",
       "      <td>0.4869247348597894</td>\n",
       "    </tr>\n",
       "  </tbody>\n",
       "</table>\n",
       "</div>"
      ],
      "text/plain": [
       "     momentum_ramp momentum_stable momentum_start rate_annealing rate_decay  \\\n",
       "0          10000.0            0.99            0.5         1.0E-6        1.0   \n",
       "1           5000.0           0.999            0.7         1.0E-5        0.9   \n",
       "2         100000.0            0.99            0.5         1.0E-6        0.9   \n",
       "3          50000.0           0.999            0.8         1.0E-6        1.0   \n",
       "4          15000.0            0.99            0.5         1.0E-5        1.2   \n",
       "5          10000.0            0.95            0.4         1.0E-7        0.9   \n",
       "6           5000.0             0.9            0.5         1.0E-6        0.9   \n",
       "7          10000.0            0.95            0.9         1.0E-5        0.8   \n",
       "8          10000.0             0.9            0.9         1.0E-5        1.2   \n",
       "9         100000.0           0.999            0.9         1.0E-7        0.8   \n",
       "10         10000.0            0.95            0.5         1.0E-6        0.8   \n",
       "11         10000.0            0.99            0.9         1.0E-8        1.2   \n",
       "12          5000.0           0.999            0.7         1.0E-8        1.1   \n",
       "13          5000.0            0.99            0.7         1.0E-6        1.1   \n",
       "\n",
       "                    model_ids                 rmse  \n",
       "0    rate_random_grid_model_6   0.4301771103515655  \n",
       "1    rate_random_grid_model_2   0.4304419302072751  \n",
       "2   rate_random_grid_model_10   0.4320296415928409  \n",
       "3    rate_random_grid_model_5   0.4333514969750732  \n",
       "4   rate_random_grid_model_12  0.43338024198151337  \n",
       "5    rate_random_grid_model_9  0.43497180119109613  \n",
       "6    rate_random_grid_model_8   0.4356958871262241  \n",
       "7    rate_random_grid_model_1  0.43607634668201295  \n",
       "8   rate_random_grid_model_11   0.4361884657454211  \n",
       "9    rate_random_grid_model_4  0.43699592947680355  \n",
       "10   rate_random_grid_model_3  0.43746520622364776  \n",
       "11  rate_random_grid_model_13  0.44042900883919595  \n",
       "12   rate_random_grid_model_7  0.44057160181040145  \n",
       "13  rate_random_grid_model_14   0.4869247348597894  "
      ]
     },
     "execution_count": 30,
     "metadata": {},
     "output_type": "execute_result"
    }
   ],
   "source": [
    "learn_per = dl_grid.get_grid(sort_by='rmse', decreasing=False)\n",
    "learn_per.sorted_metric_table()"
   ]
  },
  {
   "cell_type": "markdown",
   "metadata": {},
   "source": [
    "From the list above, you can retrieve the parameters from the best model. In our case, the best model was the 17th model that was built, or model_id = rate_random_grid_model_17. We can see that the RMSE value slightly improved with the grid search that we just did. If you recall, at the beginning of the tutorial, we mentioned that H2O's DNN model allows you to do checkpointing. The checkpoint option allows you to specify a model key associated with a previously trained model. This will build a new model as a continuation of a previously generated model. Since we were training our model with only 10 epochs, let's now train the same model with 200 epochs while using early stopping to see if we get better results. Also, set reproducible=True, this model will take longer to train, but it will yield similar results when you run it.\n",
    "\n",
    "To be able to use checkpointing, we need to retrieve the model from the grid search that we did, and then use the model id to continue training the same model. There are several parameters that can not be changed, and for that reason, we need to specify them one more time; however, this guarantees us that we are training the same model from the grid search, and is not a new model. "
   ]
  },
  {
   "cell_type": "code",
   "execution_count": 39,
   "metadata": {},
   "outputs": [],
   "source": [
    "best_dl_model = dl_grid.models[0]\n",
    "\n",
    "dl_checkpoint = H2ODeepLearningEstimator(checkpoint=best_dl_model.model_id,\n",
    "    epochs=200,\n",
    "    hidden=[165],\n",
    "    seed=42,\n",
    "    model_id='DL_checkpoint',\n",
    "    activation = 'rectifier_with_dropout',\n",
    "    hidden_dropout_ratios=[0.3],\n",
    "    distribution='auto',\n",
    "    adaptive_rate=False,\n",
    "    l2=1e-5,\n",
    "    rate=0.0015,\n",
    "    momentum_ramp=10000.0,\n",
    "    momentum_stable=0.99,\n",
    "    momentum_start=0.5,\n",
    "    rate_annealing=1.0e-6,\n",
    "    rate_decay=1.0,\n",
    "    reproducible=True,                                     \n",
    "                                         \n",
    "    stopping_metric='RMSE',\n",
    "    stopping_tolerance=0.0005,\n",
    "    stopping_rounds=5\n",
    "    )"
   ]
  },
  {
   "cell_type": "code",
   "execution_count": 40,
   "metadata": {},
   "outputs": [
    {
     "name": "stdout",
     "output_type": "stream",
     "text": [
      "Wall time: 0 ns\n",
      "deeplearning Model Build progress: |██████████████████████████████████████| 100%\n"
     ]
    }
   ],
   "source": [
    "%time \n",
    "dl_checkpoint.train(x=x, y=y, training_frame=train, validation_frame=valid)"
   ]
  },
  {
   "cell_type": "markdown",
   "metadata": {},
   "source": [
    "Please note that we need to specify the parameters that we tuned, because if we don't, H2O assigns the default values, and most of the parameters that we tuned can not be changed when we do a checkpoint. Print the model summary by typing the name of your model in a new cell and running it, as shown in the image below."
   ]
  },
  {
   "cell_type": "code",
   "execution_count": 41,
   "metadata": {},
   "outputs": [
    {
     "name": "stdout",
     "output_type": "stream",
     "text": [
      "Model Details\n",
      "=============\n",
      "H2ODeepLearningEstimator :  Deep Learning\n",
      "Model Key:  DL_checkpoint\n",
      "\n",
      "\n",
      "Status of Neuron Layers: predicting ORIGINAL_INTEREST_RATE, regression, gaussian distribution, Quadratic loss, 27,556 weights/biases, 228.2 KB, 13,406,351 training samples, mini-batch size 1\n"
     ]
    },
    {
     "data": {
      "text/html": [
       "<div>\n",
       "<style scoped>\n",
       "    .dataframe tbody tr th:only-of-type {\n",
       "        vertical-align: middle;\n",
       "    }\n",
       "\n",
       "    .dataframe tbody tr th {\n",
       "        vertical-align: top;\n",
       "    }\n",
       "\n",
       "    .dataframe thead th {\n",
       "        text-align: right;\n",
       "    }\n",
       "</style>\n",
       "<table border=\"1\" class=\"dataframe\">\n",
       "  <thead>\n",
       "    <tr style=\"text-align: right;\">\n",
       "      <th></th>\n",
       "      <th></th>\n",
       "      <th>layer</th>\n",
       "      <th>units</th>\n",
       "      <th>type</th>\n",
       "      <th>dropout</th>\n",
       "      <th>l1</th>\n",
       "      <th>l2</th>\n",
       "      <th>mean_rate</th>\n",
       "      <th>rate_rms</th>\n",
       "      <th>momentum</th>\n",
       "      <th>mean_weight</th>\n",
       "      <th>weight_rms</th>\n",
       "      <th>mean_bias</th>\n",
       "      <th>bias_rms</th>\n",
       "    </tr>\n",
       "  </thead>\n",
       "  <tbody>\n",
       "    <tr>\n",
       "      <th>0</th>\n",
       "      <td></td>\n",
       "      <td>1</td>\n",
       "      <td>165</td>\n",
       "      <td>Input</td>\n",
       "      <td>0</td>\n",
       "      <td></td>\n",
       "      <td></td>\n",
       "      <td></td>\n",
       "      <td></td>\n",
       "      <td></td>\n",
       "      <td></td>\n",
       "      <td></td>\n",
       "      <td></td>\n",
       "      <td></td>\n",
       "    </tr>\n",
       "    <tr>\n",
       "      <th>1</th>\n",
       "      <td></td>\n",
       "      <td>2</td>\n",
       "      <td>165</td>\n",
       "      <td>RectifierDropout</td>\n",
       "      <td>30</td>\n",
       "      <td>0</td>\n",
       "      <td>1e-05</td>\n",
       "      <td>0.000104121</td>\n",
       "      <td>0</td>\n",
       "      <td>0.99</td>\n",
       "      <td>-0.0126665</td>\n",
       "      <td>0.106814</td>\n",
       "      <td>0.222765</td>\n",
       "      <td>0.100227</td>\n",
       "    </tr>\n",
       "    <tr>\n",
       "      <th>2</th>\n",
       "      <td></td>\n",
       "      <td>3</td>\n",
       "      <td>1</td>\n",
       "      <td>Linear</td>\n",
       "      <td></td>\n",
       "      <td>0</td>\n",
       "      <td>1e-05</td>\n",
       "      <td>0.000104121</td>\n",
       "      <td>0</td>\n",
       "      <td>0.99</td>\n",
       "      <td>0.0917103</td>\n",
       "      <td>0.347631</td>\n",
       "      <td>-0.0538511</td>\n",
       "      <td>1.09713e-154</td>\n",
       "    </tr>\n",
       "  </tbody>\n",
       "</table>\n",
       "</div>"
      ],
      "text/plain": [
       "     layer  units              type dropout l1     l2    mean_rate rate_rms  \\\n",
       "0        1    165             Input       0                                   \n",
       "1        2    165  RectifierDropout      30  0  1e-05  0.000104121        0   \n",
       "2        3      1            Linear          0  1e-05  0.000104121        0   \n",
       "\n",
       "  momentum mean_weight weight_rms  mean_bias      bias_rms  \n",
       "0                                                           \n",
       "1     0.99  -0.0126665   0.106814   0.222765      0.100227  \n",
       "2     0.99   0.0917103   0.347631 -0.0538511  1.09713e-154  "
      ]
     },
     "metadata": {},
     "output_type": "display_data"
    },
    {
     "name": "stdout",
     "output_type": "stream",
     "text": [
      "\n",
      "\n",
      "ModelMetricsRegression: deeplearning\n",
      "** Reported on train data. **\n",
      "\n",
      "MSE: 0.16911364387429423\n",
      "RMSE: 0.4112342931642426\n",
      "MAE: 0.2978915073004836\n",
      "RMSLE: 0.04879573205664998\n",
      "Mean Residual Deviance: 0.16911364387429423\n",
      "\n",
      "ModelMetricsRegression: deeplearning\n",
      "** Reported on validation data. **\n",
      "\n",
      "MSE: 0.17369076195434607\n",
      "RMSE: 0.4167622367181869\n",
      "MAE: 0.3025638227638908\n",
      "RMSLE: 0.04940479384357021\n",
      "Mean Residual Deviance: 0.17369076195434607\n",
      "\n",
      "Scoring History: \n"
     ]
    },
    {
     "data": {
      "text/html": [
       "<div>\n",
       "<style scoped>\n",
       "    .dataframe tbody tr th:only-of-type {\n",
       "        vertical-align: middle;\n",
       "    }\n",
       "\n",
       "    .dataframe tbody tr th {\n",
       "        vertical-align: top;\n",
       "    }\n",
       "\n",
       "    .dataframe thead th {\n",
       "        text-align: right;\n",
       "    }\n",
       "</style>\n",
       "<table border=\"1\" class=\"dataframe\">\n",
       "  <thead>\n",
       "    <tr style=\"text-align: right;\">\n",
       "      <th></th>\n",
       "      <th></th>\n",
       "      <th>timestamp</th>\n",
       "      <th>duration</th>\n",
       "      <th>training_speed</th>\n",
       "      <th>epochs</th>\n",
       "      <th>iterations</th>\n",
       "      <th>samples</th>\n",
       "      <th>training_rmse</th>\n",
       "      <th>training_deviance</th>\n",
       "      <th>training_mae</th>\n",
       "      <th>training_r2</th>\n",
       "      <th>validation_rmse</th>\n",
       "      <th>validation_deviance</th>\n",
       "      <th>validation_mae</th>\n",
       "      <th>validation_r2</th>\n",
       "    </tr>\n",
       "  </thead>\n",
       "  <tbody>\n",
       "    <tr>\n",
       "      <th>0</th>\n",
       "      <td></td>\n",
       "      <td>2020-08-12 15:34:49</td>\n",
       "      <td>0.000 sec</td>\n",
       "      <td>None</td>\n",
       "      <td>0.000000</td>\n",
       "      <td>0</td>\n",
       "      <td>0.0</td>\n",
       "      <td>NaN</td>\n",
       "      <td>NaN</td>\n",
       "      <td>NaN</td>\n",
       "      <td>NaN</td>\n",
       "      <td>NaN</td>\n",
       "      <td>NaN</td>\n",
       "      <td>NaN</td>\n",
       "      <td>NaN</td>\n",
       "    </tr>\n",
       "    <tr>\n",
       "      <th>1</th>\n",
       "      <td></td>\n",
       "      <td>2020-08-12 15:34:50</td>\n",
       "      <td>3 min 59.691 sec</td>\n",
       "      <td>66479 obs/sec</td>\n",
       "      <td>0.284882</td>\n",
       "      <td>1</td>\n",
       "      <td>99785.0</td>\n",
       "      <td>0.473595</td>\n",
       "      <td>0.224292</td>\n",
       "      <td>0.344861</td>\n",
       "      <td>0.317307</td>\n",
       "      <td>0.475430</td>\n",
       "      <td>0.226034</td>\n",
       "      <td>0.347454</td>\n",
       "      <td>0.323018</td>\n",
       "    </tr>\n",
       "    <tr>\n",
       "      <th>2</th>\n",
       "      <td></td>\n",
       "      <td>2020-08-12 15:34:55</td>\n",
       "      <td>4 min  4.864 sec</td>\n",
       "      <td>80620 obs/sec</td>\n",
       "      <td>1.425885</td>\n",
       "      <td>5</td>\n",
       "      <td>499442.0</td>\n",
       "      <td>0.479125</td>\n",
       "      <td>0.229561</td>\n",
       "      <td>0.349255</td>\n",
       "      <td>0.301269</td>\n",
       "      <td>0.481767</td>\n",
       "      <td>0.232099</td>\n",
       "      <td>0.351324</td>\n",
       "      <td>0.304851</td>\n",
       "    </tr>\n",
       "    <tr>\n",
       "      <th>3</th>\n",
       "      <td></td>\n",
       "      <td>2020-08-12 15:35:01</td>\n",
       "      <td>4 min 10.414 sec</td>\n",
       "      <td>88837 obs/sec</td>\n",
       "      <td>2.852801</td>\n",
       "      <td>10</td>\n",
       "      <td>999245.0</td>\n",
       "      <td>0.434289</td>\n",
       "      <td>0.188607</td>\n",
       "      <td>0.315483</td>\n",
       "      <td>0.425924</td>\n",
       "      <td>0.438293</td>\n",
       "      <td>0.192101</td>\n",
       "      <td>0.318645</td>\n",
       "      <td>0.424649</td>\n",
       "    </tr>\n",
       "    <tr>\n",
       "      <th>4</th>\n",
       "      <td></td>\n",
       "      <td>2020-08-12 15:35:06</td>\n",
       "      <td>4 min 15.709 sec</td>\n",
       "      <td>93504 obs/sec</td>\n",
       "      <td>4.278681</td>\n",
       "      <td>15</td>\n",
       "      <td>1498685.0</td>\n",
       "      <td>0.436966</td>\n",
       "      <td>0.190939</td>\n",
       "      <td>0.311575</td>\n",
       "      <td>0.418824</td>\n",
       "      <td>0.441851</td>\n",
       "      <td>0.195233</td>\n",
       "      <td>0.314874</td>\n",
       "      <td>0.415269</td>\n",
       "    </tr>\n",
       "    <tr>\n",
       "      <th>5</th>\n",
       "      <td></td>\n",
       "      <td>2020-08-12 15:35:12</td>\n",
       "      <td>4 min 21.793 sec</td>\n",
       "      <td>97294 obs/sec</td>\n",
       "      <td>5.990696</td>\n",
       "      <td>21</td>\n",
       "      <td>2098349.0</td>\n",
       "      <td>0.460790</td>\n",
       "      <td>0.212328</td>\n",
       "      <td>0.317598</td>\n",
       "      <td>0.353723</td>\n",
       "      <td>0.465161</td>\n",
       "      <td>0.216374</td>\n",
       "      <td>0.320481</td>\n",
       "      <td>0.351948</td>\n",
       "    </tr>\n",
       "    <tr>\n",
       "      <th>6</th>\n",
       "      <td></td>\n",
       "      <td>2020-08-12 15:35:18</td>\n",
       "      <td>4 min 27.735 sec</td>\n",
       "      <td>99815 obs/sec</td>\n",
       "      <td>7.704435</td>\n",
       "      <td>27</td>\n",
       "      <td>2698617.0</td>\n",
       "      <td>0.483816</td>\n",
       "      <td>0.234078</td>\n",
       "      <td>0.377289</td>\n",
       "      <td>0.287520</td>\n",
       "      <td>0.482648</td>\n",
       "      <td>0.232949</td>\n",
       "      <td>0.377641</td>\n",
       "      <td>0.302306</td>\n",
       "    </tr>\n",
       "    <tr>\n",
       "      <th>7</th>\n",
       "      <td></td>\n",
       "      <td>2020-08-12 15:35:23</td>\n",
       "      <td>4 min 32.789 sec</td>\n",
       "      <td>101184 obs/sec</td>\n",
       "      <td>9.133138</td>\n",
       "      <td>32</td>\n",
       "      <td>3199046.0</td>\n",
       "      <td>0.435031</td>\n",
       "      <td>0.189252</td>\n",
       "      <td>0.309273</td>\n",
       "      <td>0.423961</td>\n",
       "      <td>0.440107</td>\n",
       "      <td>0.193694</td>\n",
       "      <td>0.312866</td>\n",
       "      <td>0.419877</td>\n",
       "    </tr>\n",
       "    <tr>\n",
       "      <th>8</th>\n",
       "      <td></td>\n",
       "      <td>2020-08-12 15:35:27</td>\n",
       "      <td>4 min 36.866 sec</td>\n",
       "      <td>102196 obs/sec</td>\n",
       "      <td>10.274553</td>\n",
       "      <td>36</td>\n",
       "      <td>3598847.0</td>\n",
       "      <td>0.427385</td>\n",
       "      <td>0.182658</td>\n",
       "      <td>0.307923</td>\n",
       "      <td>0.444032</td>\n",
       "      <td>0.430177</td>\n",
       "      <td>0.185052</td>\n",
       "      <td>0.310515</td>\n",
       "      <td>0.445759</td>\n",
       "    </tr>\n",
       "    <tr>\n",
       "      <th>9</th>\n",
       "      <td></td>\n",
       "      <td>2020-08-12 16:15:25</td>\n",
       "      <td>4 min 49.789 sec</td>\n",
       "      <td>83747 obs/sec</td>\n",
       "      <td>11.274553</td>\n",
       "      <td>37</td>\n",
       "      <td>3949115.0</td>\n",
       "      <td>0.416845</td>\n",
       "      <td>0.173760</td>\n",
       "      <td>0.303457</td>\n",
       "      <td>0.471114</td>\n",
       "      <td>0.420429</td>\n",
       "      <td>0.176761</td>\n",
       "      <td>0.306785</td>\n",
       "      <td>0.470593</td>\n",
       "    </tr>\n",
       "    <tr>\n",
       "      <th>10</th>\n",
       "      <td></td>\n",
       "      <td>2020-08-12 16:15:37</td>\n",
       "      <td>5 min  2.432 sec</td>\n",
       "      <td>72709 obs/sec</td>\n",
       "      <td>12.274553</td>\n",
       "      <td>38</td>\n",
       "      <td>4299383.0</td>\n",
       "      <td>0.416790</td>\n",
       "      <td>0.173714</td>\n",
       "      <td>0.301917</td>\n",
       "      <td>0.471255</td>\n",
       "      <td>0.420726</td>\n",
       "      <td>0.177011</td>\n",
       "      <td>0.305360</td>\n",
       "      <td>0.469844</td>\n",
       "    </tr>\n",
       "    <tr>\n",
       "      <th>11</th>\n",
       "      <td></td>\n",
       "      <td>2020-08-12 16:15:52</td>\n",
       "      <td>5 min 17.211 sec</td>\n",
       "      <td>63424 obs/sec</td>\n",
       "      <td>13.274553</td>\n",
       "      <td>39</td>\n",
       "      <td>4649651.0</td>\n",
       "      <td>0.415833</td>\n",
       "      <td>0.172917</td>\n",
       "      <td>0.301946</td>\n",
       "      <td>0.473679</td>\n",
       "      <td>0.420251</td>\n",
       "      <td>0.176611</td>\n",
       "      <td>0.305808</td>\n",
       "      <td>0.471042</td>\n",
       "    </tr>\n",
       "    <tr>\n",
       "      <th>12</th>\n",
       "      <td></td>\n",
       "      <td>2020-08-12 16:16:05</td>\n",
       "      <td>5 min 30.216 sec</td>\n",
       "      <td>58335 obs/sec</td>\n",
       "      <td>14.274553</td>\n",
       "      <td>40</td>\n",
       "      <td>4999919.0</td>\n",
       "      <td>0.415331</td>\n",
       "      <td>0.172500</td>\n",
       "      <td>0.299878</td>\n",
       "      <td>0.474949</td>\n",
       "      <td>0.419767</td>\n",
       "      <td>0.176204</td>\n",
       "      <td>0.303847</td>\n",
       "      <td>0.472260</td>\n",
       "    </tr>\n",
       "    <tr>\n",
       "      <th>13</th>\n",
       "      <td></td>\n",
       "      <td>2020-08-12 16:16:18</td>\n",
       "      <td>5 min 43.084 sec</td>\n",
       "      <td>54629 obs/sec</td>\n",
       "      <td>15.274553</td>\n",
       "      <td>41</td>\n",
       "      <td>5350187.0</td>\n",
       "      <td>0.415730</td>\n",
       "      <td>0.172832</td>\n",
       "      <td>0.301811</td>\n",
       "      <td>0.473939</td>\n",
       "      <td>0.419371</td>\n",
       "      <td>0.175872</td>\n",
       "      <td>0.305220</td>\n",
       "      <td>0.473254</td>\n",
       "    </tr>\n",
       "    <tr>\n",
       "      <th>14</th>\n",
       "      <td></td>\n",
       "      <td>2020-08-12 16:16:32</td>\n",
       "      <td>5 min 57.568 sec</td>\n",
       "      <td>50975 obs/sec</td>\n",
       "      <td>16.274553</td>\n",
       "      <td>42</td>\n",
       "      <td>5700455.0</td>\n",
       "      <td>0.414813</td>\n",
       "      <td>0.172070</td>\n",
       "      <td>0.301114</td>\n",
       "      <td>0.476258</td>\n",
       "      <td>0.419024</td>\n",
       "      <td>0.175581</td>\n",
       "      <td>0.304988</td>\n",
       "      <td>0.474125</td>\n",
       "    </tr>\n",
       "    <tr>\n",
       "      <th>15</th>\n",
       "      <td></td>\n",
       "      <td>2020-08-12 16:16:46</td>\n",
       "      <td>6 min 10.720 sec</td>\n",
       "      <td>48637 obs/sec</td>\n",
       "      <td>17.274553</td>\n",
       "      <td>43</td>\n",
       "      <td>6050723.0</td>\n",
       "      <td>0.414156</td>\n",
       "      <td>0.171526</td>\n",
       "      <td>0.300813</td>\n",
       "      <td>0.477915</td>\n",
       "      <td>0.418609</td>\n",
       "      <td>0.175233</td>\n",
       "      <td>0.304769</td>\n",
       "      <td>0.475168</td>\n",
       "    </tr>\n",
       "    <tr>\n",
       "      <th>16</th>\n",
       "      <td></td>\n",
       "      <td>2020-08-12 16:16:58</td>\n",
       "      <td>6 min 23.417 sec</td>\n",
       "      <td>46920 obs/sec</td>\n",
       "      <td>18.274553</td>\n",
       "      <td>44</td>\n",
       "      <td>6400991.0</td>\n",
       "      <td>0.414864</td>\n",
       "      <td>0.172112</td>\n",
       "      <td>0.301545</td>\n",
       "      <td>0.476131</td>\n",
       "      <td>0.418661</td>\n",
       "      <td>0.175277</td>\n",
       "      <td>0.304999</td>\n",
       "      <td>0.475037</td>\n",
       "    </tr>\n",
       "    <tr>\n",
       "      <th>17</th>\n",
       "      <td></td>\n",
       "      <td>2020-08-12 16:17:11</td>\n",
       "      <td>6 min 36.322 sec</td>\n",
       "      <td>45391 obs/sec</td>\n",
       "      <td>19.274553</td>\n",
       "      <td>45</td>\n",
       "      <td>6751259.0</td>\n",
       "      <td>0.414041</td>\n",
       "      <td>0.171430</td>\n",
       "      <td>0.299571</td>\n",
       "      <td>0.478207</td>\n",
       "      <td>0.418404</td>\n",
       "      <td>0.175062</td>\n",
       "      <td>0.303188</td>\n",
       "      <td>0.475681</td>\n",
       "    </tr>\n",
       "    <tr>\n",
       "      <th>18</th>\n",
       "      <td></td>\n",
       "      <td>2020-08-12 16:17:23</td>\n",
       "      <td>6 min 48.558 sec</td>\n",
       "      <td>44279 obs/sec</td>\n",
       "      <td>20.274553</td>\n",
       "      <td>46</td>\n",
       "      <td>7101527.0</td>\n",
       "      <td>0.413539</td>\n",
       "      <td>0.171015</td>\n",
       "      <td>0.300449</td>\n",
       "      <td>0.479470</td>\n",
       "      <td>0.418248</td>\n",
       "      <td>0.174932</td>\n",
       "      <td>0.304628</td>\n",
       "      <td>0.476071</td>\n",
       "    </tr>\n",
       "    <tr>\n",
       "      <th>19</th>\n",
       "      <td></td>\n",
       "      <td>2020-08-12 16:17:37</td>\n",
       "      <td>7 min  1.798 sec</td>\n",
       "      <td>43082 obs/sec</td>\n",
       "      <td>21.274553</td>\n",
       "      <td>47</td>\n",
       "      <td>7451795.0</td>\n",
       "      <td>0.413240</td>\n",
       "      <td>0.170767</td>\n",
       "      <td>0.300487</td>\n",
       "      <td>0.480224</td>\n",
       "      <td>0.418626</td>\n",
       "      <td>0.175248</td>\n",
       "      <td>0.304802</td>\n",
       "      <td>0.475124</td>\n",
       "    </tr>\n",
       "  </tbody>\n",
       "</table>\n",
       "</div>"
      ],
      "text/plain": [
       "                timestamp           duration  training_speed     epochs  \\\n",
       "0     2020-08-12 15:34:49          0.000 sec            None   0.000000   \n",
       "1     2020-08-12 15:34:50   3 min 59.691 sec   66479 obs/sec   0.284882   \n",
       "2     2020-08-12 15:34:55   4 min  4.864 sec   80620 obs/sec   1.425885   \n",
       "3     2020-08-12 15:35:01   4 min 10.414 sec   88837 obs/sec   2.852801   \n",
       "4     2020-08-12 15:35:06   4 min 15.709 sec   93504 obs/sec   4.278681   \n",
       "5     2020-08-12 15:35:12   4 min 21.793 sec   97294 obs/sec   5.990696   \n",
       "6     2020-08-12 15:35:18   4 min 27.735 sec   99815 obs/sec   7.704435   \n",
       "7     2020-08-12 15:35:23   4 min 32.789 sec  101184 obs/sec   9.133138   \n",
       "8     2020-08-12 15:35:27   4 min 36.866 sec  102196 obs/sec  10.274553   \n",
       "9     2020-08-12 16:15:25   4 min 49.789 sec   83747 obs/sec  11.274553   \n",
       "10    2020-08-12 16:15:37   5 min  2.432 sec   72709 obs/sec  12.274553   \n",
       "11    2020-08-12 16:15:52   5 min 17.211 sec   63424 obs/sec  13.274553   \n",
       "12    2020-08-12 16:16:05   5 min 30.216 sec   58335 obs/sec  14.274553   \n",
       "13    2020-08-12 16:16:18   5 min 43.084 sec   54629 obs/sec  15.274553   \n",
       "14    2020-08-12 16:16:32   5 min 57.568 sec   50975 obs/sec  16.274553   \n",
       "15    2020-08-12 16:16:46   6 min 10.720 sec   48637 obs/sec  17.274553   \n",
       "16    2020-08-12 16:16:58   6 min 23.417 sec   46920 obs/sec  18.274553   \n",
       "17    2020-08-12 16:17:11   6 min 36.322 sec   45391 obs/sec  19.274553   \n",
       "18    2020-08-12 16:17:23   6 min 48.558 sec   44279 obs/sec  20.274553   \n",
       "19    2020-08-12 16:17:37   7 min  1.798 sec   43082 obs/sec  21.274553   \n",
       "\n",
       "    iterations    samples  training_rmse  training_deviance  training_mae  \\\n",
       "0            0        0.0            NaN                NaN           NaN   \n",
       "1            1    99785.0       0.473595           0.224292      0.344861   \n",
       "2            5   499442.0       0.479125           0.229561      0.349255   \n",
       "3           10   999245.0       0.434289           0.188607      0.315483   \n",
       "4           15  1498685.0       0.436966           0.190939      0.311575   \n",
       "5           21  2098349.0       0.460790           0.212328      0.317598   \n",
       "6           27  2698617.0       0.483816           0.234078      0.377289   \n",
       "7           32  3199046.0       0.435031           0.189252      0.309273   \n",
       "8           36  3598847.0       0.427385           0.182658      0.307923   \n",
       "9           37  3949115.0       0.416845           0.173760      0.303457   \n",
       "10          38  4299383.0       0.416790           0.173714      0.301917   \n",
       "11          39  4649651.0       0.415833           0.172917      0.301946   \n",
       "12          40  4999919.0       0.415331           0.172500      0.299878   \n",
       "13          41  5350187.0       0.415730           0.172832      0.301811   \n",
       "14          42  5700455.0       0.414813           0.172070      0.301114   \n",
       "15          43  6050723.0       0.414156           0.171526      0.300813   \n",
       "16          44  6400991.0       0.414864           0.172112      0.301545   \n",
       "17          45  6751259.0       0.414041           0.171430      0.299571   \n",
       "18          46  7101527.0       0.413539           0.171015      0.300449   \n",
       "19          47  7451795.0       0.413240           0.170767      0.300487   \n",
       "\n",
       "    training_r2  validation_rmse  validation_deviance  validation_mae  \\\n",
       "0           NaN              NaN                  NaN             NaN   \n",
       "1      0.317307         0.475430             0.226034        0.347454   \n",
       "2      0.301269         0.481767             0.232099        0.351324   \n",
       "3      0.425924         0.438293             0.192101        0.318645   \n",
       "4      0.418824         0.441851             0.195233        0.314874   \n",
       "5      0.353723         0.465161             0.216374        0.320481   \n",
       "6      0.287520         0.482648             0.232949        0.377641   \n",
       "7      0.423961         0.440107             0.193694        0.312866   \n",
       "8      0.444032         0.430177             0.185052        0.310515   \n",
       "9      0.471114         0.420429             0.176761        0.306785   \n",
       "10     0.471255         0.420726             0.177011        0.305360   \n",
       "11     0.473679         0.420251             0.176611        0.305808   \n",
       "12     0.474949         0.419767             0.176204        0.303847   \n",
       "13     0.473939         0.419371             0.175872        0.305220   \n",
       "14     0.476258         0.419024             0.175581        0.304988   \n",
       "15     0.477915         0.418609             0.175233        0.304769   \n",
       "16     0.476131         0.418661             0.175277        0.304999   \n",
       "17     0.478207         0.418404             0.175062        0.303188   \n",
       "18     0.479470         0.418248             0.174932        0.304628   \n",
       "19     0.480224         0.418626             0.175248        0.304802   \n",
       "\n",
       "    validation_r2  \n",
       "0             NaN  \n",
       "1        0.323018  \n",
       "2        0.304851  \n",
       "3        0.424649  \n",
       "4        0.415269  \n",
       "5        0.351948  \n",
       "6        0.302306  \n",
       "7        0.419877  \n",
       "8        0.445759  \n",
       "9        0.470593  \n",
       "10       0.469844  \n",
       "11       0.471042  \n",
       "12       0.472260  \n",
       "13       0.473254  \n",
       "14       0.474125  \n",
       "15       0.475168  \n",
       "16       0.475037  \n",
       "17       0.475681  \n",
       "18       0.476071  \n",
       "19       0.475124  "
      ]
     },
     "metadata": {},
     "output_type": "display_data"
    },
    {
     "name": "stdout",
     "output_type": "stream",
     "text": [
      "\n",
      "See the whole table with table.as_data_frame()\n",
      "\n",
      "Variable Importances: \n"
     ]
    },
    {
     "data": {
      "text/html": [
       "<div>\n",
       "<style scoped>\n",
       "    .dataframe tbody tr th:only-of-type {\n",
       "        vertical-align: middle;\n",
       "    }\n",
       "\n",
       "    .dataframe tbody tr th {\n",
       "        vertical-align: top;\n",
       "    }\n",
       "\n",
       "    .dataframe thead th {\n",
       "        text-align: right;\n",
       "    }\n",
       "</style>\n",
       "<table border=\"1\" class=\"dataframe\">\n",
       "  <thead>\n",
       "    <tr style=\"text-align: right;\">\n",
       "      <th></th>\n",
       "      <th>variable</th>\n",
       "      <th>relative_importance</th>\n",
       "      <th>scaled_importance</th>\n",
       "      <th>percentage</th>\n",
       "    </tr>\n",
       "  </thead>\n",
       "  <tbody>\n",
       "    <tr>\n",
       "      <th>0</th>\n",
       "      <td>SELLER_NAME.NORWESTMORTGAGE,INC</td>\n",
       "      <td>1.000000</td>\n",
       "      <td>1.000000</td>\n",
       "      <td>0.014304</td>\n",
       "    </tr>\n",
       "    <tr>\n",
       "      <th>1</th>\n",
       "      <td>SELLER_NAME.CROSSLANDMTGECORP</td>\n",
       "      <td>0.912073</td>\n",
       "      <td>0.912073</td>\n",
       "      <td>0.013046</td>\n",
       "    </tr>\n",
       "    <tr>\n",
       "      <th>2</th>\n",
       "      <td>CHANNEL.R</td>\n",
       "      <td>0.856126</td>\n",
       "      <td>0.856126</td>\n",
       "      <td>0.012246</td>\n",
       "    </tr>\n",
       "    <tr>\n",
       "      <th>3</th>\n",
       "      <td>SELLER_NAME.PNCMTGECORPOFAMERICA</td>\n",
       "      <td>0.833582</td>\n",
       "      <td>0.833582</td>\n",
       "      <td>0.011923</td>\n",
       "    </tr>\n",
       "    <tr>\n",
       "      <th>4</th>\n",
       "      <td>SELLER_NAME.COUNTRYWIDE</td>\n",
       "      <td>0.824922</td>\n",
       "      <td>0.824922</td>\n",
       "      <td>0.011800</td>\n",
       "    </tr>\n",
       "    <tr>\n",
       "      <th>5</th>\n",
       "      <td>SELLER_NAME.OLDKENTMTGECO</td>\n",
       "      <td>0.824168</td>\n",
       "      <td>0.824168</td>\n",
       "      <td>0.011789</td>\n",
       "    </tr>\n",
       "    <tr>\n",
       "      <th>6</th>\n",
       "      <td>SELLER_NAME.FIRST UNION CAPITAL</td>\n",
       "      <td>0.737920</td>\n",
       "      <td>0.737920</td>\n",
       "      <td>0.010555</td>\n",
       "    </tr>\n",
       "    <tr>\n",
       "      <th>7</th>\n",
       "      <td>SERVICER_NAME.ABNAMROMTGEGROUP,INC</td>\n",
       "      <td>0.719728</td>\n",
       "      <td>0.719728</td>\n",
       "      <td>0.010295</td>\n",
       "    </tr>\n",
       "    <tr>\n",
       "      <th>8</th>\n",
       "      <td>SELLER_NAME.FLAGSTARBANK,FSB</td>\n",
       "      <td>0.709444</td>\n",
       "      <td>0.709444</td>\n",
       "      <td>0.010148</td>\n",
       "    </tr>\n",
       "    <tr>\n",
       "      <th>9</th>\n",
       "      <td>SELLER_NAME.Other sellers</td>\n",
       "      <td>0.700602</td>\n",
       "      <td>0.700602</td>\n",
       "      <td>0.010021</td>\n",
       "    </tr>\n",
       "    <tr>\n",
       "      <th>10</th>\n",
       "      <td>SELLER_NAME.STANDARD FEDERAL BAN</td>\n",
       "      <td>0.700266</td>\n",
       "      <td>0.700266</td>\n",
       "      <td>0.010016</td>\n",
       "    </tr>\n",
       "    <tr>\n",
       "      <th>11</th>\n",
       "      <td>LOAN_PURPOSE.N</td>\n",
       "      <td>0.700000</td>\n",
       "      <td>0.700000</td>\n",
       "      <td>0.010013</td>\n",
       "    </tr>\n",
       "    <tr>\n",
       "      <th>12</th>\n",
       "      <td>CHANNEL.T</td>\n",
       "      <td>0.688046</td>\n",
       "      <td>0.688046</td>\n",
       "      <td>0.009842</td>\n",
       "    </tr>\n",
       "    <tr>\n",
       "      <th>13</th>\n",
       "      <td>FIRST_TIME_HOMEBUYER_FLAG.</td>\n",
       "      <td>0.667278</td>\n",
       "      <td>0.667278</td>\n",
       "      <td>0.009545</td>\n",
       "    </tr>\n",
       "    <tr>\n",
       "      <th>14</th>\n",
       "      <td>SELLER_NAME.FIFTHTHIRDBANK</td>\n",
       "      <td>0.664047</td>\n",
       "      <td>0.664047</td>\n",
       "      <td>0.009498</td>\n",
       "    </tr>\n",
       "    <tr>\n",
       "      <th>15</th>\n",
       "      <td>SELLER_NAME.FIRSTHORIZONHOMELOAN</td>\n",
       "      <td>0.663091</td>\n",
       "      <td>0.663091</td>\n",
       "      <td>0.009485</td>\n",
       "    </tr>\n",
       "    <tr>\n",
       "      <th>16</th>\n",
       "      <td>SELLER_NAME.NATLCITYMTGECO</td>\n",
       "      <td>0.653488</td>\n",
       "      <td>0.653488</td>\n",
       "      <td>0.009347</td>\n",
       "    </tr>\n",
       "    <tr>\n",
       "      <th>17</th>\n",
       "      <td>OCCUPANCY_STATUS.I</td>\n",
       "      <td>0.649291</td>\n",
       "      <td>0.649291</td>\n",
       "      <td>0.009287</td>\n",
       "    </tr>\n",
       "    <tr>\n",
       "      <th>18</th>\n",
       "      <td>OCCUPANCY_STATUS.O</td>\n",
       "      <td>0.648064</td>\n",
       "      <td>0.648064</td>\n",
       "      <td>0.009270</td>\n",
       "    </tr>\n",
       "    <tr>\n",
       "      <th>19</th>\n",
       "      <td>SELLER_NAME.ABNAMROMTGEGROUP,INC</td>\n",
       "      <td>0.640946</td>\n",
       "      <td>0.640946</td>\n",
       "      <td>0.009168</td>\n",
       "    </tr>\n",
       "  </tbody>\n",
       "</table>\n",
       "</div>"
      ],
      "text/plain": [
       "                              variable  relative_importance  \\\n",
       "0      SELLER_NAME.NORWESTMORTGAGE,INC             1.000000   \n",
       "1        SELLER_NAME.CROSSLANDMTGECORP             0.912073   \n",
       "2                            CHANNEL.R             0.856126   \n",
       "3     SELLER_NAME.PNCMTGECORPOFAMERICA             0.833582   \n",
       "4              SELLER_NAME.COUNTRYWIDE             0.824922   \n",
       "5            SELLER_NAME.OLDKENTMTGECO             0.824168   \n",
       "6      SELLER_NAME.FIRST UNION CAPITAL             0.737920   \n",
       "7   SERVICER_NAME.ABNAMROMTGEGROUP,INC             0.719728   \n",
       "8         SELLER_NAME.FLAGSTARBANK,FSB             0.709444   \n",
       "9            SELLER_NAME.Other sellers             0.700602   \n",
       "10    SELLER_NAME.STANDARD FEDERAL BAN             0.700266   \n",
       "11                      LOAN_PURPOSE.N             0.700000   \n",
       "12                           CHANNEL.T             0.688046   \n",
       "13          FIRST_TIME_HOMEBUYER_FLAG.             0.667278   \n",
       "14          SELLER_NAME.FIFTHTHIRDBANK             0.664047   \n",
       "15    SELLER_NAME.FIRSTHORIZONHOMELOAN             0.663091   \n",
       "16          SELLER_NAME.NATLCITYMTGECO             0.653488   \n",
       "17                  OCCUPANCY_STATUS.I             0.649291   \n",
       "18                  OCCUPANCY_STATUS.O             0.648064   \n",
       "19    SELLER_NAME.ABNAMROMTGEGROUP,INC             0.640946   \n",
       "\n",
       "    scaled_importance  percentage  \n",
       "0            1.000000    0.014304  \n",
       "1            0.912073    0.013046  \n",
       "2            0.856126    0.012246  \n",
       "3            0.833582    0.011923  \n",
       "4            0.824922    0.011800  \n",
       "5            0.824168    0.011789  \n",
       "6            0.737920    0.010555  \n",
       "7            0.719728    0.010295  \n",
       "8            0.709444    0.010148  \n",
       "9            0.700602    0.010021  \n",
       "10           0.700266    0.010016  \n",
       "11           0.700000    0.010013  \n",
       "12           0.688046    0.009842  \n",
       "13           0.667278    0.009545  \n",
       "14           0.664047    0.009498  \n",
       "15           0.663091    0.009485  \n",
       "16           0.653488    0.009347  \n",
       "17           0.649291    0.009287  \n",
       "18           0.648064    0.009270  \n",
       "19           0.640946    0.009168  "
      ]
     },
     "metadata": {},
     "output_type": "display_data"
    },
    {
     "name": "stdout",
     "output_type": "stream",
     "text": [
      "\n",
      "See the whole table with table.as_data_frame()\n"
     ]
    },
    {
     "data": {
      "text/plain": []
     },
     "execution_count": 41,
     "metadata": {},
     "output_type": "execute_result"
    }
   ],
   "source": [
    "dl_checkpoint"
   ]
  },
  {
   "cell_type": "markdown",
   "metadata": {},
   "source": [
    "As you can see in the image above, the RMSE and MAE slightly decreased, meaning that by increasing the number of epochs, we were able to improve the performance of our model.\n",
    "\n",
    "You can also tune a Deep Learning model in Flow, and you would do it in the same way we did with the XGBoost. Give it a try on your own, using the parameters that we found, do a local search with them. For example, since we found the rate to be 0.0015, you could do a grid search where you use the values 0.0010; 0.0012; 0.0017; 0.0019;\n",
    "Try to do the same with some of the other parameters that we found and see if you can get better results. Once you are done with Flow, go back to your Jupyter Notebook.\n",
    "\n",
    "Let's see how our default model performance compares to the tuned one."
   ]
  },
  {
   "cell_type": "code",
   "execution_count": 42,
   "metadata": {},
   "outputs": [],
   "source": [
    "tuned_dl_per = dl_checkpoint.model_performance(valid)"
   ]
  },
  {
   "cell_type": "code",
   "execution_count": 43,
   "metadata": {},
   "outputs": [
    {
     "name": "stdout",
     "output_type": "stream",
     "text": [
      "\n",
      "ModelMetricsRegression: deeplearning\n",
      "** Reported on test data. **\n",
      "\n",
      "MSE: 0.17369076195434607\n",
      "RMSE: 0.4167622367181869\n",
      "MAE: 0.3025638227638908\n",
      "RMSLE: 0.04940479384357021\n",
      "Mean Residual Deviance: 0.17369076195434607\n"
     ]
    },
    {
     "data": {
      "text/plain": []
     },
     "execution_count": 43,
     "metadata": {},
     "output_type": "execute_result"
    }
   ],
   "source": [
    "tuned_dl_per"
   ]
  },
  {
   "cell_type": "markdown",
   "metadata": {},
   "source": [
    "##### Check both RMSE and MAE"
   ]
  },
  {
   "cell_type": "code",
   "execution_count": 44,
   "metadata": {},
   "outputs": [
    {
     "name": "stdout",
     "output_type": "stream",
     "text": [
      "Default DL Model RMSE: 0.4426 \n",
      "Tuned DL Model RMSE:0.4168\n"
     ]
    }
   ],
   "source": [
    "print(\"Default DL Model RMSE: %.4f \\nTuned DL Model RMSE:%.4f\" % (default_dl_per.rmse(), tuned_dl_per.rmse()))"
   ]
  },
  {
   "cell_type": "code",
   "execution_count": 45,
   "metadata": {},
   "outputs": [
    {
     "name": "stdout",
     "output_type": "stream",
     "text": [
      "Default DL Model MAE: 0.3182 \n",
      "Tuned DL Model MAE:0.3026\n"
     ]
    }
   ],
   "source": [
    "print(\"Default DL Model MAE: %.4f \\nTuned DL Model MAE:%.4f\" % (default_dl_per.mae(), tuned_dl_per.mae()))"
   ]
  },
  {
   "cell_type": "markdown",
   "metadata": {},
   "source": [
    "As we can see, both scores improved with the grid searches that we did. In fact, our deep learning model had the greatest improvement out of the two models we tuned; however, the XGBoost still performed slightly better than the Deep Learning model.\n",
    "\n",
    "We will now see how our models perform on the test set."
   ]
  },
  {
   "cell_type": "markdown",
   "metadata": {},
   "source": [
    "\n",
    "\n"
   ]
  },
  {
   "cell_type": "markdown",
   "metadata": {},
   "source": [
    "## 6. Evaludate Test Set Performance"
   ]
  },
  {
   "cell_type": "markdown",
   "metadata": {},
   "source": [
    "Now that we have done some tuning for our models, we will see how the models would perform on unseen data. Let's first print the final RMSE for both models. To do so, we need to evaluate the performance of our models on the test set."
   ]
  },
  {
   "cell_type": "code",
   "execution_count": 46,
   "metadata": {},
   "outputs": [],
   "source": [
    "dl_test_per = dl_checkpoint.model_performance(test)"
   ]
  },
  {
   "cell_type": "code",
   "execution_count": null,
   "metadata": {},
   "outputs": [],
   "source": [
    "xgb_test_per = best_xgb_model.model_performance(test)"
   ]
  },
  {
   "cell_type": "markdown",
   "metadata": {},
   "source": [
    "##### Check both RMSE and MAE"
   ]
  },
  {
   "cell_type": "code",
   "execution_count": 48,
   "metadata": {},
   "outputs": [
    {
     "name": "stdout",
     "output_type": "stream",
     "text": [
      "nDeep Learning model Test MAE: 0.3036 \n"
     ]
    }
   ],
   "source": [
    "print(\"nDeep Learning model Test MAE: %.4f \" % \n",
    "      (dl_test_per.mae()))"
   ]
  },
  {
   "cell_type": "code",
   "execution_count": 52,
   "metadata": {},
   "outputs": [
    {
     "name": "stdout",
     "output_type": "stream",
     "text": [
      "Deep Learning Model Test RMSE: 0.4195 \n"
     ]
    }
   ],
   "source": [
    "print(\"Deep Learning Model Test RMSE: %.4f \" % \n",
    "      (dl_test_per.rmse()))"
   ]
  },
  {
   "cell_type": "code",
   "execution_count": null,
   "metadata": {},
   "outputs": [],
   "source": [
    "print(\"XGBoost Test RMSE: %.4f  \\nDeep Learning Model Test RMSE: %.4f \" % \n",
    "      (xgb_test_per.rmse(), dl_test_per.rmse()))"
   ]
  },
  {
   "cell_type": "markdown",
   "metadata": {},
   "source": [
    "The test RMSE for both models is very close to the validation results, which means that our validation set cross-validation approach worked well. As we mentioned before, the RMSE score adds more penalty to larger errors. Based on the RMSE, on average, the tuned models' predictions on the test set are about 0.41 off.\n",
    "\n",
    "In terms of test MAE, we see that the predictions of the interest rate are 0.3 off from the actual values, which is a good indication that the model is making good predictions for the interest rate. Let's see some of the predictions for both models."
   ]
  },
  {
   "cell_type": "markdown",
   "metadata": {},
   "source": [
    "##### We will take a look at the first ten predictions of both models, compared to the actual interest value."
   ]
  },
  {
   "cell_type": "code",
   "execution_count": null,
   "metadata": {},
   "outputs": [],
   "source": [
    "xgb_tuned_pred = best_xgb_model.predict(test) #get predictions from xgboost\n",
    "test_rate_pred=test['ORIGINAL_INTEREST_RATE'].cbind(xgb_tuned_pred)#combined xgb predictions with actual interest rate"
   ]
  },
  {
   "cell_type": "code",
   "execution_count": null,
   "metadata": {},
   "outputs": [],
   "source": []
  },
  {
   "cell_type": "code",
   "execution_count": 54,
   "metadata": {},
   "outputs": [
    {
     "name": "stdout",
     "output_type": "stream",
     "text": [
      "deeplearning prediction progress: |███████████████████████████████████████| 100%\n"
     ]
    },
    {
     "data": {
      "text/html": [
       "<table>\n",
       "<thead>\n",
       "<tr><th style=\"text-align: right;\">  ORIGINAL_INTEREST_RATE</th><th style=\"text-align: right;\">  predict</th><th style=\"text-align: right;\">  predict0</th></tr>\n",
       "</thead>\n",
       "<tbody>\n",
       "<tr><td style=\"text-align: right;\">                   6    </td><td style=\"text-align: right;\">  6.53058</td><td style=\"text-align: right;\">   6.53058</td></tr>\n",
       "<tr><td style=\"text-align: right;\">                   6    </td><td style=\"text-align: right;\">  6.17022</td><td style=\"text-align: right;\">   6.17022</td></tr>\n",
       "<tr><td style=\"text-align: right;\">                   7.25 </td><td style=\"text-align: right;\">  6.97823</td><td style=\"text-align: right;\">   6.97823</td></tr>\n",
       "<tr><td style=\"text-align: right;\">                   7.125</td><td style=\"text-align: right;\">  7.03079</td><td style=\"text-align: right;\">   7.03079</td></tr>\n",
       "<tr><td style=\"text-align: right;\">                   7.125</td><td style=\"text-align: right;\">  7.17262</td><td style=\"text-align: right;\">   7.17262</td></tr>\n",
       "<tr><td style=\"text-align: right;\">                   7.75 </td><td style=\"text-align: right;\">  7.03528</td><td style=\"text-align: right;\">   7.03528</td></tr>\n",
       "<tr><td style=\"text-align: right;\">                   6.99 </td><td style=\"text-align: right;\">  6.79611</td><td style=\"text-align: right;\">   6.79611</td></tr>\n",
       "<tr><td style=\"text-align: right;\">                   7.125</td><td style=\"text-align: right;\">  7.18585</td><td style=\"text-align: right;\">   7.18585</td></tr>\n",
       "<tr><td style=\"text-align: right;\">                   7.25 </td><td style=\"text-align: right;\">  7.04871</td><td style=\"text-align: right;\">   7.04871</td></tr>\n",
       "<tr><td style=\"text-align: right;\">                   7.125</td><td style=\"text-align: right;\">  6.88045</td><td style=\"text-align: right;\">   6.88045</td></tr>\n",
       "</tbody>\n",
       "</table>"
      ]
     },
     "metadata": {},
     "output_type": "display_data"
    },
    {
     "data": {
      "text/plain": []
     },
     "execution_count": 54,
     "metadata": {},
     "output_type": "execute_result"
    }
   ],
   "source": [
    "dl_tuned_pred = dl_checkpoint.predict(test)#get predictions from Deep Learning Model\n",
    "test_rate_pred=test['ORIGINAL_INTEREST_RATE'].cbind(dl_tuned_pred)#combined deeplearning predictions with actual interest rate\n",
    "test_rate_pred.cbind(dl_tuned_pred)"
   ]
  },
  {
   "cell_type": "markdown",
   "metadata": {},
   "source": [
    "Please note that the predict column has the predictions for the XGBoost model, and the predict0 column has the predictions for the Deep Learning model. As we can see in the image above, both predictions are close to the actual values. Although there might be some predictions that might be very off, the RMSE and MAE proved to us that both models make good predictions."
   ]
  },
  {
   "cell_type": "markdown",
   "metadata": {},
   "source": []
  },
  {
   "cell_type": "markdown",
   "metadata": {},
   "source": [
    "## 7. Shutdown the cluster"
   ]
  },
  {
   "cell_type": "code",
   "execution_count": 55,
   "metadata": {},
   "outputs": [
    {
     "name": "stdout",
     "output_type": "stream",
     "text": [
      "H2O session _sid_88f3 closed.\n"
     ]
    }
   ],
   "source": [
    "h2o.cluster().shutdown()"
   ]
  },
  {
   "cell_type": "code",
   "execution_count": null,
   "metadata": {},
   "outputs": [],
   "source": []
  }
 ],
 "metadata": {
  "kernelspec": {
   "display_name": "Python 3",
   "language": "python",
   "name": "python3"
  },
  "language_info": {
   "codemirror_mode": {
    "name": "ipython",
    "version": 3
   },
   "file_extension": ".py",
   "mimetype": "text/x-python",
   "name": "python",
   "nbconvert_exporter": "python",
   "pygments_lexer": "ipython3",
   "version": "3.7.6"
  }
 },
 "nbformat": 4,
 "nbformat_minor": 4
}
