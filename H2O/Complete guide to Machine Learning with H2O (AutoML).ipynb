{
 "cells": [
  {
   "cell_type": "markdown",
   "metadata": {},
   "source": [
    "# Complete guide to Machine Learning with H2O (AutoML)"
   ]
  },
  {
   "cell_type": "markdown",
   "metadata": {},
   "source": [
    "In this notebook, we use the subset of the loan-level dataset from Fannie Mae and Freddie Mac. Firstly, we will solve a binary classification problem (predicting if a loan is delinquent or not). Then, we will explore a regression use-case (predicting interest rates on the same dataset). We will try to do both use-cases using Automatic Machine Learning (AutoML), and we will do so using the H2O-3 Python module in a Jupyter Notebook and also in Flow."
   ]
  },
  {
   "cell_type": "markdown",
   "metadata": {},
   "source": [
    "We will use H2O AutoML to make below predictions:\n",
    "\n",
    "- Predict whether a mortgage loan will be delinquent or not\n",
    "- Predict the interest rate for each loan"
   ]
  },
  {
   "cell_type": "markdown",
   "metadata": {},
   "source": [
    "## AutoML Concepts\n",
    "\n",
    "### AutoML\n",
    "Choosing the best machine learning models and tuning them can be time consuming and exhaustive. Often, it requires levels of expertise to know what parameters to tune. The field of AutoML focuses on solving this issue. AutoML is useful both for experts, by automating the process of choosing and tuning a model; and for non-experts as well, by helping them to create high performing models in a short time frame. Some of the aspects of machine learning that can be automated include data preparation, which can include imputation, one-hot encoding, feature selection/extraction, and also feature engineering. Another aspect that can be automated is the model generation, which includes training a model and tuning it with cartesian or random grid search. Lastly, a third aspect that could be using ensembles, as they usually outperform individual models.\n",
    "\n",
    "H2O AutoML is an automated algorithm for automating the machine learning workflow, which includes some light data preparation such as imputing missing data, standardization of numeric features, and one-hot encoding categorical features. It also provides automatic training, hyper-parameter optimization, model search, and selection under time, space, and resource constraints. H2O's AutoML further optimizes model performance by stacking an ensemble of models. H2O AutoML trains one stacked ensemble based on all previously trained models and another one on the best model of each family.\n",
    "\n",
    "The current version of AutoML trains and cross-validates the following model: GLMs, a Random Forest, an Extremely-Randomized Forest, a random grid of Gradient Boosting Machines (GBMs), XGBoosts, a random grid of Deep Neural Nets, and a Stacked Ensemble of all the models. If you would like to know more details about the models trained by AutoML, please visit Which models are trained in the AutoML process? under the FAQ of the AutoML Documentation section.\n",
    "To see how H2O AutoML performs compared to other AutoML algorithms, please look at An Open Source AutoML Benchmark\n",
    "\n",
    "### Stacked Ensembles\n",
    "Ensemble machine learning methods use multiple learning algorithms to obtain better predictive performance than the ones that could be obtained from any of the constituent learning algorithms. Many of the popular modern machine learning algorithms are actually ensembles. For example, Random Forest and Gradient Boosting Machine (GBM) are both ensemble learners. Both bagging (e.g., Random Forest) and boosting (e.g., GBM) are methods for ensembling that take a collection of weak learners (e.g., decision tree) and form a single, strong learner.\n",
    "\n",
    "H2O's Stacked Ensemble method is a supervised ensemble machine learning algorithm that finds the optimal combination of a collection of prediction algorithms using a process called stacking. Like all supervised models in H2O, Stacked Ensemble supports regression, binary classification, and multiclass classification. If you would like to know more, make sure to check the Stacked Ensemble Section in the H2O-3 Documentation."
   ]
  },
  {
   "cell_type": "code",
   "execution_count": 2,
   "metadata": {},
   "outputs": [],
   "source": [
    "import h2o\n",
    "import matplotlib as plt\n",
    "%matplotlib inline\n",
    "from h2o.automl import H2OAutoML"
   ]
  },
  {
   "cell_type": "code",
   "execution_count": 3,
   "metadata": {},
   "outputs": [],
   "source": [
    "import os\n",
    "import h2o\n",
    "\n",
    "startup  = '/home/h2o/bin/aquarium_startup'\n",
    "shutdown = '/home/h2o/bin/aquarium_stop'\n",
    "\n",
    "if os.path.exists(startup):\n",
    "    os.system(startup)\n",
    "    local_url = 'http://localhost:54321/h2o'\n",
    "    aquarium = True\n",
    "else:\n",
    "    local_url = 'http://localhost:54321'\n",
    "    aquarium = False"
   ]
  },
  {
   "cell_type": "code",
   "execution_count": 4,
   "metadata": {},
   "outputs": [
    {
     "name": "stdout",
     "output_type": "stream",
     "text": [
      "Checking whether there is an H2O instance running at http://localhost:54321 ..... not found.\n",
      "Attempting to start a local H2O server...\n",
      "; Java HotSpot(TM) 64-Bit Server VM (build 25.251-b08, mixed mode)\n",
      "  Starting server from c:\\users\\bokhy\\appdata\\local\\programs\\python\\python37\\lib\\site-packages\\h2o\\backend\\bin\\h2o.jar\n",
      "  Ice root: C:\\Users\\bokhy\\AppData\\Local\\Temp\\tmp9syxelmf\n",
      "  JVM stdout: C:\\Users\\bokhy\\AppData\\Local\\Temp\\tmp9syxelmf\\h2o_bokhy_started_from_python.out\n",
      "  JVM stderr: C:\\Users\\bokhy\\AppData\\Local\\Temp\\tmp9syxelmf\\h2o_bokhy_started_from_python.err\n",
      "  Server is running at http://127.0.0.1:54321\n",
      "Connecting to H2O server at http://127.0.0.1:54321 ... successful.\n"
     ]
    },
    {
     "data": {
      "text/html": [
       "<div style=\"overflow:auto\"><table style=\"width:50%\"><tr><td>H2O_cluster_uptime:</td>\n",
       "<td>02 secs</td></tr>\n",
       "<tr><td>H2O_cluster_timezone:</td>\n",
       "<td>America/Los_Angeles</td></tr>\n",
       "<tr><td>H2O_data_parsing_timezone:</td>\n",
       "<td>UTC</td></tr>\n",
       "<tr><td>H2O_cluster_version:</td>\n",
       "<td>3.30.1.1</td></tr>\n",
       "<tr><td>H2O_cluster_version_age:</td>\n",
       "<td>1 day </td></tr>\n",
       "<tr><td>H2O_cluster_name:</td>\n",
       "<td>H2O_from_python_bokhy_ughxpn</td></tr>\n",
       "<tr><td>H2O_cluster_total_nodes:</td>\n",
       "<td>1</td></tr>\n",
       "<tr><td>H2O_cluster_free_memory:</td>\n",
       "<td>3.524 Gb</td></tr>\n",
       "<tr><td>H2O_cluster_total_cores:</td>\n",
       "<td>8</td></tr>\n",
       "<tr><td>H2O_cluster_allowed_cores:</td>\n",
       "<td>8</td></tr>\n",
       "<tr><td>H2O_cluster_status:</td>\n",
       "<td>accepting new members, healthy</td></tr>\n",
       "<tr><td>H2O_connection_url:</td>\n",
       "<td>http://127.0.0.1:54321</td></tr>\n",
       "<tr><td>H2O_connection_proxy:</td>\n",
       "<td>{\"http\": null, \"https\": null}</td></tr>\n",
       "<tr><td>H2O_internal_security:</td>\n",
       "<td>False</td></tr>\n",
       "<tr><td>H2O_API_Extensions:</td>\n",
       "<td>Amazon S3, Algos, AutoML, Core V3, TargetEncoder, Core V4</td></tr>\n",
       "<tr><td>Python_version:</td>\n",
       "<td>3.7.6 final</td></tr></table></div>"
      ],
      "text/plain": [
       "--------------------------  ---------------------------------------------------------\n",
       "H2O_cluster_uptime:         02 secs\n",
       "H2O_cluster_timezone:       America/Los_Angeles\n",
       "H2O_data_parsing_timezone:  UTC\n",
       "H2O_cluster_version:        3.30.1.1\n",
       "H2O_cluster_version_age:    1 day\n",
       "H2O_cluster_name:           H2O_from_python_bokhy_ughxpn\n",
       "H2O_cluster_total_nodes:    1\n",
       "H2O_cluster_free_memory:    3.524 Gb\n",
       "H2O_cluster_total_cores:    8\n",
       "H2O_cluster_allowed_cores:  8\n",
       "H2O_cluster_status:         accepting new members, healthy\n",
       "H2O_connection_url:         http://127.0.0.1:54321\n",
       "H2O_connection_proxy:       {\"http\": null, \"https\": null}\n",
       "H2O_internal_security:      False\n",
       "H2O_API_Extensions:         Amazon S3, Algos, AutoML, Core V3, TargetEncoder, Core V4\n",
       "Python_version:             3.7.6 final\n",
       "--------------------------  ---------------------------------------------------------"
      ]
     },
     "metadata": {},
     "output_type": "display_data"
    }
   ],
   "source": [
    "h2o.init(url=local_url)"
   ]
  },
  {
   "cell_type": "markdown",
   "metadata": {},
   "source": [
    "### 1. Let's import the dataset."
   ]
  },
  {
   "cell_type": "code",
   "execution_count": 5,
   "metadata": {},
   "outputs": [
    {
     "name": "stdout",
     "output_type": "stream",
     "text": [
      "Parse progress: |█████████████████████████████████████████████████████████| 100%\n"
     ]
    }
   ],
   "source": [
    "loan_level = h2o.import_file(\"https://s3.amazonaws.com/data.h2o.ai/H2O-3-Tutorials/loan_level_50k.csv\")"
   ]
  },
  {
   "cell_type": "code",
   "execution_count": 7,
   "metadata": {},
   "outputs": [
    {
     "data": {
      "text/html": [
       "<table>\n",
       "<thead>\n",
       "<tr><th style=\"text-align: right;\">  CREDIT_SCORE</th><th style=\"text-align: right;\">  FIRST_PAYMENT_DATE</th><th>FIRST_TIME_HOMEBUYER_FLAG  </th><th style=\"text-align: right;\">  MATURITY_DATE</th><th style=\"text-align: right;\">  METROPOLITAN_STATISTICAL_AREA</th><th style=\"text-align: right;\">  MORTGAGE_INSURANCE_PERCENTAGE</th><th style=\"text-align: right;\">  NUMBER_OF_UNITS</th><th>OCCUPANCY_STATUS  </th><th style=\"text-align: right;\">  ORIGINAL_COMBINED_LOAN_TO_VALUE</th><th style=\"text-align: right;\">  ORIGINAL_DEBT_TO_INCOME_RATIO</th><th style=\"text-align: right;\">  ORIGINAL_UPB</th><th style=\"text-align: right;\">  ORIGINAL_LOAN_TO_VALUE</th><th style=\"text-align: right;\">  ORIGINAL_INTEREST_RATE</th><th>CHANNEL  </th><th>PREPAYMENT_PENALTY_MORTGAGE_FLAG  </th><th>PRODUCT_TYPE  </th><th>PROPERTY_STATE  </th><th>PROPERTY_TYPE  </th><th style=\"text-align: right;\">  POSTAL_CODE</th><th>LOAN_SEQUENCE_NUMBER  </th><th>LOAN_PURPOSE  </th><th style=\"text-align: right;\">  ORIGINAL_LOAN_TERM</th><th style=\"text-align: right;\">  NUMBER_OF_BORROWERS</th><th>SELLER_NAME         </th><th>SERVICER_NAME       </th><th>PREPAID  </th><th>DELINQUENT  </th></tr>\n",
       "</thead>\n",
       "<tbody>\n",
       "<tr><td style=\"text-align: right;\">           707</td><td style=\"text-align: right;\">              200211</td><td>N                          </td><td style=\"text-align: right;\">         202903</td><td style=\"text-align: right;\">                          33340</td><td style=\"text-align: right;\">                              0</td><td style=\"text-align: right;\">                1</td><td>O                 </td><td style=\"text-align: right;\">                               60</td><td style=\"text-align: right;\">                             57</td><td style=\"text-align: right;\">        136000</td><td style=\"text-align: right;\">                      60</td><td style=\"text-align: right;\">                   6.25 </td><td>R        </td><td>N                                 </td><td>FRM           </td><td>WI              </td><td>SF             </td><td style=\"text-align: right;\">        53000</td><td>F199Q1000018          </td><td>C             </td><td style=\"text-align: right;\">                 317</td><td style=\"text-align: right;\">                    2</td><td>Other sellers       </td><td>Other servicers     </td><td>TRUE     </td><td>FALSE       </td></tr>\n",
       "<tr><td style=\"text-align: right;\">           691</td><td style=\"text-align: right;\">              200302</td><td>N                          </td><td style=\"text-align: right;\">         202901</td><td style=\"text-align: right;\">                          15940</td><td style=\"text-align: right;\">                              0</td><td style=\"text-align: right;\">                1</td><td>O                 </td><td style=\"text-align: right;\">                               65</td><td style=\"text-align: right;\">                             25</td><td style=\"text-align: right;\">        130000</td><td style=\"text-align: right;\">                      65</td><td style=\"text-align: right;\">                   5.875</td><td>R        </td><td>N                                 </td><td>FRM           </td><td>OH              </td><td>SF             </td><td style=\"text-align: right;\">        44700</td><td>F199Q1000023          </td><td>P             </td><td style=\"text-align: right;\">                 312</td><td style=\"text-align: right;\">                    2</td><td>Other sellers       </td><td>Other servicers     </td><td>TRUE     </td><td>FALSE       </td></tr>\n",
       "<tr><td style=\"text-align: right;\">           730</td><td style=\"text-align: right;\">              199903</td><td>N                          </td><td style=\"text-align: right;\">         202902</td><td style=\"text-align: right;\">                          16620</td><td style=\"text-align: right;\">                             30</td><td style=\"text-align: right;\">                1</td><td>O                 </td><td style=\"text-align: right;\">                               94</td><td style=\"text-align: right;\">                             29</td><td style=\"text-align: right;\">        138000</td><td style=\"text-align: right;\">                      94</td><td style=\"text-align: right;\">                   7    </td><td>T        </td><td>N                                 </td><td>FRM           </td><td>WV              </td><td>SF             </td><td style=\"text-align: right;\">        25300</td><td>F199Q1000037          </td><td>P             </td><td style=\"text-align: right;\">                 360</td><td style=\"text-align: right;\">                    2</td><td>Other sellers       </td><td>Other servicers     </td><td>TRUE     </td><td>FALSE       </td></tr>\n",
       "<tr><td style=\"text-align: right;\">           638</td><td style=\"text-align: right;\">              199905</td><td>N                          </td><td style=\"text-align: right;\">         202904</td><td style=\"text-align: right;\">                          42020</td><td style=\"text-align: right;\">                            nan</td><td style=\"text-align: right;\">                1</td><td>O                 </td><td style=\"text-align: right;\">                               67</td><td style=\"text-align: right;\">                             28</td><td style=\"text-align: right;\">        160000</td><td style=\"text-align: right;\">                      67</td><td style=\"text-align: right;\">                   7.375</td><td>T        </td><td>N                                 </td><td>FRM           </td><td>CA              </td><td>SF             </td><td style=\"text-align: right;\">        93400</td><td>F199Q1000067          </td><td>N             </td><td style=\"text-align: right;\">                 360</td><td style=\"text-align: right;\">                    2</td><td>CROSSLAND MORTGAGE C</td><td>CHASEMTGECO         </td><td>TRUE     </td><td>FALSE       </td></tr>\n",
       "<tr><td style=\"text-align: right;\">           577</td><td style=\"text-align: right;\">              199903</td><td>N                          </td><td style=\"text-align: right;\">         202902</td><td style=\"text-align: right;\">                          12580</td><td style=\"text-align: right;\">                             12</td><td style=\"text-align: right;\">                1</td><td>O                 </td><td style=\"text-align: right;\">                               80</td><td style=\"text-align: right;\">                             53</td><td style=\"text-align: right;\">         43000</td><td style=\"text-align: right;\">                      80</td><td style=\"text-align: right;\">                   7.25 </td><td>T        </td><td>N                                 </td><td>FRM           </td><td>MD              </td><td>SF             </td><td style=\"text-align: right;\">        21200</td><td>F199Q1000086          </td><td>N             </td><td style=\"text-align: right;\">                 360</td><td style=\"text-align: right;\">                    1</td><td>ACCUBANC MORTGAGE CO</td><td>GMACMTGECORP        </td><td>FALSE    </td><td>TRUE        </td></tr>\n",
       "<tr><td style=\"text-align: right;\">           693</td><td style=\"text-align: right;\">              199905</td><td>N                          </td><td style=\"text-align: right;\">         202904</td><td style=\"text-align: right;\">                            nan</td><td style=\"text-align: right;\">                            nan</td><td style=\"text-align: right;\">                1</td><td>O                 </td><td style=\"text-align: right;\">                               80</td><td style=\"text-align: right;\">                             43</td><td style=\"text-align: right;\">         93000</td><td style=\"text-align: right;\">                      80</td><td style=\"text-align: right;\">                   7.125</td><td>R        </td><td>N                                 </td><td>FRM           </td><td>SD              </td><td>SF             </td><td style=\"text-align: right;\">        57500</td><td>F199Q1000104          </td><td>P             </td><td style=\"text-align: right;\">                 360</td><td style=\"text-align: right;\">                    1</td><td>NORWEST MORTGAGE, IN</td><td>WELLSFARGOHOMEMORTGA</td><td>TRUE     </td><td>FALSE       </td></tr>\n",
       "<tr><td style=\"text-align: right;\">           739</td><td style=\"text-align: right;\">              199905</td><td>                           </td><td style=\"text-align: right;\">         202904</td><td style=\"text-align: right;\">                          16700</td><td style=\"text-align: right;\">                            nan</td><td style=\"text-align: right;\">                1</td><td>S                 </td><td style=\"text-align: right;\">                               80</td><td style=\"text-align: right;\">                             25</td><td style=\"text-align: right;\">        200000</td><td style=\"text-align: right;\">                      80</td><td style=\"text-align: right;\">                   6.875</td><td>R        </td><td>N                                 </td><td>FRM           </td><td>SC              </td><td>CO             </td><td style=\"text-align: right;\">        29400</td><td>F199Q1000107          </td><td>P             </td><td style=\"text-align: right;\">                 360</td><td style=\"text-align: right;\">                    2</td><td>NORWEST MORTGAGE, IN</td><td>WELLSFARGOHOMEMORTGA</td><td>TRUE     </td><td>FALSE       </td></tr>\n",
       "<tr><td style=\"text-align: right;\">           695</td><td style=\"text-align: right;\">              199905</td><td>                           </td><td style=\"text-align: right;\">         202904</td><td style=\"text-align: right;\">                          42044</td><td style=\"text-align: right;\">                              0</td><td style=\"text-align: right;\">                1</td><td>O                 </td><td style=\"text-align: right;\">                               40</td><td style=\"text-align: right;\">                              6</td><td style=\"text-align: right;\">        135000</td><td style=\"text-align: right;\">                      40</td><td style=\"text-align: right;\">                   6.875</td><td>R        </td><td>N                                 </td><td>FRM           </td><td>CA              </td><td>SF             </td><td style=\"text-align: right;\">        92800</td><td>F199Q1000121          </td><td>C             </td><td style=\"text-align: right;\">                 360</td><td style=\"text-align: right;\">                    2</td><td>NATIONSBANC MORTGAGE</td><td>BAMORTGAGE,LLC      </td><td>TRUE     </td><td>FALSE       </td></tr>\n",
       "<tr><td style=\"text-align: right;\">           753</td><td style=\"text-align: right;\">              199905</td><td>N                          </td><td style=\"text-align: right;\">         202904</td><td style=\"text-align: right;\">                          41740</td><td style=\"text-align: right;\">                              0</td><td style=\"text-align: right;\">                1</td><td>O                 </td><td style=\"text-align: right;\">                               80</td><td style=\"text-align: right;\">                             17</td><td style=\"text-align: right;\">         59000</td><td style=\"text-align: right;\">                      80</td><td style=\"text-align: right;\">                   7    </td><td>R        </td><td>N                                 </td><td>FRM           </td><td>CA              </td><td>CO             </td><td style=\"text-align: right;\">        92000</td><td>F199Q1000122          </td><td>P             </td><td style=\"text-align: right;\">                 360</td><td style=\"text-align: right;\">                    1</td><td>NATIONSBANC MORTGAGE</td><td>BAMORTGAGE,LLC      </td><td>TRUE     </td><td>FALSE       </td></tr>\n",
       "<tr><td style=\"text-align: right;\">           712</td><td style=\"text-align: right;\">              199905</td><td>                           </td><td style=\"text-align: right;\">         202904</td><td style=\"text-align: right;\">                            nan</td><td style=\"text-align: right;\">                            nan</td><td style=\"text-align: right;\">                1</td><td>O                 </td><td style=\"text-align: right;\">                               80</td><td style=\"text-align: right;\">                             28</td><td style=\"text-align: right;\">        126000</td><td style=\"text-align: right;\">                      80</td><td style=\"text-align: right;\">                   7.125</td><td>R        </td><td>N                                 </td><td>FRM           </td><td>MI              </td><td>SF             </td><td style=\"text-align: right;\">        48800</td><td>F199Q1000123          </td><td>N             </td><td style=\"text-align: right;\">                 360</td><td style=\"text-align: right;\">                    2</td><td>Other sellers       </td><td>Other servicers     </td><td>TRUE     </td><td>FALSE       </td></tr>\n",
       "</tbody>\n",
       "</table>"
      ]
     },
     "metadata": {},
     "output_type": "display_data"
    },
    {
     "data": {
      "text/plain": []
     },
     "execution_count": 7,
     "metadata": {},
     "output_type": "execute_result"
    }
   ],
   "source": [
    "loan_level.head()"
   ]
  },
  {
   "cell_type": "code",
   "execution_count": 8,
   "metadata": {},
   "outputs": [
    {
     "name": "stdout",
     "output_type": "stream",
     "text": [
      "Rows:49930\n",
      "Cols:27\n",
      "\n",
      "\n"
     ]
    },
    {
     "data": {
      "text/html": [
       "<table>\n",
       "<thead>\n",
       "<tr><th>       </th><th>CREDIT_SCORE     </th><th>FIRST_PAYMENT_DATE  </th><th>FIRST_TIME_HOMEBUYER_FLAG  </th><th>MATURITY_DATE     </th><th>METROPOLITAN_STATISTICAL_AREA  </th><th>MORTGAGE_INSURANCE_PERCENTAGE  </th><th>NUMBER_OF_UNITS   </th><th>OCCUPANCY_STATUS  </th><th>ORIGINAL_COMBINED_LOAN_TO_VALUE  </th><th>ORIGINAL_DEBT_TO_INCOME_RATIO  </th><th>ORIGINAL_UPB      </th><th>ORIGINAL_LOAN_TO_VALUE  </th><th>ORIGINAL_INTEREST_RATE  </th><th>CHANNEL  </th><th>PREPAYMENT_PENALTY_MORTGAGE_FLAG  </th><th>PRODUCT_TYPE  </th><th>PROPERTY_STATE  </th><th>PROPERTY_TYPE  </th><th>POSTAL_CODE       </th><th>LOAN_SEQUENCE_NUMBER  </th><th>LOAN_PURPOSE  </th><th>ORIGINAL_LOAN_TERM  </th><th>NUMBER_OF_BORROWERS  </th><th>SELLER_NAME         </th><th>SERVICER_NAME       </th><th>PREPAID  </th><th>DELINQUENT  </th></tr>\n",
       "</thead>\n",
       "<tbody>\n",
       "<tr><td>type   </td><td>int              </td><td>int                 </td><td>enum                       </td><td>int               </td><td>int                            </td><td>int                            </td><td>int               </td><td>enum              </td><td>int                              </td><td>int                            </td><td>int               </td><td>int                     </td><td>real                    </td><td>enum     </td><td>enum                              </td><td>enum          </td><td>enum            </td><td>enum           </td><td>int               </td><td>string                </td><td>enum          </td><td>int                 </td><td>int                  </td><td>enum                </td><td>enum                </td><td>enum     </td><td>enum        </td></tr>\n",
       "<tr><td>mins   </td><td>300.0            </td><td>199902.0            </td><td>                           </td><td>202404.0          </td><td>10180.0                        </td><td>0.0                            </td><td>1.0               </td><td>                  </td><td>6.0                              </td><td>1.0                            </td><td>10000.0           </td><td>6.0                     </td><td>5.0                     </td><td>         </td><td>                                  </td><td>              </td><td>                </td><td>               </td><td>600.0             </td><td>NaN                   </td><td>              </td><td>301.0               </td><td>1.0                  </td><td>                    </td><td>                    </td><td>         </td><td>            </td></tr>\n",
       "<tr><td>mean   </td><td>712.306600068478 </td><td>200025.6742239135   </td><td>                           </td><td>203023.3970759063 </td><td>30705.25866529918              </td><td>7.719609503855925              </td><td>1.0281994792709794</td><td>                  </td><td>76.08864765261977                </td><td>32.83933763635988              </td><td>136369.67754856797</td><td>75.74523823829837       </td><td>7.185977708792309       </td><td>         </td><td>                                  </td><td>              </td><td>                </td><td>               </td><td>55401.43412250129 </td><td>NaN                   </td><td>              </td><td>359.8508311636291   </td><td>1.629450778447913    </td><td>                    </td><td>                    </td><td>         </td><td>            </td></tr>\n",
       "<tr><td>maxs   </td><td>830.0            </td><td>200403.0            </td><td>                           </td><td>203312.0          </td><td>49740.0                        </td><td>50.0                           </td><td>4.0               </td><td>                  </td><td>160.0                            </td><td>65.0                           </td><td>529000.0          </td><td>100.0                   </td><td>10.625                  </td><td>         </td><td>                                  </td><td>              </td><td>                </td><td>               </td><td>99900.0           </td><td>NaN                   </td><td>              </td><td>361.0               </td><td>2.0                  </td><td>                    </td><td>                    </td><td>         </td><td>            </td></tr>\n",
       "<tr><td>sigma  </td><td>54.97355321804359</td><td>109.77460105156621  </td><td>                           </td><td>110.47953133306562</td><td>11363.124822676407             </td><td>12.042273590466618             </td><td>0.219623303648194 </td><td>                  </td><td>15.06208012347409                </td><td>11.165383364972824             </td><td>60632.743281235904</td><td>14.86722833135055       </td><td>0.5835949914330256      </td><td>         </td><td>                                  </td><td>              </td><td>                </td><td>               </td><td>29512.322859225387</td><td>NaN                   </td><td>              </td><td>1.9974697613404848  </td><td>0.48295669536262237  </td><td>                    </td><td>                    </td><td>         </td><td>            </td></tr>\n",
       "<tr><td>zeros  </td><td>0                </td><td>0                   </td><td>                           </td><td>0                 </td><td>0                              </td><td>31023                          </td><td>0                 </td><td>                  </td><td>0                                </td><td>0                              </td><td>0                 </td><td>0                       </td><td>0                       </td><td>         </td><td>                                  </td><td>              </td><td>                </td><td>               </td><td>0                 </td><td>0                     </td><td>              </td><td>0                   </td><td>0                    </td><td>                    </td><td>                    </td><td>         </td><td>            </td></tr>\n",
       "<tr><td>missing</td><td>279              </td><td>0                   </td><td>13067                      </td><td>0                 </td><td>7029                           </td><td>5064                           </td><td>0                 </td><td>0                 </td><td>2                                </td><td>1437                           </td><td>0                 </td><td>1                       </td><td>0                       </td><td>0        </td><td>504                               </td><td>0             </td><td>0               </td><td>13             </td><td>4                 </td><td>0                     </td><td>0             </td><td>0                   </td><td>23                   </td><td>0                   </td><td>0                   </td><td>0        </td><td>0           </td></tr>\n",
       "<tr><td>0      </td><td>707.0            </td><td>200211.0            </td><td>N                          </td><td>202903.0          </td><td>33340.0                        </td><td>0.0                            </td><td>1.0               </td><td>O                 </td><td>60.0                             </td><td>57.0                           </td><td>136000.0          </td><td>60.0                    </td><td>6.25                    </td><td>R        </td><td>N                                 </td><td>FRM           </td><td>WI              </td><td>SF             </td><td>53000.0           </td><td>F199Q1000018          </td><td>C             </td><td>317.0               </td><td>2.0                  </td><td>Other sellers       </td><td>Other servicers     </td><td>TRUE     </td><td>FALSE       </td></tr>\n",
       "<tr><td>1      </td><td>691.0            </td><td>200302.0            </td><td>N                          </td><td>202901.0          </td><td>15940.0                        </td><td>0.0                            </td><td>1.0               </td><td>O                 </td><td>65.0                             </td><td>25.0                           </td><td>130000.0          </td><td>65.0                    </td><td>5.875                   </td><td>R        </td><td>N                                 </td><td>FRM           </td><td>OH              </td><td>SF             </td><td>44700.0           </td><td>F199Q1000023          </td><td>P             </td><td>312.0               </td><td>2.0                  </td><td>Other sellers       </td><td>Other servicers     </td><td>TRUE     </td><td>FALSE       </td></tr>\n",
       "<tr><td>2      </td><td>730.0            </td><td>199903.0            </td><td>N                          </td><td>202902.0          </td><td>16620.0                        </td><td>30.0                           </td><td>1.0               </td><td>O                 </td><td>94.0                             </td><td>29.0                           </td><td>138000.0          </td><td>94.0                    </td><td>7.0                     </td><td>T        </td><td>N                                 </td><td>FRM           </td><td>WV              </td><td>SF             </td><td>25300.0           </td><td>F199Q1000037          </td><td>P             </td><td>360.0               </td><td>2.0                  </td><td>Other sellers       </td><td>Other servicers     </td><td>TRUE     </td><td>FALSE       </td></tr>\n",
       "<tr><td>3      </td><td>638.0            </td><td>199905.0            </td><td>N                          </td><td>202904.0          </td><td>42020.0                        </td><td>nan                            </td><td>1.0               </td><td>O                 </td><td>67.0                             </td><td>28.0                           </td><td>160000.0          </td><td>67.0                    </td><td>7.375                   </td><td>T        </td><td>N                                 </td><td>FRM           </td><td>CA              </td><td>SF             </td><td>93400.0           </td><td>F199Q1000067          </td><td>N             </td><td>360.0               </td><td>2.0                  </td><td>CROSSLAND MORTGAGE C</td><td>CHASEMTGECO         </td><td>TRUE     </td><td>FALSE       </td></tr>\n",
       "<tr><td>4      </td><td>577.0            </td><td>199903.0            </td><td>N                          </td><td>202902.0          </td><td>12580.0                        </td><td>12.0                           </td><td>1.0               </td><td>O                 </td><td>80.0                             </td><td>53.0                           </td><td>43000.0           </td><td>80.0                    </td><td>7.25                    </td><td>T        </td><td>N                                 </td><td>FRM           </td><td>MD              </td><td>SF             </td><td>21200.0           </td><td>F199Q1000086          </td><td>N             </td><td>360.0               </td><td>1.0                  </td><td>ACCUBANC MORTGAGE CO</td><td>GMACMTGECORP        </td><td>FALSE    </td><td>TRUE        </td></tr>\n",
       "<tr><td>5      </td><td>693.0            </td><td>199905.0            </td><td>N                          </td><td>202904.0          </td><td>nan                            </td><td>nan                            </td><td>1.0               </td><td>O                 </td><td>80.0                             </td><td>43.0                           </td><td>93000.0           </td><td>80.0                    </td><td>7.125                   </td><td>R        </td><td>N                                 </td><td>FRM           </td><td>SD              </td><td>SF             </td><td>57500.0           </td><td>F199Q1000104          </td><td>P             </td><td>360.0               </td><td>1.0                  </td><td>NORWEST MORTGAGE, IN</td><td>WELLSFARGOHOMEMORTGA</td><td>TRUE     </td><td>FALSE       </td></tr>\n",
       "<tr><td>6      </td><td>739.0            </td><td>199905.0            </td><td>                           </td><td>202904.0          </td><td>16700.0                        </td><td>nan                            </td><td>1.0               </td><td>S                 </td><td>80.0                             </td><td>25.0                           </td><td>200000.0          </td><td>80.0                    </td><td>6.875                   </td><td>R        </td><td>N                                 </td><td>FRM           </td><td>SC              </td><td>CO             </td><td>29400.0           </td><td>F199Q1000107          </td><td>P             </td><td>360.0               </td><td>2.0                  </td><td>NORWEST MORTGAGE, IN</td><td>WELLSFARGOHOMEMORTGA</td><td>TRUE     </td><td>FALSE       </td></tr>\n",
       "<tr><td>7      </td><td>695.0            </td><td>199905.0            </td><td>                           </td><td>202904.0          </td><td>42044.0                        </td><td>0.0                            </td><td>1.0               </td><td>O                 </td><td>40.0                             </td><td>6.0                            </td><td>135000.0          </td><td>40.0                    </td><td>6.875                   </td><td>R        </td><td>N                                 </td><td>FRM           </td><td>CA              </td><td>SF             </td><td>92800.0           </td><td>F199Q1000121          </td><td>C             </td><td>360.0               </td><td>2.0                  </td><td>NATIONSBANC MORTGAGE</td><td>BAMORTGAGE,LLC      </td><td>TRUE     </td><td>FALSE       </td></tr>\n",
       "<tr><td>8      </td><td>753.0            </td><td>199905.0            </td><td>N                          </td><td>202904.0          </td><td>41740.0                        </td><td>0.0                            </td><td>1.0               </td><td>O                 </td><td>80.0                             </td><td>17.0                           </td><td>59000.0           </td><td>80.0                    </td><td>7.0                     </td><td>R        </td><td>N                                 </td><td>FRM           </td><td>CA              </td><td>CO             </td><td>92000.0           </td><td>F199Q1000122          </td><td>P             </td><td>360.0               </td><td>1.0                  </td><td>NATIONSBANC MORTGAGE</td><td>BAMORTGAGE,LLC      </td><td>TRUE     </td><td>FALSE       </td></tr>\n",
       "<tr><td>9      </td><td>712.0            </td><td>199905.0            </td><td>                           </td><td>202904.0          </td><td>nan                            </td><td>nan                            </td><td>1.0               </td><td>O                 </td><td>80.0                             </td><td>28.0                           </td><td>126000.0          </td><td>80.0                    </td><td>7.125                   </td><td>R        </td><td>N                                 </td><td>FRM           </td><td>MI              </td><td>SF             </td><td>48800.0           </td><td>F199Q1000123          </td><td>N             </td><td>360.0               </td><td>2.0                  </td><td>Other sellers       </td><td>Other servicers     </td><td>TRUE     </td><td>FALSE       </td></tr>\n",
       "</tbody>\n",
       "</table>"
      ]
     },
     "metadata": {},
     "output_type": "display_data"
    }
   ],
   "source": [
    "loan_level.describe()"
   ]
  },
  {
   "cell_type": "markdown",
   "metadata": {},
   "source": [
    "Let's take a look at the **DELINQUENT**, which is the response of our classification problem."
   ]
  },
  {
   "cell_type": "code",
   "execution_count": 9,
   "metadata": {},
   "outputs": [
    {
     "data": {
      "text/html": [
       "<table>\n",
       "<thead>\n",
       "<tr><th>DELINQUENT  </th><th style=\"text-align: right;\">  Count</th></tr>\n",
       "</thead>\n",
       "<tbody>\n",
       "<tr><td>FALSE       </td><td style=\"text-align: right;\">  48118</td></tr>\n",
       "<tr><td>TRUE        </td><td style=\"text-align: right;\">   1812</td></tr>\n",
       "</tbody>\n",
       "</table>"
      ]
     },
     "metadata": {},
     "output_type": "display_data"
    },
    {
     "data": {
      "text/plain": []
     },
     "execution_count": 9,
     "metadata": {},
     "output_type": "execute_result"
    }
   ],
   "source": [
    "loan_level[\"DELINQUENT\"].table()"
   ]
  },
  {
   "cell_type": "markdown",
   "metadata": {},
   "source": [
    "As we saw in the classification tutorial, the dataset is highly imbalanced, which is the same scenario in this case."
   ]
  },
  {
   "cell_type": "code",
   "execution_count": 10,
   "metadata": {},
   "outputs": [
    {
     "data": {
      "image/png": "[encoded data removed]",
      "text/plain": [
       "<Figure size 432x288 with 1 Axes>"
      ]
     },
     "metadata": {
      "needs_background": "light"
     },
     "output_type": "display_data"
    }
   ],
   "source": [
    "loan_level[\"ORIGINAL_INTEREST_RATE\"].hist()"
   ]
  },
  {
   "cell_type": "markdown",
   "metadata": {},
   "source": [
    "Again, we see that the average interest rate ranges from 7% to 8%, similar to what we saw in the previous tutorial.\n",
    "\n",
    "Now that we have an idea of the distribution of the responses let's split the dataset. For this tutorial, we will take a slightly different approach. Instead of splitting the dataset into three sets, we are just going to do 2, a train and test set. We will be using cross-validation to validate our models, as we need to use the k-fold cross-validation in order to get the stacked ensembles from the AutoML."
   ]
  },
  {
   "cell_type": "code",
   "execution_count": 11,
   "metadata": {},
   "outputs": [],
   "source": [
    "train, test = loan_level.split_frame([0.8], seed=623)"
   ]
  },
  {
   "cell_type": "code",
   "execution_count": 12,
   "metadata": {},
   "outputs": [
    {
     "name": "stdout",
     "output_type": "stream",
     "text": [
      "train:39988 test:9942\n"
     ]
    }
   ],
   "source": [
    "print(\"train:%d test:%d\" % (train.nrows, test.nrows))"
   ]
  },
  {
   "cell_type": "markdown",
   "metadata": {},
   "source": [
    "\n",
    "\n"
   ]
  },
  {
   "cell_type": "markdown",
   "metadata": {},
   "source": [
    "### 2. H2O AutoML Classification Problem"
   ]
  },
  {
   "cell_type": "markdown",
   "metadata": {},
   "source": [
    "We already have our train and test sets, so we just need to choose our response variable, as well as the predictors"
   ]
  },
  {
   "cell_type": "code",
   "execution_count": 13,
   "metadata": {},
   "outputs": [],
   "source": [
    "y = \"DELINQUENT\"\n",
    "ignore = [\"DELINQUENT\", \"PREPAID\", \"PREPAYMENT_PENALTY_MORTGAGE_FLAG\", \"PRODUCT_TYPE\"] \n",
    "x = list(set(train.names) - set(ignore))"
   ]
  },
  {
   "cell_type": "markdown",
   "metadata": {},
   "source": [
    "##### Default parameters"
   ]
  },
  {
   "cell_type": "code",
   "execution_count": 14,
   "metadata": {},
   "outputs": [
    {
     "data": {
      "text/plain": [
       "<h2o.automl.autoh2o.H2OAutoML at 0x12b0ab05e88>"
      ]
     },
     "execution_count": 14,
     "metadata": {},
     "output_type": "execute_result"
    }
   ],
   "source": [
    "H2OAutoML(nfolds=5, max_runtime_secs=3600, max_models=None, stopping_metric='AUTO', stopping_tolerance=None, stopping_rounds=3, seed=None, project_name=None)"
   ]
  },
  {
   "cell_type": "markdown",
   "metadata": {},
   "source": [
    "As you can see, H2O AutoML is designed to have as few parameters as possible, which makes it very easy to use. For this experiment, we could've just changed the maximum runtime, the seed, and the project name; however, from our first tutorial, we learned that our dataset is highly imbalanced and that models have a hard time classifying the minority class. For that reason, we are setting balance_classes=True, and we are setting the sampling factors to [0.5,1.25], which means that we will undersample the majority class, and oversample the minority class. Also, we will set max_models = 25 and to make sure that AutoML trains all 25 models in less than 20 min, we will also set max_runtime_secs_per_model=30 which will make sure no model takes more than 30 seconds to be trained."
   ]
  },
  {
   "cell_type": "markdown",
   "metadata": {},
   "source": [
    "##### Run AutoML with tuned parameters"
   ]
  },
  {
   "cell_type": "code",
   "execution_count": 15,
   "metadata": {},
   "outputs": [
    {
     "name": "stdout",
     "output_type": "stream",
     "text": [
      "AutoML progress: |\n",
      "13:55:38.974: AutoML: XGBoost is not available; skipping it.\n",
      "\n",
      "████████████████████████████████████████████████████████| 100%\n",
      "Wall time: 10min 52s\n"
     ]
    }
   ],
   "source": [
    "aml = H2OAutoML(max_models=25, max_runtime_secs_per_model=30, seed=623, project_name='classification', \n",
    "                balance_classes=True, class_sampling_factors=[0.5,1.25])\n",
    "%time aml.train(x=x, y=y, training_frame=train)"
   ]
  },
  {
   "cell_type": "markdown",
   "metadata": {},
   "source": [
    "The only required parameters for H2O's AutoML are, y, training_frame, and max_runtime_secs, which let us train AutoML for ‘x' amount of seconds and/or max_models, which would train a maximum number of models. Please note that max_runtime_secs has a default value, while max_models does not. For this task, we will set a number of models constraint. The seed is the usual parameter that we set for reproducibility purposes. We also need a project name because we will do both classification and regression with AutoML. Lastly, we are setting balance_classes=True because we have a very imbalanced dataset, and we are using the default number of folds for cross-validation.\n",
    "\n",
    "The second line of code has the parameters that we need in order to train our model. For now, we will just pass x, y, and the training frame. Please note that the parameter x is optional because if you were using all the columns in your dataset, you would not need to declare this parameter. The leaderboard frame can be used to score and rank models on the leaderboard, but we will use the validation scores to do so because we will check the performance of our models with the test set.\n",
    "\n",
    "Below is a list of optional parameters that the user could set for H2O's AutoML\n",
    "\n",
    "validation_frame\n",
    "leaderboard_frame\n",
    "blending_frame\n",
    "fold_column\n",
    "weights_column\n",
    "ignored_columns\n",
    "class_sampling_factors\n",
    "max_after_balance_size\n",
    "max_runtime_secs_per_model\n",
    "sort_metric\n",
    "exclude_algos\n",
    "include_algos\n",
    "keep_cross_validation_predictions\n",
    "keep_cross_validation_models\n",
    "keep_cross_validation_fold_assignment\n",
    "verbosity\n",
    "export_checkpoints_dir"
   ]
  },
  {
   "cell_type": "markdown",
   "metadata": {},
   "source": [
    "#### Check the result"
   ]
  },
  {
   "cell_type": "code",
   "execution_count": 16,
   "metadata": {},
   "outputs": [
    {
     "data": {
      "text/html": [
       "<table>\n",
       "<thead>\n",
       "<tr><th>model_id                                           </th><th style=\"text-align: right;\">     auc</th><th style=\"text-align: right;\">  logloss</th><th style=\"text-align: right;\">   aucpr</th><th style=\"text-align: right;\">  mean_per_class_error</th><th style=\"text-align: right;\">    rmse</th><th style=\"text-align: right;\">      mse</th></tr>\n",
       "</thead>\n",
       "<tbody>\n",
       "<tr><td>StackedEnsemble_AllModels_AutoML_20200812_135538   </td><td style=\"text-align: right;\">0.85201 </td><td style=\"text-align: right;\"> 0.128657</td><td style=\"text-align: right;\">0.215807</td><td style=\"text-align: right;\">              0.331493</td><td style=\"text-align: right;\">0.178643</td><td style=\"text-align: right;\">0.0319133</td></tr>\n",
       "<tr><td>StackedEnsemble_BestOfFamily_AutoML_20200812_135538</td><td style=\"text-align: right;\">0.849861</td><td style=\"text-align: right;\"> 0.128865</td><td style=\"text-align: right;\">0.213184</td><td style=\"text-align: right;\">              0.326066</td><td style=\"text-align: right;\">0.178739</td><td style=\"text-align: right;\">0.0319478</td></tr>\n",
       "<tr><td>GLM_1_AutoML_20200812_135538                       </td><td style=\"text-align: right;\">0.848744</td><td style=\"text-align: right;\"> 0.123718</td><td style=\"text-align: right;\">0.198831</td><td style=\"text-align: right;\">              0.346984</td><td style=\"text-align: right;\">0.177685</td><td style=\"text-align: right;\">0.0315718</td></tr>\n",
       "<tr><td>GBM_grid__1_AutoML_20200812_135538_model_8         </td><td style=\"text-align: right;\">0.842631</td><td style=\"text-align: right;\"> 0.124233</td><td style=\"text-align: right;\">0.208981</td><td style=\"text-align: right;\">              0.352758</td><td style=\"text-align: right;\">0.176972</td><td style=\"text-align: right;\">0.0313192</td></tr>\n",
       "<tr><td>GBM_grid__1_AutoML_20200812_135538_model_7         </td><td style=\"text-align: right;\">0.840089</td><td style=\"text-align: right;\"> 0.126531</td><td style=\"text-align: right;\">0.195402</td><td style=\"text-align: right;\">              0.359213</td><td style=\"text-align: right;\">0.178401</td><td style=\"text-align: right;\">0.0318268</td></tr>\n",
       "<tr><td>DeepLearning_grid__2_AutoML_20200812_135538_model_3</td><td style=\"text-align: right;\">0.837065</td><td style=\"text-align: right;\"> 0.129292</td><td style=\"text-align: right;\">0.192153</td><td style=\"text-align: right;\">              0.326679</td><td style=\"text-align: right;\">0.179043</td><td style=\"text-align: right;\">0.0320564</td></tr>\n",
       "<tr><td>DeepLearning_1_AutoML_20200812_135538              </td><td style=\"text-align: right;\">0.835925</td><td style=\"text-align: right;\"> 0.127474</td><td style=\"text-align: right;\">0.188773</td><td style=\"text-align: right;\">              0.341284</td><td style=\"text-align: right;\">0.17856 </td><td style=\"text-align: right;\">0.0318837</td></tr>\n",
       "<tr><td>GBM_1_AutoML_20200812_135538                       </td><td style=\"text-align: right;\">0.835779</td><td style=\"text-align: right;\"> 0.127302</td><td style=\"text-align: right;\">0.190028</td><td style=\"text-align: right;\">              0.328931</td><td style=\"text-align: right;\">0.178697</td><td style=\"text-align: right;\">0.0319328</td></tr>\n",
       "<tr><td>GBM_2_AutoML_20200812_135538                       </td><td style=\"text-align: right;\">0.833233</td><td style=\"text-align: right;\"> 0.129255</td><td style=\"text-align: right;\">0.180142</td><td style=\"text-align: right;\">              0.334563</td><td style=\"text-align: right;\">0.179695</td><td style=\"text-align: right;\">0.0322902</td></tr>\n",
       "<tr><td>GBM_grid__1_AutoML_20200812_135538_model_6         </td><td style=\"text-align: right;\">0.832383</td><td style=\"text-align: right;\"> 0.127926</td><td style=\"text-align: right;\">0.183574</td><td style=\"text-align: right;\">              0.35257 </td><td style=\"text-align: right;\">0.179044</td><td style=\"text-align: right;\">0.0320568</td></tr>\n",
       "<tr><td>GBM_5_AutoML_20200812_135538                       </td><td style=\"text-align: right;\">0.832165</td><td style=\"text-align: right;\"> 0.128138</td><td style=\"text-align: right;\">0.185963</td><td style=\"text-align: right;\">              0.352079</td><td style=\"text-align: right;\">0.179   </td><td style=\"text-align: right;\">0.0320412</td></tr>\n",
       "<tr><td>GBM_grid__1_AutoML_20200812_135538_model_5         </td><td style=\"text-align: right;\">0.832034</td><td style=\"text-align: right;\"> 0.12932 </td><td style=\"text-align: right;\">0.183297</td><td style=\"text-align: right;\">              0.327457</td><td style=\"text-align: right;\">0.179483</td><td style=\"text-align: right;\">0.032214 </td></tr>\n",
       "<tr><td>DeepLearning_grid__1_AutoML_20200812_135538_model_3</td><td style=\"text-align: right;\">0.830224</td><td style=\"text-align: right;\"> 0.135345</td><td style=\"text-align: right;\">0.212635</td><td style=\"text-align: right;\">              0.334057</td><td style=\"text-align: right;\">0.177215</td><td style=\"text-align: right;\">0.0314052</td></tr>\n",
       "<tr><td>GBM_grid__1_AutoML_20200812_135538_model_4         </td><td style=\"text-align: right;\">0.82915 </td><td style=\"text-align: right;\"> 0.130735</td><td style=\"text-align: right;\">0.175578</td><td style=\"text-align: right;\">              0.314606</td><td style=\"text-align: right;\">0.180497</td><td style=\"text-align: right;\">0.0325792</td></tr>\n",
       "<tr><td>GBM_3_AutoML_20200812_135538                       </td><td style=\"text-align: right;\">0.828363</td><td style=\"text-align: right;\"> 0.131608</td><td style=\"text-align: right;\">0.178534</td><td style=\"text-align: right;\">              0.366067</td><td style=\"text-align: right;\">0.18025 </td><td style=\"text-align: right;\">0.0324902</td></tr>\n",
       "<tr><td>DeepLearning_grid__1_AutoML_20200812_135538_model_2</td><td style=\"text-align: right;\">0.827745</td><td style=\"text-align: right;\"> 0.138807</td><td style=\"text-align: right;\">0.186529</td><td style=\"text-align: right;\">              0.312389</td><td style=\"text-align: right;\">0.181807</td><td style=\"text-align: right;\">0.0330537</td></tr>\n",
       "<tr><td>GBM_grid__1_AutoML_20200812_135538_model_1         </td><td style=\"text-align: right;\">0.826492</td><td style=\"text-align: right;\"> 0.137614</td><td style=\"text-align: right;\">0.176341</td><td style=\"text-align: right;\">              0.348893</td><td style=\"text-align: right;\">0.181007</td><td style=\"text-align: right;\">0.0327636</td></tr>\n",
       "<tr><td>DRF_1_AutoML_20200812_135538                       </td><td style=\"text-align: right;\">0.824975</td><td style=\"text-align: right;\"> 0.151603</td><td style=\"text-align: right;\">0.198113</td><td style=\"text-align: right;\">              0.341159</td><td style=\"text-align: right;\">0.177595</td><td style=\"text-align: right;\">0.0315399</td></tr>\n",
       "<tr><td>GBM_4_AutoML_20200812_135538                       </td><td style=\"text-align: right;\">0.823101</td><td style=\"text-align: right;\"> 0.135623</td><td style=\"text-align: right;\">0.17873 </td><td style=\"text-align: right;\">              0.344174</td><td style=\"text-align: right;\">0.180747</td><td style=\"text-align: right;\">0.0326697</td></tr>\n",
       "<tr><td>GBM_grid__1_AutoML_20200812_135538_model_2         </td><td style=\"text-align: right;\">0.820927</td><td style=\"text-align: right;\"> 0.136879</td><td style=\"text-align: right;\">0.170218</td><td style=\"text-align: right;\">              0.33462 </td><td style=\"text-align: right;\">0.181353</td><td style=\"text-align: right;\">0.0328889</td></tr>\n",
       "<tr><td>DeepLearning_grid__3_AutoML_20200812_135538_model_1</td><td style=\"text-align: right;\">0.820615</td><td style=\"text-align: right;\"> 0.187748</td><td style=\"text-align: right;\">0.15336 </td><td style=\"text-align: right;\">              0.355752</td><td style=\"text-align: right;\">0.193133</td><td style=\"text-align: right;\">0.0373004</td></tr>\n",
       "<tr><td>GBM_grid__1_AutoML_20200812_135538_model_3         </td><td style=\"text-align: right;\">0.82033 </td><td style=\"text-align: right;\"> 0.140096</td><td style=\"text-align: right;\">0.174458</td><td style=\"text-align: right;\">              0.333355</td><td style=\"text-align: right;\">0.181375</td><td style=\"text-align: right;\">0.0328971</td></tr>\n",
       "<tr><td>XRT_1_AutoML_20200812_135538                       </td><td style=\"text-align: right;\">0.812038</td><td style=\"text-align: right;\"> 0.136813</td><td style=\"text-align: right;\">0.174276</td><td style=\"text-align: right;\">              0.348415</td><td style=\"text-align: right;\">0.179308</td><td style=\"text-align: right;\">0.0321512</td></tr>\n",
       "<tr><td>DeepLearning_grid__3_AutoML_20200812_135538_model_2</td><td style=\"text-align: right;\">0.809518</td><td style=\"text-align: right;\"> 0.168652</td><td style=\"text-align: right;\">0.142146</td><td style=\"text-align: right;\">              0.350942</td><td style=\"text-align: right;\">0.18474 </td><td style=\"text-align: right;\">0.0341289</td></tr>\n",
       "<tr><td>DeepLearning_grid__1_AutoML_20200812_135538_model_1</td><td style=\"text-align: right;\">0.801366</td><td style=\"text-align: right;\"> 0.150641</td><td style=\"text-align: right;\">0.151367</td><td style=\"text-align: right;\">              0.353391</td><td style=\"text-align: right;\">0.190588</td><td style=\"text-align: right;\">0.0363238</td></tr>\n",
       "<tr><td>DeepLearning_grid__2_AutoML_20200812_135538_model_2</td><td style=\"text-align: right;\">0.785822</td><td style=\"text-align: right;\"> 0.179016</td><td style=\"text-align: right;\">0.1319  </td><td style=\"text-align: right;\">              0.356471</td><td style=\"text-align: right;\">0.191462</td><td style=\"text-align: right;\">0.0366577</td></tr>\n",
       "<tr><td>DeepLearning_grid__2_AutoML_20200812_135538_model_1</td><td style=\"text-align: right;\">0.768971</td><td style=\"text-align: right;\"> 0.310863</td><td style=\"text-align: right;\">0.120101</td><td style=\"text-align: right;\">              0.393601</td><td style=\"text-align: right;\">0.269703</td><td style=\"text-align: right;\">0.0727398</td></tr>\n",
       "</tbody>\n",
       "</table>"
      ]
     },
     "metadata": {},
     "output_type": "display_data"
    },
    {
     "data": {
      "text/plain": []
     },
     "execution_count": 16,
     "metadata": {},
     "output_type": "execute_result"
    }
   ],
   "source": [
    "lb = aml.leaderboard\n",
    "lb.head(rows=lb.nrows)"
   ]
  },
  {
   "cell_type": "markdown",
   "metadata": {},
   "source": [
    "##### We can also print a leaderboard with the training time, in milliseconds, of each model and the time it takes each model to predict each row, in milliseconds:"
   ]
  },
  {
   "cell_type": "code",
   "execution_count": 17,
   "metadata": {},
   "outputs": [
    {
     "data": {
      "text/html": [
       "<table>\n",
       "<thead>\n",
       "<tr><th>model_id                                           </th><th style=\"text-align: right;\">     auc</th><th style=\"text-align: right;\">  logloss</th><th style=\"text-align: right;\">   aucpr</th><th style=\"text-align: right;\">  mean_per_class_error</th><th style=\"text-align: right;\">    rmse</th><th style=\"text-align: right;\">      mse</th><th style=\"text-align: right;\">  training_time_ms</th><th style=\"text-align: right;\">  predict_time_per_row_ms</th></tr>\n",
       "</thead>\n",
       "<tbody>\n",
       "<tr><td>StackedEnsemble_AllModels_AutoML_20200812_135538   </td><td style=\"text-align: right;\">0.85201 </td><td style=\"text-align: right;\"> 0.128657</td><td style=\"text-align: right;\">0.215807</td><td style=\"text-align: right;\">              0.331493</td><td style=\"text-align: right;\">0.178643</td><td style=\"text-align: right;\">0.0319133</td><td style=\"text-align: right;\">              5830</td><td style=\"text-align: right;\">                 0.081064</td></tr>\n",
       "<tr><td>StackedEnsemble_BestOfFamily_AutoML_20200812_135538</td><td style=\"text-align: right;\">0.849861</td><td style=\"text-align: right;\"> 0.128865</td><td style=\"text-align: right;\">0.213184</td><td style=\"text-align: right;\">              0.326066</td><td style=\"text-align: right;\">0.178739</td><td style=\"text-align: right;\">0.0319478</td><td style=\"text-align: right;\">              1308</td><td style=\"text-align: right;\">                 0.022333</td></tr>\n",
       "<tr><td>GLM_1_AutoML_20200812_135538                       </td><td style=\"text-align: right;\">0.848744</td><td style=\"text-align: right;\"> 0.123718</td><td style=\"text-align: right;\">0.198831</td><td style=\"text-align: right;\">              0.346984</td><td style=\"text-align: right;\">0.177685</td><td style=\"text-align: right;\">0.0315718</td><td style=\"text-align: right;\">               822</td><td style=\"text-align: right;\">                 0.001128</td></tr>\n",
       "<tr><td>GBM_grid__1_AutoML_20200812_135538_model_8         </td><td style=\"text-align: right;\">0.842631</td><td style=\"text-align: right;\"> 0.124233</td><td style=\"text-align: right;\">0.208981</td><td style=\"text-align: right;\">              0.352758</td><td style=\"text-align: right;\">0.176972</td><td style=\"text-align: right;\">0.0313192</td><td style=\"text-align: right;\">               838</td><td style=\"text-align: right;\">                 0.005632</td></tr>\n",
       "<tr><td>GBM_grid__1_AutoML_20200812_135538_model_7         </td><td style=\"text-align: right;\">0.840089</td><td style=\"text-align: right;\"> 0.126531</td><td style=\"text-align: right;\">0.195402</td><td style=\"text-align: right;\">              0.359213</td><td style=\"text-align: right;\">0.178401</td><td style=\"text-align: right;\">0.0318268</td><td style=\"text-align: right;\">               728</td><td style=\"text-align: right;\">                 0.004074</td></tr>\n",
       "<tr><td>DeepLearning_grid__2_AutoML_20200812_135538_model_3</td><td style=\"text-align: right;\">0.837065</td><td style=\"text-align: right;\"> 0.129292</td><td style=\"text-align: right;\">0.192153</td><td style=\"text-align: right;\">              0.326679</td><td style=\"text-align: right;\">0.179043</td><td style=\"text-align: right;\">0.0320564</td><td style=\"text-align: right;\">              1236</td><td style=\"text-align: right;\">                 0.00342 </td></tr>\n",
       "<tr><td>DeepLearning_1_AutoML_20200812_135538              </td><td style=\"text-align: right;\">0.835925</td><td style=\"text-align: right;\"> 0.127474</td><td style=\"text-align: right;\">0.188773</td><td style=\"text-align: right;\">              0.341284</td><td style=\"text-align: right;\">0.17856 </td><td style=\"text-align: right;\">0.0318837</td><td style=\"text-align: right;\">              1208</td><td style=\"text-align: right;\">                 0.002086</td></tr>\n",
       "<tr><td>GBM_1_AutoML_20200812_135538                       </td><td style=\"text-align: right;\">0.835779</td><td style=\"text-align: right;\"> 0.127302</td><td style=\"text-align: right;\">0.190028</td><td style=\"text-align: right;\">              0.328931</td><td style=\"text-align: right;\">0.178697</td><td style=\"text-align: right;\">0.0319328</td><td style=\"text-align: right;\">              1601</td><td style=\"text-align: right;\">                 0.003713</td></tr>\n",
       "<tr><td>GBM_2_AutoML_20200812_135538                       </td><td style=\"text-align: right;\">0.833233</td><td style=\"text-align: right;\"> 0.129255</td><td style=\"text-align: right;\">0.180142</td><td style=\"text-align: right;\">              0.334563</td><td style=\"text-align: right;\">0.179695</td><td style=\"text-align: right;\">0.0322902</td><td style=\"text-align: right;\">              1095</td><td style=\"text-align: right;\">                 0.003822</td></tr>\n",
       "<tr><td>GBM_grid__1_AutoML_20200812_135538_model_6         </td><td style=\"text-align: right;\">0.832383</td><td style=\"text-align: right;\"> 0.127926</td><td style=\"text-align: right;\">0.183574</td><td style=\"text-align: right;\">              0.35257 </td><td style=\"text-align: right;\">0.179044</td><td style=\"text-align: right;\">0.0320568</td><td style=\"text-align: right;\">               893</td><td style=\"text-align: right;\">                 0.004512</td></tr>\n",
       "<tr><td>GBM_5_AutoML_20200812_135538                       </td><td style=\"text-align: right;\">0.832165</td><td style=\"text-align: right;\"> 0.128138</td><td style=\"text-align: right;\">0.185963</td><td style=\"text-align: right;\">              0.352079</td><td style=\"text-align: right;\">0.179   </td><td style=\"text-align: right;\">0.0320412</td><td style=\"text-align: right;\">              1831</td><td style=\"text-align: right;\">                 0.005458</td></tr>\n",
       "<tr><td>GBM_grid__1_AutoML_20200812_135538_model_5         </td><td style=\"text-align: right;\">0.832034</td><td style=\"text-align: right;\"> 0.12932 </td><td style=\"text-align: right;\">0.183297</td><td style=\"text-align: right;\">              0.327457</td><td style=\"text-align: right;\">0.179483</td><td style=\"text-align: right;\">0.032214 </td><td style=\"text-align: right;\">               727</td><td style=\"text-align: right;\">                 0.003969</td></tr>\n",
       "<tr><td>DeepLearning_grid__1_AutoML_20200812_135538_model_3</td><td style=\"text-align: right;\">0.830224</td><td style=\"text-align: right;\"> 0.135345</td><td style=\"text-align: right;\">0.212635</td><td style=\"text-align: right;\">              0.334057</td><td style=\"text-align: right;\">0.177215</td><td style=\"text-align: right;\">0.0314052</td><td style=\"text-align: right;\">               718</td><td style=\"text-align: right;\">                 0.002793</td></tr>\n",
       "<tr><td>GBM_grid__1_AutoML_20200812_135538_model_4         </td><td style=\"text-align: right;\">0.82915 </td><td style=\"text-align: right;\"> 0.130735</td><td style=\"text-align: right;\">0.175578</td><td style=\"text-align: right;\">              0.314606</td><td style=\"text-align: right;\">0.180497</td><td style=\"text-align: right;\">0.0325792</td><td style=\"text-align: right;\">              1060</td><td style=\"text-align: right;\">                 0.003788</td></tr>\n",
       "<tr><td>GBM_3_AutoML_20200812_135538                       </td><td style=\"text-align: right;\">0.828363</td><td style=\"text-align: right;\"> 0.131608</td><td style=\"text-align: right;\">0.178534</td><td style=\"text-align: right;\">              0.366067</td><td style=\"text-align: right;\">0.18025 </td><td style=\"text-align: right;\">0.0324902</td><td style=\"text-align: right;\">               945</td><td style=\"text-align: right;\">                 0.003985</td></tr>\n",
       "<tr><td>DeepLearning_grid__1_AutoML_20200812_135538_model_2</td><td style=\"text-align: right;\">0.827745</td><td style=\"text-align: right;\"> 0.138807</td><td style=\"text-align: right;\">0.186529</td><td style=\"text-align: right;\">              0.312389</td><td style=\"text-align: right;\">0.181807</td><td style=\"text-align: right;\">0.0330537</td><td style=\"text-align: right;\">              3774</td><td style=\"text-align: right;\">                 0.015643</td></tr>\n",
       "<tr><td>GBM_grid__1_AutoML_20200812_135538_model_1         </td><td style=\"text-align: right;\">0.826492</td><td style=\"text-align: right;\"> 0.137614</td><td style=\"text-align: right;\">0.176341</td><td style=\"text-align: right;\">              0.348893</td><td style=\"text-align: right;\">0.181007</td><td style=\"text-align: right;\">0.0327636</td><td style=\"text-align: right;\">              1467</td><td style=\"text-align: right;\">                 0.005236</td></tr>\n",
       "<tr><td>DRF_1_AutoML_20200812_135538                       </td><td style=\"text-align: right;\">0.824975</td><td style=\"text-align: right;\"> 0.151603</td><td style=\"text-align: right;\">0.198113</td><td style=\"text-align: right;\">              0.341159</td><td style=\"text-align: right;\">0.177595</td><td style=\"text-align: right;\">0.0315399</td><td style=\"text-align: right;\">              1547</td><td style=\"text-align: right;\">                 0.006438</td></tr>\n",
       "<tr><td>GBM_4_AutoML_20200812_135538                       </td><td style=\"text-align: right;\">0.823101</td><td style=\"text-align: right;\"> 0.135623</td><td style=\"text-align: right;\">0.17873 </td><td style=\"text-align: right;\">              0.344174</td><td style=\"text-align: right;\">0.180747</td><td style=\"text-align: right;\">0.0326697</td><td style=\"text-align: right;\">              1306</td><td style=\"text-align: right;\">                 0.005006</td></tr>\n",
       "<tr><td>GBM_grid__1_AutoML_20200812_135538_model_2         </td><td style=\"text-align: right;\">0.820927</td><td style=\"text-align: right;\"> 0.136879</td><td style=\"text-align: right;\">0.170218</td><td style=\"text-align: right;\">              0.33462 </td><td style=\"text-align: right;\">0.181353</td><td style=\"text-align: right;\">0.0328889</td><td style=\"text-align: right;\">              1122</td><td style=\"text-align: right;\">                 0.00496 </td></tr>\n",
       "<tr><td>DeepLearning_grid__3_AutoML_20200812_135538_model_1</td><td style=\"text-align: right;\">0.820615</td><td style=\"text-align: right;\"> 0.187748</td><td style=\"text-align: right;\">0.15336 </td><td style=\"text-align: right;\">              0.355752</td><td style=\"text-align: right;\">0.193133</td><td style=\"text-align: right;\">0.0373004</td><td style=\"text-align: right;\">             15821</td><td style=\"text-align: right;\">                 0.117215</td></tr>\n",
       "<tr><td>GBM_grid__1_AutoML_20200812_135538_model_3         </td><td style=\"text-align: right;\">0.82033 </td><td style=\"text-align: right;\"> 0.140096</td><td style=\"text-align: right;\">0.174458</td><td style=\"text-align: right;\">              0.333355</td><td style=\"text-align: right;\">0.181375</td><td style=\"text-align: right;\">0.0328971</td><td style=\"text-align: right;\">              1916</td><td style=\"text-align: right;\">                 0.00745 </td></tr>\n",
       "<tr><td>XRT_1_AutoML_20200812_135538                       </td><td style=\"text-align: right;\">0.812038</td><td style=\"text-align: right;\"> 0.136813</td><td style=\"text-align: right;\">0.174276</td><td style=\"text-align: right;\">              0.348415</td><td style=\"text-align: right;\">0.179308</td><td style=\"text-align: right;\">0.0321512</td><td style=\"text-align: right;\">              2058</td><td style=\"text-align: right;\">                 0.010507</td></tr>\n",
       "<tr><td>DeepLearning_grid__3_AutoML_20200812_135538_model_2</td><td style=\"text-align: right;\">0.809518</td><td style=\"text-align: right;\"> 0.168652</td><td style=\"text-align: right;\">0.142146</td><td style=\"text-align: right;\">              0.350942</td><td style=\"text-align: right;\">0.18474 </td><td style=\"text-align: right;\">0.0341289</td><td style=\"text-align: right;\">             10796</td><td style=\"text-align: right;\">                 0.128548</td></tr>\n",
       "<tr><td>DeepLearning_grid__1_AutoML_20200812_135538_model_1</td><td style=\"text-align: right;\">0.801366</td><td style=\"text-align: right;\"> 0.150641</td><td style=\"text-align: right;\">0.151367</td><td style=\"text-align: right;\">              0.353391</td><td style=\"text-align: right;\">0.190588</td><td style=\"text-align: right;\">0.0363238</td><td style=\"text-align: right;\">              7883</td><td style=\"text-align: right;\">                 0.023264</td></tr>\n",
       "<tr><td>DeepLearning_grid__2_AutoML_20200812_135538_model_2</td><td style=\"text-align: right;\">0.785822</td><td style=\"text-align: right;\"> 0.179016</td><td style=\"text-align: right;\">0.1319  </td><td style=\"text-align: right;\">              0.356471</td><td style=\"text-align: right;\">0.191462</td><td style=\"text-align: right;\">0.0366577</td><td style=\"text-align: right;\">             12641</td><td style=\"text-align: right;\">                 0.074553</td></tr>\n",
       "<tr><td>DeepLearning_grid__2_AutoML_20200812_135538_model_1</td><td style=\"text-align: right;\">0.768971</td><td style=\"text-align: right;\"> 0.310863</td><td style=\"text-align: right;\">0.120101</td><td style=\"text-align: right;\">              0.393601</td><td style=\"text-align: right;\">0.269703</td><td style=\"text-align: right;\">0.0727398</td><td style=\"text-align: right;\">             14150</td><td style=\"text-align: right;\">                 0.067075</td></tr>\n",
       "</tbody>\n",
       "</table>"
      ]
     },
     "metadata": {},
     "output_type": "display_data"
    },
    {
     "data": {
      "text/plain": []
     },
     "execution_count": 17,
     "metadata": {},
     "output_type": "execute_result"
    }
   ],
   "source": [
    "from h2o.automl import get_leaderboard\n",
    "lb2 = get_leaderboard(aml, extra_columns='ALL')\n",
    "lb2.head(rows=lb2.nrows)"
   ]
  },
  {
   "cell_type": "markdown",
   "metadata": {},
   "source": [
    "By looking at the leaderboard, we can see that the best model is the Stacked Ensemble with the best model from each family, meaning that this model was built using the best model of each of the trained algorithms. This Ensemble will usually have a GLM, a Distributed Random Forest, Extremely-Randomized Forest, a GBM, and XGBoost, and Deep Learning model if you give it enough time to train all those models. Let's explore the coefficients of the metalearner to see the models in the Stacked Ensemble with their relative importance."
   ]
  },
  {
   "cell_type": "markdown",
   "metadata": {},
   "source": [
    "First, let's retrieve the metalearner, and we can do it as follow:"
   ]
  },
  {
   "cell_type": "code",
   "execution_count": 18,
   "metadata": {},
   "outputs": [
    {
     "data": {
      "text/plain": [
       "{'Intercept': -4.180033392203896,\n",
       " 'GLM_1_AutoML_20200812_135538': 0.0,\n",
       " 'GBM_grid__1_AutoML_20200812_135538_model_8': 0.5416148940934792,\n",
       " 'DeepLearning_grid__2_AutoML_20200812_135538_model_3': 5.450841491109107,\n",
       " 'DRF_1_AutoML_20200812_135538': 4.046221096033774,\n",
       " 'XRT_1_AutoML_20200812_135538': 3.17959412522165}"
      ]
     },
     "execution_count": 18,
     "metadata": {},
     "output_type": "execute_result"
    }
   ],
   "source": [
    "# Get model ids for all models in the AutoML Leaderboard\n",
    "model_ids = list(aml.leaderboard['model_id'].as_data_frame().iloc[:,0])\n",
    "\n",
    "# Get the \"All Models\" Stacked Ensemble model\n",
    "se = h2o.get_model([mid for mid in model_ids if \"StackedEnsemble_BestOfFamily\" in mid][0])\n",
    "\n",
    "# Get the Stacked Ensemble metalearner model\n",
    "metalearner = h2o.get_model(se.metalearner()['name'])\n",
    "metalearner.coef()"
   ]
  },
  {
   "cell_type": "markdown",
   "metadata": {},
   "source": [
    "If you wanted to check this for the Ensemble with all the models, you will just simply change the name **StackedEnsemble_BestOfFamily** to **StackedEnsemble_AllModels** when saving the se variable in the code above.\n",
    "\n",
    "From the list above, we can see that the most important model used in our Stacked Ensemble is an XRT(Extremely Randomized Tree model, which is a variation of random forest). We can also plot the standardized coefficients with the following code (assuming you retrieved the metalearner from the step above):"
   ]
  },
  {
   "cell_type": "code",
   "execution_count": 19,
   "metadata": {},
   "outputs": [
    {
     "data": {
      "image/png": "[encoded data removed]",
      "text/plain": [
       "<Figure size 1008x720 with 1 Axes>"
      ]
     },
     "metadata": {
      "needs_background": "light"
     },
     "output_type": "display_data"
    }
   ],
   "source": [
    "metalearner.std_coef_plot()"
   ]
  },
  {
   "cell_type": "markdown",
   "metadata": {},
   "source": [
    "Now, let's see how the best model performs on our test set."
   ]
  },
  {
   "cell_type": "code",
   "execution_count": 20,
   "metadata": {},
   "outputs": [
    {
     "name": "stdout",
     "output_type": "stream",
     "text": [
      "\n",
      "ModelMetricsBinomialGLM: stackedensemble\n",
      "** Reported on test data. **\n",
      "\n",
      "MSE: 0.032409928215075774\n",
      "RMSE: 0.18002757626284863\n",
      "LogLoss: 0.1323640249003153\n",
      "Null degrees of freedom: 9941\n",
      "Residual degrees of freedom: 9933\n",
      "Null deviance: 3161.788933631878\n",
      "Residual deviance: 2631.92627111787\n",
      "AIC: 2649.92627111787\n",
      "AUC: 0.8443999107757988\n",
      "AUCPR: 0.23988545454219756\n",
      "Gini: 0.6887998215515976\n",
      "\n",
      "Confusion Matrix (Act/Pred) for max f1 @ threshold = 0.0700597907128049: \n"
     ]
    },
    {
     "data": {
      "text/html": [
       "<div>\n",
       "<style scoped>\n",
       "    .dataframe tbody tr th:only-of-type {\n",
       "        vertical-align: middle;\n",
       "    }\n",
       "\n",
       "    .dataframe tbody tr th {\n",
       "        vertical-align: top;\n",
       "    }\n",
       "\n",
       "    .dataframe thead th {\n",
       "        text-align: right;\n",
       "    }\n",
       "</style>\n",
       "<table border=\"1\" class=\"dataframe\">\n",
       "  <thead>\n",
       "    <tr style=\"text-align: right;\">\n",
       "      <th></th>\n",
       "      <th></th>\n",
       "      <th>FALSE</th>\n",
       "      <th>TRUE</th>\n",
       "      <th>Error</th>\n",
       "      <th>Rate</th>\n",
       "    </tr>\n",
       "  </thead>\n",
       "  <tbody>\n",
       "    <tr>\n",
       "      <th>0</th>\n",
       "      <td>FALSE</td>\n",
       "      <td>9142.0</td>\n",
       "      <td>430.0</td>\n",
       "      <td>0.0449</td>\n",
       "      <td>(430.0/9572.0)</td>\n",
       "    </tr>\n",
       "    <tr>\n",
       "      <th>1</th>\n",
       "      <td>TRUE</td>\n",
       "      <td>220.0</td>\n",
       "      <td>150.0</td>\n",
       "      <td>0.5946</td>\n",
       "      <td>(220.0/370.0)</td>\n",
       "    </tr>\n",
       "    <tr>\n",
       "      <th>2</th>\n",
       "      <td>Total</td>\n",
       "      <td>9362.0</td>\n",
       "      <td>580.0</td>\n",
       "      <td>0.0654</td>\n",
       "      <td>(650.0/9942.0)</td>\n",
       "    </tr>\n",
       "  </tbody>\n",
       "</table>\n",
       "</div>"
      ],
      "text/plain": [
       "           FALSE   TRUE   Error             Rate\n",
       "0  FALSE  9142.0  430.0  0.0449   (430.0/9572.0)\n",
       "1   TRUE   220.0  150.0  0.5946    (220.0/370.0)\n",
       "2  Total  9362.0  580.0  0.0654   (650.0/9942.0)"
      ]
     },
     "metadata": {},
     "output_type": "display_data"
    },
    {
     "name": "stdout",
     "output_type": "stream",
     "text": [
      "\n",
      "Maximum Metrics: Maximum metrics at their respective thresholds\n"
     ]
    },
    {
     "data": {
      "text/html": [
       "<div>\n",
       "<style scoped>\n",
       "    .dataframe tbody tr th:only-of-type {\n",
       "        vertical-align: middle;\n",
       "    }\n",
       "\n",
       "    .dataframe tbody tr th {\n",
       "        vertical-align: top;\n",
       "    }\n",
       "\n",
       "    .dataframe thead th {\n",
       "        text-align: right;\n",
       "    }\n",
       "</style>\n",
       "<table border=\"1\" class=\"dataframe\">\n",
       "  <thead>\n",
       "    <tr style=\"text-align: right;\">\n",
       "      <th></th>\n",
       "      <th>metric</th>\n",
       "      <th>threshold</th>\n",
       "      <th>value</th>\n",
       "      <th>idx</th>\n",
       "    </tr>\n",
       "  </thead>\n",
       "  <tbody>\n",
       "    <tr>\n",
       "      <th>0</th>\n",
       "      <td>max f1</td>\n",
       "      <td>0.070060</td>\n",
       "      <td>0.315789</td>\n",
       "      <td>230.0</td>\n",
       "    </tr>\n",
       "    <tr>\n",
       "      <th>1</th>\n",
       "      <td>max f2</td>\n",
       "      <td>0.031562</td>\n",
       "      <td>0.388334</td>\n",
       "      <td>313.0</td>\n",
       "    </tr>\n",
       "    <tr>\n",
       "      <th>2</th>\n",
       "      <td>max f0point5</td>\n",
       "      <td>0.160633</td>\n",
       "      <td>0.315871</td>\n",
       "      <td>147.0</td>\n",
       "    </tr>\n",
       "    <tr>\n",
       "      <th>3</th>\n",
       "      <td>max accuracy</td>\n",
       "      <td>0.663143</td>\n",
       "      <td>0.963891</td>\n",
       "      <td>21.0</td>\n",
       "    </tr>\n",
       "    <tr>\n",
       "      <th>4</th>\n",
       "      <td>max precision</td>\n",
       "      <td>0.881434</td>\n",
       "      <td>0.833333</td>\n",
       "      <td>5.0</td>\n",
       "    </tr>\n",
       "    <tr>\n",
       "      <th>5</th>\n",
       "      <td>max recall</td>\n",
       "      <td>0.015219</td>\n",
       "      <td>1.000000</td>\n",
       "      <td>398.0</td>\n",
       "    </tr>\n",
       "    <tr>\n",
       "      <th>6</th>\n",
       "      <td>max specificity</td>\n",
       "      <td>0.981817</td>\n",
       "      <td>0.999896</td>\n",
       "      <td>0.0</td>\n",
       "    </tr>\n",
       "    <tr>\n",
       "      <th>7</th>\n",
       "      <td>max absolute_mcc</td>\n",
       "      <td>0.070060</td>\n",
       "      <td>0.291131</td>\n",
       "      <td>230.0</td>\n",
       "    </tr>\n",
       "    <tr>\n",
       "      <th>8</th>\n",
       "      <td>max min_per_class_accuracy</td>\n",
       "      <td>0.025020</td>\n",
       "      <td>0.765253</td>\n",
       "      <td>337.0</td>\n",
       "    </tr>\n",
       "    <tr>\n",
       "      <th>9</th>\n",
       "      <td>max mean_per_class_accuracy</td>\n",
       "      <td>0.025485</td>\n",
       "      <td>0.767782</td>\n",
       "      <td>335.0</td>\n",
       "    </tr>\n",
       "    <tr>\n",
       "      <th>10</th>\n",
       "      <td>max tns</td>\n",
       "      <td>0.981817</td>\n",
       "      <td>9571.000000</td>\n",
       "      <td>0.0</td>\n",
       "    </tr>\n",
       "    <tr>\n",
       "      <th>11</th>\n",
       "      <td>max fns</td>\n",
       "      <td>0.981817</td>\n",
       "      <td>370.000000</td>\n",
       "      <td>0.0</td>\n",
       "    </tr>\n",
       "    <tr>\n",
       "      <th>12</th>\n",
       "      <td>max fps</td>\n",
       "      <td>0.015149</td>\n",
       "      <td>9572.000000</td>\n",
       "      <td>399.0</td>\n",
       "    </tr>\n",
       "    <tr>\n",
       "      <th>13</th>\n",
       "      <td>max tps</td>\n",
       "      <td>0.015219</td>\n",
       "      <td>370.000000</td>\n",
       "      <td>398.0</td>\n",
       "    </tr>\n",
       "    <tr>\n",
       "      <th>14</th>\n",
       "      <td>max tnr</td>\n",
       "      <td>0.981817</td>\n",
       "      <td>0.999896</td>\n",
       "      <td>0.0</td>\n",
       "    </tr>\n",
       "    <tr>\n",
       "      <th>15</th>\n",
       "      <td>max fnr</td>\n",
       "      <td>0.981817</td>\n",
       "      <td>1.000000</td>\n",
       "      <td>0.0</td>\n",
       "    </tr>\n",
       "    <tr>\n",
       "      <th>16</th>\n",
       "      <td>max fpr</td>\n",
       "      <td>0.015149</td>\n",
       "      <td>1.000000</td>\n",
       "      <td>399.0</td>\n",
       "    </tr>\n",
       "    <tr>\n",
       "      <th>17</th>\n",
       "      <td>max tpr</td>\n",
       "      <td>0.015219</td>\n",
       "      <td>1.000000</td>\n",
       "      <td>398.0</td>\n",
       "    </tr>\n",
       "  </tbody>\n",
       "</table>\n",
       "</div>"
      ],
      "text/plain": [
       "                         metric  threshold        value    idx\n",
       "0                        max f1   0.070060     0.315789  230.0\n",
       "1                        max f2   0.031562     0.388334  313.0\n",
       "2                  max f0point5   0.160633     0.315871  147.0\n",
       "3                  max accuracy   0.663143     0.963891   21.0\n",
       "4                 max precision   0.881434     0.833333    5.0\n",
       "5                    max recall   0.015219     1.000000  398.0\n",
       "6               max specificity   0.981817     0.999896    0.0\n",
       "7              max absolute_mcc   0.070060     0.291131  230.0\n",
       "8    max min_per_class_accuracy   0.025020     0.765253  337.0\n",
       "9   max mean_per_class_accuracy   0.025485     0.767782  335.0\n",
       "10                      max tns   0.981817  9571.000000    0.0\n",
       "11                      max fns   0.981817   370.000000    0.0\n",
       "12                      max fps   0.015149  9572.000000  399.0\n",
       "13                      max tps   0.015219   370.000000  398.0\n",
       "14                      max tnr   0.981817     0.999896    0.0\n",
       "15                      max fnr   0.981817     1.000000    0.0\n",
       "16                      max fpr   0.015149     1.000000  399.0\n",
       "17                      max tpr   0.015219     1.000000  398.0"
      ]
     },
     "metadata": {},
     "output_type": "display_data"
    },
    {
     "name": "stdout",
     "output_type": "stream",
     "text": [
      "\n",
      "Gains/Lift Table: Avg response rate:  3.72 %, avg score:  3.26 %\n"
     ]
    },
    {
     "data": {
      "text/html": [
       "<div>\n",
       "<style scoped>\n",
       "    .dataframe tbody tr th:only-of-type {\n",
       "        vertical-align: middle;\n",
       "    }\n",
       "\n",
       "    .dataframe tbody tr th {\n",
       "        vertical-align: top;\n",
       "    }\n",
       "\n",
       "    .dataframe thead th {\n",
       "        text-align: right;\n",
       "    }\n",
       "</style>\n",
       "<table border=\"1\" class=\"dataframe\">\n",
       "  <thead>\n",
       "    <tr style=\"text-align: right;\">\n",
       "      <th></th>\n",
       "      <th>group</th>\n",
       "      <th>cumulative_data_fraction</th>\n",
       "      <th>lower_threshold</th>\n",
       "      <th>lift</th>\n",
       "      <th>cumulative_lift</th>\n",
       "      <th>response_rate</th>\n",
       "      <th>score</th>\n",
       "      <th>cumulative_response_rate</th>\n",
       "      <th>cumulative_score</th>\n",
       "      <th>capture_rate</th>\n",
       "      <th>cumulative_capture_rate</th>\n",
       "      <th>gain</th>\n",
       "      <th>cumulative_gain</th>\n",
       "      <th>kolmogorov_smirnov</th>\n",
       "    </tr>\n",
       "  </thead>\n",
       "  <tbody>\n",
       "    <tr>\n",
       "      <th>0</th>\n",
       "      <td>1</td>\n",
       "      <td>0.010058</td>\n",
       "      <td>0.319650</td>\n",
       "      <td>11.554216</td>\n",
       "      <td>11.554216</td>\n",
       "      <td>0.430000</td>\n",
       "      <td>0.548551</td>\n",
       "      <td>0.430000</td>\n",
       "      <td>0.548551</td>\n",
       "      <td>0.116216</td>\n",
       "      <td>0.116216</td>\n",
       "      <td>1055.421622</td>\n",
       "      <td>1055.421622</td>\n",
       "      <td>0.110261</td>\n",
       "    </tr>\n",
       "    <tr>\n",
       "      <th>1</th>\n",
       "      <td>2</td>\n",
       "      <td>0.020016</td>\n",
       "      <td>0.184518</td>\n",
       "      <td>7.599672</td>\n",
       "      <td>9.586880</td>\n",
       "      <td>0.282828</td>\n",
       "      <td>0.239019</td>\n",
       "      <td>0.356784</td>\n",
       "      <td>0.394563</td>\n",
       "      <td>0.075676</td>\n",
       "      <td>0.191892</td>\n",
       "      <td>659.967240</td>\n",
       "      <td>858.688035</td>\n",
       "      <td>0.178520</td>\n",
       "    </tr>\n",
       "    <tr>\n",
       "      <th>2</th>\n",
       "      <td>3</td>\n",
       "      <td>0.030074</td>\n",
       "      <td>0.128113</td>\n",
       "      <td>5.642757</td>\n",
       "      <td>8.267775</td>\n",
       "      <td>0.210000</td>\n",
       "      <td>0.153236</td>\n",
       "      <td>0.307692</td>\n",
       "      <td>0.313852</td>\n",
       "      <td>0.056757</td>\n",
       "      <td>0.248649</td>\n",
       "      <td>464.275676</td>\n",
       "      <td>726.777547</td>\n",
       "      <td>0.227023</td>\n",
       "    </tr>\n",
       "    <tr>\n",
       "      <th>3</th>\n",
       "      <td>4</td>\n",
       "      <td>0.040032</td>\n",
       "      <td>0.095541</td>\n",
       "      <td>4.342670</td>\n",
       "      <td>7.291430</td>\n",
       "      <td>0.161616</td>\n",
       "      <td>0.111045</td>\n",
       "      <td>0.271357</td>\n",
       "      <td>0.263405</td>\n",
       "      <td>0.043243</td>\n",
       "      <td>0.291892</td>\n",
       "      <td>334.266994</td>\n",
       "      <td>629.143012</td>\n",
       "      <td>0.261595</td>\n",
       "    </tr>\n",
       "    <tr>\n",
       "      <th>4</th>\n",
       "      <td>5</td>\n",
       "      <td>0.050091</td>\n",
       "      <td>0.080742</td>\n",
       "      <td>6.717568</td>\n",
       "      <td>7.176197</td>\n",
       "      <td>0.250000</td>\n",
       "      <td>0.087652</td>\n",
       "      <td>0.267068</td>\n",
       "      <td>0.228113</td>\n",
       "      <td>0.067568</td>\n",
       "      <td>0.359459</td>\n",
       "      <td>571.756757</td>\n",
       "      <td>617.619668</td>\n",
       "      <td>0.321327</td>\n",
       "    </tr>\n",
       "    <tr>\n",
       "      <th>5</th>\n",
       "      <td>6</td>\n",
       "      <td>0.100080</td>\n",
       "      <td>0.045972</td>\n",
       "      <td>2.757311</td>\n",
       "      <td>4.968975</td>\n",
       "      <td>0.102616</td>\n",
       "      <td>0.059070</td>\n",
       "      <td>0.184925</td>\n",
       "      <td>0.143676</td>\n",
       "      <td>0.137838</td>\n",
       "      <td>0.497297</td>\n",
       "      <td>175.731144</td>\n",
       "      <td>396.897460</td>\n",
       "      <td>0.412571</td>\n",
       "    </tr>\n",
       "    <tr>\n",
       "      <th>6</th>\n",
       "      <td>7</td>\n",
       "      <td>0.150070</td>\n",
       "      <td>0.034969</td>\n",
       "      <td>2.432922</td>\n",
       "      <td>4.124190</td>\n",
       "      <td>0.090543</td>\n",
       "      <td>0.039903</td>\n",
       "      <td>0.153485</td>\n",
       "      <td>0.109108</td>\n",
       "      <td>0.121622</td>\n",
       "      <td>0.618919</td>\n",
       "      <td>143.292186</td>\n",
       "      <td>312.419028</td>\n",
       "      <td>0.486972</td>\n",
       "    </tr>\n",
       "    <tr>\n",
       "      <th>7</th>\n",
       "      <td>8</td>\n",
       "      <td>0.200060</td>\n",
       "      <td>0.028667</td>\n",
       "      <td>1.892273</td>\n",
       "      <td>3.566491</td>\n",
       "      <td>0.070423</td>\n",
       "      <td>0.031431</td>\n",
       "      <td>0.132730</td>\n",
       "      <td>0.089699</td>\n",
       "      <td>0.094595</td>\n",
       "      <td>0.713514</td>\n",
       "      <td>89.227255</td>\n",
       "      <td>256.649138</td>\n",
       "      <td>0.533300</td>\n",
       "    </tr>\n",
       "    <tr>\n",
       "      <th>8</th>\n",
       "      <td>9</td>\n",
       "      <td>0.300040</td>\n",
       "      <td>0.022684</td>\n",
       "      <td>0.946136</td>\n",
       "      <td>2.693332</td>\n",
       "      <td>0.035211</td>\n",
       "      <td>0.025304</td>\n",
       "      <td>0.100235</td>\n",
       "      <td>0.068241</td>\n",
       "      <td>0.094595</td>\n",
       "      <td>0.808108</td>\n",
       "      <td>-5.386372</td>\n",
       "      <td>169.333249</td>\n",
       "      <td>0.527707</td>\n",
       "    </tr>\n",
       "    <tr>\n",
       "      <th>9</th>\n",
       "      <td>10</td>\n",
       "      <td>0.400020</td>\n",
       "      <td>0.019795</td>\n",
       "      <td>0.756909</td>\n",
       "      <td>2.209348</td>\n",
       "      <td>0.028169</td>\n",
       "      <td>0.021102</td>\n",
       "      <td>0.082223</td>\n",
       "      <td>0.056459</td>\n",
       "      <td>0.075676</td>\n",
       "      <td>0.883784</td>\n",
       "      <td>-24.309098</td>\n",
       "      <td>120.934835</td>\n",
       "      <td>0.502463</td>\n",
       "    </tr>\n",
       "    <tr>\n",
       "      <th>10</th>\n",
       "      <td>11</td>\n",
       "      <td>0.500000</td>\n",
       "      <td>0.018066</td>\n",
       "      <td>0.405487</td>\n",
       "      <td>1.848649</td>\n",
       "      <td>0.015091</td>\n",
       "      <td>0.018830</td>\n",
       "      <td>0.068799</td>\n",
       "      <td>0.048935</td>\n",
       "      <td>0.040541</td>\n",
       "      <td>0.924324</td>\n",
       "      <td>-59.451302</td>\n",
       "      <td>84.864865</td>\n",
       "      <td>0.440726</td>\n",
       "    </tr>\n",
       "    <tr>\n",
       "      <th>11</th>\n",
       "      <td>12</td>\n",
       "      <td>0.599980</td>\n",
       "      <td>0.017041</td>\n",
       "      <td>0.324390</td>\n",
       "      <td>1.594648</td>\n",
       "      <td>0.012072</td>\n",
       "      <td>0.017528</td>\n",
       "      <td>0.059346</td>\n",
       "      <td>0.043701</td>\n",
       "      <td>0.032432</td>\n",
       "      <td>0.956757</td>\n",
       "      <td>-67.561042</td>\n",
       "      <td>59.464806</td>\n",
       "      <td>0.370568</td>\n",
       "    </tr>\n",
       "    <tr>\n",
       "      <th>12</th>\n",
       "      <td>13</td>\n",
       "      <td>0.699960</td>\n",
       "      <td>0.016351</td>\n",
       "      <td>0.135162</td>\n",
       "      <td>1.386180</td>\n",
       "      <td>0.005030</td>\n",
       "      <td>0.016669</td>\n",
       "      <td>0.051588</td>\n",
       "      <td>0.039840</td>\n",
       "      <td>0.013514</td>\n",
       "      <td>0.970270</td>\n",
       "      <td>-86.483767</td>\n",
       "      <td>38.618006</td>\n",
       "      <td>0.280759</td>\n",
       "    </tr>\n",
       "    <tr>\n",
       "      <th>13</th>\n",
       "      <td>14</td>\n",
       "      <td>0.799940</td>\n",
       "      <td>0.015850</td>\n",
       "      <td>0.081097</td>\n",
       "      <td>1.223065</td>\n",
       "      <td>0.003018</td>\n",
       "      <td>0.016092</td>\n",
       "      <td>0.045517</td>\n",
       "      <td>0.036872</td>\n",
       "      <td>0.008108</td>\n",
       "      <td>0.978378</td>\n",
       "      <td>-91.890260</td>\n",
       "      <td>22.306524</td>\n",
       "      <td>0.185336</td>\n",
       "    </tr>\n",
       "    <tr>\n",
       "      <th>14</th>\n",
       "      <td>15</td>\n",
       "      <td>0.899920</td>\n",
       "      <td>0.015448</td>\n",
       "      <td>0.162195</td>\n",
       "      <td>1.105204</td>\n",
       "      <td>0.006036</td>\n",
       "      <td>0.015655</td>\n",
       "      <td>0.041131</td>\n",
       "      <td>0.034515</td>\n",
       "      <td>0.016216</td>\n",
       "      <td>0.994595</td>\n",
       "      <td>-83.780521</td>\n",
       "      <td>10.520392</td>\n",
       "      <td>0.098335</td>\n",
       "    </tr>\n",
       "    <tr>\n",
       "      <th>15</th>\n",
       "      <td>16</td>\n",
       "      <td>1.000000</td>\n",
       "      <td>0.015106</td>\n",
       "      <td>0.054011</td>\n",
       "      <td>1.000000</td>\n",
       "      <td>0.002010</td>\n",
       "      <td>0.015262</td>\n",
       "      <td>0.037216</td>\n",
       "      <td>0.032588</td>\n",
       "      <td>0.005405</td>\n",
       "      <td>1.000000</td>\n",
       "      <td>-94.598941</td>\n",
       "      <td>0.000000</td>\n",
       "      <td>0.000000</td>\n",
       "    </tr>\n",
       "  </tbody>\n",
       "</table>\n",
       "</div>"
      ],
      "text/plain": [
       "    group  cumulative_data_fraction  lower_threshold       lift  \\\n",
       "0       1                  0.010058         0.319650  11.554216   \n",
       "1       2                  0.020016         0.184518   7.599672   \n",
       "2       3                  0.030074         0.128113   5.642757   \n",
       "3       4                  0.040032         0.095541   4.342670   \n",
       "4       5                  0.050091         0.080742   6.717568   \n",
       "5       6                  0.100080         0.045972   2.757311   \n",
       "6       7                  0.150070         0.034969   2.432922   \n",
       "7       8                  0.200060         0.028667   1.892273   \n",
       "8       9                  0.300040         0.022684   0.946136   \n",
       "9      10                  0.400020         0.019795   0.756909   \n",
       "10     11                  0.500000         0.018066   0.405487   \n",
       "11     12                  0.599980         0.017041   0.324390   \n",
       "12     13                  0.699960         0.016351   0.135162   \n",
       "13     14                  0.799940         0.015850   0.081097   \n",
       "14     15                  0.899920         0.015448   0.162195   \n",
       "15     16                  1.000000         0.015106   0.054011   \n",
       "\n",
       "    cumulative_lift  response_rate     score  cumulative_response_rate  \\\n",
       "0         11.554216       0.430000  0.548551                  0.430000   \n",
       "1          9.586880       0.282828  0.239019                  0.356784   \n",
       "2          8.267775       0.210000  0.153236                  0.307692   \n",
       "3          7.291430       0.161616  0.111045                  0.271357   \n",
       "4          7.176197       0.250000  0.087652                  0.267068   \n",
       "5          4.968975       0.102616  0.059070                  0.184925   \n",
       "6          4.124190       0.090543  0.039903                  0.153485   \n",
       "7          3.566491       0.070423  0.031431                  0.132730   \n",
       "8          2.693332       0.035211  0.025304                  0.100235   \n",
       "9          2.209348       0.028169  0.021102                  0.082223   \n",
       "10         1.848649       0.015091  0.018830                  0.068799   \n",
       "11         1.594648       0.012072  0.017528                  0.059346   \n",
       "12         1.386180       0.005030  0.016669                  0.051588   \n",
       "13         1.223065       0.003018  0.016092                  0.045517   \n",
       "14         1.105204       0.006036  0.015655                  0.041131   \n",
       "15         1.000000       0.002010  0.015262                  0.037216   \n",
       "\n",
       "    cumulative_score  capture_rate  cumulative_capture_rate         gain  \\\n",
       "0           0.548551      0.116216                 0.116216  1055.421622   \n",
       "1           0.394563      0.075676                 0.191892   659.967240   \n",
       "2           0.313852      0.056757                 0.248649   464.275676   \n",
       "3           0.263405      0.043243                 0.291892   334.266994   \n",
       "4           0.228113      0.067568                 0.359459   571.756757   \n",
       "5           0.143676      0.137838                 0.497297   175.731144   \n",
       "6           0.109108      0.121622                 0.618919   143.292186   \n",
       "7           0.089699      0.094595                 0.713514    89.227255   \n",
       "8           0.068241      0.094595                 0.808108    -5.386372   \n",
       "9           0.056459      0.075676                 0.883784   -24.309098   \n",
       "10          0.048935      0.040541                 0.924324   -59.451302   \n",
       "11          0.043701      0.032432                 0.956757   -67.561042   \n",
       "12          0.039840      0.013514                 0.970270   -86.483767   \n",
       "13          0.036872      0.008108                 0.978378   -91.890260   \n",
       "14          0.034515      0.016216                 0.994595   -83.780521   \n",
       "15          0.032588      0.005405                 1.000000   -94.598941   \n",
       "\n",
       "    cumulative_gain  kolmogorov_smirnov  \n",
       "0       1055.421622            0.110261  \n",
       "1        858.688035            0.178520  \n",
       "2        726.777547            0.227023  \n",
       "3        629.143012            0.261595  \n",
       "4        617.619668            0.321327  \n",
       "5        396.897460            0.412571  \n",
       "6        312.419028            0.486972  \n",
       "7        256.649138            0.533300  \n",
       "8        169.333249            0.527707  \n",
       "9        120.934835            0.502463  \n",
       "10        84.864865            0.440726  \n",
       "11        59.464806            0.370568  \n",
       "12        38.618006            0.280759  \n",
       "13        22.306524            0.185336  \n",
       "14        10.520392            0.098335  \n",
       "15         0.000000            0.000000  "
      ]
     },
     "metadata": {},
     "output_type": "display_data"
    },
    {
     "name": "stdout",
     "output_type": "stream",
     "text": [
      "\n"
     ]
    },
    {
     "data": {
      "text/plain": []
     },
     "execution_count": 20,
     "metadata": {},
     "output_type": "execute_result"
    }
   ],
   "source": [
    "aml.leader.model_performance(test_data=test)"
   ]
  },
  {
   "cell_type": "markdown",
   "metadata": {},
   "source": [
    "By looking at the results, we can see that in fifteen minutes, and with less data, AutoML obtained scores somewhat close to what we obtained in the first tutorial. The AUC that we obtained was 0.828. Although this is a good AUC, because we have a very imbalanced dataset, we must also look at the misclassification errors for both classes. As you can see, our model is having a hard time classifying bad loans; this is mainly due because only about 3.6% of loans are labeled as bad loans. However, the model is doing very well when classifying good loans; although it is still far from being the best model, this gives us a solid starting point. Even though we set balance _lasses=True, we just tried a quick under-over sampling ratio. If we were to find the right value and gave AutoML more time, we could potentially improve the misclassification error for the bad_loan or predicted TRUE class."
   ]
  },
  {
   "cell_type": "code",
   "execution_count": 21,
   "metadata": {},
   "outputs": [
    {
     "data": {
      "image/png": "[encoded data removed]",
      "text/plain": [
       "<Figure size 432x288 with 1 Axes>"
      ]
     },
     "metadata": {
      "needs_background": "light"
     },
     "output_type": "display_data"
    }
   ],
   "source": [
    "%matplotlib inline\n",
    "aml.leader.model_performance(test_data=test).plot()"
   ]
  },
  {
   "cell_type": "markdown",
   "metadata": {},
   "source": [
    "As you can see, it's the same AUC value that we obtained in the model summary, but the plot helps us visualize it better.\n",
    "\n",
    "Lastly, let's make some predictions on our test set."
   ]
  },
  {
   "cell_type": "code",
   "execution_count": 22,
   "metadata": {},
   "outputs": [
    {
     "name": "stdout",
     "output_type": "stream",
     "text": [
      "stackedensemble prediction progress: |████████████████████████████████████| 100%\n"
     ]
    },
    {
     "data": {
      "text/html": [
       "<table>\n",
       "<thead>\n",
       "<tr><th>predict  </th><th style=\"text-align: right;\">   FALSE</th><th style=\"text-align: right;\">     TRUE</th></tr>\n",
       "</thead>\n",
       "<tbody>\n",
       "<tr><td>FALSE    </td><td style=\"text-align: right;\">0.983562</td><td style=\"text-align: right;\">0.0164383</td></tr>\n",
       "<tr><td>FALSE    </td><td style=\"text-align: right;\">0.960454</td><td style=\"text-align: right;\">0.039546 </td></tr>\n",
       "<tr><td>FALSE    </td><td style=\"text-align: right;\">0.979351</td><td style=\"text-align: right;\">0.0206494</td></tr>\n",
       "<tr><td>FALSE    </td><td style=\"text-align: right;\">0.977953</td><td style=\"text-align: right;\">0.0220471</td></tr>\n",
       "<tr><td>FALSE    </td><td style=\"text-align: right;\">0.963207</td><td style=\"text-align: right;\">0.0367931</td></tr>\n",
       "<tr><td>FALSE    </td><td style=\"text-align: right;\">0.980323</td><td style=\"text-align: right;\">0.0196766</td></tr>\n",
       "<tr><td>FALSE    </td><td style=\"text-align: right;\">0.984581</td><td style=\"text-align: right;\">0.0154186</td></tr>\n",
       "<tr><td>FALSE    </td><td style=\"text-align: right;\">0.983023</td><td style=\"text-align: right;\">0.0169775</td></tr>\n",
       "<tr><td>TRUE     </td><td style=\"text-align: right;\">0.768001</td><td style=\"text-align: right;\">0.231999 </td></tr>\n",
       "<tr><td>FALSE    </td><td style=\"text-align: right;\">0.984178</td><td style=\"text-align: right;\">0.0158217</td></tr>\n",
       "</tbody>\n",
       "</table>"
      ]
     },
     "metadata": {},
     "output_type": "display_data"
    },
    {
     "data": {
      "text/plain": []
     },
     "execution_count": 22,
     "metadata": {},
     "output_type": "execute_result"
    }
   ],
   "source": [
    "aml.predict(test)"
   ]
  },
  {
   "cell_type": "markdown",
   "metadata": {},
   "source": [
    "As we mentioned in the first tutorial, the predictions we get are based on a probability. In the frame above, we have a probability for FALSE,, and another one for TRUE. The prediction, predict, is based on the threshold that maximizes the F1 score. For example, the threshold that maximizes the F1 is about 0.1061, meaning that if the probability of TRUE is greater than the threshold, the predicted label would be TRUE.\n",
    "\n",
    "After exploring the results for our classification problem, let's use AutoML to explore a regression use-case."
   ]
  },
  {
   "cell_type": "markdown",
   "metadata": {},
   "source": [
    "\n",
    "\n"
   ]
  },
  {
   "cell_type": "markdown",
   "metadata": {},
   "source": [
    "### 3. H2O AutoML Regression Problem"
   ]
  },
  {
   "cell_type": "markdown",
   "metadata": {},
   "source": [
    "For our regression use-case, we are using the same dataset and the same training and test sets. But we do need to choose our predictors and response columns, and we will do it as follow:"
   ]
  },
  {
   "cell_type": "code",
   "execution_count": 23,
   "metadata": {},
   "outputs": [],
   "source": [
    "y_reg = \"ORIGINAL_INTEREST_RATE\"\n",
    "\n",
    "ignore_reg = [\"ORIGINAL_INTEREST_RATE\", \"FIRST_PAYMENT_DATE\", \"MATURITY_DATE\", \"MORTGAGE_INSURANCE_PERCENTAGE\", \"PREPAYMENT_PENALTY_MORTGAGE_FLAG\", \"LOAN_SEQUENCE_NUMBER\", \"PREPAID\", \"DELINQUENT\", \"PRODUCT_TYPE\"] \n",
    "\n",
    "x_reg = list(set(train.names) - set(ignore_reg))"
   ]
  },
  {
   "cell_type": "markdown",
   "metadata": {},
   "source": [
    "Now we are ready to start our second AutoML model and train it. This time we will use a time constrain, and set max_runtime_secs to 900 seconds, or 15 minutes. Again, we set max_runtime_secs_per_model to 30 seconds. You will notice that we are specifying the stopping metric and also the sort metric. In the second tutorial, we focused on RMSE and MAE to check the performance of our model, and we noticed that the two values seemed very correlated. For that reason, we could use any of those metrics. We will use the RMSE for early stopping because it penalizes the error more than the MAE, and we will also use it to sort the leaderboard based on the best value."
   ]
  },
  {
   "cell_type": "code",
   "execution_count": 24,
   "metadata": {},
   "outputs": [
    {
     "name": "stdout",
     "output_type": "stream",
     "text": [
      "Wall time: 0 ns\n",
      "AutoML progress: |\n",
      "14:29:11.802: AutoML: XGBoost is not available; skipping it.\n",
      "\n",
      "████████████████████████████████████████████████████████| 100%\n"
     ]
    }
   ],
   "source": [
    "aml = H2OAutoML(max_runtime_secs=900, \n",
    "                max_runtime_secs_per_model=30, \n",
    "                seed=623, \n",
    "                project_name='regression', \n",
    "                stopping_metric=\"RMSE\", \n",
    "                sort_metric=\"RMSE\")\n",
    "\n",
    "%time \n",
    "aml.train(x=x_reg, y=y_reg, training_frame=train)"
   ]
  },
  {
   "cell_type": "code",
   "execution_count": 25,
   "metadata": {},
   "outputs": [
    {
     "data": {
      "text/html": [
       "<table>\n",
       "<thead>\n",
       "<tr><th>model_id                                           </th><th style=\"text-align: right;\">    rmse</th><th style=\"text-align: right;\">  mean_residual_deviance</th><th style=\"text-align: right;\">     mse</th><th style=\"text-align: right;\">     mae</th><th style=\"text-align: right;\">    rmsle</th></tr>\n",
       "</thead>\n",
       "<tbody>\n",
       "<tr><td>GBM_2_AutoML_20200812_142911                       </td><td style=\"text-align: right;\">0.428265</td><td style=\"text-align: right;\">                0.183411</td><td style=\"text-align: right;\">0.183411</td><td style=\"text-align: right;\">0.311863</td><td style=\"text-align: right;\">0.0506688</td></tr>\n",
       "<tr><td>GBM_grid__1_AutoML_20200812_142911_model_8         </td><td style=\"text-align: right;\">0.428337</td><td style=\"text-align: right;\">                0.183473</td><td style=\"text-align: right;\">0.183473</td><td style=\"text-align: right;\">0.311138</td><td style=\"text-align: right;\">0.050679 </td></tr>\n",
       "<tr><td>GBM_3_AutoML_20200812_142911                       </td><td style=\"text-align: right;\">0.428621</td><td style=\"text-align: right;\">                0.183716</td><td style=\"text-align: right;\">0.183716</td><td style=\"text-align: right;\">0.311637</td><td style=\"text-align: right;\">0.0506949</td></tr>\n",
       "<tr><td>GBM_5_AutoML_20200812_142911                       </td><td style=\"text-align: right;\">0.429201</td><td style=\"text-align: right;\">                0.184213</td><td style=\"text-align: right;\">0.184213</td><td style=\"text-align: right;\">0.313097</td><td style=\"text-align: right;\">0.0508055</td></tr>\n",
       "<tr><td>GBM_1_AutoML_20200812_142911                       </td><td style=\"text-align: right;\">0.429429</td><td style=\"text-align: right;\">                0.184409</td><td style=\"text-align: right;\">0.184409</td><td style=\"text-align: right;\">0.313175</td><td style=\"text-align: right;\">0.0508044</td></tr>\n",
       "<tr><td>GBM_grid__1_AutoML_20200812_142911_model_7         </td><td style=\"text-align: right;\">0.429573</td><td style=\"text-align: right;\">                0.184533</td><td style=\"text-align: right;\">0.184533</td><td style=\"text-align: right;\">0.313894</td><td style=\"text-align: right;\">0.0508162</td></tr>\n",
       "<tr><td>GBM_4_AutoML_20200812_142911                       </td><td style=\"text-align: right;\">0.430283</td><td style=\"text-align: right;\">                0.185144</td><td style=\"text-align: right;\">0.185144</td><td style=\"text-align: right;\">0.313212</td><td style=\"text-align: right;\">0.0508986</td></tr>\n",
       "<tr><td>GBM_grid__1_AutoML_20200812_142911_model_6         </td><td style=\"text-align: right;\">0.430743</td><td style=\"text-align: right;\">                0.185539</td><td style=\"text-align: right;\">0.185539</td><td style=\"text-align: right;\">0.315183</td><td style=\"text-align: right;\">0.0509298</td></tr>\n",
       "<tr><td>GBM_grid__1_AutoML_20200812_142911_model_1         </td><td style=\"text-align: right;\">0.430833</td><td style=\"text-align: right;\">                0.185617</td><td style=\"text-align: right;\">0.185617</td><td style=\"text-align: right;\">0.312861</td><td style=\"text-align: right;\">0.0509754</td></tr>\n",
       "<tr><td>GBM_grid__1_AutoML_20200812_142911_model_3         </td><td style=\"text-align: right;\">0.431312</td><td style=\"text-align: right;\">                0.18603 </td><td style=\"text-align: right;\">0.18603 </td><td style=\"text-align: right;\">0.312872</td><td style=\"text-align: right;\">0.051025 </td></tr>\n",
       "<tr><td>GBM_grid__1_AutoML_20200812_142911_model_4         </td><td style=\"text-align: right;\">0.431731</td><td style=\"text-align: right;\">                0.186392</td><td style=\"text-align: right;\">0.186392</td><td style=\"text-align: right;\">0.315049</td><td style=\"text-align: right;\">0.0510746</td></tr>\n",
       "<tr><td>StackedEnsemble_AllModels_AutoML_20200812_142911   </td><td style=\"text-align: right;\">0.435784</td><td style=\"text-align: right;\">                0.189907</td><td style=\"text-align: right;\">0.189907</td><td style=\"text-align: right;\">0.320011</td><td style=\"text-align: right;\">0.0514471</td></tr>\n",
       "<tr><td>DRF_1_AutoML_20200812_142911                       </td><td style=\"text-align: right;\">0.435872</td><td style=\"text-align: right;\">                0.189985</td><td style=\"text-align: right;\">0.189985</td><td style=\"text-align: right;\">0.316027</td><td style=\"text-align: right;\">0.0515223</td></tr>\n",
       "<tr><td>StackedEnsemble_BestOfFamily_AutoML_20200812_142911</td><td style=\"text-align: right;\">0.438123</td><td style=\"text-align: right;\">                0.191952</td><td style=\"text-align: right;\">0.191952</td><td style=\"text-align: right;\">0.322266</td><td style=\"text-align: right;\">0.0517073</td></tr>\n",
       "<tr><td>GBM_grid__1_AutoML_20200812_142911_model_2         </td><td style=\"text-align: right;\">0.438937</td><td style=\"text-align: right;\">                0.192666</td><td style=\"text-align: right;\">0.192666</td><td style=\"text-align: right;\">0.319025</td><td style=\"text-align: right;\">0.051979 </td></tr>\n",
       "<tr><td>GBM_grid__1_AutoML_20200812_142911_model_5         </td><td style=\"text-align: right;\">0.439653</td><td style=\"text-align: right;\">                0.193295</td><td style=\"text-align: right;\">0.193295</td><td style=\"text-align: right;\">0.324049</td><td style=\"text-align: right;\">0.0519463</td></tr>\n",
       "<tr><td>GLM_1_AutoML_20200812_142911                       </td><td style=\"text-align: right;\">0.456864</td><td style=\"text-align: right;\">                0.208725</td><td style=\"text-align: right;\">0.208725</td><td style=\"text-align: right;\">0.340086</td><td style=\"text-align: right;\">0.0540339</td></tr>\n",
       "<tr><td>XRT_1_AutoML_20200812_142911                       </td><td style=\"text-align: right;\">0.46102 </td><td style=\"text-align: right;\">                0.21254 </td><td style=\"text-align: right;\">0.21254 </td><td style=\"text-align: right;\">0.33914 </td><td style=\"text-align: right;\">0.0542975</td></tr>\n",
       "<tr><td>DeepLearning_1_AutoML_20200812_142911              </td><td style=\"text-align: right;\">0.467853</td><td style=\"text-align: right;\">                0.218887</td><td style=\"text-align: right;\">0.218887</td><td style=\"text-align: right;\">0.336216</td><td style=\"text-align: right;\">0.0551956</td></tr>\n",
       "<tr><td>DeepLearning_grid__1_AutoML_20200812_142911_model_1</td><td style=\"text-align: right;\">0.478177</td><td style=\"text-align: right;\">                0.228653</td><td style=\"text-align: right;\">0.228653</td><td style=\"text-align: right;\">0.341727</td><td style=\"text-align: right;\">0.056274 </td></tr>\n",
       "<tr><td>DeepLearning_grid__1_AutoML_20200812_142911_model_4</td><td style=\"text-align: right;\">0.480472</td><td style=\"text-align: right;\">                0.230854</td><td style=\"text-align: right;\">0.230854</td><td style=\"text-align: right;\">0.344352</td><td style=\"text-align: right;\">0.0565939</td></tr>\n",
       "<tr><td>DeepLearning_grid__1_AutoML_20200812_142911_model_3</td><td style=\"text-align: right;\">0.482282</td><td style=\"text-align: right;\">                0.232595</td><td style=\"text-align: right;\">0.232595</td><td style=\"text-align: right;\">0.349689</td><td style=\"text-align: right;\">0.0567661</td></tr>\n",
       "<tr><td>DeepLearning_grid__3_AutoML_20200812_142911_model_1</td><td style=\"text-align: right;\">0.503165</td><td style=\"text-align: right;\">                0.253175</td><td style=\"text-align: right;\">0.253175</td><td style=\"text-align: right;\">0.35881 </td><td style=\"text-align: right;\">0.0592603</td></tr>\n",
       "<tr><td>DeepLearning_grid__2_AutoML_20200812_142911_model_2</td><td style=\"text-align: right;\">0.537896</td><td style=\"text-align: right;\">                0.289332</td><td style=\"text-align: right;\">0.289332</td><td style=\"text-align: right;\">0.393232</td><td style=\"text-align: right;\">0.063531 </td></tr>\n",
       "<tr><td>DeepLearning_grid__1_AutoML_20200812_142911_model_2</td><td style=\"text-align: right;\">0.538313</td><td style=\"text-align: right;\">                0.289781</td><td style=\"text-align: right;\">0.289781</td><td style=\"text-align: right;\">0.399307</td><td style=\"text-align: right;\">0.0636793</td></tr>\n",
       "<tr><td>DeepLearning_grid__1_AutoML_20200812_142911_model_5</td><td style=\"text-align: right;\">0.544794</td><td style=\"text-align: right;\">                0.296801</td><td style=\"text-align: right;\">0.296801</td><td style=\"text-align: right;\">0.412039</td><td style=\"text-align: right;\">0.0645979</td></tr>\n",
       "<tr><td>DeepLearning_grid__3_AutoML_20200812_142911_model_3</td><td style=\"text-align: right;\">0.575871</td><td style=\"text-align: right;\">                0.331628</td><td style=\"text-align: right;\">0.331628</td><td style=\"text-align: right;\">0.439756</td><td style=\"text-align: right;\">0.0681739</td></tr>\n",
       "<tr><td>DeepLearning_grid__3_AutoML_20200812_142911_model_2</td><td style=\"text-align: right;\">0.602184</td><td style=\"text-align: right;\">                0.362625</td><td style=\"text-align: right;\">0.362625</td><td style=\"text-align: right;\">0.460706</td><td style=\"text-align: right;\">0.0713204</td></tr>\n",
       "<tr><td>DeepLearning_grid__2_AutoML_20200812_142911_model_3</td><td style=\"text-align: right;\">0.638034</td><td style=\"text-align: right;\">                0.407087</td><td style=\"text-align: right;\">0.407087</td><td style=\"text-align: right;\">0.518046</td><td style=\"text-align: right;\">0.0761774</td></tr>\n",
       "<tr><td>DeepLearning_grid__2_AutoML_20200812_142911_model_1</td><td style=\"text-align: right;\">0.65293 </td><td style=\"text-align: right;\">                0.426317</td><td style=\"text-align: right;\">0.426317</td><td style=\"text-align: right;\">0.506999</td><td style=\"text-align: right;\">0.0773377</td></tr>\n",
       "</tbody>\n",
       "</table>"
      ]
     },
     "metadata": {},
     "output_type": "display_data"
    },
    {
     "data": {
      "text/plain": []
     },
     "execution_count": 25,
     "metadata": {},
     "output_type": "execute_result"
    }
   ],
   "source": [
    "lb = aml.leaderboard\n",
    "lb.head(rows=lb.nrows)"
   ]
  },
  {
   "cell_type": "markdown",
   "metadata": {},
   "source": [
    "The leaderboard shows that the GBM models clearly dominated this task. We can retrieve the best model with the model.leader command; but, what if we wanted to get another model from our leaderboard? One way to do so is shown below:"
   ]
  },
  {
   "cell_type": "code",
   "execution_count": 26,
   "metadata": {},
   "outputs": [],
   "source": [
    "# Get model ids for all models in the AutoML Leaderboard\n",
    "model_ids = list(aml.leaderboard['model_id'].as_data_frame().iloc[:,0])\n",
    "\n",
    "# Get the top GBM model\n",
    "gbm = h2o.get_model([mid for mid in model_ids if \"GBM_3\" in mid][0])"
   ]
  },
  {
   "cell_type": "code",
   "execution_count": 28,
   "metadata": {},
   "outputs": [
    {
     "data": {
      "text/plain": [
       "['GBM_2_AutoML_20200812_142911',\n",
       " 'GBM_grid__1_AutoML_20200812_142911_model_8',\n",
       " 'GBM_3_AutoML_20200812_142911',\n",
       " 'GBM_5_AutoML_20200812_142911',\n",
       " 'GBM_1_AutoML_20200812_142911',\n",
       " 'GBM_grid__1_AutoML_20200812_142911_model_7',\n",
       " 'GBM_4_AutoML_20200812_142911',\n",
       " 'GBM_grid__1_AutoML_20200812_142911_model_6',\n",
       " 'GBM_grid__1_AutoML_20200812_142911_model_1',\n",
       " 'GBM_grid__1_AutoML_20200812_142911_model_3',\n",
       " 'GBM_grid__1_AutoML_20200812_142911_model_4',\n",
       " 'StackedEnsemble_AllModels_AutoML_20200812_142911',\n",
       " 'DRF_1_AutoML_20200812_142911',\n",
       " 'StackedEnsemble_BestOfFamily_AutoML_20200812_142911',\n",
       " 'GBM_grid__1_AutoML_20200812_142911_model_2',\n",
       " 'GBM_grid__1_AutoML_20200812_142911_model_5',\n",
       " 'GLM_1_AutoML_20200812_142911',\n",
       " 'XRT_1_AutoML_20200812_142911',\n",
       " 'DeepLearning_1_AutoML_20200812_142911',\n",
       " 'DeepLearning_grid__1_AutoML_20200812_142911_model_1',\n",
       " 'DeepLearning_grid__1_AutoML_20200812_142911_model_4',\n",
       " 'DeepLearning_grid__1_AutoML_20200812_142911_model_3',\n",
       " 'DeepLearning_grid__3_AutoML_20200812_142911_model_1',\n",
       " 'DeepLearning_grid__2_AutoML_20200812_142911_model_2',\n",
       " 'DeepLearning_grid__1_AutoML_20200812_142911_model_2',\n",
       " 'DeepLearning_grid__1_AutoML_20200812_142911_model_5',\n",
       " 'DeepLearning_grid__3_AutoML_20200812_142911_model_3',\n",
       " 'DeepLearning_grid__3_AutoML_20200812_142911_model_2',\n",
       " 'DeepLearning_grid__2_AutoML_20200812_142911_model_3',\n",
       " 'DeepLearning_grid__2_AutoML_20200812_142911_model_1']"
      ]
     },
     "execution_count": 28,
     "metadata": {},
     "output_type": "execute_result"
    }
   ],
   "source": [
    "model_ids"
   ]
  },
  {
   "cell_type": "markdown",
   "metadata": {},
   "source": [
    "Note that you would need to change the name **GBM_3**, in the code above, to the name of the model that you want, and that should retrieve the desired model. For example, if you wanted to get the best XGBoost in the leaderboard, you would need to make the following change (you do not need to run the following line of code, this is just an example)"
   ]
  },
  {
   "cell_type": "code",
   "execution_count": 29,
   "metadata": {},
   "outputs": [],
   "source": [
    "xgb = h2o.get_model([mid for mid in model_ids if \"StackedEnsemble\" in mid][0])"
   ]
  },
  {
   "cell_type": "markdown",
   "metadata": {},
   "source": [
    "Now that we have retrieved the best model, we can take a look at some of the parameters"
   ]
  },
  {
   "cell_type": "code",
   "execution_count": 30,
   "metadata": {},
   "outputs": [
    {
     "name": "stdout",
     "output_type": "stream",
     "text": [
      "ntrees =  {'default': 50, 'actual': 64, 'input': 10000}\n",
      "max depth =  {'default': 5, 'actual': 8, 'input': 8}\n",
      "learn rate =  {'default': 0.1, 'actual': 0.1, 'input': 0.1}\n",
      "sample rate =  {'default': 1.0, 'actual': 0.8, 'input': 0.8}\n"
     ]
    }
   ],
   "source": [
    "print(\"ntrees = \", gbm.params['ntrees'])\n",
    "print(\"max depth = \", gbm.params['max_depth'])\n",
    "print(\"learn rate = \", gbm.params['learn_rate'])\n",
    "print(\"sample rate = \", gbm.params['sample_rate'])"
   ]
  },
  {
   "cell_type": "markdown",
   "metadata": {},
   "source": [
    "##### Check Model Summary"
   ]
  },
  {
   "cell_type": "code",
   "execution_count": 31,
   "metadata": {},
   "outputs": [
    {
     "name": "stdout",
     "output_type": "stream",
     "text": [
      "Model Details\n",
      "=============\n",
      "H2OGradientBoostingEstimator :  Gradient Boosting Machine\n",
      "Model Key:  GBM_3_AutoML_20200812_142911\n",
      "\n",
      "\n",
      "Model Summary: \n"
     ]
    },
    {
     "data": {
      "text/html": [
       "<div>\n",
       "<style scoped>\n",
       "    .dataframe tbody tr th:only-of-type {\n",
       "        vertical-align: middle;\n",
       "    }\n",
       "\n",
       "    .dataframe tbody tr th {\n",
       "        vertical-align: top;\n",
       "    }\n",
       "\n",
       "    .dataframe thead th {\n",
       "        text-align: right;\n",
       "    }\n",
       "</style>\n",
       "<table border=\"1\" class=\"dataframe\">\n",
       "  <thead>\n",
       "    <tr style=\"text-align: right;\">\n",
       "      <th></th>\n",
       "      <th></th>\n",
       "      <th>number_of_trees</th>\n",
       "      <th>number_of_internal_trees</th>\n",
       "      <th>model_size_in_bytes</th>\n",
       "      <th>min_depth</th>\n",
       "      <th>max_depth</th>\n",
       "      <th>mean_depth</th>\n",
       "      <th>min_leaves</th>\n",
       "      <th>max_leaves</th>\n",
       "      <th>mean_leaves</th>\n",
       "    </tr>\n",
       "  </thead>\n",
       "  <tbody>\n",
       "    <tr>\n",
       "      <th>0</th>\n",
       "      <td></td>\n",
       "      <td>64.0</td>\n",
       "      <td>64.0</td>\n",
       "      <td>156285.0</td>\n",
       "      <td>8.0</td>\n",
       "      <td>8.0</td>\n",
       "      <td>8.0</td>\n",
       "      <td>58.0</td>\n",
       "      <td>214.0</td>\n",
       "      <td>148.82812</td>\n",
       "    </tr>\n",
       "  </tbody>\n",
       "</table>\n",
       "</div>"
      ],
      "text/plain": [
       "     number_of_trees  number_of_internal_trees  model_size_in_bytes  \\\n",
       "0               64.0                      64.0             156285.0   \n",
       "\n",
       "   min_depth  max_depth  mean_depth  min_leaves  max_leaves  mean_leaves  \n",
       "0        8.0        8.0         8.0        58.0       214.0    148.82812  "
      ]
     },
     "metadata": {},
     "output_type": "display_data"
    },
    {
     "name": "stdout",
     "output_type": "stream",
     "text": [
      "\n",
      "\n",
      "ModelMetricsRegression: gbm\n",
      "** Reported on train data. **\n",
      "\n",
      "MSE: 0.13595945090894726\n",
      "RMSE: 0.3687267971126417\n",
      "MAE: 0.2669786134576564\n",
      "RMSLE: 0.0437219571364214\n",
      "Mean Residual Deviance: 0.13595945090894726\n",
      "\n",
      "ModelMetricsRegression: gbm\n",
      "** Reported on cross-validation data. **\n",
      "\n",
      "MSE: 0.1837159842191993\n",
      "RMSE: 0.4286210263381853\n",
      "MAE: 0.31163694450398555\n",
      "RMSLE: 0.0506949417738023\n",
      "Mean Residual Deviance: 0.1837159842191993\n",
      "\n",
      "Cross-Validation Metrics Summary: \n"
     ]
    },
    {
     "data": {
      "text/html": [
       "<div>\n",
       "<style scoped>\n",
       "    .dataframe tbody tr th:only-of-type {\n",
       "        vertical-align: middle;\n",
       "    }\n",
       "\n",
       "    .dataframe tbody tr th {\n",
       "        vertical-align: top;\n",
       "    }\n",
       "\n",
       "    .dataframe thead th {\n",
       "        text-align: right;\n",
       "    }\n",
       "</style>\n",
       "<table border=\"1\" class=\"dataframe\">\n",
       "  <thead>\n",
       "    <tr style=\"text-align: right;\">\n",
       "      <th></th>\n",
       "      <th></th>\n",
       "      <th>mean</th>\n",
       "      <th>sd</th>\n",
       "      <th>cv_1_valid</th>\n",
       "      <th>cv_2_valid</th>\n",
       "      <th>cv_3_valid</th>\n",
       "      <th>cv_4_valid</th>\n",
       "      <th>cv_5_valid</th>\n",
       "    </tr>\n",
       "  </thead>\n",
       "  <tbody>\n",
       "    <tr>\n",
       "      <th>0</th>\n",
       "      <td>mae</td>\n",
       "      <td>0.31163692</td>\n",
       "      <td>7.7659625E-4</td>\n",
       "      <td>0.31149286</td>\n",
       "      <td>0.3129312</td>\n",
       "      <td>0.31112084</td>\n",
       "      <td>0.31096697</td>\n",
       "      <td>0.31167278</td>\n",
       "    </tr>\n",
       "    <tr>\n",
       "      <th>1</th>\n",
       "      <td>mean_residual_deviance</td>\n",
       "      <td>0.18371594</td>\n",
       "      <td>0.0015572766</td>\n",
       "      <td>0.18277213</td>\n",
       "      <td>0.1861775</td>\n",
       "      <td>0.18369487</td>\n",
       "      <td>0.18206488</td>\n",
       "      <td>0.18387036</td>\n",
       "    </tr>\n",
       "    <tr>\n",
       "      <th>2</th>\n",
       "      <td>mse</td>\n",
       "      <td>0.18371594</td>\n",
       "      <td>0.0015572766</td>\n",
       "      <td>0.18277213</td>\n",
       "      <td>0.1861775</td>\n",
       "      <td>0.18369487</td>\n",
       "      <td>0.18206488</td>\n",
       "      <td>0.18387036</td>\n",
       "    </tr>\n",
       "    <tr>\n",
       "      <th>3</th>\n",
       "      <td>r2</td>\n",
       "      <td>0.4609645</td>\n",
       "      <td>0.0056585274</td>\n",
       "      <td>0.46189997</td>\n",
       "      <td>0.45222977</td>\n",
       "      <td>0.46615866</td>\n",
       "      <td>0.46547118</td>\n",
       "      <td>0.45906293</td>\n",
       "    </tr>\n",
       "    <tr>\n",
       "      <th>4</th>\n",
       "      <td>residual_deviance</td>\n",
       "      <td>0.18371594</td>\n",
       "      <td>0.0015572766</td>\n",
       "      <td>0.18277213</td>\n",
       "      <td>0.1861775</td>\n",
       "      <td>0.18369487</td>\n",
       "      <td>0.18206488</td>\n",
       "      <td>0.18387036</td>\n",
       "    </tr>\n",
       "    <tr>\n",
       "      <th>5</th>\n",
       "      <td>rmse</td>\n",
       "      <td>0.42861792</td>\n",
       "      <td>0.0018142059</td>\n",
       "      <td>0.42751858</td>\n",
       "      <td>0.4314829</td>\n",
       "      <td>0.4285964</td>\n",
       "      <td>0.4266906</td>\n",
       "      <td>0.42880106</td>\n",
       "    </tr>\n",
       "    <tr>\n",
       "      <th>6</th>\n",
       "      <td>rmsle</td>\n",
       "      <td>0.050694704</td>\n",
       "      <td>1.7132562E-4</td>\n",
       "      <td>0.05055868</td>\n",
       "      <td>0.050952785</td>\n",
       "      <td>0.05077792</td>\n",
       "      <td>0.050545648</td>\n",
       "      <td>0.050638497</td>\n",
       "    </tr>\n",
       "  </tbody>\n",
       "</table>\n",
       "</div>"
      ],
      "text/plain": [
       "                                  mean            sd  cv_1_valid   cv_2_valid  \\\n",
       "0                     mae   0.31163692  7.7659625E-4  0.31149286    0.3129312   \n",
       "1  mean_residual_deviance   0.18371594  0.0015572766  0.18277213    0.1861775   \n",
       "2                     mse   0.18371594  0.0015572766  0.18277213    0.1861775   \n",
       "3                      r2    0.4609645  0.0056585274  0.46189997   0.45222977   \n",
       "4       residual_deviance   0.18371594  0.0015572766  0.18277213    0.1861775   \n",
       "5                    rmse   0.42861792  0.0018142059  0.42751858    0.4314829   \n",
       "6                   rmsle  0.050694704  1.7132562E-4  0.05055868  0.050952785   \n",
       "\n",
       "   cv_3_valid   cv_4_valid   cv_5_valid  \n",
       "0  0.31112084   0.31096697   0.31167278  \n",
       "1  0.18369487   0.18206488   0.18387036  \n",
       "2  0.18369487   0.18206488   0.18387036  \n",
       "3  0.46615866   0.46547118   0.45906293  \n",
       "4  0.18369487   0.18206488   0.18387036  \n",
       "5   0.4285964    0.4266906   0.42880106  \n",
       "6  0.05077792  0.050545648  0.050638497  "
      ]
     },
     "metadata": {},
     "output_type": "display_data"
    },
    {
     "name": "stdout",
     "output_type": "stream",
     "text": [
      "\n",
      "Scoring History: \n"
     ]
    },
    {
     "data": {
      "text/html": [
       "<div>\n",
       "<style scoped>\n",
       "    .dataframe tbody tr th:only-of-type {\n",
       "        vertical-align: middle;\n",
       "    }\n",
       "\n",
       "    .dataframe tbody tr th {\n",
       "        vertical-align: top;\n",
       "    }\n",
       "\n",
       "    .dataframe thead th {\n",
       "        text-align: right;\n",
       "    }\n",
       "</style>\n",
       "<table border=\"1\" class=\"dataframe\">\n",
       "  <thead>\n",
       "    <tr style=\"text-align: right;\">\n",
       "      <th></th>\n",
       "      <th></th>\n",
       "      <th>timestamp</th>\n",
       "      <th>duration</th>\n",
       "      <th>number_of_trees</th>\n",
       "      <th>training_rmse</th>\n",
       "      <th>training_mae</th>\n",
       "      <th>training_deviance</th>\n",
       "    </tr>\n",
       "  </thead>\n",
       "  <tbody>\n",
       "    <tr>\n",
       "      <th>0</th>\n",
       "      <td></td>\n",
       "      <td>2020-08-12 14:30:15</td>\n",
       "      <td>15.915 sec</td>\n",
       "      <td>0.0</td>\n",
       "      <td>0.583814</td>\n",
       "      <td>0.441436</td>\n",
       "      <td>0.340839</td>\n",
       "    </tr>\n",
       "    <tr>\n",
       "      <th>1</th>\n",
       "      <td></td>\n",
       "      <td>2020-08-12 14:30:15</td>\n",
       "      <td>16.079 sec</td>\n",
       "      <td>5.0</td>\n",
       "      <td>0.504835</td>\n",
       "      <td>0.380336</td>\n",
       "      <td>0.254859</td>\n",
       "    </tr>\n",
       "    <tr>\n",
       "      <th>2</th>\n",
       "      <td></td>\n",
       "      <td>2020-08-12 14:30:15</td>\n",
       "      <td>16.242 sec</td>\n",
       "      <td>10.0</td>\n",
       "      <td>0.463384</td>\n",
       "      <td>0.346920</td>\n",
       "      <td>0.214725</td>\n",
       "    </tr>\n",
       "    <tr>\n",
       "      <th>3</th>\n",
       "      <td></td>\n",
       "      <td>2020-08-12 14:30:15</td>\n",
       "      <td>16.400 sec</td>\n",
       "      <td>15.0</td>\n",
       "      <td>0.436223</td>\n",
       "      <td>0.323910</td>\n",
       "      <td>0.190291</td>\n",
       "    </tr>\n",
       "    <tr>\n",
       "      <th>4</th>\n",
       "      <td></td>\n",
       "      <td>2020-08-12 14:30:15</td>\n",
       "      <td>16.557 sec</td>\n",
       "      <td>20.0</td>\n",
       "      <td>0.418665</td>\n",
       "      <td>0.308798</td>\n",
       "      <td>0.175280</td>\n",
       "    </tr>\n",
       "    <tr>\n",
       "      <th>5</th>\n",
       "      <td></td>\n",
       "      <td>2020-08-12 14:30:15</td>\n",
       "      <td>16.706 sec</td>\n",
       "      <td>25.0</td>\n",
       "      <td>0.406488</td>\n",
       "      <td>0.298305</td>\n",
       "      <td>0.165232</td>\n",
       "    </tr>\n",
       "    <tr>\n",
       "      <th>6</th>\n",
       "      <td></td>\n",
       "      <td>2020-08-12 14:30:16</td>\n",
       "      <td>16.854 sec</td>\n",
       "      <td>30.0</td>\n",
       "      <td>0.397875</td>\n",
       "      <td>0.290840</td>\n",
       "      <td>0.158305</td>\n",
       "    </tr>\n",
       "    <tr>\n",
       "      <th>7</th>\n",
       "      <td></td>\n",
       "      <td>2020-08-12 14:30:16</td>\n",
       "      <td>17.006 sec</td>\n",
       "      <td>35.0</td>\n",
       "      <td>0.391741</td>\n",
       "      <td>0.285448</td>\n",
       "      <td>0.153461</td>\n",
       "    </tr>\n",
       "    <tr>\n",
       "      <th>8</th>\n",
       "      <td></td>\n",
       "      <td>2020-08-12 14:30:16</td>\n",
       "      <td>17.158 sec</td>\n",
       "      <td>40.0</td>\n",
       "      <td>0.386023</td>\n",
       "      <td>0.280814</td>\n",
       "      <td>0.149013</td>\n",
       "    </tr>\n",
       "    <tr>\n",
       "      <th>9</th>\n",
       "      <td></td>\n",
       "      <td>2020-08-12 14:30:16</td>\n",
       "      <td>17.314 sec</td>\n",
       "      <td>45.0</td>\n",
       "      <td>0.381194</td>\n",
       "      <td>0.276746</td>\n",
       "      <td>0.145309</td>\n",
       "    </tr>\n",
       "    <tr>\n",
       "      <th>10</th>\n",
       "      <td></td>\n",
       "      <td>2020-08-12 14:30:16</td>\n",
       "      <td>17.472 sec</td>\n",
       "      <td>50.0</td>\n",
       "      <td>0.376532</td>\n",
       "      <td>0.273171</td>\n",
       "      <td>0.141776</td>\n",
       "    </tr>\n",
       "    <tr>\n",
       "      <th>11</th>\n",
       "      <td></td>\n",
       "      <td>2020-08-12 14:30:16</td>\n",
       "      <td>17.598 sec</td>\n",
       "      <td>55.0</td>\n",
       "      <td>0.373529</td>\n",
       "      <td>0.270779</td>\n",
       "      <td>0.139524</td>\n",
       "    </tr>\n",
       "    <tr>\n",
       "      <th>12</th>\n",
       "      <td></td>\n",
       "      <td>2020-08-12 14:30:16</td>\n",
       "      <td>17.722 sec</td>\n",
       "      <td>60.0</td>\n",
       "      <td>0.370934</td>\n",
       "      <td>0.268805</td>\n",
       "      <td>0.137592</td>\n",
       "    </tr>\n",
       "    <tr>\n",
       "      <th>13</th>\n",
       "      <td></td>\n",
       "      <td>2020-08-12 14:30:17</td>\n",
       "      <td>17.828 sec</td>\n",
       "      <td>64.0</td>\n",
       "      <td>0.368727</td>\n",
       "      <td>0.266979</td>\n",
       "      <td>0.135959</td>\n",
       "    </tr>\n",
       "  </tbody>\n",
       "</table>\n",
       "</div>"
      ],
      "text/plain": [
       "                timestamp    duration  number_of_trees  training_rmse  \\\n",
       "0     2020-08-12 14:30:15  15.915 sec              0.0       0.583814   \n",
       "1     2020-08-12 14:30:15  16.079 sec              5.0       0.504835   \n",
       "2     2020-08-12 14:30:15  16.242 sec             10.0       0.463384   \n",
       "3     2020-08-12 14:30:15  16.400 sec             15.0       0.436223   \n",
       "4     2020-08-12 14:30:15  16.557 sec             20.0       0.418665   \n",
       "5     2020-08-12 14:30:15  16.706 sec             25.0       0.406488   \n",
       "6     2020-08-12 14:30:16  16.854 sec             30.0       0.397875   \n",
       "7     2020-08-12 14:30:16  17.006 sec             35.0       0.391741   \n",
       "8     2020-08-12 14:30:16  17.158 sec             40.0       0.386023   \n",
       "9     2020-08-12 14:30:16  17.314 sec             45.0       0.381194   \n",
       "10    2020-08-12 14:30:16  17.472 sec             50.0       0.376532   \n",
       "11    2020-08-12 14:30:16  17.598 sec             55.0       0.373529   \n",
       "12    2020-08-12 14:30:16  17.722 sec             60.0       0.370934   \n",
       "13    2020-08-12 14:30:17  17.828 sec             64.0       0.368727   \n",
       "\n",
       "    training_mae  training_deviance  \n",
       "0       0.441436           0.340839  \n",
       "1       0.380336           0.254859  \n",
       "2       0.346920           0.214725  \n",
       "3       0.323910           0.190291  \n",
       "4       0.308798           0.175280  \n",
       "5       0.298305           0.165232  \n",
       "6       0.290840           0.158305  \n",
       "7       0.285448           0.153461  \n",
       "8       0.280814           0.149013  \n",
       "9       0.276746           0.145309  \n",
       "10      0.273171           0.141776  \n",
       "11      0.270779           0.139524  \n",
       "12      0.268805           0.137592  \n",
       "13      0.266979           0.135959  "
      ]
     },
     "metadata": {},
     "output_type": "display_data"
    },
    {
     "name": "stdout",
     "output_type": "stream",
     "text": [
      "\n",
      "Variable Importances: \n"
     ]
    },
    {
     "data": {
      "text/html": [
       "<div>\n",
       "<style scoped>\n",
       "    .dataframe tbody tr th:only-of-type {\n",
       "        vertical-align: middle;\n",
       "    }\n",
       "\n",
       "    .dataframe tbody tr th {\n",
       "        vertical-align: top;\n",
       "    }\n",
       "\n",
       "    .dataframe thead th {\n",
       "        text-align: right;\n",
       "    }\n",
       "</style>\n",
       "<table border=\"1\" class=\"dataframe\">\n",
       "  <thead>\n",
       "    <tr style=\"text-align: right;\">\n",
       "      <th></th>\n",
       "      <th>variable</th>\n",
       "      <th>relative_importance</th>\n",
       "      <th>scaled_importance</th>\n",
       "      <th>percentage</th>\n",
       "    </tr>\n",
       "  </thead>\n",
       "  <tbody>\n",
       "    <tr>\n",
       "      <th>0</th>\n",
       "      <td>SELLER_NAME</td>\n",
       "      <td>18106.402344</td>\n",
       "      <td>1.000000</td>\n",
       "      <td>0.467267</td>\n",
       "    </tr>\n",
       "    <tr>\n",
       "      <th>1</th>\n",
       "      <td>PROPERTY_STATE</td>\n",
       "      <td>5545.574707</td>\n",
       "      <td>0.306277</td>\n",
       "      <td>0.143113</td>\n",
       "    </tr>\n",
       "    <tr>\n",
       "      <th>2</th>\n",
       "      <td>SERVICER_NAME</td>\n",
       "      <td>3761.724121</td>\n",
       "      <td>0.207757</td>\n",
       "      <td>0.097078</td>\n",
       "    </tr>\n",
       "    <tr>\n",
       "      <th>3</th>\n",
       "      <td>ORIGINAL_UPB</td>\n",
       "      <td>1982.089600</td>\n",
       "      <td>0.109469</td>\n",
       "      <td>0.051151</td>\n",
       "    </tr>\n",
       "    <tr>\n",
       "      <th>4</th>\n",
       "      <td>OCCUPANCY_STATUS</td>\n",
       "      <td>1831.757690</td>\n",
       "      <td>0.101166</td>\n",
       "      <td>0.047272</td>\n",
       "    </tr>\n",
       "    <tr>\n",
       "      <th>5</th>\n",
       "      <td>LOAN_PURPOSE</td>\n",
       "      <td>1521.354492</td>\n",
       "      <td>0.084023</td>\n",
       "      <td>0.039261</td>\n",
       "    </tr>\n",
       "    <tr>\n",
       "      <th>6</th>\n",
       "      <td>CREDIT_SCORE</td>\n",
       "      <td>1431.580322</td>\n",
       "      <td>0.079065</td>\n",
       "      <td>0.036944</td>\n",
       "    </tr>\n",
       "    <tr>\n",
       "      <th>7</th>\n",
       "      <td>ORIGINAL_LOAN_TO_VALUE</td>\n",
       "      <td>1268.270874</td>\n",
       "      <td>0.070045</td>\n",
       "      <td>0.032730</td>\n",
       "    </tr>\n",
       "    <tr>\n",
       "      <th>8</th>\n",
       "      <td>ORIGINAL_DEBT_TO_INCOME_RATIO</td>\n",
       "      <td>862.028625</td>\n",
       "      <td>0.047609</td>\n",
       "      <td>0.022246</td>\n",
       "    </tr>\n",
       "    <tr>\n",
       "      <th>9</th>\n",
       "      <td>ORIGINAL_COMBINED_LOAN_TO_VALUE</td>\n",
       "      <td>591.995483</td>\n",
       "      <td>0.032695</td>\n",
       "      <td>0.015277</td>\n",
       "    </tr>\n",
       "    <tr>\n",
       "      <th>10</th>\n",
       "      <td>METROPOLITAN_STATISTICAL_AREA</td>\n",
       "      <td>508.515900</td>\n",
       "      <td>0.028085</td>\n",
       "      <td>0.013123</td>\n",
       "    </tr>\n",
       "    <tr>\n",
       "      <th>11</th>\n",
       "      <td>ORIGINAL_LOAN_TERM</td>\n",
       "      <td>333.235596</td>\n",
       "      <td>0.018404</td>\n",
       "      <td>0.008600</td>\n",
       "    </tr>\n",
       "    <tr>\n",
       "      <th>12</th>\n",
       "      <td>CHANNEL</td>\n",
       "      <td>283.159058</td>\n",
       "      <td>0.015639</td>\n",
       "      <td>0.007307</td>\n",
       "    </tr>\n",
       "    <tr>\n",
       "      <th>13</th>\n",
       "      <td>FIRST_TIME_HOMEBUYER_FLAG</td>\n",
       "      <td>235.832474</td>\n",
       "      <td>0.013025</td>\n",
       "      <td>0.006086</td>\n",
       "    </tr>\n",
       "    <tr>\n",
       "      <th>14</th>\n",
       "      <td>POSTAL_CODE</td>\n",
       "      <td>159.621490</td>\n",
       "      <td>0.008816</td>\n",
       "      <td>0.004119</td>\n",
       "    </tr>\n",
       "    <tr>\n",
       "      <th>15</th>\n",
       "      <td>PROPERTY_TYPE</td>\n",
       "      <td>128.196991</td>\n",
       "      <td>0.007080</td>\n",
       "      <td>0.003308</td>\n",
       "    </tr>\n",
       "    <tr>\n",
       "      <th>16</th>\n",
       "      <td>NUMBER_OF_UNITS</td>\n",
       "      <td>120.852165</td>\n",
       "      <td>0.006675</td>\n",
       "      <td>0.003119</td>\n",
       "    </tr>\n",
       "    <tr>\n",
       "      <th>17</th>\n",
       "      <td>NUMBER_OF_BORROWERS</td>\n",
       "      <td>77.363365</td>\n",
       "      <td>0.004273</td>\n",
       "      <td>0.001996</td>\n",
       "    </tr>\n",
       "  </tbody>\n",
       "</table>\n",
       "</div>"
      ],
      "text/plain": [
       "                           variable  relative_importance  scaled_importance  \\\n",
       "0                       SELLER_NAME         18106.402344           1.000000   \n",
       "1                    PROPERTY_STATE          5545.574707           0.306277   \n",
       "2                     SERVICER_NAME          3761.724121           0.207757   \n",
       "3                      ORIGINAL_UPB          1982.089600           0.109469   \n",
       "4                  OCCUPANCY_STATUS          1831.757690           0.101166   \n",
       "5                      LOAN_PURPOSE          1521.354492           0.084023   \n",
       "6                      CREDIT_SCORE          1431.580322           0.079065   \n",
       "7            ORIGINAL_LOAN_TO_VALUE          1268.270874           0.070045   \n",
       "8     ORIGINAL_DEBT_TO_INCOME_RATIO           862.028625           0.047609   \n",
       "9   ORIGINAL_COMBINED_LOAN_TO_VALUE           591.995483           0.032695   \n",
       "10    METROPOLITAN_STATISTICAL_AREA           508.515900           0.028085   \n",
       "11               ORIGINAL_LOAN_TERM           333.235596           0.018404   \n",
       "12                          CHANNEL           283.159058           0.015639   \n",
       "13        FIRST_TIME_HOMEBUYER_FLAG           235.832474           0.013025   \n",
       "14                      POSTAL_CODE           159.621490           0.008816   \n",
       "15                    PROPERTY_TYPE           128.196991           0.007080   \n",
       "16                  NUMBER_OF_UNITS           120.852165           0.006675   \n",
       "17              NUMBER_OF_BORROWERS            77.363365           0.004273   \n",
       "\n",
       "    percentage  \n",
       "0     0.467267  \n",
       "1     0.143113  \n",
       "2     0.097078  \n",
       "3     0.051151  \n",
       "4     0.047272  \n",
       "5     0.039261  \n",
       "6     0.036944  \n",
       "7     0.032730  \n",
       "8     0.022246  \n",
       "9     0.015277  \n",
       "10    0.013123  \n",
       "11    0.008600  \n",
       "12    0.007307  \n",
       "13    0.006086  \n",
       "14    0.004119  \n",
       "15    0.003308  \n",
       "16    0.003119  \n",
       "17    0.001996  "
      ]
     },
     "metadata": {},
     "output_type": "display_data"
    },
    {
     "data": {
      "text/plain": []
     },
     "execution_count": 31,
     "metadata": {},
     "output_type": "execute_result"
    }
   ],
   "source": [
    "gbm"
   ]
  },
  {
   "cell_type": "markdown",
   "metadata": {},
   "source": [
    "In the model summary above, we can see some of the parameters of our model, the metrics on the training data, and also the metrics from the cross-validation, as well as a detailed cross-validation metrics summary. We can also look at scoring history. However, by looking at the RMSE and MAE in the picture above for both training and validation, we can see that the model was starting to overfit because the training error is much lower than the validation error. Lastly, we can see the variable importance table, which shows both relative_importance, as well as scaled_importance, and also the percentage. For this model, the most important variable is SELLER_NAME, meaning that for our model, knowing which bank is providing the loan is very important."
   ]
  },
  {
   "cell_type": "markdown",
   "metadata": {},
   "source": [
    "Now, let's see how the leader from our AutoML performs on our test set."
   ]
  },
  {
   "cell_type": "code",
   "execution_count": 32,
   "metadata": {},
   "outputs": [
    {
     "name": "stdout",
     "output_type": "stream",
     "text": [
      "\n",
      "ModelMetricsRegression: gbm\n",
      "** Reported on test data. **\n",
      "\n",
      "MSE: 0.18540924178823603\n",
      "RMSE: 0.4305917344634428\n",
      "MAE: 0.3115532061819847\n",
      "RMSLE: 0.051014510155050576\n",
      "Mean Residual Deviance: 0.18540924178823603\n"
     ]
    },
    {
     "data": {
      "text/plain": []
     },
     "execution_count": 32,
     "metadata": {},
     "output_type": "execute_result"
    }
   ],
   "source": [
    "gbm.model_performance(test_data=test)"
   ]
  },
  {
   "cell_type": "markdown",
   "metadata": {},
   "source": [
    "In case you had retrieved a different model other than the leader, and you actually wanted to check the performance of the best model in the leaderboard, you can do the following:"
   ]
  },
  {
   "cell_type": "code",
   "execution_count": 33,
   "metadata": {},
   "outputs": [
    {
     "name": "stdout",
     "output_type": "stream",
     "text": [
      "\n",
      "ModelMetricsRegression: gbm\n",
      "** Reported on test data. **\n",
      "\n",
      "MSE: 0.18459726887069192\n",
      "RMSE: 0.42964784285585783\n",
      "MAE: 0.3116065709311251\n",
      "RMSLE: 0.05090685183518999\n",
      "Mean Residual Deviance: 0.18459726887069192\n"
     ]
    },
    {
     "data": {
      "text/plain": []
     },
     "execution_count": 33,
     "metadata": {},
     "output_type": "execute_result"
    }
   ],
   "source": [
    "aml.leader.model_performance(test_data=test)"
   ]
  },
  {
   "cell_type": "markdown",
   "metadata": {},
   "source": [
    "We can see that the test RMSE and MAE, 0.4289 and 0.3132 respectively, are very close to the validation RMSE and MAE, 0.4309 and 0.3127, which shows us that doing 5-fold cross-validation gives us a good estimation of the error on unseen data.\n",
    "\n",
    "Now, let's make some predictions on our test set."
   ]
  },
  {
   "cell_type": "code",
   "execution_count": 34,
   "metadata": {},
   "outputs": [
    {
     "name": "stdout",
     "output_type": "stream",
     "text": [
      "gbm prediction progress: |████████████████████████████████████████████████| 100%\n"
     ]
    },
    {
     "data": {
      "text/html": [
       "<table>\n",
       "<thead>\n",
       "<tr><th style=\"text-align: right;\">  predict</th><th style=\"text-align: right;\">  ORIGINAL_INTEREST_RATE</th></tr>\n",
       "</thead>\n",
       "<tbody>\n",
       "<tr><td style=\"text-align: right;\">  7.0538 </td><td style=\"text-align: right;\">                   7    </td></tr>\n",
       "<tr><td style=\"text-align: right;\">  7.34609</td><td style=\"text-align: right;\">                   7.15 </td></tr>\n",
       "<tr><td style=\"text-align: right;\">  6.8593 </td><td style=\"text-align: right;\">                   6.875</td></tr>\n",
       "<tr><td style=\"text-align: right;\">  7.1055 </td><td style=\"text-align: right;\">                   7    </td></tr>\n",
       "<tr><td style=\"text-align: right;\">  7.17164</td><td style=\"text-align: right;\">                   6.5  </td></tr>\n",
       "<tr><td style=\"text-align: right;\">  7.04135</td><td style=\"text-align: right;\">                   6.625</td></tr>\n",
       "<tr><td style=\"text-align: right;\">  6.85598</td><td style=\"text-align: right;\">                   6.5  </td></tr>\n",
       "<tr><td style=\"text-align: right;\">  7.23544</td><td style=\"text-align: right;\">                   7.25 </td></tr>\n",
       "<tr><td style=\"text-align: right;\">  7.06726</td><td style=\"text-align: right;\">                   6.875</td></tr>\n",
       "<tr><td style=\"text-align: right;\">  6.95089</td><td style=\"text-align: right;\">                   6.875</td></tr>\n",
       "</tbody>\n",
       "</table>"
      ]
     },
     "metadata": {},
     "output_type": "display_data"
    },
    {
     "data": {
      "text/plain": []
     },
     "execution_count": 34,
     "metadata": {},
     "output_type": "execute_result"
    }
   ],
   "source": [
    "pred = gbm.predict(test)\n",
    "pred = pred.cbind(test['ORIGINAL_INTEREST_RATE'])\n",
    "pred.head()"
   ]
  },
  {
   "cell_type": "markdown",
   "metadata": {},
   "source": [
    "Please note that we just combined the response column from our test frame to our predictions to see how the predictions compare to the actual value.\n",
    "\n",
    "Out of the first ten predictions, most of them are very close to the actual values, with the exception of some predictions, such as the seventh prediction, which is 6.89, compared to the actual value which is 8.75. Because the RMSE is higher than the MAE, we can deduce that we have a couple of instances similar to the one mentioned above, because the larger errors are penalized more."
   ]
  },
  {
   "cell_type": "code",
   "execution_count": null,
   "metadata": {},
   "outputs": [],
   "source": []
  },
  {
   "cell_type": "markdown",
   "metadata": {},
   "source": [
    "### 4. Shutdown the cluster"
   ]
  },
  {
   "cell_type": "code",
   "execution_count": 35,
   "metadata": {},
   "outputs": [],
   "source": [
    "h2o.cluster().shutdown()"
   ]
  },
  {
   "cell_type": "code",
   "execution_count": null,
   "metadata": {},
   "outputs": [],
   "source": []
  }
 ],
 "metadata": {
  "kernelspec": {
   "display_name": "Python 3",
   "language": "python",
   "name": "python3"
  },
  "language_info": {
   "codemirror_mode": {
    "name": "ipython",
    "version": 3
   },
   "file_extension": ".py",
   "mimetype": "text/x-python",
   "name": "python",
   "nbconvert_exporter": "python",
   "pygments_lexer": "ipython3",
   "version": "3.7.6"
  }
 },
 "nbformat": 4,
 "nbformat_minor": 4
}
